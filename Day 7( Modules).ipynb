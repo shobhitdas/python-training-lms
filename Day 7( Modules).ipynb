{
 "cells": [
  {
   "cell_type": "markdown",
   "id": "ad44c0d0",
   "metadata": {},
   "source": [
    "### Built in Functions\n",
    "\n",
    "### Modules &  Packages"
   ]
  },
  {
   "cell_type": "markdown",
   "id": "d59b0ba5",
   "metadata": {},
   "source": [
    "#### Built in functions"
   ]
  },
  {
   "cell_type": "code",
   "execution_count": null,
   "id": "67c45477",
   "metadata": {},
   "outputs": [],
   "source": [
    "# string functions\n",
    "S=\" Saturday\""
   ]
  },
  {
   "cell_type": "code",
   "execution_count": null,
   "id": "651b5519",
   "metadata": {},
   "outputs": [],
   "source": []
  },
  {
   "cell_type": "code",
   "execution_count": null,
   "id": "bfb894bb",
   "metadata": {},
   "outputs": [],
   "source": [
    " #The bytes() function returns a bytes object."
   ]
  },
  {
   "cell_type": "code",
   "execution_count": null,
   "id": "d1af9e04",
   "metadata": {},
   "outputs": [],
   "source": [
    " \n",
    "#The ord() function returns the number representing the unicode code of a specified character."
   ]
  },
  {
   "cell_type": "code",
   "execution_count": null,
   "id": "787666f0",
   "metadata": {},
   "outputs": [],
   "source": [
    "# The slice() function returns a slice object.\n",
    "#specified by range(start, stop, step)\n",
    "  #start: #Optional. An integer number specifying at which position to start the slicing. Default is 0\n",
    "  #end: An integer number specifying at which position to end the slicing\n",
    "  #step: Optional. An integer number specifying the step of the slicing. Default is 1\n",
    "\n"
   ]
  },
  {
   "cell_type": "code",
   "execution_count": null,
   "id": "05f486b4",
   "metadata": {},
   "outputs": [],
   "source": []
  },
  {
   "cell_type": "code",
   "execution_count": null,
   "id": "5256649f",
   "metadata": {},
   "outputs": [],
   "source": [
    "# enumerate\n",
    "# Enumerate() function adds a counter to an iterable and returns it in a form of enumerating object. \n",
    "#This enumerated object can then be used directly for loops or \n",
    "#converted into a list of tuples using the list() method.\n"
   ]
  },
  {
   "cell_type": "code",
   "execution_count": null,
   "id": "24a17c87",
   "metadata": {},
   "outputs": [],
   "source": [
    "#### Numeric functions"
   ]
  },
  {
   "cell_type": "code",
   "execution_count": null,
   "id": "2a1b9983",
   "metadata": {},
   "outputs": [],
   "source": [
    "# reduce function\n",
    "# !pip install functools"
   ]
  },
  {
   "cell_type": "code",
   "execution_count": null,
   "id": "a9addee5",
   "metadata": {},
   "outputs": [],
   "source": []
  },
  {
   "cell_type": "code",
   "execution_count": null,
   "id": "835c9bca",
   "metadata": {},
   "outputs": [],
   "source": [
    "# abs()\n"
   ]
  },
  {
   "cell_type": "code",
   "execution_count": null,
   "id": "762a86eb",
   "metadata": {},
   "outputs": [],
   "source": [
    "#pow()\n"
   ]
  },
  {
   "cell_type": "markdown",
   "id": "6e7f7329",
   "metadata": {},
   "source": [
    "### Modules & Packages"
   ]
  },
  {
   "cell_type": "markdown",
   "id": "edca5b4b",
   "metadata": {},
   "source": [
    "A Python module is a file containing Python definitions and statements. \n",
    "A module can define functions, classes, and variables. \n",
    "A module can also include runnable code. \n",
    "Grouping related code into a module makes the code easier to understand and use. \n",
    "It also makes the code logically organized."
   ]
  },
  {
   "cell_type": "markdown",
   "id": "3f7d2151",
   "metadata": {},
   "source": [
    "Packages allow you to organize modules in the hierarchical structure.\n",
    "\n",
    "The way Python organizes packages and modules like the Operating System structures the folders and files."
   ]
  },
  {
   "cell_type": "markdown",
   "id": "46b3b183",
   "metadata": {},
   "source": [
    "#### .py extension\n",
    "#### the module contains,\n",
    "  - Definitions and implementation of classes\n",
    "  \n",
    "  - variables\n",
    "    \n",
    "  - Functions that can be used inside another program  "
   ]
  },
  {
   "cell_type": "markdown",
   "id": "b8bc97d4",
   "metadata": {},
   "source": [
    "##### To import a package, you use the import statement like this:\n",
    "\n",
    "import package.module\n",
    "\n",
    "##### To access an object from a module that belongs to a package, you use the dot notation:\n",
    "\n",
    "package.module.function\n",
    "\n",
    "##### To make the code more concise, you can use the following statement to import a function \n",
    "##### from a module:\n",
    "\n",
    "from <module> import <function>"
   ]
  },
  {
   "cell_type": "code",
   "execution_count": null,
   "id": "d7d4ab22",
   "metadata": {},
   "outputs": [],
   "source": [
    "#### Create a module\n",
    "#### create a file with extension .py\n",
    "### create mymodule.py"
   ]
  },
  {
   "cell_type": "code",
   "execution_count": null,
   "id": "0e18e9a7",
   "metadata": {},
   "outputs": [],
   "source": [
    "# using 'import'keyword to import module\n"
   ]
  },
  {
   "cell_type": "code",
   "execution_count": null,
   "id": "2a3af9c8",
   "metadata": {},
   "outputs": [],
   "source": [
    "# create newmodule.py\n"
   ]
  },
  {
   "cell_type": "code",
   "execution_count": null,
   "id": "6e2cd17b",
   "metadata": {},
   "outputs": [],
   "source": []
  },
  {
   "cell_type": "code",
   "execution_count": null,
   "id": "6ca3b8e6",
   "metadata": {},
   "outputs": [],
   "source": []
  },
  {
   "cell_type": "code",
   "execution_count": null,
   "id": "b23ed1b0",
   "metadata": {},
   "outputs": [],
   "source": []
  },
  {
   "cell_type": "code",
   "execution_count": null,
   "id": "b3eacde3",
   "metadata": {},
   "outputs": [],
   "source": []
  },
  {
   "cell_type": "code",
   "execution_count": null,
   "id": "33323fae",
   "metadata": {},
   "outputs": [],
   "source": [
    "# instead of dictionary can use list object\n"
   ]
  },
  {
   "cell_type": "code",
   "execution_count": null,
   "id": "dfb981e9",
   "metadata": {},
   "outputs": [],
   "source": [
    "### Built - in - Modules"
   ]
  },
  {
   "cell_type": "code",
   "execution_count": null,
   "id": "4dda17b2",
   "metadata": {},
   "outputs": [],
   "source": [
    "help('modules')"
   ]
  },
  {
   "cell_type": "code",
   "execution_count": null,
   "id": "5e9d1e54",
   "metadata": {},
   "outputs": [],
   "source": [
    "# math \n",
    "# statistics\n",
    "# sys\n",
    "# os\n",
    "# time\n",
    "# pickle\n",
    "# csv\n",
    "# datetime\n",
    "# random"
   ]
  },
  {
   "cell_type": "code",
   "execution_count": null,
   "id": "21fe7e75",
   "metadata": {},
   "outputs": [],
   "source": [
    "#math\n"
   ]
  },
  {
   "cell_type": "code",
   "execution_count": null,
   "id": "e8c8cb2d",
   "metadata": {},
   "outputs": [],
   "source": []
  },
  {
   "cell_type": "code",
   "execution_count": null,
   "id": "c8add20d",
   "metadata": {},
   "outputs": [],
   "source": []
  },
  {
   "cell_type": "code",
   "execution_count": null,
   "id": "99060073",
   "metadata": {},
   "outputs": [],
   "source": [
    "# statistics\n"
   ]
  },
  {
   "cell_type": "code",
   "execution_count": null,
   "id": "ea8eabc5",
   "metadata": {},
   "outputs": [],
   "source": []
  },
  {
   "cell_type": "code",
   "execution_count": null,
   "id": "edd19515",
   "metadata": {},
   "outputs": [],
   "source": []
  },
  {
   "cell_type": "code",
   "execution_count": null,
   "id": "b77ed972",
   "metadata": {},
   "outputs": [],
   "source": [
    "# sys\n"
   ]
  },
  {
   "cell_type": "code",
   "execution_count": null,
   "id": "df1938ea",
   "metadata": {},
   "outputs": [],
   "source": []
  },
  {
   "cell_type": "code",
   "execution_count": null,
   "id": "5571ec4e",
   "metadata": {},
   "outputs": [],
   "source": [
    "# os\n",
    "import os\n",
    "#view working directory\n"
   ]
  },
  {
   "cell_type": "code",
   "execution_count": null,
   "id": "3c67f413",
   "metadata": {},
   "outputs": [],
   "source": [
    "# changing working directory\n"
   ]
  },
  {
   "cell_type": "code",
   "execution_count": null,
   "id": "50c8afce",
   "metadata": {},
   "outputs": [],
   "source": []
  },
  {
   "cell_type": "code",
   "execution_count": null,
   "id": "5b454961",
   "metadata": {},
   "outputs": [],
   "source": [
    "#make directory\n"
   ]
  },
  {
   "cell_type": "code",
   "execution_count": null,
   "id": "4f4fcf64",
   "metadata": {},
   "outputs": [],
   "source": [
    "# pickle\n"
   ]
  },
  {
   "cell_type": "code",
   "execution_count": null,
   "id": "5eb99d52",
   "metadata": {},
   "outputs": [],
   "source": []
  },
  {
   "cell_type": "code",
   "execution_count": null,
   "id": "2b6336a1",
   "metadata": {},
   "outputs": [],
   "source": [
    "#csv\n",
    "\n",
    "# reading csv files using csv.reader()\n"
   ]
  },
  {
   "cell_type": "code",
   "execution_count": null,
   "id": "f8a66552",
   "metadata": {},
   "outputs": [],
   "source": []
  },
  {
   "cell_type": "code",
   "execution_count": null,
   "id": "1ae3ab8a",
   "metadata": {},
   "outputs": [],
   "source": [
    "p=[(2,3,4),('Python',3000,4000)]\n"
   ]
  },
  {
   "cell_type": "code",
   "execution_count": null,
   "id": "24c4ec9f",
   "metadata": {},
   "outputs": [],
   "source": []
  },
  {
   "cell_type": "code",
   "execution_count": null,
   "id": "bd3e55dd",
   "metadata": {},
   "outputs": [],
   "source": [
    "#random\n",
    "import random\n",
    "#generate random floats\n"
   ]
  },
  {
   "cell_type": "code",
   "execution_count": null,
   "id": "6f635141",
   "metadata": {},
   "outputs": [],
   "source": [
    "# generate random integers\n"
   ]
  },
  {
   "cell_type": "code",
   "execution_count": null,
   "id": "99ce283d",
   "metadata": {},
   "outputs": [],
   "source": [
    "#select random elements\n"
   ]
  },
  {
   "cell_type": "code",
   "execution_count": null,
   "id": "7c47ffd7",
   "metadata": {},
   "outputs": [],
   "source": [
    "#generate random numbers within range\n",
    "         # (start,stop,step)[1,3,5,7,9]\n",
    "\n",
    "# random.randrange(1,10) # by default skip =1--> contains all the numbers between 1 to 10."
   ]
  },
  {
   "cell_type": "code",
   "execution_count": null,
   "id": "c64e223c",
   "metadata": {},
   "outputs": [],
   "source": []
  },
  {
   "cell_type": "code",
   "execution_count": null,
   "id": "3079b06f",
   "metadata": {},
   "outputs": [],
   "source": [
    "#### Modules Vs Packages"
   ]
  },
  {
   "cell_type": "markdown",
   "id": "1fbeec82",
   "metadata": {},
   "source": [
    "Module: The module is a simple Python file that contains collections of functions and global variables and with having a .py extension file. It is an executable file and to organize all the modules we have the concept called Package in Python.\n",
    "\n",
    "Package: The package is a simple directory having collections of modules. This directory contains Python modules and also having __init__.py file by which the interpreter interprets it as a Package. The package is simply a namespace. The package also contains sub-packages inside it."
   ]
  }
 ],
 "metadata": {
  "kernelspec": {
   "display_name": "Python 3 (ipykernel)",
   "language": "python",
   "name": "python3"
  },
  "language_info": {
   "codemirror_mode": {
    "name": "ipython",
    "version": 3
   },
   "file_extension": ".py",
   "mimetype": "text/x-python",
   "name": "python",
   "nbconvert_exporter": "python",
   "pygments_lexer": "ipython3",
   "version": "3.9.7"
  }
 },
 "nbformat": 4,
 "nbformat_minor": 5
}
