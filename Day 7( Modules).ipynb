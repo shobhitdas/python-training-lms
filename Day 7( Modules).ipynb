{
 "cells": [
  {
   "cell_type": "markdown",
   "id": "ad44c0d0",
   "metadata": {},
   "source": [
    "### Built in Functions\n",
    "\n",
    "### Modules &  Packages"
   ]
  },
  {
   "cell_type": "markdown",
   "id": "d59b0ba5",
   "metadata": {},
   "source": [
    "#### Built in functions"
   ]
  },
  {
   "cell_type": "code",
   "execution_count": 3,
   "id": "67c45477",
   "metadata": {},
   "outputs": [],
   "source": [
    "# string functions\n",
    "S=\" Saturday\""
   ]
  },
  {
   "cell_type": "code",
   "execution_count": 4,
   "id": "651b5519",
   "metadata": {},
   "outputs": [
    {
     "data": {
      "text/plain": [
       "9"
      ]
     },
     "execution_count": 4,
     "metadata": {},
     "output_type": "execute_result"
    }
   ],
   "source": [
    "len(S)"
   ]
  },
  {
   "cell_type": "code",
   "execution_count": 5,
   "id": "bfb894bb",
   "metadata": {},
   "outputs": [
    {
     "data": {
      "text/plain": [
       "b' Saturday'"
      ]
     },
     "execution_count": 5,
     "metadata": {},
     "output_type": "execute_result"
    }
   ],
   "source": [
    "bytes(S, 'utf-8') #The bytes() function returns a bytes object."
   ]
  },
  {
   "cell_type": "code",
   "execution_count": 6,
   "id": "d1af9e04",
   "metadata": {},
   "outputs": [
    {
     "data": {
      "text/plain": [
       "83"
      ]
     },
     "execution_count": 6,
     "metadata": {},
     "output_type": "execute_result"
    }
   ],
   "source": [
    " ord(S[1])\n",
    "#The ord() function returns the number representing the unicode code of a specified character."
   ]
  },
  {
   "cell_type": "code",
   "execution_count": 7,
   "id": "787666f0",
   "metadata": {},
   "outputs": [
    {
     "data": {
      "text/plain": [
       "'atu'"
      ]
     },
     "execution_count": 7,
     "metadata": {},
     "output_type": "execute_result"
    }
   ],
   "source": [
    "# The slice() function returns a slice object.\n",
    "#specified by range(start, stop, step)\n",
    "  #start: #Optional. An integer number specifying at which position to start the slicing. Default is 0\n",
    "  #end: An integer number specifying at which position to end the slicing\n",
    "  #step: Optional. An integer number specifying the step of the slicing. Default is 1\n",
    "y=slice(2,5)\n",
    "S[y]\n",
    "\n"
   ]
  },
  {
   "cell_type": "code",
   "execution_count": 12,
   "id": "05f486b4",
   "metadata": {},
   "outputs": [
    {
     "data": {
      "text/plain": [
       "'a'"
      ]
     },
     "execution_count": 12,
     "metadata": {},
     "output_type": "execute_result"
    }
   ],
   "source": [
    "x=slice(2,3)\n",
    "S[x]"
   ]
  },
  {
   "cell_type": "code",
   "execution_count": 13,
   "id": "92f69bb1",
   "metadata": {},
   "outputs": [
    {
     "data": {
      "text/plain": [
       "1940180924464"
      ]
     },
     "execution_count": 13,
     "metadata": {},
     "output_type": "execute_result"
    }
   ],
   "source": [
    "id(S)"
   ]
  },
  {
   "cell_type": "code",
   "execution_count": 14,
   "id": "5256649f",
   "metadata": {},
   "outputs": [
    {
     "data": {
      "text/plain": [
       "[(0, 'eat'), (1, 'sleep'), (2, 'repeat')]"
      ]
     },
     "execution_count": 14,
     "metadata": {},
     "output_type": "execute_result"
    }
   ],
   "source": [
    "# enumerate\n",
    "# Enumerate() function adds a counter to an iterable and returns it in a form of enumerating object. \n",
    "#This enumerated object can then be used directly for loops or \n",
    "#converted into a list of tuples using the list() method.\n",
    "l1=[\"eat\",\"sleep\",\"repeat\"]\n",
    "list(enumerate(l1))"
   ]
  },
  {
   "cell_type": "code",
   "execution_count": null,
   "id": "24a17c87",
   "metadata": {},
   "outputs": [],
   "source": [
    "#### Numeric functions"
   ]
  },
  {
   "cell_type": "code",
   "execution_count": 1,
   "id": "2a1b9983",
   "metadata": {
    "scrolled": true
   },
   "outputs": [
    {
     "name": "stdout",
     "output_type": "stream",
     "text": [
      "Collecting functools\n",
      "  Using cached functools-0.5.tar.gz (4.9 kB)\n",
      "Building wheels for collected packages: functools\n",
      "  Building wheel for functools (setup.py): started\n",
      "  Building wheel for functools (setup.py): finished with status 'error'\n",
      "  Running setup.py clean for functools\n",
      "Failed to build functools\n",
      "Installing collected packages: functools\n",
      "    Running setup.py install for functools: started\n",
      "    Running setup.py install for functools: finished with status 'error'\n"
     ]
    },
    {
     "name": "stderr",
     "output_type": "stream",
     "text": [
      "  ERROR: Command errored out with exit status 1:\n",
      "   command: 'C:\\Users\\shobhdas\\Anaconda3\\python.exe' -u -c 'import io, os, sys, setuptools, tokenize; sys.argv[0] = '\"'\"'C:\\\\Users\\\\shobhdas\\\\AppData\\\\Local\\\\Temp\\\\pip-install-s2l_mypp\\\\functools_22024384d5eb4dba9b57db3ee9fcb57c\\\\setup.py'\"'\"'; __file__='\"'\"'C:\\\\Users\\\\shobhdas\\\\AppData\\\\Local\\\\Temp\\\\pip-install-s2l_mypp\\\\functools_22024384d5eb4dba9b57db3ee9fcb57c\\\\setup.py'\"'\"';f = getattr(tokenize, '\"'\"'open'\"'\"', open)(__file__) if os.path.exists(__file__) else io.StringIO('\"'\"'from setuptools import setup; setup()'\"'\"');code = f.read().replace('\"'\"'\\r\\n'\"'\"', '\"'\"'\\n'\"'\"');f.close();exec(compile(code, __file__, '\"'\"'exec'\"'\"'))' bdist_wheel -d 'C:\\Users\\shobhdas\\AppData\\Local\\Temp\\pip-wheel-gxbcn68t'\n",
      "       cwd: C:\\Users\\shobhdas\\AppData\\Local\\Temp\\pip-install-s2l_mypp\\functools_22024384d5eb4dba9b57db3ee9fcb57c\\\n",
      "  Complete output (9 lines):\n",
      "  running bdist_wheel\n",
      "  running build\n",
      "  running build_py\n",
      "  creating build\n",
      "  creating build\\lib.win-amd64-3.9\n",
      "  copying functools.py -> build\\lib.win-amd64-3.9\n",
      "  running build_ext\n",
      "  building '_functools' extension\n",
      "  error: Microsoft Visual C++ 14.0 or greater is required. Get it with \"Microsoft C++ Build Tools\": https://visualstudio.microsoft.com/visual-cpp-build-tools/\n",
      "  ----------------------------------------\n",
      "  ERROR: Failed building wheel for functools\n",
      "    ERROR: Command errored out with exit status 1:\n",
      "     command: 'C:\\Users\\shobhdas\\Anaconda3\\python.exe' -u -c 'import io, os, sys, setuptools, tokenize; sys.argv[0] = '\"'\"'C:\\\\Users\\\\shobhdas\\\\AppData\\\\Local\\\\Temp\\\\pip-install-s2l_mypp\\\\functools_22024384d5eb4dba9b57db3ee9fcb57c\\\\setup.py'\"'\"'; __file__='\"'\"'C:\\\\Users\\\\shobhdas\\\\AppData\\\\Local\\\\Temp\\\\pip-install-s2l_mypp\\\\functools_22024384d5eb4dba9b57db3ee9fcb57c\\\\setup.py'\"'\"';f = getattr(tokenize, '\"'\"'open'\"'\"', open)(__file__) if os.path.exists(__file__) else io.StringIO('\"'\"'from setuptools import setup; setup()'\"'\"');code = f.read().replace('\"'\"'\\r\\n'\"'\"', '\"'\"'\\n'\"'\"');f.close();exec(compile(code, __file__, '\"'\"'exec'\"'\"'))' install --record 'C:\\Users\\shobhdas\\AppData\\Local\\Temp\\pip-record-294bkarc\\install-record.txt' --single-version-externally-managed --compile --install-headers 'C:\\Users\\shobhdas\\Anaconda3\\Include\\functools'\n",
      "         cwd: C:\\Users\\shobhdas\\AppData\\Local\\Temp\\pip-install-s2l_mypp\\functools_22024384d5eb4dba9b57db3ee9fcb57c\\\n",
      "    Complete output (11 lines):\n",
      "    running install\n",
      "    C:\\Users\\shobhdas\\Anaconda3\\lib\\site-packages\\setuptools\\command\\install.py:34: SetuptoolsDeprecationWarning: setup.py install is deprecated. Use build and pip and other standards-based tools.\n",
      "      warnings.warn(\n",
      "    running build\n",
      "    running build_py\n",
      "    creating build\n",
      "    creating build\\lib.win-amd64-3.9\n",
      "    copying functools.py -> build\\lib.win-amd64-3.9\n",
      "    running build_ext\n",
      "    building '_functools' extension\n",
      "    error: Microsoft Visual C++ 14.0 or greater is required. Get it with \"Microsoft C++ Build Tools\": https://visualstudio.microsoft.com/visual-cpp-build-tools/\n",
      "    ----------------------------------------\n",
      "ERROR: Command errored out with exit status 1: 'C:\\Users\\shobhdas\\Anaconda3\\python.exe' -u -c 'import io, os, sys, setuptools, tokenize; sys.argv[0] = '\"'\"'C:\\\\Users\\\\shobhdas\\\\AppData\\\\Local\\\\Temp\\\\pip-install-s2l_mypp\\\\functools_22024384d5eb4dba9b57db3ee9fcb57c\\\\setup.py'\"'\"'; __file__='\"'\"'C:\\\\Users\\\\shobhdas\\\\AppData\\\\Local\\\\Temp\\\\pip-install-s2l_mypp\\\\functools_22024384d5eb4dba9b57db3ee9fcb57c\\\\setup.py'\"'\"';f = getattr(tokenize, '\"'\"'open'\"'\"', open)(__file__) if os.path.exists(__file__) else io.StringIO('\"'\"'from setuptools import setup; setup()'\"'\"');code = f.read().replace('\"'\"'\\r\\n'\"'\"', '\"'\"'\\n'\"'\"');f.close();exec(compile(code, __file__, '\"'\"'exec'\"'\"'))' install --record 'C:\\Users\\shobhdas\\AppData\\Local\\Temp\\pip-record-294bkarc\\install-record.txt' --single-version-externally-managed --compile --install-headers 'C:\\Users\\shobhdas\\Anaconda3\\Include\\functools' Check the logs for full command output.\n"
     ]
    }
   ],
   "source": [
    "# reduce function\n",
    "!pip install functools"
   ]
  },
  {
   "cell_type": "code",
   "execution_count": 2,
   "id": "a9addee5",
   "metadata": {},
   "outputs": [
    {
     "name": "stdout",
     "output_type": "stream",
     "text": [
      "10\n"
     ]
    },
    {
     "data": {
      "text/plain": [
       "int"
      ]
     },
     "execution_count": 2,
     "metadata": {},
     "output_type": "execute_result"
    }
   ],
   "source": [
    "from functools import reduce\n",
    "numbers =[1,2,3,4]\n",
    "\n",
    "num=reduce(lambda a, b: a+b,numbers)\n",
    "print(num)\n",
    "type(num)"
   ]
  },
  {
   "cell_type": "code",
   "execution_count": 3,
   "id": "835c9bca",
   "metadata": {},
   "outputs": [
    {
     "data": {
      "text/plain": [
       "21"
      ]
     },
     "execution_count": 3,
     "metadata": {},
     "output_type": "execute_result"
    }
   ],
   "source": [
    "# abs()\n",
    "x=-21\n",
    "abs(x)\n"
   ]
  },
  {
   "cell_type": "code",
   "execution_count": 4,
   "id": "762a86eb",
   "metadata": {},
   "outputs": [
    {
     "data": {
      "text/plain": [
       "441"
      ]
     },
     "execution_count": 4,
     "metadata": {},
     "output_type": "execute_result"
    }
   ],
   "source": [
    "#pow()\n",
    "pow(x,2)"
   ]
  },
  {
   "cell_type": "markdown",
   "id": "6e7f7329",
   "metadata": {},
   "source": [
    "### Modules & Packages"
   ]
  },
  {
   "cell_type": "markdown",
   "id": "edca5b4b",
   "metadata": {},
   "source": [
    "A Python module is a file containing Python definitions and statements. \n",
    "A module can define functions, classes, and variables. \n",
    "A module can also include runnable code. \n",
    "Grouping related code into a module makes the code easier to understand and use. \n",
    "It also makes the code logically organized."
   ]
  },
  {
   "cell_type": "markdown",
   "id": "3f7d2151",
   "metadata": {},
   "source": [
    "Packages allow you to organize modules in the hierarchical structure.\n",
    "\n",
    "The way Python organizes packages and modules like the Operating System structures the folders and files."
   ]
  },
  {
   "cell_type": "markdown",
   "id": "46b3b183",
   "metadata": {},
   "source": [
    "#### .py extension\n",
    "#### the module contains,\n",
    "  - Definitions and implementation of classes\n",
    "  \n",
    "  - variables\n",
    "    \n",
    "  - Functions that can be used inside another program  "
   ]
  },
  {
   "cell_type": "markdown",
   "id": "b8bc97d4",
   "metadata": {},
   "source": [
    "##### To import a package, you use the import statement like this:\n",
    "\n",
    "import package.module\n",
    "\n",
    "##### To access an object from a module that belongs to a package, you use the dot notation:\n",
    "\n",
    "package.module.function\n",
    "\n",
    "##### To make the code more concise, you can use the following statement to import a function \n",
    "##### from a module:\n",
    "\n",
    "from <module> import <function>"
   ]
  },
  {
   "cell_type": "code",
   "execution_count": 5,
   "id": "d7d4ab22",
   "metadata": {},
   "outputs": [
    {
     "name": "stdout",
     "output_type": "stream",
     "text": [
      "hello ravi\n"
     ]
    }
   ],
   "source": [
    "#### Create a module\n",
    "import testmodule\n",
    "testmodule.welcome(\"ravi\")\n",
    "#### create a file with extension .py\n",
    "### create mymodule.py"
   ]
  },
  {
   "cell_type": "code",
   "execution_count": 6,
   "id": "0e18e9a7",
   "metadata": {},
   "outputs": [
    {
     "data": {
      "text/plain": [
       "3"
      ]
     },
     "execution_count": 6,
     "metadata": {},
     "output_type": "execute_result"
    }
   ],
   "source": [
    "# using 'import'keyword to import module\n",
    "import newmodule\n",
    "newmodule.add(1,2)"
   ]
  },
  {
   "cell_type": "code",
   "execution_count": 7,
   "id": "2a3af9c8",
   "metadata": {},
   "outputs": [
    {
     "data": {
      "text/plain": [
       "-11"
      ]
     },
     "execution_count": 7,
     "metadata": {},
     "output_type": "execute_result"
    }
   ],
   "source": [
    "# create newmodule.py\n",
    "newmodule.sub(77,88)"
   ]
  },
  {
   "cell_type": "code",
   "execution_count": 8,
   "id": "6e2cd17b",
   "metadata": {},
   "outputs": [
    {
     "data": {
      "text/plain": [
       "3025"
      ]
     },
     "execution_count": 8,
     "metadata": {},
     "output_type": "execute_result"
    }
   ],
   "source": [
    "newmodule.mul(55,55)"
   ]
  },
  {
   "cell_type": "code",
   "execution_count": 3,
   "id": "6ca3b8e6",
   "metadata": {},
   "outputs": [],
   "source": [
    "#create mymodule1\n",
    "import testmodule as new_module"
   ]
  },
  {
   "cell_type": "code",
   "execution_count": 4,
   "id": "b3eacde3",
   "metadata": {},
   "outputs": [
    {
     "data": {
      "text/plain": [
       "21"
      ]
     },
     "execution_count": 4,
     "metadata": {},
     "output_type": "execute_result"
    }
   ],
   "source": [
    "new_module.person[\"age\"]"
   ]
  },
  {
   "cell_type": "code",
   "execution_count": 5,
   "id": "7e009d06",
   "metadata": {},
   "outputs": [
    {
     "data": {
      "text/plain": [
       "'brunda'"
      ]
     },
     "execution_count": 5,
     "metadata": {},
     "output_type": "execute_result"
    }
   ],
   "source": [
    "new_module.person[\"name\"]"
   ]
  },
  {
   "cell_type": "code",
   "execution_count": 6,
   "id": "33323fae",
   "metadata": {},
   "outputs": [
    {
     "data": {
      "text/plain": [
       "4"
      ]
     },
     "execution_count": 6,
     "metadata": {},
     "output_type": "execute_result"
    }
   ],
   "source": [
    "# instead of dictionary can use list object\n",
    "new_module.person1[3]"
   ]
  },
  {
   "cell_type": "code",
   "execution_count": null,
   "id": "dfb981e9",
   "metadata": {},
   "outputs": [],
   "source": [
    "### Built - in - Modules"
   ]
  },
  {
   "cell_type": "code",
   "execution_count": 4,
   "id": "4dda17b2",
   "metadata": {},
   "outputs": [
    {
     "name": "stdout",
     "output_type": "stream",
     "text": [
      "\n",
      "Please wait a moment while I gather a list of all available modules...\n",
      "\n"
     ]
    },
    {
     "name": "stderr",
     "output_type": "stream",
     "text": [
      "WARNING: AstropyDeprecationWarning: The private astropy._erfa module has been made into its own package, pyerfa, which is a dependency of astropy and can be imported directly using \"import erfa\" [astropy._erfa]\n",
      "C:\\Users\\shobhdas\\Anaconda3\\lib\\site-packages\\nltk\\twitter\\__init__.py:20: UserWarning: The twython library has not been installed. Some functionality from the twitter package will not be available.\n",
      "  warnings.warn(\n",
      "C:\\Users\\shobhdas\\Anaconda3\\lib\\site-packages\\_distutils_hack\\__init__.py:30: UserWarning: Setuptools is replacing distutils.\n",
      "  warnings.warn(\"Setuptools is replacing distutils.\")\n",
      "No QCoreApplication instance found. Application patches not applied. You have to call load_stylesheet function after instantiation of QApplication to take effect. \n",
      "C:\\Users\\shobhdas\\Anaconda3\\lib\\pkgutil.py:108: VisibleDeprecationWarning:\n",
      "\n",
      "zmq.eventloop.minitornado is deprecated in pyzmq 14.0 and will be removed.\n",
      "    Install tornado itself to use zmq with the tornado IOLoop.\n",
      "    \n",
      "\n"
     ]
    },
    {
     "name": "stdout",
     "output_type": "stream",
     "text": [
      "Cython              commctrl            mock                socket\n",
      "IPython             compileall          modulefinder        socketserver\n",
      "OpenSSL             comtypes            mpmath              socks\n",
      "PIL                 concurrent          msgpack             sockshandler\n",
      "PyQt5               conda               msilib              sortedcollections\n",
      "TBB                 conda_build         msvcrt              sortedcontainers\n",
      "__future__          conda_content_trust multidict           soupsieve\n",
      "_abc                conda_env           multipledispatch    sphinx\n",
      "_aix_support        conda_pack          multiprocessing     spyder\n",
      "_argon2_cffi_bindings conda_package_handling munkres             spyder_kernels\n",
      "_ast                conda_token         mypy_extensions     sqlalchemy\n",
      "_asyncio            conda_verify        nacl                sqlite3\n",
      "_bisect             configparser        navigator_updater   sre_compile\n",
      "_black_version      constantly          nbclassic           sre_constants\n",
      "_blake2             contextlib          nbclient            sre_parse\n",
      "_bootlocale         contextvars         nbconvert           ssl\n",
      "_bootsubprocess     cookiecutter        nbformat            sspi\n",
      "_bz2                copy                nest_asyncio        sspicon\n",
      "_cffi_backend       copyreg             netbios             stack_data\n",
      "_codecs             crypt               netrc               stat\n",
      "_codecs_cn          cryptography        networkx            statistics\n",
      "_codecs_hk          cssselect           newmodule           statsmodels\n",
      "_codecs_iso2022     csv                 nltk                string\n",
      "_codecs_jp          ctypes              nntplib             stringprep\n",
      "_codecs_kr          curl                nose                struct\n",
      "_codecs_tw          curses              notebook            subprocess\n",
      "_collections        cwp                 nt                  sunau\n",
      "_collections_abc    cycler              ntpath              symbol\n",
      "_compat_pickle      cython              ntsecuritycon       sympy\n",
      "_compression        cytoolz             nturl2path          symtable\n",
      "_contextvars        daal4py             numba               sys\n",
      "_csv                dask                numbergen           sysconfig\n",
      "_ctypes             dataclasses         numbers             tables\n",
      "_ctypes_test        datashader          numexpr             tabnanny\n",
      "_datetime           datashape           numpy               tabulate\n",
      "_decimal            datetime            numpydoc            tarfile\n",
      "_distutils_hack     dateutil            odbc                tbb\n",
      "_elementtree        dbi                 olefile             tblib\n",
      "_functools          dbm                 onedal              telnetlib\n",
      "_hashlib            dde                 opcode              tempfile\n",
      "_heapq              debugpy             openpyxl            tenacity\n",
      "_imp                decimal             operator            terminado\n",
      "_io                 decorator           optparse            test\n",
      "_json               defusedxml          os                  test_pycosat\n",
      "_locale             diff_match_patch    packaging           testmodule\n",
      "_lsprof             difflib             pandas              testpath\n",
      "_lzma               dis                 pandocfilters       text_unidecode\n",
      "_markupbase         distributed         panel               textdistance\n",
      "_md5                distutils           param               textwrap\n",
      "_msi                doctest             paramiko            this\n",
      "_multibytecodec     docutils            parsel              threading\n",
      "_multiprocessing    email               parser              threadpoolctl\n",
      "_nsis               encodings           parso               three_merge\n",
      "_opcode             ensurepip           partd               tifffile\n",
      "_operator           entrypoints         past                time\n",
      "_osx_support        enum                pathlib             timeit\n",
      "_overlapped         erfa                pathspec            timer\n",
      "_peg_parser         errno               patsy               tinycss\n",
      "_pickle             et_xmlfile          pdb                 tkinter\n",
      "_plotly_future_     executing           pep8                tldextract\n",
      "_plotly_utils       fastjsonschema      perfmon             tlz\n",
      "_py_abc             faulthandler        pexpect             token\n",
      "_pydecimal          filecmp             pickle              tokenize\n",
      "_pyio               fileinput           pickleshare         toml\n",
      "_pyrsistent_version filelock            pickletools         tomli\n",
      "_pytest             flake8              pip                 toolz\n",
      "_queue              flask               pipes               tornado\n",
      "_random             fnmatch             pkg_resources       tqdm\n",
      "_sha1               fontTools           pkginfo             trace\n",
      "_sha256             formatter           pkgutil             traceback\n",
      "_sha3               fractions           platform            tracemalloc\n",
      "_sha512             frozenlist          plistlib            traitlets\n",
      "_signal             fsspec              plotly              tty\n",
      "_sitebuiltins       ftplib              pluggy              turtle\n",
      "_socket             functools           poplib              turtledemo\n",
      "_sqlite3            future              posixpath           twisted\n",
      "_sre                gc                  poyo                typed_ast\n",
      "_ssl                genericpath         pprint              types\n",
      "_stat               gensim              profile             typing\n",
      "_statistics         getopt              prometheus_client   typing_extensions\n",
      "_string             getpass             prompt_toolkit      ujson\n",
      "_strptime           gettext             protego             unicodedata\n",
      "_struct             glob                pstats              unidecode\n",
      "_symtable           glob2               psutil              unittest\n",
      "_system_path        google_crc32c       pty                 urllib\n",
      "_testbuffer         graphlib            ptyprocess          urllib3\n",
      "_testcapi           greenlet            pure_eval           uu\n",
      "_testconsole        grpc                pvectorc            uuid\n",
      "_testimportmultiple gzip                py                  venv\n",
      "_testinternalcapi   h5py                py_compile          w3lib\n",
      "_testmultiphase     hamcrest            pyasn1              warnings\n",
      "_thread             hashlib             pyasn1_modules      watchdog\n",
      "_threading_local    heapdict            pyclbr              wave\n",
      "_tkinter            heapq               pycodestyle         wcwidth\n",
      "_tracemalloc        hmac                pycosat             weakref\n",
      "_uuid               holoviews           pycparser           webbrowser\n",
      "_warnings           html                pyct                webencodings\n",
      "_weakref            http                pycurl              websocket\n",
      "_weakrefset         hvplot              pydispatch          werkzeug\n",
      "_win32sysloader     hyperlink           pydoc               wheel\n",
      "_winapi             idlelib             pydoc_data          widgetsnbextension\n",
      "_winxptheme         idna                pydocstyle          win2kras\n",
      "_xxsubinterpreters  imagecodecs         pyexpat             win32api\n",
      "_yaml               imageio             pyflakes            win32clipboard\n",
      "_zoneinfo           imagesize           pygments            win32com\n",
      "abc                 imaplib             pylab               win32con\n",
      "adodbapi            imghdr              pylint              win32console\n",
      "afxres              imp                 pyls_spyder         win32cred\n",
      "aifc                importlib           pylsp               win32crypt\n",
      "aiohttp             importlib_metadata  pylsp_black         win32cryptcon\n",
      "aiosignal           incremental         pylsp_jsonrpc       win32ctypes\n",
      "alabaster           inflection          pyodbc              win32event\n",
      "anaconda_navigator  iniconfig           pyparsing           win32evtlog\n",
      "anaconda_project    inspect             pyreadline          win32evtlogutil\n",
      "antigravity         intake              pyrsistent          win32file\n",
      "anyio               intervaltree        pytest              win32gui\n",
      "appdirs             io                  pythoncom           win32gui_struct\n",
      "argon2              ipaddress           pytz                win32help\n",
      "argparse            ipykernel           pyviz_comms         win32inet\n",
      "array               ipykernel_launcher  pywin               win32inetcon\n",
      "arrow               ipython_genutils    pywin32_bootstrap   win32job\n",
      "ast                 ipywidgets          pywin32_testutil    win32lz\n",
      "astroid             isapi               pywintypes          win32net\n",
      "astropy             isort               pywt                win32netcon\n",
      "asttokens           isympy              pyximport           win32pdh\n",
      "async_timeout       itemadapter         qdarkstyle          win32pdhquery\n",
      "asynchat            itemloaders         qstylizer           win32pdhutil\n",
      "asyncio             itertools           qtawesome           win32pipe\n",
      "asyncore            itsdangerous        qtconsole           win32print\n",
      "atexit              jdcal               qtpy                win32process\n",
      "atomicwrites        jedi                queue               win32profile\n",
      "attr                jinja2              queuelib            win32ras\n",
      "attrs               jinja2_time         quopri              win32rcparser\n",
      "audioop             jmespath            random              win32security\n",
      "automat             joblib              rasutil             win32service\n",
      "autopep8            json                re                  win32serviceutil\n",
      "babel               json5               readline            win32timezone\n",
      "backcall            jsonschema          regcheck            win32trace\n",
      "backports           jupyter             regex               win32traceutil\n",
      "base64              jupyter_client      regutil             win32transaction\n",
      "bcrypt              jupyter_console     repo_cli            win32ts\n",
      "bdb                 jupyter_core        reprlib             win32ui\n",
      "binaryornot         jupyter_server      requests            win32uiole\n",
      "binascii            jupyterlab          requests_file       win32verstamp\n",
      "binhex              jupyterlab_plotly   rlcompleter         win32wnet\n",
      "binstar_client      jupyterlab_pygments rope                win_inet_pton\n",
      "bisect              jupyterlab_server   rsa                 win_unicode_console\n",
      "bitarray            jupyterlab_widgets  rtree               wincertstore\n",
      "bkcharts            jwt                 ruamel_yaml         winerror\n",
      "black               keyring             run                 winioctlcon\n",
      "blackd              keyword             runpy               winnt\n",
      "bleach              kiwisolver          s3transfer          winperf\n",
      "blib2to3            lazy_object_proxy   sched               winpty\n",
      "bokeh               lib2to3             scipy               winreg\n",
      "boto3               libarchive          scrapy              winsound\n",
      "botocore            libfuturize         seaborn             winxpgui\n",
      "bottleneck          libpasteurize       secrets             winxptheme\n",
      "brotli              lief                select              wrapt\n",
      "bs4                 linecache           selectors           wsgiref\n",
      "builtins            llvmlite            send2trash          xarray\n",
      "bz2                 locale              service_identity    xdrlib\n",
      "cProfile            locket              servicemanager      xlrd\n",
      "cachetools          logging             setuptools          xlsxwriter\n",
      "calendar            lxml                shelve              xlwings\n",
      "certifi             lzma                shlex               xml\n",
      "cffi                mailbox             shutil              xmlrpc\n",
      "cgi                 mailcap             signal              xxsubtype\n",
      "cgitb               markdown            sip                 yaml\n",
      "chardet             markupsafe          sipconfig           yapf\n",
      "charset_normalizer  marshal             sipdistutils        yapftests\n",
      "chunk               math                site                yarl\n",
      "click               matplotlib          six                 zict\n",
      "cloudpickle         matplotlib_inline   skimage             zipapp\n",
      "clyent              mccabe              sklearn             zipfile\n",
      "cmath               menuinst            sklearnex           zipimport\n",
      "cmd                 mimetypes           slugify             zipp\n",
      "code                mistune             smart_open          zlib\n",
      "codecs              mkl                 smtpd               zmq\n",
      "codeop              mkl_fft             smtplib             zoneinfo\n",
      "collections         mkl_random          snappy              zope\n",
      "colorama            mmap                sndhdr              \n",
      "colorcet            mmapfile            sniffio             \n",
      "colorsys            mmsystem            snowballstemmer     \n",
      "\n",
      "Enter any module name to get more help.  Or, type \"modules spam\" to search\n",
      "for modules whose name or summary contain the string \"spam\".\n",
      "\n"
     ]
    }
   ],
   "source": [
    "help('modules')"
   ]
  },
  {
   "cell_type": "code",
   "execution_count": null,
   "id": "5e9d1e54",
   "metadata": {},
   "outputs": [],
   "source": [
    "# math \n",
    "# statistics\n",
    "# sys\n",
    "# os\n",
    "# time\n",
    "# pickle\n",
    "# csv\n",
    "# datetime\n",
    "# random"
   ]
  },
  {
   "cell_type": "code",
   "execution_count": 7,
   "id": "21fe7e75",
   "metadata": {},
   "outputs": [
    {
     "data": {
      "text/plain": [
       "1.7320508075688772"
      ]
     },
     "execution_count": 7,
     "metadata": {},
     "output_type": "execute_result"
    }
   ],
   "source": [
    "#math\n",
    "import math\n",
    "math.sqrt(3)\n"
   ]
  },
  {
   "cell_type": "code",
   "execution_count": 8,
   "id": "e8c8cb2d",
   "metadata": {},
   "outputs": [
    {
     "data": {
      "text/plain": [
       "3.141592653589793"
      ]
     },
     "execution_count": 8,
     "metadata": {},
     "output_type": "execute_result"
    }
   ],
   "source": [
    "math.pi"
   ]
  },
  {
   "cell_type": "code",
   "execution_count": 11,
   "id": "b5bd6655",
   "metadata": {},
   "outputs": [
    {
     "data": {
      "text/plain": [
       "0.7853981633974483"
      ]
     },
     "execution_count": 11,
     "metadata": {},
     "output_type": "execute_result"
    }
   ],
   "source": [
    "math.radians(45)"
   ]
  },
  {
   "cell_type": "markdown",
   "id": "dfe57e9b",
   "metadata": {},
   "source": []
  },
  {
   "cell_type": "code",
   "execution_count": 13,
   "id": "99060073",
   "metadata": {},
   "outputs": [
    {
     "data": {
      "text/plain": [
       "5.5"
      ]
     },
     "execution_count": 13,
     "metadata": {},
     "output_type": "execute_result"
    }
   ],
   "source": [
    "# statistics\n",
    "import statistics\n",
    "statistics.mean([2,5,6,9])"
   ]
  },
  {
   "cell_type": "code",
   "execution_count": 15,
   "id": "ea8eabc5",
   "metadata": {},
   "outputs": [
    {
     "data": {
      "text/plain": [
       "5.5"
      ]
     },
     "execution_count": 15,
     "metadata": {},
     "output_type": "execute_result"
    }
   ],
   "source": [
    "statistics.median([2,5,6,9])"
   ]
  },
  {
   "cell_type": "code",
   "execution_count": 17,
   "id": "edd19515",
   "metadata": {},
   "outputs": [
    {
     "data": {
      "text/plain": [
       "2.886751345948129"
      ]
     },
     "execution_count": 17,
     "metadata": {},
     "output_type": "execute_result"
    }
   ],
   "source": [
    "statistics.stdev([2,5,6,9])"
   ]
  },
  {
   "cell_type": "code",
   "execution_count": 18,
   "id": "b77ed972",
   "metadata": {},
   "outputs": [
    {
     "data": {
      "text/plain": [
       "'3.9.12 (main, Apr  4 2022, 05:22:27) [MSC v.1916 64 bit (AMD64)]'"
      ]
     },
     "execution_count": 18,
     "metadata": {},
     "output_type": "execute_result"
    }
   ],
   "source": [
    "# sys\n",
    "import sys\n",
    "sys.version"
   ]
  },
  {
   "cell_type": "code",
   "execution_count": 19,
   "id": "df1938ea",
   "metadata": {},
   "outputs": [
    {
     "data": {
      "text/plain": [
       "9223372036854775807"
      ]
     },
     "execution_count": 19,
     "metadata": {},
     "output_type": "execute_result"
    }
   ],
   "source": [
    "sys.maxsize"
   ]
  },
  {
   "cell_type": "code",
   "execution_count": 20,
   "id": "5571ec4e",
   "metadata": {},
   "outputs": [
    {
     "data": {
      "text/plain": [
       "'C:\\\\Users\\\\shobhdas'"
      ]
     },
     "execution_count": 20,
     "metadata": {},
     "output_type": "execute_result"
    }
   ],
   "source": [
    "# os\n",
    "import os\n",
    "#view working directory\n",
    "os.getcwd()"
   ]
  },
  {
   "cell_type": "code",
   "execution_count": null,
   "id": "3c67f413",
   "metadata": {},
   "outputs": [],
   "source": [
    "# changing working directory\n",
    "os.chidr(\"#directory path\")"
   ]
  },
  {
   "cell_type": "code",
   "execution_count": 22,
   "id": "50c8afce",
   "metadata": {},
   "outputs": [
    {
     "data": {
      "text/plain": [
       "'C:\\\\Users\\\\shobhdas'"
      ]
     },
     "execution_count": 22,
     "metadata": {},
     "output_type": "execute_result"
    }
   ],
   "source": [
    "os.getcwd()"
   ]
  },
  {
   "cell_type": "code",
   "execution_count": null,
   "id": "5b454961",
   "metadata": {},
   "outputs": [],
   "source": [
    "#make directory\n",
    "os.mkdir(\"sampledirectory\")"
   ]
  },
  {
   "cell_type": "code",
   "execution_count": null,
   "id": "4f4fcf64",
   "metadata": {},
   "outputs": [],
   "source": [
    "# pickle\n",
    "import pickle\n",
    "data=['one', 2,3,5]\n",
    "with open ('data.txt','wb') as f:\n",
    "    pickle.dump(data,f)"
   ]
  },
  {
   "cell_type": "code",
   "execution_count": null,
   "id": "5eb99d52",
   "metadata": {},
   "outputs": [],
   "source": [
    "with open('data.txt','rb') as f:\n",
    "    L=f.readlines()\n",
    "print(L)"
   ]
  },
  {
   "cell_type": "code",
   "execution_count": null,
   "id": "2b6336a1",
   "metadata": {},
   "outputs": [],
   "source": [
    "#csv\n",
    "import csv\n",
    "\n",
    "# reading csv files using csv.reader()\n",
    "c=open(\"oj.csv\",'r')\n",
    "o=csv.reader(c)\n",
    "for r in o:\n",
    "    print(r)"
   ]
  },
  {
   "cell_type": "code",
   "execution_count": null,
   "id": "f8a66552",
   "metadata": {},
   "outputs": [],
   "source": [
    "c.close()"
   ]
  },
  {
   "cell_type": "code",
   "execution_count": null,
   "id": "1ae3ab8a",
   "metadata": {},
   "outputs": [],
   "source": [
    "p=[(2,3,4),('Python',3000,4000)]\n",
    "c=open('newfile.csv','w')\n",
    "o=csv.writer(c)\n",
    "for i in p:\n",
    "    o.writerow(i)\n",
    "c.close()"
   ]
  },
  {
   "cell_type": "code",
   "execution_count": null,
   "id": "24c4ec9f",
   "metadata": {},
   "outputs": [],
   "source": [
    "c=open('newfile.csv','r')\n",
    "o=csv.reader(c)\n",
    "for r in o:\n",
    "    print(r)"
   ]
  },
  {
   "cell_type": "code",
   "execution_count": null,
   "id": "bd3e55dd",
   "metadata": {},
   "outputs": [],
   "source": [
    "#random\n",
    "import random\n",
    "#generate random floats\n"
   ]
  },
  {
   "cell_type": "code",
   "execution_count": null,
   "id": "6f635141",
   "metadata": {},
   "outputs": [],
   "source": [
    "# generate random integers\n"
   ]
  },
  {
   "cell_type": "code",
   "execution_count": null,
   "id": "99ce283d",
   "metadata": {},
   "outputs": [],
   "source": [
    "#select random elements\n"
   ]
  },
  {
   "cell_type": "code",
   "execution_count": null,
   "id": "7c47ffd7",
   "metadata": {},
   "outputs": [],
   "source": [
    "#generate random numbers within range\n",
    "         # (start,stop,step)[1,3,5,7,9]\n",
    "\n",
    "# random.randrange(1,10) # by default skip =1--> contains all the numbers between 1 to 10."
   ]
  },
  {
   "cell_type": "code",
   "execution_count": null,
   "id": "c64e223c",
   "metadata": {},
   "outputs": [],
   "source": []
  },
  {
   "cell_type": "code",
   "execution_count": null,
   "id": "3079b06f",
   "metadata": {},
   "outputs": [],
   "source": [
    "#### Modules Vs Packages"
   ]
  },
  {
   "cell_type": "markdown",
   "id": "1fbeec82",
   "metadata": {},
   "source": [
    "Module: The module is a simple Python file that contains collections of functions and global variables and with having a .py extension file. It is an executable file and to organize all the modules we have the concept called Package in Python.\n",
    "\n",
    "Package: The package is a simple directory having collections of modules. This directory contains Python modules and also having __init__.py file by which the interpreter interprets it as a Package. The package is simply a namespace. The package also contains sub-packages inside it."
   ]
  }
 ],
 "metadata": {
  "kernelspec": {
   "display_name": "Python 3 (ipykernel)",
   "language": "python",
   "name": "python3"
  },
  "language_info": {
   "codemirror_mode": {
    "name": "ipython",
    "version": 3
   },
   "file_extension": ".py",
   "mimetype": "text/x-python",
   "name": "python",
   "nbconvert_exporter": "python",
   "pygments_lexer": "ipython3",
   "version": "3.9.12"
  }
 },
 "nbformat": 4,
 "nbformat_minor": 5
}
