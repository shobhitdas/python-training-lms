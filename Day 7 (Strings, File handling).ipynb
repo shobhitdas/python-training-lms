{
 "cells": [
  {
   "cell_type": "markdown",
   "id": "6d754ad7",
   "metadata": {},
   "source": [
    "### String Objects\n",
    "\n",
    "- Overview of String Objects\n",
    "\n",
    "- common string methods\n",
    "\n",
    "- Formating strings\n",
    "\n",
    "- Splitting and joining"
   ]
  },
  {
   "cell_type": "markdown",
   "id": "0221b6f2",
   "metadata": {},
   "source": [
    "### File handling\n",
    "\n",
    "- Opening files\n",
    "- Text vs Binary mode\n",
    "- Text and Binary files"
   ]
  },
  {
   "cell_type": "markdown",
   "id": "b904d4a8",
   "metadata": {},
   "source": [
    "Python string is a sequence of Unicode characters that is enclosed in the quotations marks"
   ]
  },
  {
   "cell_type": "code",
   "execution_count": null,
   "id": "d8d497d5",
   "metadata": {},
   "outputs": [],
   "source": [
    "##### Case Changing of Strings\n",
    "The below functions are used to change the case of the strings.\n",
    "\n",
    "lower(): Converts all uppercase characters in a string into lowercase\n",
    "upper(): Converts all lowercase characters in a string into uppercase\n",
    "title(): Convert string to title case"
   ]
  },
  {
   "cell_type": "code",
   "execution_count": null,
   "id": "947157fe",
   "metadata": {},
   "outputs": [],
   "source": []
  },
  {
   "cell_type": "markdown",
   "id": "f0d64a17",
   "metadata": {},
   "source": [
    "### string capitalize() in Python\n",
    "the capitalize() method returns a copy of the original string and converts the first character of the string to a capital (uppercase) letter while making all other characters in the string lowercase letters.\n",
    "string_name.capitalize() "
   ]
  },
  {
   "cell_type": "code",
   "execution_count": 1,
   "id": "d4a3133f",
   "metadata": {},
   "outputs": [
    {
     "name": "stdout",
     "output_type": "stream",
     "text": [
      "Jigsaw - unext\n"
     ]
    }
   ],
   "source": [
    "name= \"jigsaw - unext\"\n",
    "print(name.capitalize())"
   ]
  },
  {
   "cell_type": "markdown",
   "id": "9bfc542c",
   "metadata": {},
   "source": [
    "#### Python String count() Method\n",
    "String count() function is an inbuilt function in python programming language that returns the number of occurrences of a substring in the given string.\n",
    "\n",
    "Syntax: \n",
    "\n",
    "string.count(substring, start=…, end=…)"
   ]
  },
  {
   "cell_type": "code",
   "execution_count": 4,
   "id": "cc856743",
   "metadata": {},
   "outputs": [
    {
     "name": "stdout",
     "output_type": "stream",
     "text": [
      "6\n"
     ]
    }
   ],
   "source": [
    "string =\"welcome to all all all all all all\"\n",
    "\n",
    "#counts no of times substring occurs i \n",
    "#the given string and returns and integer\n",
    "\n",
    "print(string.count(\"all\"))"
   ]
  },
  {
   "cell_type": "code",
   "execution_count": 6,
   "id": "2783a6fa",
   "metadata": {},
   "outputs": [
    {
     "name": "stdout",
     "output_type": "stream",
     "text": [
      "2\n"
     ]
    }
   ],
   "source": [
    "print(string.count(\"all\",0,20))\n",
    "#it returns count of word \"all\" (starts from index 0 to 20)"
   ]
  },
  {
   "cell_type": "markdown",
   "id": "5107b0b6",
   "metadata": {},
   "source": [
    " #### Implementation of the count() method using optional parameters\n",
    "counts the number of times substring occurs in \n",
    "\n",
    "the given string between index 0 and 5 and returns an integer\n",
    "\n",
    "print(string.count(\"all\", 0, 5))"
   ]
  },
  {
   "cell_type": "markdown",
   "id": "915877b9",
   "metadata": {},
   "source": [
    "#### Python String endswith() Method\n",
    "\n",
    "Python String endswith() method returns True if a string ends with the given suffix otherwise returns False.\n",
    "\n",
    "Syntax:\n",
    "\n",
    "str.endswith(suffix, start, end)"
   ]
  },
  {
   "cell_type": "code",
   "execution_count": 8,
   "id": "2fa89fdd",
   "metadata": {},
   "outputs": [
    {
     "name": "stdout",
     "output_type": "stream",
     "text": [
      "False\n"
     ]
    }
   ],
   "source": [
    "text=\"welcome to our country.\"\n",
    "\n",
    "#returns false \n",
    "result = text.endswith('country')\n",
    "print (result)"
   ]
  },
  {
   "cell_type": "code",
   "execution_count": 9,
   "id": "e536591e",
   "metadata": {},
   "outputs": [
    {
     "name": "stdout",
     "output_type": "stream",
     "text": [
      "True\n"
     ]
    }
   ],
   "source": [
    "result= text.endswith('country.')\n",
    "print(result)"
   ]
  },
  {
   "cell_type": "markdown",
   "id": "1255bd76",
   "metadata": {},
   "source": [
    "#### Python String isdigit() Method\n",
    "The isdigit() method returns “True” if all characters in the string are digits, Otherwise, It returns “False”. This function is used to check if the argument contains digits such as 0123456789"
   ]
  },
  {
   "cell_type": "code",
   "execution_count": 10,
   "id": "3438611d",
   "metadata": {},
   "outputs": [
    {
     "name": "stdout",
     "output_type": "stream",
     "text": [
      "True\n",
      "False\n"
     ]
    }
   ],
   "source": [
    "# checking for digit\n",
    "string = '15460'\n",
    "print(string.isdigit())\n",
    "\n",
    "string= '154ayush60'\n",
    "print(string.isdigit())"
   ]
  },
  {
   "cell_type": "markdown",
   "id": "9ecc8b29",
   "metadata": {},
   "source": [
    "#### Python String isnumeric() Method\n",
    "The isnumeric() method returns “True” if all characters in the string are numeric characters, Otherwise, It returns “False”."
   ]
  },
  {
   "cell_type": "code",
   "execution_count": null,
   "id": "ee905d38",
   "metadata": {},
   "outputs": [],
   "source": [
    "### checking for numeric characters\n",
    "string = '123ayu456'\n",
    "  \n",
    "string = '123456'\n"
   ]
  },
  {
   "cell_type": "markdown",
   "id": "09d79fbb",
   "metadata": {},
   "source": [
    "#### Python string | swapcase()\n",
    "The string swapcase() method converts all uppercase characters to lowercase and vice versa of the given string, and returns it"
   ]
  },
  {
   "cell_type": "code",
   "execution_count": null,
   "id": "7e2bdf71",
   "metadata": {},
   "outputs": [],
   "source": [
    "string = \"jigSaw\"\n",
    "  \n",
    "# prints after swappong all cases\n",
    "  \n",
    "string = \"striver\" \n"
   ]
  },
  {
   "cell_type": "markdown",
   "id": "5b71f37d",
   "metadata": {},
   "source": [
    "### String formatting in Python"
   ]
  },
  {
   "cell_type": "markdown",
   "id": "517fc2c5",
   "metadata": {},
   "source": [
    "Formatting with format() string method.\n",
    "Formatting with string literals, called f-strings"
   ]
  },
  {
   "cell_type": "code",
   "execution_count": 11,
   "id": "6c2f8ddf",
   "metadata": {},
   "outputs": [
    {
     "name": "stdout",
     "output_type": "stream",
     "text": [
      "We all are equal.\n"
     ]
    }
   ],
   "source": [
    "# Formatting string using format() method\n",
    "print('We all are {}.'.format('equal'))"
   ]
  },
  {
   "cell_type": "code",
   "execution_count": 12,
   "id": "d8e8fab8",
   "metadata": {},
   "outputs": [
    {
     "name": "stdout",
     "output_type": "stream",
     "text": [
      "Read the directions\n"
     ]
    }
   ],
   "source": [
    "print('{2} {1} {0}'.format('directions',\n",
    "                           'the', 'Read'))"
   ]
  },
  {
   "cell_type": "code",
   "execution_count": 13,
   "id": "8acd1131",
   "metadata": {},
   "outputs": [
    {
     "name": "stdout",
     "output_type": "stream",
     "text": [
      "my name is Ele.\n"
     ]
    }
   ],
   "source": [
    "# Formatted String using F-strings\n",
    "name = 'Ele'\n",
    "print (f\"my name is {name}.\")\n",
    " "
   ]
  },
  {
   "cell_type": "code",
   "execution_count": 17,
   "id": "fe34b354",
   "metadata": {},
   "outputs": [
    {
     "ename": "TypeError",
     "evalue": "unsupported operand type(s) for *: 'int' and 'set'",
     "output_type": "error",
     "traceback": [
      "\u001b[1;31m---------------------------------------------------------------------------\u001b[0m",
      "\u001b[1;31mTypeError\u001b[0m                                 Traceback (most recent call last)",
      "Input \u001b[1;32mIn [17]\u001b[0m, in \u001b[0;36m<cell line: 4>\u001b[1;34m()\u001b[0m\n\u001b[0;32m      1\u001b[0m a \u001b[38;5;241m=\u001b[39m \u001b[38;5;241m5\u001b[39m\n\u001b[0;32m      2\u001b[0m b \u001b[38;5;241m=\u001b[39m \u001b[38;5;241m10\u001b[39m\n\u001b[1;32m----> 4\u001b[0m \u001b[38;5;28mprint\u001b[39m(\u001b[38;5;124mf\u001b[39m\u001b[38;5;124m\"\u001b[39m\u001b[38;5;124mhe said his age is \u001b[39m\u001b[38;5;132;01m{\u001b[39;00m\u001b[38;5;241m2\u001b[39m\u001b[38;5;241m*\u001b[39m{a\u001b[38;5;241m+\u001b[39mb}\u001b[38;5;132;01m}\u001b[39;00m\u001b[38;5;124m.\u001b[39m\u001b[38;5;124m\"\u001b[39m)\n",
      "\u001b[1;31mTypeError\u001b[0m: unsupported operand type(s) for *: 'int' and 'set'"
     ]
    }
   ],
   "source": [
    "a = 5\n",
    "b = 10\n",
    "\n",
    "print(f\"he said his age is {2*\")\n"
   ]
  },
  {
   "cell_type": "markdown",
   "id": "54ef0828",
   "metadata": {},
   "source": [
    "### Splitting and Joining"
   ]
  },
  {
   "cell_type": "markdown",
   "id": "f0cc2837",
   "metadata": {},
   "source": [
    "we can use the function split() to split a string and join() to join a string. the split() method in Python split a string into a list of strings after breaking the given string by the specified separator. Python String join() method is a string method and returns a string in which the elements of the sequence have been joined by the str separator. "
   ]
  },
  {
   "cell_type": "code",
   "execution_count": 14,
   "id": "bbaf7091",
   "metadata": {},
   "outputs": [
    {
     "name": "stdout",
     "output_type": "stream",
     "text": [
      "['Welcome', 'to', 'our', 'Country']\n",
      "Welcome-to-our-Country\n"
     ]
    }
   ],
   "source": [
    "# input string\n",
    "s = 'Welcome to our Country'\n",
    "# print the string after split method\n",
    "print(s.split(\" \"))\n",
    "# print the string after join method\n",
    "print(\"-\".join(s.split()))"
   ]
  },
  {
   "cell_type": "markdown",
   "id": "ac386fa1",
   "metadata": {},
   "source": [
    "### File handling"
   ]
  },
  {
   "cell_type": "code",
   "execution_count": 26,
   "id": "3fda30df",
   "metadata": {},
   "outputs": [
    {
     "ename": "PermissionError",
     "evalue": "[Errno 13] Permission denied: 'Desktop'",
     "output_type": "error",
     "traceback": [
      "\u001b[1;31m---------------------------------------------------------------------------\u001b[0m",
      "\u001b[1;31mPermissionError\u001b[0m                           Traceback (most recent call last)",
      "Input \u001b[1;32mIn [26]\u001b[0m, in \u001b[0;36m<cell line: 3>\u001b[1;34m()\u001b[0m\n\u001b[0;32m      1\u001b[0m \u001b[38;5;66;03m## Opening files in Python\u001b[39;00m\n\u001b[0;32m      2\u001b[0m \u001b[38;5;66;03m# open() \u001b[39;00m\n\u001b[1;32m----> 3\u001b[0m f\u001b[38;5;241m=\u001b[39m\u001b[38;5;28;43mopen\u001b[39;49m\u001b[43m(\u001b[49m\u001b[38;5;124;43m\"\u001b[39;49m\u001b[38;5;124;43mDesktop\u001b[39;49m\u001b[38;5;124;43m\"\u001b[39;49m\u001b[43m)\u001b[49m\n",
      "\u001b[1;31mPermissionError\u001b[0m: [Errno 13] Permission denied: 'Desktop'"
     ]
    }
   ],
   "source": [
    "## Opening files in Python\n",
    "# open() \n",
    "f=open(\"Desktop\")                     # open file in current directory , read mode\n",
    "#f=open(\"D://Files//sample1.txt\") #specify full path"
   ]
  },
  {
   "cell_type": "markdown",
   "id": "b3c2eb2d",
   "metadata": {},
   "source": [
    "Mode\n",
    "\n",
    "r opens a file for reading\n",
    "\n",
    "w opens a file for writing\n",
    "\n",
    "a opens a file for appending at the end of the file\n",
    "\n",
    "t opens in text mode\n",
    "\n",
    "b opens in binary mode"
   ]
  },
  {
   "cell_type": "code",
   "execution_count": 20,
   "id": "3721f2c0",
   "metadata": {},
   "outputs": [
    {
     "ename": "FileNotFoundError",
     "evalue": "[Errno 2] No such file or directory: 'D://Files//sample1.txt'",
     "output_type": "error",
     "traceback": [
      "\u001b[1;31m---------------------------------------------------------------------------\u001b[0m",
      "\u001b[1;31mFileNotFoundError\u001b[0m                         Traceback (most recent call last)",
      "Input \u001b[1;32mIn [20]\u001b[0m, in \u001b[0;36m<cell line: 1>\u001b[1;34m()\u001b[0m\n\u001b[1;32m----> 1\u001b[0m f\u001b[38;5;241m=\u001b[39m\u001b[38;5;28;43mopen\u001b[39;49m\u001b[43m(\u001b[49m\u001b[38;5;124;43m\"\u001b[39;49m\u001b[38;5;124;43mD://Files//sample1.txt\u001b[39;49m\u001b[38;5;124;43m\"\u001b[39;49m\u001b[43m,\u001b[49m\u001b[38;5;124;43m'\u001b[39;49m\u001b[38;5;124;43mr\u001b[39;49m\u001b[38;5;124;43m'\u001b[39;49m\u001b[43m)\u001b[49m\n\u001b[0;32m      2\u001b[0m \u001b[38;5;66;03m#perform file operations\u001b[39;00m\n\u001b[0;32m      3\u001b[0m f\u001b[38;5;241m.\u001b[39mclose\n",
      "\u001b[1;31mFileNotFoundError\u001b[0m: [Errno 2] No such file or directory: 'D://Files//sample1.txt'"
     ]
    }
   ],
   "source": [
    "f=open(\"D://Files//sample1.txt\",'r')\n",
    "#perform file operations\n",
    "f.close"
   ]
  },
  {
   "cell_type": "code",
   "execution_count": null,
   "id": "a5fe1511",
   "metadata": {},
   "outputs": [],
   "source": [
    "f=open(\"d://Files//sample1.txt\",'r')\n",
    "f.read\n",
    "#f.close"
   ]
  },
  {
   "cell_type": "code",
   "execution_count": 21,
   "id": "d5dc6005",
   "metadata": {},
   "outputs": [
    {
     "ename": "FileNotFoundError",
     "evalue": "[Errno 2] No such file or directory: 'd://Files//sample1.txt'",
     "output_type": "error",
     "traceback": [
      "\u001b[1;31m---------------------------------------------------------------------------\u001b[0m",
      "\u001b[1;31mFileNotFoundError\u001b[0m                         Traceback (most recent call last)",
      "Input \u001b[1;32mIn [21]\u001b[0m, in \u001b[0;36m<cell line: 1>\u001b[1;34m()\u001b[0m\n\u001b[1;32m----> 1\u001b[0m \u001b[38;5;28;01mwith\u001b[39;00m \u001b[38;5;28;43mopen\u001b[39;49m\u001b[43m(\u001b[49m\u001b[38;5;124;43m\"\u001b[39;49m\u001b[38;5;124;43md://Files//sample1.txt\u001b[39;49m\u001b[38;5;124;43m\"\u001b[39;49m\u001b[43m,\u001b[49m\u001b[38;5;124;43m'\u001b[39;49m\u001b[38;5;124;43mw\u001b[39;49m\u001b[38;5;124;43m'\u001b[39;49m\u001b[43m)\u001b[49m \u001b[38;5;28;01mas\u001b[39;00m g:\n\u001b[0;32m      2\u001b[0m     g\u001b[38;5;241m.\u001b[39mwrite(\u001b[38;5;124m\"\u001b[39m\u001b[38;5;124mmy country.welcome to all \u001b[39m\u001b[38;5;130;01m\\n\u001b[39;00m\u001b[38;5;124m\"\u001b[39m\n\u001b[0;32m      3\u001b[0m            \u001b[38;5;124m\"\u001b[39m\u001b[38;5;124mthe new environment\u001b[39m\u001b[38;5;124m\"\u001b[39m)\n",
      "\u001b[1;31mFileNotFoundError\u001b[0m: [Errno 2] No such file or directory: 'd://Files//sample1.txt'"
     ]
    }
   ],
   "source": [
    "with open(\"d://Files//sample1.txt\",'w') as g:\n",
    "    g.write(\"my country.welcome to all \\n\"\n",
    "           \"the new environment\")"
   ]
  },
  {
   "cell_type": "code",
   "execution_count": 22,
   "id": "cf5f8c1c",
   "metadata": {},
   "outputs": [
    {
     "ename": "FileNotFoundError",
     "evalue": "[Errno 2] No such file or directory: 'd://Files//sample1.txt'",
     "output_type": "error",
     "traceback": [
      "\u001b[1;31m---------------------------------------------------------------------------\u001b[0m",
      "\u001b[1;31mFileNotFoundError\u001b[0m                         Traceback (most recent call last)",
      "Input \u001b[1;32mIn [22]\u001b[0m, in \u001b[0;36m<cell line: 1>\u001b[1;34m()\u001b[0m\n\u001b[1;32m----> 1\u001b[0m \u001b[38;5;28;01mwith\u001b[39;00m \u001b[38;5;28;43mopen\u001b[39;49m\u001b[43m(\u001b[49m\u001b[38;5;124;43m\"\u001b[39;49m\u001b[38;5;124;43md://Files//sample1.txt\u001b[39;49m\u001b[38;5;124;43m\"\u001b[39;49m\u001b[43m,\u001b[49m\u001b[38;5;124;43m'\u001b[39;49m\u001b[38;5;124;43mr\u001b[39;49m\u001b[38;5;124;43m'\u001b[39;49m\u001b[43m)\u001b[49m \u001b[38;5;28;01mas\u001b[39;00m g:\n\u001b[0;32m      2\u001b[0m     line\u001b[38;5;241m=\u001b[39mg\u001b[38;5;241m.\u001b[39mreadline()\n\u001b[0;32m      3\u001b[0m     line1\u001b[38;5;241m=\u001b[39mg\u001b[38;5;241m.\u001b[39mreadline()\n",
      "\u001b[1;31mFileNotFoundError\u001b[0m: [Errno 2] No such file or directory: 'd://Files//sample1.txt'"
     ]
    }
   ],
   "source": [
    "with open(\"d://Files//sample1.txt\",'r') as g:\n",
    "    line=g.readline()\n",
    "    line1=g.readline()\n",
    "    print(line)\n",
    "    print(line1)"
   ]
  },
  {
   "cell_type": "code",
   "execution_count": null,
   "id": "ab234551",
   "metadata": {},
   "outputs": [],
   "source": [
    "with open(d://Files//sample1.txt\",'r') as g:\n",
    "          line=g.readlines()\n",
    "          print(line)"
   ]
  },
  {
   "cell_type": "code",
   "execution_count": null,
   "id": "f7cb8236",
   "metadata": {},
   "outputs": [],
   "source": []
  },
  {
   "cell_type": "code",
   "execution_count": null,
   "id": "8dc69fe2",
   "metadata": {},
   "outputs": [],
   "source": [
    "h=open(\"sample.text\",'w')\n",
    "h.write(\"welcome all\")\n",
    "h.write(\"to new program\")\n",
    "h.close"
   ]
  },
  {
   "cell_type": "markdown",
   "id": "a3fb8c35",
   "metadata": {},
   "source": [
    "read() – read all text from a file into a string. This method is useful if you have a small file and            you want to manipulate the whole text of that file.\n",
    "readline() – read the text file line by line and return all the lines as strings.\n",
    "readlines() – read all the lines of the text file and return them as a list of strings."
   ]
  },
  {
   "cell_type": "code",
   "execution_count": null,
   "id": "f056abb0",
   "metadata": {},
   "outputs": [],
   "source": []
  },
  {
   "cell_type": "code",
   "execution_count": null,
   "id": "4c4935ad",
   "metadata": {},
   "outputs": [],
   "source": []
  },
  {
   "cell_type": "markdown",
   "id": "8d6017b0",
   "metadata": {},
   "source": [
    "#### Text vs Binary files"
   ]
  },
  {
   "cell_type": "markdown",
   "id": "22f1a599",
   "metadata": {},
   "source": [
    "\"Binary\" files are any files where the format isn't made up of readable characters. Binary files can range from image files like JPEGs or GIFs, audio files like MP3s or binary document formats like Word or PDF. In Python, files are opened in text mode by default. To open files in binary mode, when specifying a mode, add 'b' to it."
   ]
  },
  {
   "cell_type": "code",
   "execution_count": null,
   "id": "939a095b",
   "metadata": {},
   "outputs": [],
   "source": [
    "f=open('d: //files//samplefile.mp3','rb')\n",
    "file_content = f.read()\n",
    "print(file_content)\n",
    "#f.close()"
   ]
  },
  {
   "cell_type": "code",
   "execution_count": null,
   "id": "775ecc62",
   "metadata": {},
   "outputs": [],
   "source": [
    "f.close()"
   ]
  },
  {
   "cell_type": "code",
   "execution_count": null,
   "id": "74cda939",
   "metadata": {},
   "outputs": [],
   "source": [
    "f=open('D://files//samplefile.mp3','w+b')\n",
    "file_content = f.read()\n",
    "f.write(b'hello')\n",
    "f.close()"
   ]
  },
  {
   "cell_type": "code",
   "execution_count": null,
   "id": "e4011a8f",
   "metadata": {},
   "outputs": [],
   "source": [
    "f=open('D://files//samplefile.mp3','rb')\n",
    "file_content=f.read()\n",
    "file_content\n",
    "#f.close()"
   ]
  },
  {
   "cell_type": "code",
   "execution_count": null,
   "id": "9bc676a6",
   "metadata": {},
   "outputs": [],
   "source": [
    "f.close()\n"
   ]
  },
  {
   "cell_type": "code",
   "execution_count": null,
   "id": "ea79771a",
   "metadata": {},
   "outputs": [],
   "source": [
    "with open('D://files//samplefile.png', \"rb\") as f:\n",
    "    byte=f.readline() #the file is read one byte at a time\n",
    "    print(byte)"
   ]
  },
  {
   "cell_type": "code",
   "execution_count": 27,
   "id": "bde328dd",
   "metadata": {},
   "outputs": [
    {
     "ename": "IndentationError",
     "evalue": "expected an indented block (411596978.py, line 1)",
     "output_type": "error",
     "traceback": [
      "\u001b[1;36m  Input \u001b[1;32mIn [27]\u001b[1;36m\u001b[0m\n\u001b[1;33m    with open('D://files//samplefile.png',\"wb\")as f:\u001b[0m\n\u001b[1;37m                                                    ^\u001b[0m\n\u001b[1;31mIndentationError\u001b[0m\u001b[1;31m:\u001b[0m expected an indented block\n"
     ]
    }
   ],
   "source": [
    "with open('D://files//samplefile.png',\"wb\")as f:\n",
    "    "
   ]
  },
  {
   "cell_type": "markdown",
   "id": "069d1541",
   "metadata": {},
   "source": [
    "------------------------------------------ end -------------------------------------------------"
   ]
  }
 ],
 "metadata": {
  "kernelspec": {
   "display_name": "Python 3 (ipykernel)",
   "language": "python",
   "name": "python3"
  },
  "language_info": {
   "codemirror_mode": {
    "name": "ipython",
    "version": 3
   },
   "file_extension": ".py",
   "mimetype": "text/x-python",
   "name": "python",
   "nbconvert_exporter": "python",
   "pygments_lexer": "ipython3",
   "version": "3.9.12"
  }
 },
 "nbformat": 4,
 "nbformat_minor": 5
}
