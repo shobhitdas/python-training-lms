{
 "cells": [
  {
   "cell_type": "code",
   "execution_count": 1,
   "id": "10e226d2",
   "metadata": {},
   "outputs": [],
   "source": [
    "## Questions:\n",
    "\n",
    "## 1. Create a 1D array of first five multiples of 6.\n",
    "## 2. Convert the 1D array created in Q1 to 3D, and display the number of dimensions of the latter.\n",
    "## 3. Create a 2D array where first 5 prime numbers occupy the 1st dimension & the first 5 composite numbers in the 2nd \n",
    "##    dimension.\n",
    "## 4. From the array created in Q3, retrieve the last element from 2nd dimension.\n",
    "## 5. Retrieve the 2nd, 3rd and 4th elements from both dimensions of the 2D array created in Q3.\n",
    "## 6. Display the data type of the array created in Q1, and change it to float.\n",
    "## 7. Create a 1D array of twelve zeros and reshape it to a 2D array of shape (3,4).\n",
    "## 8. Flatten the 2D array that you created in the previous question back to 1D.\n",
    "## 9. Consider an array [24,45,67,90,123,367]. Find the indexes where the values are even.\n",
    "## 10. Create two arrays, one with first 5 odd numbers and the other with first 5 even numbers. \n",
    "##     Then concatenate both the arrays along columns.\n",
    "## 11. Subtract the even number array from the odd number array created in Q10.\n",
    "## 12. Create two matrices of the squares and cubes of first 4 natural numbers, and perform matrix multiplication. \n",
    "##     Also, obtain the transpose of the matrix resulting from the multiplication."
   ]
  },
  {
   "cell_type": "code",
   "execution_count": 3,
   "id": "3e393c28",
   "metadata": {},
   "outputs": [
    {
     "name": "stdout",
     "output_type": "stream",
     "text": [
      "[6, 12, 18, 24, 30]\n"
     ]
    }
   ],
   "source": [
    "##1.Create a ndarray of first five multiples of 6.\n",
    "import numpy as np\n",
    "arr=([6,12,18,24,30])\n",
    "print(arr)"
   ]
  },
  {
   "cell_type": "code",
   "execution_count": 4,
   "id": "c5d09146",
   "metadata": {},
   "outputs": [
    {
     "name": "stdout",
     "output_type": "stream",
     "text": [
      "[[[ 6 12 18 24 30]]]\n",
      "number of dimensions: 3\n"
     ]
    }
   ],
   "source": [
    "##2.Convert the 1D array created in Q1 to 3D, and display the number of dimensions of the latter.\n",
    "e= np.array(arr,ndmin=3)\n",
    "print(e)\n",
    "print(\"number of dimensions:\" , e.ndim)"
   ]
  },
  {
   "cell_type": "code",
   "execution_count": 5,
   "id": "adaa2872",
   "metadata": {},
   "outputs": [
    {
     "name": "stdout",
     "output_type": "stream",
     "text": [
      "[[ 2  3  5  7 11]\n",
      " [ 4  6  8  9 10]]\n"
     ]
    }
   ],
   "source": [
    "## 3. Create a 2D array where first 5 prime numbers occupy the 1st dimension & the first 5 composite numbers in the 2nd \n",
    "##    dimension.\n",
    "arr2=np.array([[2,3,5,7,11],[4,6,8,9,10]])\n",
    "print(arr2)"
   ]
  },
  {
   "cell_type": "code",
   "execution_count": 6,
   "id": "a4f888aa",
   "metadata": {},
   "outputs": [
    {
     "name": "stdout",
     "output_type": "stream",
     "text": [
      "10\n"
     ]
    }
   ],
   "source": [
    "## 4. From the array created in Q3, retrieve the last element from 2nd dimension.\n",
    "print(arr2[1,-1])"
   ]
  },
  {
   "cell_type": "code",
   "execution_count": 7,
   "id": "cb293db6",
   "metadata": {},
   "outputs": [
    {
     "name": "stdout",
     "output_type": "stream",
     "text": [
      "[[3 5 7]\n",
      " [6 8 9]]\n"
     ]
    }
   ],
   "source": [
    "## 5. Retrieve the 2nd, 3rd and 4th elements from both dimensions of the 2D array created in Q3.\n",
    "print(arr2[0:2, 1:4])"
   ]
  },
  {
   "cell_type": "code",
   "execution_count": 8,
   "id": "d82031da",
   "metadata": {},
   "outputs": [
    {
     "name": "stdout",
     "output_type": "stream",
     "text": [
      "int32\n",
      "float64\n"
     ]
    }
   ],
   "source": [
    "## 6. Display the data type of the array created in Q1, and change it to float.\n",
    "arr=np.array([6,12,18,24,30])\n",
    "print(arr.dtype)\n",
    "\n",
    "new_arr=arr.astype(float)\n",
    "print(new_arr.dtype)"
   ]
  },
  {
   "cell_type": "code",
   "execution_count": 9,
   "id": "e27f0440",
   "metadata": {},
   "outputs": [
    {
     "name": "stdout",
     "output_type": "stream",
     "text": [
      "1d array dim: 1\n",
      "2d array:  [[0 0 0 0]\n",
      " [0 0 0 0]\n",
      " [0 0 0 0]]\n",
      "2d array dim : 2\n"
     ]
    }
   ],
   "source": [
    "## 7. Create a 1D array of twelve zeros and reshape it to a 2D array of shape (3,4).\n",
    "arr3=np.array([0,0,0,0,0,0,0,0,0,0,0,0])\n",
    "print(\"1d array dim:\",arr3.ndim)\n",
    "\n",
    "neew_arr=arr3.reshape(3,4)\n",
    "print(\"2d array: \" , neew_arr)\n",
    "print(\"2d array dim :\",neew_arr.ndim)"
   ]
  },
  {
   "cell_type": "code",
   "execution_count": 10,
   "id": "7f9b89b0",
   "metadata": {},
   "outputs": [
    {
     "name": "stdout",
     "output_type": "stream",
     "text": [
      "[0 0 0 0 0 0 0 0 0 0 0 0]\n"
     ]
    }
   ],
   "source": [
    "## 8. Flatten the 2D array that you created in the previous question back to 1D.\n",
    "new_arr=neew_arr.reshape(-1)\n",
    "print(new_arr)"
   ]
  },
  {
   "cell_type": "code",
   "execution_count": 13,
   "id": "72322559",
   "metadata": {},
   "outputs": [
    {
     "name": "stdout",
     "output_type": "stream",
     "text": [
      "(array([0, 3], dtype=int64),)\n"
     ]
    }
   ],
   "source": [
    "## 9. Consider an array [24,45,67,90,123,367]. Find the indexes where the values are even.\n",
    "arr_even=np.array([24,45,67,90,123,367])\n",
    "a=np.where(arr_even%2==0)\n",
    "print(a)"
   ]
  },
  {
   "cell_type": "code",
   "execution_count": 14,
   "id": "71dcc394",
   "metadata": {},
   "outputs": [
    {
     "name": "stdout",
     "output_type": "stream",
     "text": [
      "[[ 1  3  5  7  9]\n",
      " [ 2  4  6  8 10]]\n"
     ]
    }
   ],
   "source": [
    "## 10. Create two arrays, one with first 5 odd numbers and the other with first 5 even numbers. \n",
    "##     Then concatenate both the arrays along columns\n",
    "arr_odd=np.array([1,3,5,7,9])\n",
    "arr_even1=np.array([2,4,6,8,10])\n",
    "a=np.vstack((arr_odd,arr_even1))\n",
    "\n",
    "print(a)"
   ]
  },
  {
   "cell_type": "code",
   "execution_count": 16,
   "id": "d39feeec",
   "metadata": {},
   "outputs": [
    {
     "name": "stdout",
     "output_type": "stream",
     "text": [
      "[-1 -1 -1 -1 -1]\n"
     ]
    }
   ],
   "source": [
    "## 11. Subtract the even number array from the odd number array created in Q10\n",
    "arr_sub=np.subtract(arr_odd,arr_even1)\n",
    "print(arr_sub)"
   ]
  },
  {
   "cell_type": "code",
   "execution_count": 20,
   "id": "02119c2d",
   "metadata": {},
   "outputs": [
    {
     "name": "stdout",
     "output_type": "stream",
     "text": [
      "multiplication:\n",
      " [[ 109  264]\n",
      " [ 441 1096]]\n",
      "transpose:\n",
      " [[ 109  441]\n",
      " [ 264 1096]]\n"
     ]
    }
   ],
   "source": [
    "## 12. Create two matrices of the squares and cubes of first 4 natural numbers, and perform matrix multiplication. \n",
    "##     Also, obtain the transpose of the matrix resulting from the multiplication\n",
    "arr1=np.array([[1,4],[9,16]])\n",
    "arr2=np.array([[1,8],[27,64]])\n",
    "arr3=np.dot(arr1,arr2)\n",
    "print(\"multiplication:\\n\",arr3)\n",
    "print(\"transpose:\\n\", arr3.T)"
   ]
  },
  {
   "cell_type": "code",
   "execution_count": null,
   "id": "4691d765",
   "metadata": {},
   "outputs": [],
   "source": [
    "n=10\n",
    "n1=[]\n",
    "n2=[]\n",
    "for i in range(2,n+1):\n",
    "    for j in range(2,int(i**0.5)+1):\n",
    "        \n",
    "        if i%j==0:\n",
    "            n1.append(i)\n",
    "            break\n",
    "    else:\n",
    "            n2.append(i)\n",
    "          \n",
    "print(n1)\n",
    "print(n2)\n",
    "import numpy as np\n",
    "n1=np.array(n1)\n",
    "n2=np.array(n2)\n",
    "y=np.array([n1,n2])\n",
    "print(y)"
   ]
  },
  {
   "cell_type": "code",
   "execution_count": null,
   "id": "4953fef9",
   "metadata": {},
   "outputs": [],
   "source": [
    "# Part 2 Questions:\n",
    "\n",
    "# 1.  Write a NumPy program to create a null vector of size 10 and update sixth value to 11.\n",
    "# [ 0. 0. 0. 0. 0. 0. 0. 0. 0. 0.]\n",
    "# Update sixth value to 11\n",
    "# [ 0. 0. 0. 0. 0. 0. 11. 0. 0. 0.]\n",
    "\n",
    "# 2.  Write a NumPy program to convert a list and tuple into arrays. \n",
    "# List to array:\n",
    "# [1 2 3 4 5 6 7 8]\n",
    "# Tuple to array:\n",
    "# [[8 4 6]\n",
    "# [1 2 3]]\n",
    "\n",
    "# 3. Write a NumPy program to find the real and imaginary parts of an array of complex numbers. \n",
    "# Expected Output:\n",
    "# Original array [ 1.00000000+0.j 0.70710678+0.70710678j]\n",
    "# Real part of the array:\n",
    "# [ 1. 0.70710678]\n",
    "# Imaginary part of the array:\n",
    "# [ 0. 0.70710678]\n",
    "\n",
    "# 4. Write a NumPy program to find the set difference of two arrays. The set difference will return the sorted, unique values in array1 that are not in array2. \n",
    "# Expected Output:\n",
    "# Array1: [ 0 10 20 40 60 80]\n",
    "# Array2: [10, 30, 40, 50, 70, 90]\n",
    "# Set difference between two arrays:\n",
    "# [ 0 20 60 80]\n",
    "\n",
    "# 5. a = np.array([x for x in range(27)]) - convert this 1-D to a 3-D array\n",
    "\n",
    "# 6. Convert the following array into a boolean and display the ouput\n",
    "#    a = np.array([[1, 0, 0],\n",
    "#               [1, 1, 1],\n",
    "#               [0, 0, 0]])\n",
    "\n",
    "# 7. Generate a sequence of numbers in the form of a numpy array from 0 to 100 with gaps of 2 numbers, for example: 0, 2, 4 ....\n",
    "\n",
    "# 8. From 2 numpy arrays, extract the indexes in which the elements in the 2 arrays match:\n",
    "#    a = np.array([1,2,3,4,5])\n",
    "#    b = np.array([1,3,2,4,5]) \n",
    "    \n",
    "# 9. Create a 5X2 integer array from a range between 100 to 200 such that the difference between each element is 10\n",
    "\n",
    "# 10. Following is the provided numPy array. Return array of items by taking the third column from all rows:\n",
    "#     sampleArray = numpy.array([[11 ,22, 33], [44, 55, 66], [77, 88, 99]])\n",
    "    \n",
    "# 11.  Return array of odd rows and even columns from below numpy array\n",
    "# sampleArray = numpy.array([[3 ,6, 9, 12], [15 ,18, 21, 24], \n",
    "# [27 ,30, 33, 36], [39 ,42, 45, 48], [51 ,54, 57, 60]])\n",
    "\n",
    "# 12. Split the array into four equal-sized sub-arrays:\n",
    "# a = [[10 11 12]\n",
    "#  [13 14 15]\n",
    "#  [16 17 18]\n",
    "#  [19 20 21]\n",
    "#  [22 23 24]\n",
    "#  [25 26 27]\n",
    "#  [28 29 30]\n",
    "#  [31 32 33]]\n",
    "\n",
    "# 13. Replace all odd numbers in the given array with -1:\n",
    "#     arr = np.array([0, 1, 2, 3, 4, 5, 6, 7, 8, 9])\n",
    "\n",
    "# 14. Find the positions of:\n",
    "#     elements in x where its value is more than its corresponding element in y, and\n",
    "#     elements in x where its value is equals to its corresponding element in y.\n",
    "#     x = np.array([21, 64, 86, 22, 74, 55, 81, 79, 90, 89]) \n",
    "#     y = np.array([21, 7, 3, 45, 10, 29, 55, 4, 37, 18])\n",
    "\n",
    "# 15. Convert a 1-D array into a 2-D array with 3 rows\n",
    "#     arr = np.array([0, 1, 2, 3, 4, 5, 6, 7, 8])\n",
    "    \n",
    "# 16. Extract the first four columns of this 2-D array\n",
    "#     arr = np.arange(100).reshape(5,-1)\n"
   ]
  },
  {
   "cell_type": "code",
   "execution_count": 42,
   "id": "27a30a9a",
   "metadata": {},
   "outputs": [
    {
     "name": "stdout",
     "output_type": "stream",
     "text": [
      "[0. 0. 0. 0. 0. 0. 0. 0. 0. 0.]\n",
      "Update sixth value to 11\n",
      "[ 0.  0.  0.  0.  0.  0. 11.  0.  0.  0.]\n"
     ]
    }
   ],
   "source": [
    "#1.\n",
    "x = np.zeros(10)\n",
    "print(x)\n",
    "print(\"Update sixth value to 11\")\n",
    "x[6] = 11\n",
    "print(x)"
   ]
  },
  {
   "cell_type": "code",
   "execution_count": 41,
   "id": "a83b5b8e",
   "metadata": {},
   "outputs": [
    {
     "data": {
      "text/plain": [
       "numpy.ndarray"
      ]
     },
     "execution_count": 41,
     "metadata": {},
     "output_type": "execute_result"
    }
   ],
   "source": [
    "#2.\n",
    "y=[1 ,2, 3, 4, 5, 6, 7, 8]\n",
    "array_1=np.array(y)\n",
    "type(array_1)"
   ]
  },
  {
   "cell_type": "code",
   "execution_count": 44,
   "id": "125d81bf",
   "metadata": {},
   "outputs": [
    {
     "name": "stdout",
     "output_type": "stream",
     "text": [
      "real part of the array [1.         0.70710678]\n"
     ]
    },
    {
     "data": {
      "text/plain": [
       "array([0.        , 0.70710678])"
      ]
     },
     "execution_count": 44,
     "metadata": {},
     "output_type": "execute_result"
    }
   ],
   "source": [
    "#3.\n",
    "x=[ 1.00000000+0.j, 0.70710678+0.70710678j]\n",
    "print('real part of the array',np.real(x))\n",
    "np.imag(x)"
   ]
  },
  {
   "cell_type": "code",
   "execution_count": null,
   "id": "d19cb556",
   "metadata": {},
   "outputs": [],
   "source": [
    "#4. \n",
    "Array1= [ 0, 10, 20, 40, 60, 80]\n",
    "Array2=[10, 30, 40, 50, 70, 90]\n",
    "np.setdiff1d(Array1, Array2)"
   ]
  },
  {
   "cell_type": "code",
   "execution_count": 33,
   "id": "99c61d04",
   "metadata": {},
   "outputs": [
    {
     "name": "stdout",
     "output_type": "stream",
     "text": [
      "[[[ 0  1  2]\n",
      "  [ 3  4  5]\n",
      "  [ 6  7  8]]\n",
      "\n",
      " [[ 9 10 11]\n",
      "  [12 13 14]\n",
      "  [15 16 17]]\n",
      "\n",
      " [[18 19 20]\n",
      "  [21 22 23]\n",
      "  [24 25 26]]]\n"
     ]
    }
   ],
   "source": [
    "#5.\n",
    "a = np.array([x for x in range(27)])\n",
    "\n",
    "o = a.reshape((3,3,3))\n",
    "\n",
    "print(o)"
   ]
  },
  {
   "cell_type": "code",
   "execution_count": null,
   "id": "61508ae2",
   "metadata": {},
   "outputs": [],
   "source": [
    "#6.\n"
   ]
  },
  {
   "cell_type": "code",
   "execution_count": 32,
   "id": "87362d2a",
   "metadata": {},
   "outputs": [
    {
     "data": {
      "text/plain": [
       "array([ 0,  2,  4,  6,  8, 10, 12, 14, 16, 18, 20, 22, 24, 26, 28, 30, 32,\n",
       "       34, 36, 38, 40, 42, 44, 46, 48, 50, 52, 54, 56, 58, 60, 62, 64, 66,\n",
       "       68, 70, 72, 74, 76, 78, 80, 82, 84, 86, 88, 90, 92, 94, 96, 98])"
      ]
     },
     "execution_count": 32,
     "metadata": {},
     "output_type": "execute_result"
    }
   ],
   "source": [
    "#7.\n",
    "array1=np.arange(0,100,2)\n",
    "array1"
   ]
  },
  {
   "cell_type": "code",
   "execution_count": 23,
   "id": "11f76eef",
   "metadata": {},
   "outputs": [
    {
     "data": {
      "text/plain": [
       "(array([0, 3, 4], dtype=int64),)"
      ]
     },
     "execution_count": 23,
     "metadata": {},
     "output_type": "execute_result"
    }
   ],
   "source": [
    "#8.\n",
    "a = np.array([1,2,3,4,5])\n",
    "b = np.array([1,3,2,4,5]) \n",
    "np.where(a==b)"
   ]
  },
  {
   "cell_type": "code",
   "execution_count": null,
   "id": "64771bfe",
   "metadata": {},
   "outputs": [],
   "source": [
    "#9.\n",
    "print(\"Creating 5X2 array using numpy.arange\")\n",
    "sampleArray = numpy.arange(100, 200, 10)\n",
    "sampleArray = sampleArray.reshape(5,2)\n",
    "print (sampleArray)"
   ]
  },
  {
   "cell_type": "code",
   "execution_count": null,
   "id": "d0716b23",
   "metadata": {},
   "outputs": [],
   "source": [
    "#10."
   ]
  },
  {
   "cell_type": "code",
   "execution_count": null,
   "id": "be5a1771",
   "metadata": {},
   "outputs": [],
   "source": [
    "#11. \n",
    "import numpy\n",
    "\n",
    "sampleArray = numpy.array([[3 ,6, 9, 12], [15 ,18, 21, 24], \n",
    "[27 ,30, 33, 36], [39 ,42, 45, 48], [51 ,54, 57, 60]]) \n",
    "print(\"Printing Input Array\")\n",
    "print(sampleArray)\n",
    "\n",
    "print(\"\\n Printing array of odd rows and even columns\")\n",
    "newArray = sampleArray[::2, 1::2]\n",
    "print(newArray)"
   ]
  },
  {
   "cell_type": "code",
   "execution_count": 22,
   "id": "f599d3c2",
   "metadata": {},
   "outputs": [
    {
     "data": {
      "text/plain": [
       "[array([[10, 11, 12],\n",
       "        [13, 14, 15]]), array([[16, 17, 18],\n",
       "        [19, 20, 21]]), array([[22, 23, 24],\n",
       "        [25, 26, 27]]), array([[28, 29, 30],\n",
       "        [31, 32, 33]])]"
      ]
     },
     "execution_count": 22,
     "metadata": {},
     "output_type": "execute_result"
    }
   ],
   "source": [
    "#12.\n",
    "a = np.array([[10, 11, 12],\n",
    " [13, 14, 15],\n",
    "[16, 17 ,18],\n",
    "[19, 20, 21],\n",
    "[22, 23, 24],\n",
    "[25, 26, 27],\n",
    "[28, 29, 30],\n",
    "[31, 32, 33]])\n",
    "np.split(a,4)"
   ]
  },
  {
   "cell_type": "code",
   "execution_count": 18,
   "id": "5a10910e",
   "metadata": {},
   "outputs": [
    {
     "data": {
      "text/plain": [
       "array([ 0, -1,  2, -1,  4, -1,  6, -1,  8, -1])"
      ]
     },
     "execution_count": 18,
     "metadata": {},
     "output_type": "execute_result"
    }
   ],
   "source": [
    "#13.\n",
    "arr = np.array([0, 1, 2, 3, 4, 5, 6, 7, 8, 9])\n",
    "arr[arr%2 == 1] = -1 \n",
    "arr"
   ]
  },
  {
   "cell_type": "code",
   "execution_count": 15,
   "id": "1c17170f",
   "metadata": {},
   "outputs": [
    {
     "name": "stdout",
     "output_type": "stream",
     "text": [
      "(array([1, 2, 4, 5, 6, 7, 8, 9], dtype=int64),)\n",
      "(array([0], dtype=int64),)\n"
     ]
    }
   ],
   "source": [
    "#14.\n",
    "x = np.array([21, 64, 86, 22, 74, 55, 81, 79, 90, 89]) \n",
    "y = np.array([21, 7, 3, 45, 10, 29, 55, 4, 37, 18])\n",
    "print(np.where(x>y))\n",
    "print(np.where(x==y))"
   ]
  },
  {
   "cell_type": "code",
   "execution_count": 12,
   "id": "fab16f5c",
   "metadata": {},
   "outputs": [
    {
     "data": {
      "text/plain": [
       "array([[0, 1, 2],\n",
       "       [3, 4, 5],\n",
       "       [6, 7, 8]])"
      ]
     },
     "execution_count": 12,
     "metadata": {},
     "output_type": "execute_result"
    }
   ],
   "source": [
    "#15.\n",
    "arr = np.array([0, 1, 2, 3, 4, 5, 6, 7, 8])\n",
    "arr.reshape(3,3)"
   ]
  },
  {
   "cell_type": "code",
   "execution_count": 6,
   "id": "067187e5",
   "metadata": {},
   "outputs": [
    {
     "data": {
      "text/plain": [
       "array([[ 0,  1,  2,  3,  4,  5,  6,  7,  8,  9, 10, 11, 12, 13, 14, 15,\n",
       "        16, 17, 18, 19],\n",
       "       [20, 21, 22, 23, 24, 25, 26, 27, 28, 29, 30, 31, 32, 33, 34, 35,\n",
       "        36, 37, 38, 39],\n",
       "       [40, 41, 42, 43, 44, 45, 46, 47, 48, 49, 50, 51, 52, 53, 54, 55,\n",
       "        56, 57, 58, 59],\n",
       "       [60, 61, 62, 63, 64, 65, 66, 67, 68, 69, 70, 71, 72, 73, 74, 75,\n",
       "        76, 77, 78, 79],\n",
       "       [80, 81, 82, 83, 84, 85, 86, 87, 88, 89, 90, 91, 92, 93, 94, 95,\n",
       "        96, 97, 98, 99]])"
      ]
     },
     "execution_count": 6,
     "metadata": {},
     "output_type": "execute_result"
    }
   ],
   "source": [
    "#16.\n",
    "import numpy as np\n",
    "arr = np.arange(100).reshape(5,-1)\n",
    "arr"
   ]
  },
  {
   "cell_type": "code",
   "execution_count": 10,
   "id": "a3d0c05c",
   "metadata": {},
   "outputs": [
    {
     "data": {
      "text/plain": [
       "array([[ 0,  1,  2,  3],\n",
       "       [20, 21, 22, 23],\n",
       "       [40, 41, 42, 43],\n",
       "       [60, 61, 62, 63],\n",
       "       [80, 81, 82, 83]])"
      ]
     },
     "execution_count": 10,
     "metadata": {},
     "output_type": "execute_result"
    }
   ],
   "source": [
    "arr[:,[0,1,2,3]]"
   ]
  },
  {
   "cell_type": "code",
   "execution_count": null,
   "id": "fe3cbce8",
   "metadata": {},
   "outputs": [],
   "source": []
  }
 ],
 "metadata": {
  "kernelspec": {
   "display_name": "Python 3 (ipykernel)",
   "language": "python",
   "name": "python3"
  },
  "language_info": {
   "codemirror_mode": {
    "name": "ipython",
    "version": 3
   },
   "file_extension": ".py",
   "mimetype": "text/x-python",
   "name": "python",
   "nbconvert_exporter": "python",
   "pygments_lexer": "ipython3",
   "version": "3.9.12"
  }
 },
 "nbformat": 4,
 "nbformat_minor": 5
}
