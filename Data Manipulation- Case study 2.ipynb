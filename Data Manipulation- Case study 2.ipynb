{
 "cells": [
  {
   "cell_type": "markdown",
   "id": "98b4632c",
   "metadata": {},
   "source": [
    "This case study is to get familiarized with Data manipulation using Pandas. The dataset involves records of terrorist attacks that took place around the world since 1970. Description of columns are given wherever necessary along with hints to answer the questions.\n",
    "Answer the following questions using the dataset: terror_gtd.csv"
   ]
  },
  {
   "cell_type": "markdown",
   "id": "0c6c6404",
   "metadata": {},
   "source": [
    "Which country had highest attacks since 1970? How many attacks happened in India?"
   ]
  },
  {
   "cell_type": "code",
   "execution_count": 1,
   "id": "70ab5312",
   "metadata": {},
   "outputs": [],
   "source": [
    "import pandas as pd\n",
    "import numpy as np"
   ]
  },
  {
   "cell_type": "code",
   "execution_count": 60,
   "id": "de908446",
   "metadata": {},
   "outputs": [],
   "source": [
    "terror=pd.read_csv(\"D://Files//terror_gtd.csv\",encoding='latin')"
   ]
  },
  {
   "cell_type": "code",
   "execution_count": 7,
   "id": "bb335503",
   "metadata": {},
   "outputs": [
    {
     "data": {
      "text/html": [
       "<div>\n",
       "<style scoped>\n",
       "    .dataframe tbody tr th:only-of-type {\n",
       "        vertical-align: middle;\n",
       "    }\n",
       "\n",
       "    .dataframe tbody tr th {\n",
       "        vertical-align: top;\n",
       "    }\n",
       "\n",
       "    .dataframe thead th {\n",
       "        text-align: right;\n",
       "    }\n",
       "</style>\n",
       "<table border=\"1\" class=\"dataframe\">\n",
       "  <thead>\n",
       "    <tr style=\"text-align: right;\">\n",
       "      <th></th>\n",
       "      <th>eventid</th>\n",
       "      <th>iyear</th>\n",
       "      <th>imonth</th>\n",
       "      <th>iday</th>\n",
       "      <th>country_txt</th>\n",
       "      <th>region_txt</th>\n",
       "      <th>provstate</th>\n",
       "      <th>city</th>\n",
       "      <th>location</th>\n",
       "      <th>summary</th>\n",
       "      <th>success</th>\n",
       "      <th>suicide</th>\n",
       "      <th>nkill</th>\n",
       "      <th>nwound</th>\n",
       "    </tr>\n",
       "  </thead>\n",
       "  <tbody>\n",
       "    <tr>\n",
       "      <th>0</th>\n",
       "      <td>1.970000e+11</td>\n",
       "      <td>1970</td>\n",
       "      <td>0</td>\n",
       "      <td>0</td>\n",
       "      <td>Dominican Republic</td>\n",
       "      <td>Central America &amp; Caribbean</td>\n",
       "      <td>NaN</td>\n",
       "      <td>Santo Domingo</td>\n",
       "      <td>NaN</td>\n",
       "      <td>NaN</td>\n",
       "      <td>1</td>\n",
       "      <td>0</td>\n",
       "      <td>1.0</td>\n",
       "      <td>0.0</td>\n",
       "    </tr>\n",
       "    <tr>\n",
       "      <th>1</th>\n",
       "      <td>1.970000e+11</td>\n",
       "      <td>1970</td>\n",
       "      <td>0</td>\n",
       "      <td>0</td>\n",
       "      <td>Mexico</td>\n",
       "      <td>North America</td>\n",
       "      <td>NaN</td>\n",
       "      <td>Mexico city</td>\n",
       "      <td>NaN</td>\n",
       "      <td>NaN</td>\n",
       "      <td>1</td>\n",
       "      <td>0</td>\n",
       "      <td>0.0</td>\n",
       "      <td>0.0</td>\n",
       "    </tr>\n",
       "  </tbody>\n",
       "</table>\n",
       "</div>"
      ],
      "text/plain": [
       "        eventid  iyear  imonth  iday         country_txt  \\\n",
       "0  1.970000e+11   1970       0     0  Dominican Republic   \n",
       "1  1.970000e+11   1970       0     0              Mexico   \n",
       "\n",
       "                    region_txt provstate           city location summary  \\\n",
       "0  Central America & Caribbean       NaN  Santo Domingo      NaN     NaN   \n",
       "1                North America       NaN    Mexico city      NaN     NaN   \n",
       "\n",
       "   success  suicide  nkill  nwound  \n",
       "0        1        0    1.0     0.0  \n",
       "1        1        0    0.0     0.0  "
      ]
     },
     "execution_count": 7,
     "metadata": {},
     "output_type": "execute_result"
    }
   ],
   "source": [
    "terror.head(2)"
   ]
  },
  {
   "cell_type": "code",
   "execution_count": 15,
   "id": "6f12b0d5",
   "metadata": {},
   "outputs": [
    {
     "data": {
      "text/plain": [
       "array([1970, 1971, 1972, 1973, 1974, 1975, 1976, 1977, 1978, 1979, 1980,\n",
       "       1981, 1986, 1982, 1983, 1984, 1985, 1987, 1988, 1989, 1990, 1991,\n",
       "       1992, 1994, 1995, 1996, 1997, 1998, 1999, 2000, 2001, 2002, 2003,\n",
       "       2004, 2005, 2006, 2007, 2008, 2009, 2010, 2011, 2012, 2013, 2014,\n",
       "       2015], dtype=int64)"
      ]
     },
     "execution_count": 15,
     "metadata": {},
     "output_type": "execute_result"
    }
   ],
   "source": [
    "terror['iyear'].unique()"
   ]
  },
  {
   "cell_type": "code",
   "execution_count": 14,
   "id": "5e8d6fc1",
   "metadata": {},
   "outputs": [
    {
     "data": {
      "text/plain": [
       "Iraq    18770\n",
       "Name: country_txt, dtype: int64"
      ]
     },
     "execution_count": 14,
     "metadata": {},
     "output_type": "execute_result"
    }
   ],
   "source": [
    "#Which country had highest attacks since 1970?\n",
    "terror['country_txt'].value_counts().head(1)"
   ]
  },
  {
   "cell_type": "code",
   "execution_count": 6,
   "id": "3e2533ea",
   "metadata": {},
   "outputs": [
    {
     "data": {
      "text/plain": [
       "9940"
      ]
     },
     "execution_count": 6,
     "metadata": {},
     "output_type": "execute_result"
    }
   ],
   "source": [
    "#How many attacks happened in India\n",
    "#data['country_txt'].unique().tolist()\n",
    "#data[data['country_txt']==\"India\"]\n",
    "terror[terror['country_txt']==\"India\"].shape[0]\n"
   ]
  },
  {
   "cell_type": "code",
   "execution_count": 17,
   "id": "ea9efa20",
   "metadata": {},
   "outputs": [
    {
     "data": {
      "text/plain": [
       "9184"
      ]
     },
     "execution_count": 17,
     "metadata": {},
     "output_type": "execute_result"
    }
   ],
   "source": [
    "#How many attacks happened in India and upto 7 people were killed?\n",
    "#Hint: Use the country_txt and nkill column.\n",
    "terror[(terror['country_txt']=='India')&(terror['nkill']<=7)].shape[0]"
   ]
  },
  {
   "cell_type": "code",
   "execution_count": 29,
   "id": "3aad81b5",
   "metadata": {},
   "outputs": [
    {
     "data": {
      "text/html": [
       "<div>\n",
       "<style scoped>\n",
       "    .dataframe tbody tr th:only-of-type {\n",
       "        vertical-align: middle;\n",
       "    }\n",
       "\n",
       "    .dataframe tbody tr th {\n",
       "        vertical-align: top;\n",
       "    }\n",
       "\n",
       "    .dataframe thead th {\n",
       "        text-align: right;\n",
       "    }\n",
       "</style>\n",
       "<table border=\"1\" class=\"dataframe\">\n",
       "  <thead>\n",
       "    <tr style=\"text-align: right;\">\n",
       "      <th></th>\n",
       "      <th>city</th>\n",
       "      <th>summary</th>\n",
       "    </tr>\n",
       "  </thead>\n",
       "  <tbody>\n",
       "    <tr>\n",
       "      <th>1185</th>\n",
       "      <td>New Delhi</td>\n",
       "      <td>NaN</td>\n",
       "    </tr>\n",
       "    <tr>\n",
       "      <th>2688</th>\n",
       "      <td>Samastipur</td>\n",
       "      <td>1/2/1975: The Indian Railway Minister, Lalit N...</td>\n",
       "    </tr>\n",
       "    <tr>\n",
       "      <th>3780</th>\n",
       "      <td>New Delhi</td>\n",
       "      <td>NaN</td>\n",
       "    </tr>\n",
       "    <tr>\n",
       "      <th>5251</th>\n",
       "      <td>Bombay</td>\n",
       "      <td>NaN</td>\n",
       "    </tr>\n",
       "    <tr>\n",
       "      <th>7266</th>\n",
       "      <td>Imphal</td>\n",
       "      <td>NaN</td>\n",
       "    </tr>\n",
       "  </tbody>\n",
       "</table>\n",
       "</div>"
      ],
      "text/plain": [
       "            city                                            summary\n",
       "1185   New Delhi                                                NaN\n",
       "2688  Samastipur  1/2/1975: The Indian Railway Minister, Lalit N...\n",
       "3780   New Delhi                                                NaN\n",
       "5251      Bombay                                                NaN\n",
       "7266      Imphal                                                NaN"
      ]
     },
     "execution_count": 29,
     "metadata": {},
     "output_type": "execute_result"
    }
   ],
   "source": [
    "# Extract any 4 cities and summary for attacks above\n",
    "# Hint: Use country_txt, nkill,city and summary columns\n",
    "terror_1=terror.query(\"country_txt=='India' & nkill<=7\")[['city','summary']].head(5)   \n",
    "terror_1"
   ]
  },
  {
   "cell_type": "code",
   "execution_count": 30,
   "id": "9b91a9df",
   "metadata": {},
   "outputs": [
    {
     "data": {
      "text/plain": [
       "81000     Mumbai\n",
       "96598    Jhargam\n",
       "54339     Bombay\n",
       "Name: city, dtype: object"
      ]
     },
     "execution_count": 30,
     "metadata": {},
     "output_type": "execute_result"
    }
   ],
   "source": [
    "#In a single terror incident in India, find out top 3 cities by number killed\n",
    "#Hint: Use each row as a unique terror incident.\n",
    "#Use country_txt, nkill and city columns\n",
    "\n",
    "terror.query(\"country_txt=='India'\").sort_values('nkill',ascending=False)['city'].head(3)\n"
   ]
  },
  {
   "cell_type": "code",
   "execution_count": 31,
   "id": "19854179",
   "metadata": {},
   "outputs": [
    {
     "data": {
      "text/plain": [
       "81000                Mumbai\n",
       "96598               Jhargam\n",
       "54339                Bombay\n",
       "95860    Dantewada district\n",
       "56837              Banabari\n",
       "Name: city, dtype: object"
      ]
     },
     "execution_count": 31,
     "metadata": {},
     "output_type": "execute_result"
    }
   ],
   "source": [
    "#In a single terror incident in India, find out top 5 cities by number killed and wounded\n",
    "#Hint: Use each row as a unique terror incident. Use country_txt, nkill, nwound and city columns\n",
    "#nwound : Total Number of Injured\n",
    "terror.query(\"country_txt=='India'\").sort_values(['nkill','nwound'],ascending=[False,False])['city'].head(5)\n"
   ]
  },
  {
   "cell_type": "code",
   "execution_count": 34,
   "id": "380a19f4",
   "metadata": {},
   "outputs": [
    {
     "data": {
      "text/plain": [
       "Not Severe    149998\n",
       "Severe          6774\n",
       "Name: nkill, dtype: int64"
      ]
     },
     "execution_count": 34,
     "metadata": {},
     "output_type": "execute_result"
    }
   ],
   "source": [
    "###6. Label all the incidents where the number killed was more than 10 as severe. How many incidents were Severe?\n",
    "#Hint: Use Aggregations and manipulations using apply and map\n",
    "#You can use lambda functions as well.\n",
    "#Use the nkill column.\n",
    "#Suppose we want to label all the incidents where the number killed was more than 10 as severe. This would involve applying a function on each element of the series, map helps in doing that\n",
    "def get_label(x):\n",
    "    if x>10:\n",
    "        return 'Severe'\n",
    "    else:\n",
    "        return 'Not Severe'\n",
    "terror['nkill']=terror['nkill'].map(get_label)\n",
    "#You can use lambda functions as well (if else follows a special form when used with lambdas )\n",
    "#terror['nkill'].map(lambda x: \"Severe\" if x>10 else \"Not Severe\")\n",
    "terror['nkill'].value_counts()"
   ]
  },
  {
   "cell_type": "markdown",
   "id": "5ac0d184",
   "metadata": {},
   "source": [
    "7. How many attacks were successful that were suicide attacks? Also, how many suicide attacks were not successful?\n",
    "Hint: Use suicide and success columns\n",
    "1 = \"Yes\" The incident was a suicide attack.\n",
    "0 = \"No\" There is no indication that the incident was a suicide attack\n",
    "1 = \"Yes\" The incident was successful.\n",
    "0 = \"No\" The incident was not successf"
   ]
  },
  {
   "cell_type": "code",
   "execution_count": 64,
   "id": "3ce93523",
   "metadata": {},
   "outputs": [
    {
     "data": {
      "text/plain": [
       "4260"
      ]
     },
     "execution_count": 64,
     "metadata": {},
     "output_type": "execute_result"
    }
   ],
   "source": [
    "terror['success_suicide']=terror['suicide']+terror['success']\n",
    "terror=terror.assign(success_suicide_1=terror['suicide']+terror['success'])\n",
    "\n",
    "terror.query(\"success_suicide_1==2\").shape[0]"
   ]
  },
  {
   "cell_type": "markdown",
   "id": "f771f42f",
   "metadata": {},
   "source": [
    "8. Write a function to label an incident that was both successful and suicidal\n",
    "Hint: We can use apply to use a function column wise where you can use columns success and suicide in the data."
   ]
  },
  {
   "cell_type": "code",
   "execution_count": 65,
   "id": "01f72047",
   "metadata": {},
   "outputs": [
    {
     "data": {
      "text/plain": [
       "0         0\n",
       "1         0\n",
       "2         0\n",
       "3         0\n",
       "4         0\n",
       "         ..\n",
       "156767    0\n",
       "156768    0\n",
       "156769    0\n",
       "156770    0\n",
       "156771    0\n",
       "Length: 156772, dtype: int64"
      ]
     },
     "execution_count": 65,
     "metadata": {},
     "output_type": "execute_result"
    }
   ],
   "source": [
    "## We can use apply to use a function row wise or column wise\n",
    "def get_label(row):\n",
    "    if row['success']==1 and row['suicide']==1:\n",
    "        return 1\n",
    "    else:\n",
    "        return 0\n",
    "terror.apply(get_label,axis=1)\n",
    "\n",
    "\n",
    "#terror.apply(lambda row: 1 if row['success']==1 and row['suicide']==1 else 0,axis=1)\n"
   ]
  },
  {
   "cell_type": "markdown",
   "id": "37594d9e",
   "metadata": {},
   "source": [
    "9. Create a new category representing if the incident occurred in Afghanistan, Pakistan or India as one level of the category and all the other countries as another level. Label all other countries as ROW and new column which contains the new category as ‘Local’ in the data.\n",
    "Hint: Create a new category representing if the incident occured in Afghanistan, Pakistan or India as one level of the category and all the other countries as another level. Use the col"
   ]
  },
  {
   "cell_type": "code",
   "execution_count": 66,
   "id": "b04df765",
   "metadata": {},
   "outputs": [],
   "source": [
    "def get_label(row):\n",
    "    if row['country_txt']=='India' or row['country_txt']=='Afghnistan' or row['country_txt']=='Pakistan':\n",
    "        return 'Af-Pak-India'\n",
    "    else:\n",
    "        return 'ROW'\n",
    "#terror.apply(get_label,axis=1)\n",
    "\n",
    "terror['Local']=terror.apply(get_label,axis=1)"
   ]
  },
  {
   "cell_type": "code",
   "execution_count": 67,
   "id": "43079ec1",
   "metadata": {},
   "outputs": [
    {
     "data": {
      "text/plain": [
       "Local\n",
       "Af-Pak-India     22708\n",
       "ROW             134064\n",
       "dtype: int64"
      ]
     },
     "execution_count": 67,
     "metadata": {},
     "output_type": "execute_result"
    }
   ],
   "source": [
    "#10.Number of incidents in Af-Pak-India vs ROW\n",
    "terror['Local'].value_counts()\n",
    "terror.groupby('Local').size()"
   ]
  },
  {
   "cell_type": "code",
   "execution_count": null,
   "id": "8341cb2f",
   "metadata": {},
   "outputs": [],
   "source": [
    "-------------------------------------------------- End --------------------------------------------------------"
   ]
  }
 ],
 "metadata": {
  "kernelspec": {
   "display_name": "Python 3 (ipykernel)",
   "language": "python",
   "name": "python3"
  },
  "language_info": {
   "codemirror_mode": {
    "name": "ipython",
    "version": 3
   },
   "file_extension": ".py",
   "mimetype": "text/x-python",
   "name": "python",
   "nbconvert_exporter": "python",
   "pygments_lexer": "ipython3",
   "version": "3.9.7"
  }
 },
 "nbformat": 4,
 "nbformat_minor": 5
}
