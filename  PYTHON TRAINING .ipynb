{
 "cells": [
  {
   "cell_type": "markdown",
   "id": "51cf0765",
   "metadata": {},
   "source": [
    "# introduction to python"
   ]
  },
  {
   "cell_type": "markdown",
   "id": "32548352",
   "metadata": {},
   "source": [
    "# heading1\n",
    "## heading2\n",
    "### heading3\n",
    "#### heading 4"
   ]
  },
  {
   "cell_type": "markdown",
   "id": "697b052a",
   "metadata": {},
   "source": [
    "to create bullet points\n",
    "- variables\n",
    "* keywords\n",
    "+ constants"
   ]
  },
  {
   "cell_type": "code",
   "execution_count": 1,
   "id": "d6d2c3bc",
   "metadata": {},
   "outputs": [],
   "source": [
    "#create a variable \n",
    "a=10"
   ]
  },
  {
   "cell_type": "code",
   "execution_count": 2,
   "id": "be1d5099",
   "metadata": {},
   "outputs": [
    {
     "data": {
      "text/plain": [
       "int"
      ]
     },
     "execution_count": 2,
     "metadata": {},
     "output_type": "execute_result"
    }
   ],
   "source": [
    "type(a)"
   ]
  },
  {
   "cell_type": "code",
   "execution_count": 4,
   "id": "a0c93d46",
   "metadata": {},
   "outputs": [],
   "source": [
    "#assign multiple value to multiple variables\n",
    "a=5;b=6;c=7"
   ]
  },
  {
   "cell_type": "code",
   "execution_count": 6,
   "id": "1e73019d",
   "metadata": {},
   "outputs": [],
   "source": [
    "#assign same value to multiple variables \n",
    "a=b=c=10"
   ]
  },
  {
   "cell_type": "code",
   "execution_count": 7,
   "id": "a807b8b9",
   "metadata": {},
   "outputs": [],
   "source": [
    "#python is case sensitive\n",
    "Var1=35\n",
    "var1=45\n",
    "new=78"
   ]
  },
  {
   "cell_type": "code",
   "execution_count": 8,
   "id": "3f7befbe",
   "metadata": {},
   "outputs": [
    {
     "data": {
      "text/plain": [
       "78"
      ]
     },
     "execution_count": 8,
     "metadata": {},
     "output_type": "execute_result"
    }
   ],
   "source": [
    "new"
   ]
  },
  {
   "cell_type": "code",
   "execution_count": 9,
   "id": "f4a4f7c3",
   "metadata": {},
   "outputs": [
    {
     "data": {
      "text/plain": [
       "10"
      ]
     },
     "execution_count": 9,
     "metadata": {},
     "output_type": "execute_result"
    }
   ],
   "source": [
    "\"\"\"this is the sentence for comments\n",
    "\"\"\"\n",
    "a"
   ]
  },
  {
   "cell_type": "code",
   "execution_count": 21,
   "id": "a81a40ed",
   "metadata": {},
   "outputs": [],
   "source": [
    "###int \n",
    "x=18"
   ]
  },
  {
   "cell_type": "code",
   "execution_count": 22,
   "id": "3e019c2b",
   "metadata": {},
   "outputs": [
    {
     "data": {
      "text/plain": [
       "int"
      ]
     },
     "execution_count": 22,
     "metadata": {},
     "output_type": "execute_result"
    }
   ],
   "source": [
    "#check data type\n",
    "type(x)"
   ]
  },
  {
   "cell_type": "code",
   "execution_count": 23,
   "id": "4a8cef8a",
   "metadata": {},
   "outputs": [],
   "source": [
    "###float\n",
    "y=1.7"
   ]
  },
  {
   "cell_type": "code",
   "execution_count": 24,
   "id": "99daa099",
   "metadata": {
    "scrolled": true
   },
   "outputs": [
    {
     "data": {
      "text/plain": [
       "float"
      ]
     },
     "execution_count": 24,
     "metadata": {},
     "output_type": "execute_result"
    }
   ],
   "source": [
    "type(y)"
   ]
  },
  {
   "cell_type": "code",
   "execution_count": 25,
   "id": "131e0cd4",
   "metadata": {},
   "outputs": [],
   "source": [
    "#add integer and float and check data type\n",
    "z=x+y"
   ]
  },
  {
   "cell_type": "code",
   "execution_count": 26,
   "id": "e1eb1bfa",
   "metadata": {},
   "outputs": [
    {
     "data": {
      "text/plain": [
       "19.7"
      ]
     },
     "execution_count": 26,
     "metadata": {},
     "output_type": "execute_result"
    }
   ],
   "source": [
    "z"
   ]
  },
  {
   "cell_type": "code",
   "execution_count": 18,
   "id": "d9ff0970",
   "metadata": {},
   "outputs": [
    {
     "data": {
      "text/plain": [
       "bool"
      ]
     },
     "execution_count": 18,
     "metadata": {},
     "output_type": "execute_result"
    }
   ],
   "source": [
    "###bool\n",
    "B=True\n",
    "type(B)"
   ]
  },
  {
   "cell_type": "code",
   "execution_count": 19,
   "id": "6d5216b5",
   "metadata": {},
   "outputs": [
    {
     "data": {
      "text/plain": [
       "complex"
      ]
     },
     "execution_count": 19,
     "metadata": {},
     "output_type": "execute_result"
    }
   ],
   "source": [
    "##complex\n",
    "C=3+5j\n",
    "type(C)"
   ]
  },
  {
   "cell_type": "code",
   "execution_count": 20,
   "id": "a46d1a51",
   "metadata": {},
   "outputs": [
    {
     "data": {
      "text/plain": [
       "str"
      ]
     },
     "execution_count": 20,
     "metadata": {},
     "output_type": "execute_result"
    }
   ],
   "source": [
    "##string\n",
    "S= \"hello\"\n",
    "type(S)"
   ]
  },
  {
   "cell_type": "code",
   "execution_count": 45,
   "id": "468a56af",
   "metadata": {},
   "outputs": [],
   "source": [
    "a= \"de\" + \"1\" + \"oitte\""
   ]
  },
  {
   "cell_type": "code",
   "execution_count": 46,
   "id": "5714a963",
   "metadata": {},
   "outputs": [
    {
     "data": {
      "text/plain": [
       "'de1oitte'"
      ]
     },
     "execution_count": 46,
     "metadata": {},
     "output_type": "execute_result"
    }
   ],
   "source": [
    "a"
   ]
  },
  {
   "cell_type": "code",
   "execution_count": 47,
   "id": "be8c517c",
   "metadata": {},
   "outputs": [
    {
     "name": "stdout",
     "output_type": "stream",
     "text": [
      "de1oitte\n",
      "hello\n",
      "18\n"
     ]
    }
   ],
   "source": [
    "#for multiple outputs use print\n",
    "print(a)\n",
    "print(S)\n",
    "print(x)"
   ]
  },
  {
   "cell_type": "code",
   "execution_count": 48,
   "id": "54089261",
   "metadata": {},
   "outputs": [
    {
     "name": "stdout",
     "output_type": "stream",
     "text": [
      "hello i am working in de1oitte for last 18 years.\n"
     ]
    }
   ],
   "source": [
    "#different formats of output\n",
    "print (S ,\"i am working in\" , a , \"for last\" , x ,\"years.\")"
   ]
  },
  {
   "cell_type": "code",
   "execution_count": 49,
   "id": "9ba4e1a7",
   "metadata": {},
   "outputs": [
    {
     "name": "stdout",
     "output_type": "stream",
     "text": [
      "the value of a is de1oitte\n"
     ]
    }
   ],
   "source": [
    "print (\"the value of a is {}\".format(a))"
   ]
  },
  {
   "cell_type": "code",
   "execution_count": 50,
   "id": "ddcfb59a",
   "metadata": {},
   "outputs": [
    {
     "name": "stdout",
     "output_type": "stream",
     "text": [
      "welcome\n",
      "to all\n"
     ]
    }
   ],
   "source": [
    "print(\"welcome\")\n",
    "print(\"to all\")"
   ]
  },
  {
   "cell_type": "code",
   "execution_count": 69,
   "id": "a33845e2",
   "metadata": {},
   "outputs": [
    {
     "name": "stdout",
     "output_type": "stream",
     "text": [
      "welcome to deloitte\n"
     ]
    }
   ],
   "source": [
    "print (\"welcome\" ,end=' ')\n",
    "print (\"to deloitte\")"
   ]
  },
  {
   "cell_type": "code",
   "execution_count": 70,
   "id": "1447dba9",
   "metadata": {},
   "outputs": [
    {
     "name": "stdout",
     "output_type": "stream",
     "text": [
      "45\n"
     ]
    }
   ],
   "source": [
    "## user input\n",
    "## input() function\n",
    "input1= input()"
   ]
  },
  {
   "cell_type": "code",
   "execution_count": null,
   "id": "2947af11",
   "metadata": {},
   "outputs": [],
   "source": []
  },
  {
   "cell_type": "code",
   "execution_count": null,
   "id": "7b9abcf1",
   "metadata": {},
   "outputs": [],
   "source": []
  },
  {
   "cell_type": "code",
   "execution_count": null,
   "id": "bc965125",
   "metadata": {},
   "outputs": [],
   "source": []
  },
  {
   "cell_type": "code",
   "execution_count": 71,
   "id": "8a07ae17",
   "metadata": {},
   "outputs": [
    {
     "data": {
      "text/plain": [
       "str"
      ]
     },
     "execution_count": 71,
     "metadata": {},
     "output_type": "execute_result"
    }
   ],
   "source": [
    "type(input1)"
   ]
  },
  {
   "cell_type": "code",
   "execution_count": 72,
   "id": "4d1d6cca",
   "metadata": {},
   "outputs": [
    {
     "name": "stdout",
     "output_type": "stream",
     "text": [
      "34\n"
     ]
    }
   ],
   "source": [
    "input1=int(input())"
   ]
  },
  {
   "cell_type": "code",
   "execution_count": 73,
   "id": "77871dac",
   "metadata": {},
   "outputs": [
    {
     "data": {
      "text/plain": [
       "int"
      ]
     },
     "execution_count": 73,
     "metadata": {},
     "output_type": "execute_result"
    }
   ],
   "source": [
    "type(input1)"
   ]
  },
  {
   "cell_type": "code",
   "execution_count": 74,
   "id": "17520c96",
   "metadata": {},
   "outputs": [
    {
     "name": "stdout",
     "output_type": "stream",
     "text": [
      "1.6\n"
     ]
    }
   ],
   "source": [
    "input2=float(input())"
   ]
  },
  {
   "cell_type": "code",
   "execution_count": 75,
   "id": "03f88794",
   "metadata": {},
   "outputs": [
    {
     "data": {
      "text/plain": [
       "float"
      ]
     },
     "execution_count": 75,
     "metadata": {},
     "output_type": "execute_result"
    }
   ],
   "source": [
    "type(input2)"
   ]
  },
  {
   "cell_type": "code",
   "execution_count": 78,
   "id": "425fb73b",
   "metadata": {},
   "outputs": [
    {
     "name": "stdout",
     "output_type": "stream",
     "text": [
      "23 \n",
      "34\n"
     ]
    }
   ],
   "source": [
    "input1=input()\n",
    "input2=input()"
   ]
  },
  {
   "cell_type": "code",
   "execution_count": 79,
   "id": "3386beb9",
   "metadata": {},
   "outputs": [
    {
     "name": "stdout",
     "output_type": "stream",
     "text": [
      "enter two inputs34 45\n"
     ]
    }
   ],
   "source": [
    "#split method to write multiple inputs in single line\n",
    "input3=input(\"enter two inputs\").split(' ')"
   ]
  },
  {
   "cell_type": "code",
   "execution_count": 80,
   "id": "a0e678c6",
   "metadata": {},
   "outputs": [
    {
     "name": "stdout",
     "output_type": "stream",
     "text": [
      "34\n"
     ]
    }
   ],
   "source": [
    "input4=input().split()"
   ]
  },
  {
   "cell_type": "code",
   "execution_count": 81,
   "id": "ab494300",
   "metadata": {},
   "outputs": [
    {
     "data": {
      "text/plain": [
       "['34']"
      ]
     },
     "execution_count": 81,
     "metadata": {},
     "output_type": "execute_result"
    }
   ],
   "source": [
    "input4"
   ]
  },
  {
   "cell_type": "code",
   "execution_count": 82,
   "id": "350c2c24",
   "metadata": {},
   "outputs": [
    {
     "data": {
      "text/plain": [
       "1808760063152"
      ]
     },
     "execution_count": 82,
     "metadata": {},
     "output_type": "execute_result"
    }
   ],
   "source": [
    "id(a)"
   ]
  },
  {
   "cell_type": "code",
   "execution_count": null,
   "id": "04a7f256",
   "metadata": {},
   "outputs": [],
   "source": [
    "#hands on exercise\n"
   ]
  },
  {
   "cell_type": "code",
   "execution_count": 41,
   "id": "7b5f92f7",
   "metadata": {},
   "outputs": [
    {
     "name": "stdout",
     "output_type": "stream",
     "text": [
      "32\n",
      "45\n"
     ]
    }
   ],
   "source": [
    "a1= int(input())\n",
    "a2 = int(input())"
   ]
  },
  {
   "cell_type": "code",
   "execution_count": 2,
   "id": "f584fd48",
   "metadata": {},
   "outputs": [
    {
     "name": "stdout",
     "output_type": "stream",
     "text": [
      "3.4567\n",
      "3.46\n"
     ]
    }
   ],
   "source": [
    "a3=float(input())\n",
    "print(round(a3,2))"
   ]
  },
  {
   "cell_type": "code",
   "execution_count": null,
   "id": "af275003",
   "metadata": {},
   "outputs": [],
   "source": []
  },
  {
   "cell_type": "code",
   "execution_count": 4,
   "id": "5f4c5a48",
   "metadata": {},
   "outputs": [
    {
     "name": "stdout",
     "output_type": "stream",
     "text": [
      "enter three strings:hello,welcome,deloitte\n"
     ]
    }
   ],
   "source": [
    "a4=input(\"enter three strings:\").split(',')"
   ]
  },
  {
   "cell_type": "code",
   "execution_count": 5,
   "id": "e2986533",
   "metadata": {},
   "outputs": [
    {
     "name": "stdout",
     "output_type": "stream",
     "text": [
      "70\n",
      "60\n",
      "130.0\n"
     ]
    }
   ],
   "source": [
    "a5=float(input())\n",
    "a6=float(input())\n",
    "print(a5+a6)"
   ]
  },
  {
   "cell_type": "code",
   "execution_count": 7,
   "id": "057f815d",
   "metadata": {},
   "outputs": [
    {
     "name": "stdout",
     "output_type": "stream",
     "text": [
      "34 45\n"
     ]
    }
   ],
   "source": [
    "a7=input().split(' ')"
   ]
  },
  {
   "cell_type": "code",
   "execution_count": 8,
   "id": "18428781",
   "metadata": {},
   "outputs": [
    {
     "name": "stdout",
     "output_type": "stream",
     "text": [
      " shobhit\n"
     ]
    }
   ],
   "source": [
    "print(\" shobhit\")"
   ]
  },
  {
   "cell_type": "code",
   "execution_count": 9,
   "id": "35b55237",
   "metadata": {},
   "outputs": [
    {
     "name": "stdout",
     "output_type": "stream",
     "text": [
      "6\n",
      "7\n",
      "8\n"
     ]
    }
   ],
   "source": [
    "a=6;b=7;c=8\n",
    "print(a);print(b);print(c)"
   ]
  },
  {
   "cell_type": "code",
   "execution_count": 11,
   "id": "04fc0824",
   "metadata": {},
   "outputs": [
    {
     "name": "stdout",
     "output_type": "stream",
     "text": [
      "46\n",
      "56\n",
      "102\n"
     ]
    }
   ],
   "source": [
    "a8=int(input())\n",
    "a9=int(input())\n",
    "print(a8+a9)"
   ]
  },
  {
   "cell_type": "code",
   "execution_count": 12,
   "id": "fd8be5e6",
   "metadata": {},
   "outputs": [
    {
     "name": "stdout",
     "output_type": "stream",
     "text": [
      "lucky\n"
     ]
    }
   ],
   "source": [
    "s=\"lucky\"\n",
    "print(s)"
   ]
  },
  {
   "cell_type": "code",
   "execution_count": 14,
   "id": "5650231d",
   "metadata": {},
   "outputs": [
    {
     "name": "stdout",
     "output_type": "stream",
     "text": [
      "preferred language python\n"
     ]
    }
   ],
   "source": [
    "prog=input(\"preferred language \")"
   ]
  },
  {
   "cell_type": "code",
   "execution_count": 15,
   "id": "34e15728",
   "metadata": {},
   "outputs": [
    {
     "name": "stdout",
     "output_type": "stream",
     "text": [
      "12\n"
     ]
    },
    {
     "data": {
      "text/plain": [
       "'121'"
      ]
     },
     "execution_count": 15,
     "metadata": {},
     "output_type": "execute_result"
    }
   ],
   "source": [
    "a10=input()\n",
    "a10+\"1\"\n",
    "#a10+str(1)"
   ]
  },
  {
   "cell_type": "code",
   "execution_count": 16,
   "id": "fe80002c",
   "metadata": {},
   "outputs": [],
   "source": [
    "#iterable : ability to do index and write for loop on that object\n",
    "#indexing and slicing\n",
    "new=\"saturday\""
   ]
  },
  {
   "cell_type": "code",
   "execution_count": 17,
   "id": "218286c8",
   "metadata": {},
   "outputs": [
    {
     "data": {
      "text/plain": [
       "'saturday'"
      ]
     },
     "execution_count": 17,
     "metadata": {},
     "output_type": "execute_result"
    }
   ],
   "source": [
    "new"
   ]
  },
  {
   "cell_type": "code",
   "execution_count": 18,
   "id": "6ece77c0",
   "metadata": {},
   "outputs": [
    {
     "data": {
      "text/plain": [
       "'t'"
      ]
     },
     "execution_count": 18,
     "metadata": {},
     "output_type": "execute_result"
    }
   ],
   "source": [
    "#extract 't'--> new \n",
    "#python index starts from 0\n",
    "new[2]"
   ]
  },
  {
   "cell_type": "code",
   "execution_count": 19,
   "id": "c44daef4",
   "metadata": {},
   "outputs": [
    {
     "data": {
      "text/plain": [
       "'u'"
      ]
     },
     "execution_count": 19,
     "metadata": {},
     "output_type": "execute_result"
    }
   ],
   "source": [
    "#ectract 'u'\n",
    "new[3]"
   ]
  },
  {
   "cell_type": "code",
   "execution_count": 20,
   "id": "6faf5f65",
   "metadata": {},
   "outputs": [
    {
     "data": {
      "text/plain": [
       "'urda'"
      ]
     },
     "execution_count": 20,
     "metadata": {},
     "output_type": "execute_result"
    }
   ],
   "source": [
    "#extract 'u' to 'a'\n",
    "#[start :end] end is exclusive\n",
    "new[3:7]"
   ]
  },
  {
   "cell_type": "code",
   "execution_count": null,
   "id": "8b4bb034",
   "metadata": {},
   "outputs": [],
   "source": [
    "#extract 0 to 3rd position "
   ]
  },
  {
   "cell_type": "code",
   "execution_count": 21,
   "id": "abfd68d6",
   "metadata": {},
   "outputs": [
    {
     "data": {
      "text/plain": [
       "'saturday'"
      ]
     },
     "execution_count": 21,
     "metadata": {},
     "output_type": "execute_result"
    }
   ],
   "source": [
    "#display all the elements using :\n",
    "new[:]"
   ]
  },
  {
   "cell_type": "code",
   "execution_count": 22,
   "id": "32add176",
   "metadata": {},
   "outputs": [
    {
     "data": {
      "text/plain": [
       "'turday'"
      ]
     },
     "execution_count": 22,
     "metadata": {},
     "output_type": "execute_result"
    }
   ],
   "source": [
    "new[2:]"
   ]
  },
  {
   "cell_type": "code",
   "execution_count": 23,
   "id": "ffc5cb5f",
   "metadata": {},
   "outputs": [
    {
     "data": {
      "text/plain": [
       "'y'"
      ]
     },
     "execution_count": 23,
     "metadata": {},
     "output_type": "execute_result"
    }
   ],
   "source": [
    "#negative indexing\n",
    "new[7]"
   ]
  },
  {
   "cell_type": "code",
   "execution_count": 24,
   "id": "2fbe4e96",
   "metadata": {},
   "outputs": [
    {
     "data": {
      "text/plain": [
       "'y'"
      ]
     },
     "execution_count": 24,
     "metadata": {},
     "output_type": "execute_result"
    }
   ],
   "source": [
    "new[-1]"
   ]
  },
  {
   "cell_type": "code",
   "execution_count": 25,
   "id": "acbdcc10",
   "metadata": {},
   "outputs": [
    {
     "data": {
      "text/plain": [
       "'audy'"
      ]
     },
     "execution_count": 25,
     "metadata": {},
     "output_type": "execute_result"
    }
   ],
   "source": [
    "#extract odd position elements\n",
    "#[start:end:step]\n",
    "new[1:len(new)+1:2]"
   ]
  },
  {
   "cell_type": "code",
   "execution_count": 26,
   "id": "d6246a00",
   "metadata": {},
   "outputs": [
    {
     "data": {
      "text/plain": [
       "'ydua'"
      ]
     },
     "execution_count": 26,
     "metadata": {},
     "output_type": "execute_result"
    }
   ],
   "source": [
    "#extract odd position elements in reverse order\n",
    "new[::-2]"
   ]
  },
  {
   "cell_type": "code",
   "execution_count": 27,
   "id": "863d8997",
   "metadata": {},
   "outputs": [],
   "source": [
    "#strings are immutable\n",
    "#cannot do changes on a created string object.\n",
    "first=\"welcome\"\n",
    "second=\"to deloitte\""
   ]
  },
  {
   "cell_type": "code",
   "execution_count": 29,
   "id": "b8fcdf0d",
   "metadata": {},
   "outputs": [
    {
     "data": {
      "text/plain": [
       "'welSome'"
      ]
     },
     "execution_count": 29,
     "metadata": {},
     "output_type": "execute_result"
    }
   ],
   "source": [
    "#change first letter into s\n",
    "first[0:3]+'S'+first[4:]"
   ]
  },
  {
   "cell_type": "code",
   "execution_count": 30,
   "id": "be9e4815",
   "metadata": {},
   "outputs": [
    {
     "data": {
      "text/plain": [
       "'to deloitte7'"
      ]
     },
     "execution_count": 30,
     "metadata": {},
     "output_type": "execute_result"
    }
   ],
   "source": [
    "#add value 7 into string object\n",
    "second+\"7\""
   ]
  },
  {
   "cell_type": "code",
   "execution_count": 32,
   "id": "679a90e6",
   "metadata": {},
   "outputs": [
    {
     "data": {
      "text/plain": [
       "'to d6eloitte'"
      ]
     },
     "execution_count": 32,
     "metadata": {},
     "output_type": "execute_result"
    }
   ],
   "source": [
    "#add value 6 to the string object 'second' at 4th position\n",
    "second[0:4]+'6'+second[4:]"
   ]
  },
  {
   "cell_type": "code",
   "execution_count": 33,
   "id": "a7627100",
   "metadata": {},
   "outputs": [
    {
     "data": {
      "text/plain": [
       "'welcomewelcomewelcome'"
      ]
     },
     "execution_count": 33,
     "metadata": {},
     "output_type": "execute_result"
    }
   ],
   "source": [
    "#display the elemnt of 'first' object 3 times\n",
    "first*3"
   ]
  },
  {
   "cell_type": "code",
   "execution_count": 34,
   "id": "d5b1ab55",
   "metadata": {},
   "outputs": [
    {
     "data": {
      "text/plain": [
       "'welcometo deloitte'"
      ]
     },
     "execution_count": 34,
     "metadata": {},
     "output_type": "execute_result"
    }
   ],
   "source": [
    "#add 2 string objects using +\n",
    "first+second"
   ]
  },
  {
   "cell_type": "code",
   "execution_count": 35,
   "id": "f55a6353",
   "metadata": {},
   "outputs": [],
   "source": [
    "#create a string object str1=\"welcome to our country\"\n",
    "str1=\"welcome to our country\""
   ]
  },
  {
   "cell_type": "code",
   "execution_count": 36,
   "id": "fe04a684",
   "metadata": {},
   "outputs": [
    {
     "name": "stdout",
     "output_type": "stream",
     "text": [
      "country\n"
     ]
    }
   ],
   "source": [
    "#eXtract country froM sentence\n",
    "print(str1[15:])"
   ]
  },
  {
   "cell_type": "code",
   "execution_count": 42,
   "id": "5faa0bcc",
   "metadata": {},
   "outputs": [
    {
     "name": "stdout",
     "output_type": "stream",
     "text": [
      "wloet u onr\n"
     ]
    }
   ],
   "source": [
    "#even positions elements\n",
    "print(str1[0::2])"
   ]
  },
  {
   "cell_type": "code",
   "execution_count": 39,
   "id": "ad83c795",
   "metadata": {},
   "outputs": [
    {
     "name": "stdout",
     "output_type": "stream",
     "text": [
      "wel6come to our country\n"
     ]
    }
   ],
   "source": [
    "#add 6 to third position\n",
    "print(str1[:3]+'6'+str1[3:])"
   ]
  },
  {
   "cell_type": "code",
   "execution_count": 44,
   "id": "51044398",
   "metadata": {},
   "outputs": [
    {
     "name": "stdout",
     "output_type": "stream",
     "text": [
      "12\n",
      "12 is less than 15\n",
      "exit\n"
     ]
    }
   ],
   "source": [
    "#CHECK GIVEN NO IS LESS THAN 15 OR NOT\n",
    "num=int(input())\n",
    "if num<15 :\n",
    "    print(num,'is less than 15')\n",
    "print('exit')"
   ]
  },
  {
   "cell_type": "code",
   "execution_count": 46,
   "id": "96ea3139",
   "metadata": {},
   "outputs": [
    {
     "name": "stdout",
     "output_type": "stream",
     "text": [
      "12\n",
      "be positive\n",
      "exit\n"
     ]
    }
   ],
   "source": [
    "num =int(input())\n",
    "if num>0:\n",
    "    print('be positive')\n",
    "print ('exit')"
   ]
  },
  {
   "cell_type": "code",
   "execution_count": 54,
   "id": "b1ac3f16",
   "metadata": {},
   "outputs": [
    {
     "name": "stdout",
     "output_type": "stream",
     "text": [
      "0\n",
      "0 is positive\n"
     ]
    }
   ],
   "source": [
    "##prog checks if no is positive or negative\n",
    "num=int(input())\n",
    "if num>=0:\n",
    "    print(num, 'is positive')\n",
    "else :\n",
    "    print(num, 'is negative')\n",
    "    "
   ]
  },
  {
   "cell_type": "code",
   "execution_count": 56,
   "id": "f32a2a1c",
   "metadata": {},
   "outputs": [
    {
     "name": "stdout",
     "output_type": "stream",
     "text": [
      "0\n",
      "even\n"
     ]
    }
   ],
   "source": [
    "#CHECK NUMBER IS EVEN OR ADD\n",
    "num=int(input())\n",
    "if num % 2==0:\n",
    "    print(\"even\")\n",
    "else:\n",
    "    print(\"odd\")"
   ]
  },
  {
   "cell_type": "code",
   "execution_count": 59,
   "id": "6e9f7e71",
   "metadata": {},
   "outputs": [
    {
     "name": "stdout",
     "output_type": "stream",
     "text": [
      "-7\n",
      "-7 is negative\n"
     ]
    }
   ],
   "source": [
    "##elif statement\n",
    "num=int(input())\n",
    "if num >0:\n",
    "    print (num, 'is positive')\n",
    "elif num<0:\n",
    "    print(num, 'is negative')\n",
    "else :\n",
    "    print ('zero')"
   ]
  },
  {
   "cell_type": "code",
   "execution_count": 64,
   "id": "1439e1f2",
   "metadata": {},
   "outputs": [
    {
     "name": "stdout",
     "output_type": "stream",
     "text": [
      "44\n",
      "pass\n"
     ]
    }
   ],
   "source": [
    "marks=int(input())\n",
    "if marks >80:\n",
    "    print ('distinction')\n",
    "elif marks >= 60 and  marks <=80:\n",
    "    print ('FIRST CLASS')\n",
    "else :\n",
    "    print ('pass')"
   ]
  },
  {
   "cell_type": "code",
   "execution_count": 66,
   "id": "63ec0470",
   "metadata": {},
   "outputs": [
    {
     "name": "stdout",
     "output_type": "stream",
     "text": [
      "0\n",
      "zero\n"
     ]
    }
   ],
   "source": [
    "##nested if else statements\n",
    "n=int(input())\n",
    "if n>=0:\n",
    "    if n==0:\n",
    "        print('zero')\n",
    "    else:\n",
    "        print('positive')\n",
    "else:\n",
    "    print('negative')"
   ]
  },
  {
   "cell_type": "code",
   "execution_count": 68,
   "id": "594c27e3",
   "metadata": {},
   "outputs": [
    {
     "name": "stdout",
     "output_type": "stream",
     "text": [
      "80\n",
      "You can give vote\n"
     ]
    }
   ],
   "source": [
    "#ELIGIBLE FOR VOTING OR NOT\n",
    "age =int(input())\n",
    "if age >=18:\n",
    "    print('You can give vote')\n",
    "else :\n",
    "    print('not eligible')"
   ]
  },
  {
   "cell_type": "code",
   "execution_count": 72,
   "id": "c47f975b",
   "metadata": {},
   "outputs": [
    {
     "name": "stdout",
     "output_type": "stream",
     "text": [
      "89\n",
      "not divisible by 7\n"
     ]
    }
   ],
   "source": [
    "#NUMBER DIVISIBLE BY 7 \n",
    "num=int(input())\n",
    "if num % 7==0:\n",
    "    print ('divisible by 7')\n",
    "else :\n",
    "    print ('not divisible by 7')"
   ]
  },
  {
   "cell_type": "code",
   "execution_count": 82,
   "id": "db0d938e",
   "metadata": {},
   "outputs": [
    {
     "name": "stdout",
     "output_type": "stream",
     "text": [
      "144\n",
      "not divisible\n"
     ]
    }
   ],
   "source": [
    "#LAST DIGIT DIVISIBLE BY 3\n",
    "num = int(input(\"enter any number\"))\n",
    "if (num % 10) % 3 ==0: \n",
    "    print ('last digit is divisible by 3')\n",
    "else :\n",
    "    print ('not divisible')"
   ]
  },
  {
   "cell_type": "code",
   "execution_count": 79,
   "id": "5dacea38",
   "metadata": {},
   "outputs": [
    {
     "name": "stdout",
     "output_type": "stream",
     "text": [
      "agra\n",
      "Taj Mahal\n"
     ]
    }
   ],
   "source": [
    "cityname =str(input())\n",
    "city=cityname.capitalize();\n",
    "if city.lower == \"Delhi\":              #we can use lower as well as capitalize syntax\n",
    "    print ('Red Fort')\n",
    "elif city.lower == \"Agra\":\n",
    "    print ('Taj Mahal')\n",
    "elif city.lower == \"Jaipur\":\n",
    "    print ('Jal Mahal')\n",
    "else :\n",
    "    print ('not a valid city')"
   ]
  },
  {
   "cell_type": "code",
   "execution_count": 85,
   "id": "d7fad40f",
   "metadata": {},
   "outputs": [
    {
     "name": "stdout",
     "output_type": "stream",
     "text": [
      "1000\n",
      "1000  has more than 3 digit\n"
     ]
    }
   ],
   "source": [
    "#PRINT ONE DIGIT , TWO DIGIT , THREE DIGIT NUMBER\n",
    "num=int(input())\n",
    "if num<10:\n",
    "    print (num , 'is one digit number')\n",
    "elif num >= 10 and num <100:\n",
    "    print ( num ,'is two digit number ')\n",
    "elif num >=100 and num <1000:\n",
    "    print (num , ' is three digit number')\n",
    "else :\n",
    "    print (num , ' has more than 3 digit')"
   ]
  },
  {
   "cell_type": "code",
   "execution_count": 95,
   "id": "70bebd71",
   "metadata": {},
   "outputs": [
    {
     "name": "stdout",
     "output_type": "stream",
     "text": [
      "23\n",
      "23\n",
      "21\n",
      " two num are equal\n",
      "23\n"
     ]
    }
   ],
   "source": [
    "#MAXIMUM OF 3 NUMBERS\n",
    "maxl = []\n",
    "maxn = 0\n",
    "for i in range (0,3):\n",
    "    l=int(input())\n",
    "    maxl.append(l)\n",
    "    \n",
    "if maxl[0]==maxl[1]   and maxl[1] == maxl[2]:\n",
    "    print(\"all are equal\")\n",
    "elif maxl[0] == maxl[1] or maxl[1] == maxl[2] or maxl[2] == maxl[0]:\n",
    "    print (\" two num are equal\")\n",
    "\n",
    "for num in maxl:\n",
    "    if num>maxn:\n",
    "        maxn=num\n",
    "        \n",
    "print (maxn)\n",
    "\n"
   ]
  },
  {
   "cell_type": "code",
   "execution_count": 88,
   "id": "7a4b4d16",
   "metadata": {},
   "outputs": [
    {
     "name": "stdout",
     "output_type": "stream",
     "text": [
      "39\n",
      "FAIL\n"
     ]
    }
   ],
   "source": [
    "avgmarks = int(input())\n",
    "if avgmarks >=70:\n",
    "    print('DISTINCTION')\n",
    "elif avgmarks >=60 and  avgmarks <70:\n",
    "    print ('FIRST')\n",
    "elif avgmarks >=50 and avgmarks<60:\n",
    "    print ('SECOND')\n",
    "elif avgmarks >=40 and avgmarks <50:\n",
    "    print ('THIRD')\n",
    "elif avgmarks <40 :\n",
    "    print ('FAIL')\n",
    "    "
   ]
  },
  {
   "cell_type": "code",
   "execution_count": 89,
   "id": "a2b959d1",
   "metadata": {},
   "outputs": [
    {
     "name": "stdout",
     "output_type": "stream",
     "text": [
      "3\n",
      "given number is less than 5\n"
     ]
    }
   ],
   "source": [
    "#check whether given number lis between 5 and 15\n",
    "num =int(input())\n",
    "if num >5:\n",
    "    if num <=15:\n",
    "        print ('given number lies between 5 and 15')\n",
    "    else :\n",
    "        print(' given number is greater than 15')\n",
    "else:\n",
    "    print ('given number is less than 5')\n",
    "        "
   ]
  },
  {
   "cell_type": "code",
   "execution_count": 90,
   "id": "ddaf99c5",
   "metadata": {},
   "outputs": [
    {
     "name": "stdout",
     "output_type": "stream",
     "text": [
      "hello\n"
     ]
    }
   ],
   "source": [
    "a=9\n",
    "if(a>5 and a<=10):\n",
    "    print ('hello')\n",
    "else:\n",
    "    print ('bye')"
   ]
  },
  {
   "cell_type": "code",
   "execution_count": 96,
   "id": "c84d857e",
   "metadata": {},
   "outputs": [
    {
     "name": "stdout",
     "output_type": "stream",
     "text": [
      "enter no1:23\n",
      "enter no2:23\n",
      "enter no3:21\n",
      "23 is the maximum\n"
     ]
    }
   ],
   "source": [
    "#max of 3 number another method to solve\n",
    "n1,n2,n3 =int(input(\"enter no1:\")), int(input(\"enter no2:\")),int(input(\"enter no3:\"))\n",
    "if n1>n2 and n1>n3 :\n",
    "    print(\"no1 is maximum\")\n",
    "elif n2>n3 and n2 >n1:\n",
    "    print(\"no2 is maximum\")\n",
    "elif n3>n1 and n3>n2:\n",
    "    print (\"no3 is maximum\")\n",
    "elif n1==n2 and n1>n3:\n",
    "    print(n1 , 'is the maximum')\n",
    "elif n2==n3 and n2>n1:\n",
    "    print( n2 , 'is maximum')\n",
    "elif n1==n3 and n1>n2:\n",
    "    print (n3, ' is maximum')\n",
    "else :\n",
    "    print ('all are equal')"
   ]
  },
  {
   "cell_type": "code",
   "execution_count": 98,
   "id": "a0cd6312",
   "metadata": {},
   "outputs": [
    {
     "name": "stdout",
     "output_type": "stream",
     "text": [
      "45\n",
      "55\n",
      "50.0\n"
     ]
    }
   ],
   "source": [
    "#find average of two numbers entered by user\n",
    "a= int(input())\n",
    "b= int(input())\n",
    "\n",
    "avg=(a+b) / 2\n",
    "print(x)\n"
   ]
  },
  {
   "cell_type": "code",
   "execution_count": 99,
   "id": "5a8f1bee",
   "metadata": {},
   "outputs": [
    {
     "name": "stdout",
     "output_type": "stream",
     "text": [
      "35\n",
      "1\n"
     ]
    }
   ],
   "source": [
    "#find remainder when a number is divided by 2\n",
    "a=int(input())\n",
    "result=a%2\n",
    "\n",
    "print(x)"
   ]
  },
  {
   "cell_type": "code",
   "execution_count": 100,
   "id": "206be292",
   "metadata": {},
   "outputs": [
    {
     "data": {
      "text/plain": [
       "False"
      ]
     },
     "execution_count": 100,
     "metadata": {},
     "output_type": "execute_result"
    }
   ],
   "source": [
    "a=34\n",
    "b=80\n",
    "\n",
    "a>b"
   ]
  },
  {
   "cell_type": "code",
   "execution_count": 101,
   "id": "0adad730",
   "metadata": {},
   "outputs": [
    {
     "name": "stdout",
     "output_type": "stream",
     "text": [
      "55\n",
      "3025\n"
     ]
    }
   ],
   "source": [
    "#find square of number given by user\n",
    "a=int(input())\n",
    "y= a**2\n",
    "\n",
    "print (y)\n"
   ]
  },
  {
   "cell_type": "code",
   "execution_count": 104,
   "id": "7c1f7403",
   "metadata": {},
   "outputs": [
    {
     "name": "stdout",
     "output_type": "stream",
     "text": [
      "77\n",
      "invalid number\n"
     ]
    }
   ],
   "source": [
    "#program to show invalid number if number is not between 1 and 10\n",
    "num= int (input())\n",
    "if num >=1 and num <10:\n",
    "    print (\"valid number\")\n",
    "else :\n",
    "    print(\"invalid number\")"
   ]
  },
  {
   "cell_type": "code",
   "execution_count": 105,
   "id": "113dbb6e",
   "metadata": {},
   "outputs": [
    {
     "name": "stdout",
     "output_type": "stream",
     "text": [
      "34\n",
      "4\n"
     ]
    }
   ],
   "source": [
    "#program to display last digit of number\n",
    "num=int(input())\n",
    "x=num%10\n",
    "print(x)"
   ]
  },
  {
   "cell_type": "code",
   "execution_count": 106,
   "id": "879a7a03",
   "metadata": {},
   "outputs": [
    {
     "name": "stdout",
     "output_type": "stream",
     "text": [
      "23\n",
      "34\n",
      "34\n"
     ]
    }
   ],
   "source": [
    "#take 2 values from user and print greatest among them\n",
    "a= int(input())\n",
    "b=int(input())\n",
    "if a>b :\n",
    "    print (a)\n",
    "else :\n",
    "    print (b)\n"
   ]
  },
  {
   "cell_type": "code",
   "execution_count": 108,
   "id": "d5b3414f",
   "metadata": {},
   "outputs": [
    {
     "name": "stdout",
     "output_type": "stream",
     "text": [
      "45\n",
      "hello\n"
     ]
    }
   ],
   "source": [
    "#print hello if no multiple of 5 otherwise bye\n",
    "a=int(input())\n",
    "\n",
    "if a%5 ==0:\n",
    "    print (\"hello\")\n",
    "else :\n",
    "    print (\"bye\")"
   ]
  },
  {
   "cell_type": "code",
   "execution_count": 3,
   "id": "4741bda6",
   "metadata": {},
   "outputs": [
    {
     "name": "stdout",
     "output_type": "stream",
     "text": [
      "enter no of units678\n",
      "amount to pay : 5280\n"
     ]
    }
   ],
   "source": [
    "units =int(input(\"enter no of units\"))\n",
    "if units <=100:\n",
    "    bill=0\n",
    "    print(bill)\n",
    "elif units >100 and units <=200:\n",
    "    bill = (units -100)*5\n",
    "    print(bill)\n",
    "elif units >200 :\n",
    "    bill = 500 + ((units - 200)*10)\n",
    "    print (\"amount to pay :\", bill)"
   ]
  },
  {
   "cell_type": "code",
   "execution_count": null,
   "id": "3d47bf81",
   "metadata": {},
   "outputs": [],
   "source": [
    "###loops \n",
    "\"\"\"\n",
    "-for loop\n",
    "-while loop\n",
    "-control statements\n",
    "\"\"\"\n",
    "##functions\n",
    "\"\"\"\n",
    "\n",
    "\"\"\""
   ]
  },
  {
   "cell_type": "code",
   "execution_count": null,
   "id": "8797218d",
   "metadata": {},
   "outputs": [],
   "source": [
    "##for loop\n",
    "#syntax: for i in iterable:\n",
    "              #statements "
   ]
  },
  {
   "cell_type": "code",
   "execution_count": 4,
   "id": "0b20e1f8",
   "metadata": {},
   "outputs": [
    {
     "name": "stdout",
     "output_type": "stream",
     "text": [
      "/nString Iteration\n",
      "j\n",
      "i\n",
      "g\n",
      "s\n",
      "a\n",
      "w\n"
     ]
    }
   ],
   "source": [
    "#iterating over a string\n",
    "print(\"/nString Iteration\")\n",
    "s=\"jigsaw\"\n",
    "for i in s:\n",
    "    print (i)"
   ]
  },
  {
   "cell_type": "code",
   "execution_count": 5,
   "id": "ff4a0e6b",
   "metadata": {},
   "outputs": [
    {
     "name": "stdout",
     "output_type": "stream",
     "text": [
      "0\n",
      "1\n",
      "2\n",
      "3\n"
     ]
    }
   ],
   "source": [
    "#iterating over range 0 to n-1\n",
    "\n",
    "n=4 \n",
    "for i in range (n):\n",
    "    print(i)"
   ]
  },
  {
   "cell_type": "code",
   "execution_count": 11,
   "id": "2b0ec891",
   "metadata": {},
   "outputs": [
    {
     "name": "stdout",
     "output_type": "stream",
     "text": [
      "W\n",
      "o\n",
      "r\n",
      "l\n",
      "d\n"
     ]
    }
   ],
   "source": [
    "#use the string index number to loop through the string \n",
    "t ='World'\n",
    "    \n",
    "for i in range(len(t)):                #range() takes 0 to len(t)\n",
    "    print(t[i])"
   ]
  },
  {
   "cell_type": "code",
   "execution_count": 9,
   "id": "70c5555e",
   "metadata": {},
   "outputs": [
    {
     "name": "stdout",
     "output_type": "stream",
     "text": [
      "hello\n",
      "hello\n",
      "hello\n"
     ]
    }
   ],
   "source": [
    "#PRINT 'HELLO ' 3 TIMES \n",
    "count =0\n",
    "while (count<3):\n",
    "    count = count +1\n",
    "    print (\"hello\")"
   ]
  },
  {
   "cell_type": "code",
   "execution_count": 3,
   "id": "94b9d3d3",
   "metadata": {},
   "outputs": [
    {
     "name": "stdout",
     "output_type": "stream",
     "text": [
      "the sum is  55\n"
     ]
    }
   ],
   "source": [
    "#program to add natural number upto n\n",
    "#sum = 1+2+3+....+n\n",
    "\n",
    "#to take input from the user ,\n",
    "#n = int(input(\"enter n:\"))\n",
    "\n",
    "n=10\n",
    "#initialize sum and counter\n",
    "sum=0\n",
    "i=1\n",
    "\n",
    "while i<=n:\n",
    "    sum=sum +i\n",
    "    i =i+1   #update counter\n",
    "    \n",
    "#print the sum \n",
    "print (\"the sum is \" , sum)"
   ]
  },
  {
   "cell_type": "code",
   "execution_count": 10,
   "id": "65d77b43",
   "metadata": {},
   "outputs": [
    {
     "name": "stdout",
     "output_type": "stream",
     "text": [
      "enter no : 11\n",
      "55\n"
     ]
    }
   ],
   "source": [
    "#same problem in for loop \n",
    "n=int(input(\"enter no : \")) \n",
    "sum = 0\n",
    "i=1\n",
    "for i in range (n):\n",
    "    sum = sum+i\n",
    "\n",
    "print (sum)"
   ]
  },
  {
   "cell_type": "code",
   "execution_count": 8,
   "id": "161fa2de",
   "metadata": {},
   "outputs": [
    {
     "name": "stdout",
     "output_type": "stream",
     "text": [
      "j\n",
      "i\n",
      "g\n",
      "s\n",
      "a\n",
      "out for loop\n"
     ]
    }
   ],
   "source": [
    "#break \n",
    "#stop the iteration when letter is 'a' or 'e'\n",
    "\n",
    "s='jigsaw-unext'\n",
    "for letter in s:\n",
    "    print (letter)\n",
    "    if letter=='a' or letter =='e' :\n",
    "        break\n",
    "print('out for loop')\n",
    "    "
   ]
  },
  {
   "cell_type": "code",
   "execution_count": 23,
   "id": "71837a88",
   "metadata": {},
   "outputs": [
    {
     "name": "stdout",
     "output_type": "stream",
     "text": [
      "j\n",
      "i\n",
      "g\n",
      "s\n",
      "a\n",
      "out of while loop\n"
     ]
    }
   ],
   "source": [
    "#same problem in while loop\n",
    "s= 'jigsaw-unext'\n",
    "i=0\n",
    "while True :\n",
    "    print(s[i])\n",
    "    if s[i] == 'a' or s[i]=='e':\n",
    "        break\n",
    "    i+=1\n",
    "print ('out of while loop')"
   ]
  },
  {
   "cell_type": "code",
   "execution_count": 25,
   "id": "1115ccde",
   "metadata": {},
   "outputs": [
    {
     "name": "stdout",
     "output_type": "stream",
     "text": [
      "1 2 3 4 5 8 9 10 "
     ]
    }
   ],
   "source": [
    "#continue statement\n",
    "\n",
    "for i in range(1,11):\n",
    "    \n",
    "#if i==6 , then continue to next iteration without printing\n",
    "    if i==6 or i==7:\n",
    "        continue\n",
    "    else:\n",
    "        print(i,end=\" \")"
   ]
  },
  {
   "cell_type": "code",
   "execution_count": null,
   "id": "b7d53702",
   "metadata": {},
   "outputs": [],
   "source": [
    "##pass stament \n",
    "##null statement \n",
    "#pass stament can be used in empty functions\n",
    "def newfunction():\n",
    "    pass\n",
    "\n",
    "#if we want to write codes later then we use pass function\n"
   ]
  },
  {
   "cell_type": "code",
   "execution_count": null,
   "id": "58ddc2b5",
   "metadata": {},
   "outputs": [],
   "source": [
    "#pass statement can be used in empty class\n",
    "class gk:\n",
    "    pass"
   ]
  },
  {
   "cell_type": "code",
   "execution_count": null,
   "id": "4e4597a3",
   "metadata": {},
   "outputs": [],
   "source": [
    "#pass statement can be used in for loop\n",
    "n=10\n",
    "for i in range (n):\n",
    "    pass"
   ]
  },
  {
   "cell_type": "code",
   "execution_count": null,
   "id": "6a698930",
   "metadata": {},
   "outputs": [],
   "source": [
    "##user defined functions\n",
    "##def  function_name(parameters):\n",
    "    \"\"\"docstring\"\"\"\n",
    "   ## statement(s)"
   ]
  },
  {
   "cell_type": "code",
   "execution_count": 28,
   "id": "d643e2f2",
   "metadata": {},
   "outputs": [],
   "source": [
    "def fun():\n",
    "    print (\"welcome to prog\")"
   ]
  },
  {
   "cell_type": "code",
   "execution_count": 29,
   "id": "0dce8e52",
   "metadata": {},
   "outputs": [
    {
     "name": "stdout",
     "output_type": "stream",
     "text": [
      "welcome to prog\n"
     ]
    }
   ],
   "source": [
    "fun()"
   ]
  },
  {
   "cell_type": "code",
   "execution_count": 30,
   "id": "254e7af0",
   "metadata": {},
   "outputs": [],
   "source": [
    "def square(x):\n",
    "    return x**2"
   ]
  },
  {
   "cell_type": "code",
   "execution_count": 31,
   "id": "c656adfe",
   "metadata": {},
   "outputs": [
    {
     "data": {
      "text/plain": [
       "16"
      ]
     },
     "execution_count": 31,
     "metadata": {},
     "output_type": "execute_result"
    }
   ],
   "source": [
    "square(4)"
   ]
  },
  {
   "cell_type": "code",
   "execution_count": 32,
   "id": "4fac4d0f",
   "metadata": {},
   "outputs": [],
   "source": [
    "def evenodd(x):\n",
    "    if (x%2==0):\n",
    "        print (\"even\")\n",
    "    else:\n",
    "        print (\"odd\")"
   ]
  },
  {
   "cell_type": "code",
   "execution_count": 33,
   "id": "a5e1b131",
   "metadata": {},
   "outputs": [
    {
     "name": "stdout",
     "output_type": "stream",
     "text": [
      "odd\n"
     ]
    }
   ],
   "source": [
    "evenodd(7)"
   ]
  },
  {
   "cell_type": "code",
   "execution_count": 38,
   "id": "f0a168fe",
   "metadata": {},
   "outputs": [],
   "source": [
    "#with default arguments\n",
    "def myfunc(x,y=50):\n",
    "    print(x)\n",
    "    print(y)"
   ]
  },
  {
   "cell_type": "code",
   "execution_count": 39,
   "id": "89ed8337",
   "metadata": {},
   "outputs": [
    {
     "name": "stdout",
     "output_type": "stream",
     "text": [
      "5\n",
      "50\n"
     ]
    }
   ],
   "source": [
    "myfunc(5)"
   ]
  },
  {
   "cell_type": "code",
   "execution_count": 40,
   "id": "38639a97",
   "metadata": {},
   "outputs": [],
   "source": [
    "def myfunc(x,y=50):\n",
    "    return x+y"
   ]
  },
  {
   "cell_type": "code",
   "execution_count": 41,
   "id": "75d26c35",
   "metadata": {},
   "outputs": [
    {
     "data": {
      "text/plain": [
       "110"
      ]
     },
     "execution_count": 41,
     "metadata": {},
     "output_type": "execute_result"
    }
   ],
   "source": [
    "myfunc(60)"
   ]
  },
  {
   "cell_type": "code",
   "execution_count": 42,
   "id": "ec9601d9",
   "metadata": {},
   "outputs": [
    {
     "name": "stdout",
     "output_type": "stream",
     "text": [
      "hello sheetal welcome\n"
     ]
    }
   ],
   "source": [
    "def fun2(name,msg='welcome'):\n",
    "    print ('hello', name,msg)\n",
    "fun2(\"sheetal\")"
   ]
  },
  {
   "cell_type": "code",
   "execution_count": null,
   "id": "afc18b2f",
   "metadata": {},
   "outputs": [],
   "source": [
    "#built in functions\n",
    "type(), print (),min (), max(), len()....."
   ]
  },
  {
   "cell_type": "code",
   "execution_count": 43,
   "id": "cff75055",
   "metadata": {},
   "outputs": [],
   "source": [
    "#anonymous function (lambda function)(one line function )\n",
    "square1=lambda x:x**2"
   ]
  },
  {
   "cell_type": "code",
   "execution_count": 44,
   "id": "2a4c6c35",
   "metadata": {},
   "outputs": [
    {
     "data": {
      "text/plain": [
       "9"
      ]
     },
     "execution_count": 44,
     "metadata": {},
     "output_type": "execute_result"
    }
   ],
   "source": [
    "square1(3)"
   ]
  },
  {
   "cell_type": "code",
   "execution_count": 45,
   "id": "5c9cd127",
   "metadata": {},
   "outputs": [],
   "source": [
    "sum1=lambda x,y:x+y"
   ]
  },
  {
   "cell_type": "code",
   "execution_count": 46,
   "id": "67f7ea84",
   "metadata": {},
   "outputs": [
    {
     "data": {
      "text/plain": [
       "5"
      ]
     },
     "execution_count": 46,
     "metadata": {},
     "output_type": "execute_result"
    }
   ],
   "source": [
    "sum1(2,3)"
   ]
  },
  {
   "cell_type": "code",
   "execution_count": 11,
   "id": "18576686",
   "metadata": {},
   "outputs": [
    {
     "name": "stdout",
     "output_type": "stream",
     "text": [
      "hello\n",
      "welcome\n",
      "to\n",
      "jigsaw\n"
     ]
    }
   ],
   "source": [
    "##python prog to illustrate *args for a variable number of arguments\n",
    "def myFun(*args):\n",
    "    for arg in args:\n",
    "        print(arg)\n",
    "        \n",
    "myFun('hello', 'welcome', 'to' , 'jigsaw')\n"
   ]
  },
  {
   "cell_type": "code",
   "execution_count": 13,
   "id": "0cce06db",
   "metadata": {},
   "outputs": [
    {
     "name": "stdout",
     "output_type": "stream",
     "text": [
      "First argument: hello\n",
      "next argument through *argv :   welcome\n",
      "next argument through *argv :   to\n",
      "next argument through *argv :  jigsaw\n"
     ]
    }
   ],
   "source": [
    "#python prog to illustrate *args with a first extra argument\n",
    "def myFun(arg1, *args):\n",
    "    print(\"First argument:\" , arg1)\n",
    "    for arg in args :\n",
    "        print( \"next argument through *argv : \" , arg)\n",
    "        \n",
    "myFun('hello', ' welcome', ' to' , 'jigsaw')"
   ]
  },
  {
   "cell_type": "code",
   "execution_count": 15,
   "id": "38591071",
   "metadata": {},
   "outputs": [
    {
     "name": "stdout",
     "output_type": "stream",
     "text": [
      "('first', 'hi')\n",
      "('mid', 'welcome')\n",
      "('last', 'all')\n"
     ]
    }
   ],
   "source": [
    "##python prog to illustrate *kwargs for variable number of keyword arguments\n",
    "def myFun(**kwargs):\n",
    "    for key,value in kwargs.items():\n",
    "        print ((key,value))\n",
    "        \n",
    "#driver code\n",
    "myFun(first = 'hi', mid ='welcome', last='all')"
   ]
  },
  {
   "cell_type": "code",
   "execution_count": 22,
   "id": "0cc53ee6",
   "metadata": {},
   "outputs": [
    {
     "name": "stdout",
     "output_type": "stream",
     "text": [
      "hi\n",
      "('first', 'welcome')\n",
      "('mid', 'to')\n",
      "('last', 'program')\n"
     ]
    }
   ],
   "source": [
    "#python program to illustrate *kwargs for a variable number of keyword arguments with one extra argument\n",
    "def myFun(arg1, **kwargs):\n",
    "    print  (arg1)\n",
    "    for key,value in kwargs.items():\n",
    "        print ((key,value))\n",
    "        \n",
    "#driver code\n",
    "myFun(\"hi\", first ='welcome', mid='to', last='program')"
   ]
  },
  {
   "cell_type": "code",
   "execution_count": 26,
   "id": "f3934060",
   "metadata": {},
   "outputs": [
    {
     "name": "stdout",
     "output_type": "stream",
     "text": [
      "arg1: geeks\n",
      "arg2: for\n",
      "arg3: geeks\n",
      "arg1: geeks\n",
      "arg2: for \n",
      "arg3: geeks\n"
     ]
    }
   ],
   "source": [
    "#using both *args and *kwargs to call a function\n",
    "\n",
    "def myFun(arg1, arg2,arg3 ):\n",
    "    print (\"arg1:\", arg1)\n",
    "    print (\"arg2:\" , arg2)\n",
    "    print (\"arg3:\", arg3)\n",
    "    \n",
    "#now we can use*args and *kwargs to pass arguments to this function\n",
    "args = (\"geeks\", \"for\", \"geeks\")\n",
    "myFun (*args)\n",
    "kwargs = {\"arg1\" : \"geeks\", \"arg2\" : \"for \", \"arg3\": \"geeks\"}\n",
    "myFun(**kwargs)"
   ]
  },
  {
   "cell_type": "code",
   "execution_count": 28,
   "id": "d3ac6a10",
   "metadata": {},
   "outputs": [
    {
     "name": "stdout",
     "output_type": "stream",
     "text": [
      "1\n",
      "2\n",
      "3\n"
     ]
    }
   ],
   "source": [
    "##generators\n",
    "def simpleGeneratorFun():\n",
    "    yield 1\n",
    "    yield 2\n",
    "    yield 3\n",
    "#driver code to check above generator func\n",
    "for value in simpleGeneratorFun():\n",
    "    print(value)"
   ]
  },
  {
   "cell_type": "code",
   "execution_count": 30,
   "id": "02597e68",
   "metadata": {},
   "outputs": [
    {
     "data": {
      "text/plain": [
       "1"
      ]
     },
     "execution_count": 30,
     "metadata": {},
     "output_type": "execute_result"
    }
   ],
   "source": [
    "y= simpleGeneratorFun()\n",
    "next(y)"
   ]
  },
  {
   "cell_type": "code",
   "execution_count": 31,
   "id": "35841619",
   "metadata": {},
   "outputs": [
    {
     "data": {
      "text/plain": [
       "2"
      ]
     },
     "execution_count": 31,
     "metadata": {},
     "output_type": "execute_result"
    }
   ],
   "source": [
    "next(y)"
   ]
  },
  {
   "cell_type": "code",
   "execution_count": 32,
   "id": "e1cbfb32",
   "metadata": {},
   "outputs": [
    {
     "data": {
      "text/plain": [
       "3"
      ]
     },
     "execution_count": 32,
     "metadata": {},
     "output_type": "execute_result"
    }
   ],
   "source": [
    "next(y)"
   ]
  },
  {
   "cell_type": "code",
   "execution_count": 33,
   "id": "6f41fe16",
   "metadata": {},
   "outputs": [
    {
     "name": "stdout",
     "output_type": "stream",
     "text": [
      "[1, 2, 3]\n"
     ]
    }
   ],
   "source": [
    "x=simpleGeneratorFun()\n",
    "print(list(x))"
   ]
  },
  {
   "cell_type": "code",
   "execution_count": 34,
   "id": "93f51c09",
   "metadata": {},
   "outputs": [],
   "source": [
    "def mygenerator():\n",
    "    print('first item')\n",
    "    yield 10\n",
    "    \n",
    "    print('second item')\n",
    "    yield 20\n",
    "    \n",
    "    print('last item')\n",
    "    yield 30"
   ]
  },
  {
   "cell_type": "code",
   "execution_count": 41,
   "id": "9ea9d764",
   "metadata": {},
   "outputs": [
    {
     "name": "stdout",
     "output_type": "stream",
     "text": [
      "first item\n"
     ]
    },
    {
     "data": {
      "text/plain": [
       "10"
      ]
     },
     "execution_count": 41,
     "metadata": {},
     "output_type": "execute_result"
    }
   ],
   "source": [
    "new1=mygenerator()\n",
    "next(new1)"
   ]
  },
  {
   "cell_type": "code",
   "execution_count": 42,
   "id": "1c943140",
   "metadata": {},
   "outputs": [
    {
     "name": "stdout",
     "output_type": "stream",
     "text": [
      "second item\n"
     ]
    },
    {
     "data": {
      "text/plain": [
       "20"
      ]
     },
     "execution_count": 42,
     "metadata": {},
     "output_type": "execute_result"
    }
   ],
   "source": [
    "next(new1)"
   ]
  },
  {
   "cell_type": "code",
   "execution_count": 43,
   "id": "3e7c5c52",
   "metadata": {},
   "outputs": [
    {
     "name": "stdout",
     "output_type": "stream",
     "text": [
      "last item\n"
     ]
    },
    {
     "data": {
      "text/plain": [
       "30"
      ]
     },
     "execution_count": 43,
     "metadata": {},
     "output_type": "execute_result"
    }
   ],
   "source": [
    "next(new1)"
   ]
  },
  {
   "cell_type": "code",
   "execution_count": 44,
   "id": "12b089dc",
   "metadata": {},
   "outputs": [],
   "source": [
    "def mygenerator():\n",
    "    print('first item')\n",
    "    yield 10\n",
    "    \n",
    "    return\n",
    "    \n",
    "    print('second item')\n",
    "    yield 20\n",
    "    \n",
    "    print('last item')\n",
    "    yield 30"
   ]
  },
  {
   "cell_type": "code",
   "execution_count": 45,
   "id": "b908d499",
   "metadata": {},
   "outputs": [
    {
     "name": "stdout",
     "output_type": "stream",
     "text": [
      "first item\n"
     ]
    },
    {
     "data": {
      "text/plain": [
       "10"
      ]
     },
     "execution_count": 45,
     "metadata": {},
     "output_type": "execute_result"
    }
   ],
   "source": [
    "new1=mygenerator()\n",
    "next(new1)"
   ]
  },
  {
   "cell_type": "code",
   "execution_count": 47,
   "id": "e11d26a6",
   "metadata": {},
   "outputs": [],
   "source": [
    "#use for loop with generator function\n",
    "def get_sequence_upto(x):\n",
    "    for i in range (x):\n",
    "        yield i"
   ]
  },
  {
   "cell_type": "code",
   "execution_count": 48,
   "id": "babfdc20",
   "metadata": {},
   "outputs": [
    {
     "data": {
      "text/plain": [
       "0"
      ]
     },
     "execution_count": 48,
     "metadata": {},
     "output_type": "execute_result"
    }
   ],
   "source": [
    "seq=get_sequence_upto(5)\n",
    "next(seq)"
   ]
  },
  {
   "cell_type": "code",
   "execution_count": 49,
   "id": "f5dff91c",
   "metadata": {},
   "outputs": [
    {
     "data": {
      "text/plain": [
       "1"
      ]
     },
     "execution_count": 49,
     "metadata": {},
     "output_type": "execute_result"
    }
   ],
   "source": [
    "next(seq)"
   ]
  },
  {
   "cell_type": "code",
   "execution_count": 57,
   "id": "c20fd028",
   "metadata": {},
   "outputs": [],
   "source": [
    "#square of sequence values \n",
    "def square_of_sequence(x):\n",
    "    for i in range (x):\n",
    "        yield i*i"
   ]
  },
  {
   "cell_type": "code",
   "execution_count": 59,
   "id": "2b78e778",
   "metadata": {},
   "outputs": [
    {
     "name": "stdout",
     "output_type": "stream",
     "text": [
      "0\n",
      "1\n",
      "4\n",
      "9\n"
     ]
    }
   ],
   "source": [
    "s=square_of_sequence(4)\n",
    "print(next(s))\n",
    "print(next(s))\n",
    "print(next(s))\n",
    "print(next(s))"
   ]
  },
  {
   "cell_type": "code",
   "execution_count": null,
   "id": "506acbd9",
   "metadata": {},
   "outputs": [],
   "source": [
    "def simpleGeneratorFun():\n",
    "    yield 1\n",
    "    yield 2\n",
    "    yield 3\n",
    "### Generator object\n",
    "x=simpleGeneratorFun()\n",
    "#x is a generator object \n",
    "#list()\n",
    "#next"
   ]
  },
  {
   "cell_type": "code",
   "execution_count": null,
   "id": "2d6142d0",
   "metadata": {},
   "outputs": [],
   "source": [
    "##deCORATOR"
   ]
  },
  {
   "cell_type": "code",
   "execution_count": 61,
   "id": "ad8e09e8",
   "metadata": {},
   "outputs": [
    {
     "name": "stdout",
     "output_type": "stream",
     "text": [
      "enter stringshobhit\n",
      "s\n",
      "o\n",
      "h\n",
      "t\n"
     ]
    }
   ],
   "source": [
    "#PRINT CHARACTERS From string at even index\n",
    "s= input(\"enter string\")\n",
    "for i in range (len(s)):\n",
    "    if(i%2==0):\n",
    "        print (s[i])"
   ]
  },
  {
   "cell_type": "code",
   "execution_count": 62,
   "id": "bc10cd10",
   "metadata": {},
   "outputs": [
    {
     "name": "stdout",
     "output_type": "stream",
     "text": [
      "18\n",
      "16\n",
      "14\n",
      "12\n",
      "10\n",
      "8\n",
      "6\n",
      "4\n",
      "2\n",
      "0\n"
     ]
    }
   ],
   "source": [
    "##print first 10 even numbers in reverse order\n",
    "for i in range (20,0,-2):\n",
    "    if i %2 ==0:\n",
    "        print(i)\n",
    "    "
   ]
  },
  {
   "cell_type": "code",
   "execution_count": 154,
   "id": "cbc42a1f",
   "metadata": {},
   "outputs": [
    {
     "name": "stdout",
     "output_type": "stream",
     "text": [
      "enter any number:67\n",
      "67 134 201 268 335 402 469 536 603 670 "
     ]
    }
   ],
   "source": [
    "##print 10 multiples of any nymber\n",
    "x=int(input(\"enter any number:\"))\n",
    "for i in range(1,11):\n",
    "    print(x*i , end=\" \")"
   ]
  },
  {
   "cell_type": "code",
   "execution_count": 66,
   "id": "16ce285a",
   "metadata": {},
   "outputs": [
    {
     "name": "stdout",
     "output_type": "stream",
     "text": [
      "enter any number :67\n",
      "36471110918188685288249859096605464427167635314049524593701628500267962436943872000000000000000\n"
     ]
    }
   ],
   "source": [
    "##factorial of a number\n",
    "n=int(input(\"enter any number :\"))\n",
    "factorial=1\n",
    "for i in range (1,n+1):\n",
    "    factorial=factorial*i\n",
    "    \n",
    "print(factorial)\n",
    "    \n",
    "    "
   ]
  },
  {
   "cell_type": "code",
   "execution_count": 73,
   "id": "a1cab422",
   "metadata": {},
   "outputs": [
    {
     "name": "stdout",
     "output_type": "stream",
     "text": [
      "121 143 165 187 209 231 253 275 297 319 341 363 385 407 429 451 473 495 "
     ]
    }
   ],
   "source": [
    "##divisible by 11 but not by 2\n",
    "for i in range (100,500):\n",
    "    if ((i%11==0) and (i%2!=0)):\n",
    "        print(i, end=\" \")"
   ]
  },
  {
   "cell_type": "code",
   "execution_count": 76,
   "id": "d07785d0",
   "metadata": {},
   "outputs": [
    {
     "name": "stdout",
     "output_type": "stream",
     "text": [
      "1 2 3 4 5 6 7 8 9 10 "
     ]
    }
   ],
   "source": [
    "##first 10 natural numbers using while loop\n",
    "i=1\n",
    "while (i <=10):\n",
    "    \n",
    "    print(i,end=\" \")\n",
    "    i+=1"
   ]
  },
  {
   "cell_type": "code",
   "execution_count": 156,
   "id": "1424bf9a",
   "metadata": {},
   "outputs": [
    {
     "name": "stdout",
     "output_type": "stream",
     "text": [
      "56\n",
      "2\n"
     ]
    }
   ],
   "source": [
    "##count  of digits in a number\n",
    "n=int(input())\n",
    "count=0\n",
    "while(n>0):\n",
    "    count=count +1\n",
    "    n=n//10\n",
    "print (count)"
   ]
  },
  {
   "cell_type": "code",
   "execution_count": 88,
   "id": "ac36f792",
   "metadata": {},
   "outputs": [
    {
     "name": "stdout",
     "output_type": "stream",
     "text": [
      "enter a number567\n",
      "3\n"
     ]
    }
   ],
   "source": []
  },
  {
   "cell_type": "code",
   "execution_count": 92,
   "id": "2daedd4b",
   "metadata": {},
   "outputs": [
    {
     "name": "stdout",
     "output_type": "stream",
     "text": [
      "183629614551000\n"
     ]
    }
   ],
   "source": [
    "##sum of even numbers using while loop\n",
    "i=1\n",
    "sum=0\n",
    "while (i<=27102000):\n",
    "    if (i%2==0):\n",
    "        sum =sum+i\n",
    "    i=i+1\n",
    "print(sum)\n"
   ]
  },
  {
   "cell_type": "code",
   "execution_count": 95,
   "id": "481f50f0",
   "metadata": {},
   "outputs": [
    {
     "name": "stdout",
     "output_type": "stream",
     "text": [
      "enter any number:6\n",
      "6 12 18 24 30 36 42 48 54 60 "
     ]
    }
   ],
   "source": [
    "##10 multiples of any number\n",
    "n=int(input(\"enter any number:\"))\n",
    "i=1\n",
    "while (i <=10):\n",
    "    print (i*n , end = \" \")\n",
    "    i=i+1\n"
   ]
  },
  {
   "cell_type": "code",
   "execution_count": 161,
   "id": "8dfa8349",
   "metadata": {},
   "outputs": [
    {
     "name": "stdout",
     "output_type": "stream",
     "text": [
      "enter no: 67\n"
     ]
    }
   ],
   "source": [
    "##square of number using while loop\n",
    "n = int(input(\"enter no: \"))\n",
    "\n",
    "\n",
    "while n <= 5:\n",
    "    squareNum = n**2\n",
    "    print(n,squareNum)\n",
    "    n += 1"
   ]
  },
  {
   "cell_type": "code",
   "execution_count": 107,
   "id": "bd1e518d",
   "metadata": {},
   "outputs": [
    {
     "name": "stdout",
     "output_type": "stream",
     "text": [
      "enter any number : 4\n",
      "enter any number : 6\n",
      "enter any number : 7\n",
      "enter any number : 8\n",
      "enter any number : 9\n",
      "6.8\n"
     ]
    }
   ],
   "source": [
    "##avg of 5 numbers using while loop\n",
    "sum=0\n",
    "i=1\n",
    "while (i<=5):\n",
    "    n=int(input(\"enter any number : \"))\n",
    "    i+=1\n",
    "    sum+=n\n",
    "print(sum/5)\n",
    "\n",
    "    "
   ]
  },
  {
   "cell_type": "code",
   "execution_count": 127,
   "id": "e75474e6",
   "metadata": {},
   "outputs": [
    {
     "name": "stdout",
     "output_type": "stream",
     "text": [
      "a b c d e f g h "
     ]
    }
   ],
   "source": [
    "##print hello excepy y and o\n",
    "s='abcdoyoyefygoh'\n",
    "\n",
    "i=0\n",
    "while(i<len(s)):\n",
    "    if(s[i]=='o' or s[i]=='y'):\n",
    "        i+=1\n",
    "        continue\n",
    "    else:\n",
    "        print(s[i], end=\" \")\n",
    "    i+=1\n",
    "    "
   ]
  },
  {
   "cell_type": "code",
   "execution_count": 111,
   "id": "2dfea3cc",
   "metadata": {},
   "outputs": [
    {
     "name": "stdout",
     "output_type": "stream",
     "text": [
      "j\n",
      "i\n",
      "g\n",
      "s\n",
      "a\n",
      "out of while loop\n"
     ]
    }
   ],
   "source": [
    "s= 'jigsaw-unext'\n",
    "i=0\n",
    "while True :\n",
    "    print(s[i])\n",
    "    if s[i] == 'a' or s[i]=='e':\n",
    "        break\n",
    "    i+=1\n",
    "print ('out of while loop')"
   ]
  },
  {
   "cell_type": "code",
   "execution_count": 130,
   "id": "58523b5f",
   "metadata": {},
   "outputs": [
    {
     "name": "stdout",
     "output_type": "stream",
     "text": [
      "enter any number:45\n",
      "sum of digits of a number is : 9\n"
     ]
    }
   ],
   "source": [
    "##sum of digits of a number\n",
    "n=int(input(\"enter any number:\"))\n",
    "sum=0\n",
    "while n>0:\n",
    "    d=n%10\n",
    "    n=n//10\n",
    "    sum+=d\n",
    "print(\"sum of digits of a number is :\" , sum)\n",
    "    "
   ]
  },
  {
   "cell_type": "code",
   "execution_count": 131,
   "id": "b9bdf631",
   "metadata": {},
   "outputs": [
    {
     "name": "stdout",
     "output_type": "stream",
     "text": [
      "Name:  Shobhit salary:  50000\n"
     ]
    }
   ],
   "source": [
    "##function for name and age \n",
    "def show_employee(n, s=9000):\n",
    "    print(\"Name: \",n, \"salary: \",s)\n",
    "    \n",
    "show_employee(\"Shobhit\" , 50000)"
   ]
  },
  {
   "cell_type": "code",
   "execution_count": 152,
   "id": "2f9282b9",
   "metadata": {},
   "outputs": [
    {
     "name": "stdout",
     "output_type": "stream",
     "text": [
      "emma 26\n"
     ]
    }
   ],
   "source": [
    "def display_student (name,age):\n",
    "    print (name ,age)\n",
    "    \n",
    "##call using original name \n",
    "#display_student (\"emma\", 26)\n",
    "\n",
    "#assign new name \n",
    "showStudent = display_student \n",
    "showStudent(\"emma\",26)\n"
   ]
  },
  {
   "cell_type": "code",
   "execution_count": 153,
   "id": "48b58c31",
   "metadata": {},
   "outputs": [
    {
     "name": "stdout",
     "output_type": "stream",
     "text": [
      "ben  25\n"
     ]
    }
   ],
   "source": [
    "def demo (name,age):\n",
    "    print (name,age)\n",
    "    \n",
    "demo(\"ben \", 25)"
   ]
  },
  {
   "cell_type": "code",
   "execution_count": 174,
   "id": "6158b542",
   "metadata": {},
   "outputs": [
    {
     "name": "stdout",
     "output_type": "stream",
     "text": [
      "enter no4\n"
     ]
    },
    {
     "data": {
      "text/plain": [
       "False"
      ]
     },
     "execution_count": 174,
     "metadata": {},
     "output_type": "execute_result"
    }
   ],
   "source": [
    "##test prime or not\n",
    "def test_prime(n):\n",
    "    if (n==1):\n",
    "        return False\n",
    "    elif (n==2):\n",
    "        return True;\n",
    "    else:\n",
    "        for x in range(2,n):\n",
    "            if(n % x==0):\n",
    "                return False\n",
    "                break\n",
    "        return True \n",
    "x=int(input(\"enter no\"))\n",
    "test_prime(x)"
   ]
  },
  {
   "cell_type": "code",
   "execution_count": 134,
   "id": "0a785454",
   "metadata": {},
   "outputs": [
    {
     "name": "stdout",
     "output_type": "stream",
     "text": [
      "enter cost price:49999\n",
      "no tax\n"
     ]
    }
   ],
   "source": [
    "##accept cost price and show tax\n",
    "cp=int(input(\"enter cost price:\"))\n",
    "if (cp >100000):\n",
    "    tax =\"15%\"\n",
    "elif (50000<cp<=100000):\n",
    "    tax =\"10%\"\n",
    "else:\n",
    "    tax=\"no tax\"\n",
    "    \n",
    "print(tax)"
   ]
  },
  {
   "cell_type": "code",
   "execution_count": 137,
   "id": "2bd3b8e6",
   "metadata": {},
   "outputs": [
    {
     "name": "stdout",
     "output_type": "stream",
     "text": [
      "enter age60\n",
      "senior citizen\n"
     ]
    }
   ],
   "source": [
    "##prog to check person is senior citizen or not\n",
    "age=int(input(\"enter age\"))\n",
    "if (age >=60):\n",
    "    print(\"senior citizen\")\n",
    "else :\n",
    "    print (\"still young \")\n",
    " "
   ]
  },
  {
   "cell_type": "code",
   "execution_count": 141,
   "id": "cd27e910",
   "metadata": {},
   "outputs": [
    {
     "name": "stdout",
     "output_type": "stream",
     "text": [
      "enter a number :78\n",
      "divisible by 2 or 3\n"
     ]
    }
   ],
   "source": [
    "n= int(input(\"enter a number :\"))\n",
    "if (n %2==0) or (n%3==0):\n",
    "    print (\"divisible by 2 or 3\")\n",
    "    \n",
    "else:\n",
    "    print(\"not divisible by either \")"
   ]
  },
  {
   "cell_type": "code",
   "execution_count": 144,
   "id": "871f2052",
   "metadata": {},
   "outputs": [
    {
     "name": "stdout",
     "output_type": "stream",
     "text": [
      "enter any temperature99.5\n",
      "not boiling\n"
     ]
    }
   ],
   "source": [
    "temp = float(input(\"enter any temperature\"))\n",
    "if (temp >=100):\n",
    "    print (\"boiling point reached\")\n",
    "else :\n",
    "    print (\"not boiling\")"
   ]
  },
  {
   "cell_type": "code",
   "execution_count": 151,
   "id": "58b74b5d",
   "metadata": {},
   "outputs": [
    {
     "name": "stdout",
     "output_type": "stream",
     "text": [
      "enter any alphabet : A\n",
      " vowels \n"
     ]
    }
   ],
   "source": [
    "alpha = str(input(\"enter any alphabet : \"))\n",
    "if ((alpha.lower() == \"a\") or (alpha.lower() == \"e\") or (alpha.lower()== \"i\") or (alpha.lower() == \"o\") or (alpha.lower() == \"u\")):\n",
    "    print (\" vowels \")\n",
    "else :\n",
    "    print (\" not vowels\")"
   ]
  },
  {
   "cell_type": "code",
   "execution_count": 165,
   "id": "1141ec65",
   "metadata": {},
   "outputs": [
    {
     "name": "stdout",
     "output_type": "stream",
     "text": [
      "enter any character a\n",
      "vowel\n"
     ]
    }
   ],
   "source": [
    "##vowel or not\n",
    "ch=input(\"enter any character \")\n",
    "vow = \"aeiouAEIOU\"\n",
    "if ch in vow:\n",
    "    print(\"vowel\")\n",
    "else :\n",
    "    print (\"not vowel\")"
   ]
  },
  {
   "cell_type": "code",
   "execution_count": 166,
   "id": "b99b28db",
   "metadata": {},
   "outputs": [
    {
     "name": "stdout",
     "output_type": "stream",
     "text": [
      "enter no of working days100\n",
      "enter no of days absent67\n",
      "not eligible\n"
     ]
    }
   ],
   "source": [
    "##check person is eligible for exam or not\n",
    "nwd= int(input(\"enter no of working days\"))\n",
    "nda= int(input(\"enter no of days absent\"))\n",
    "per= (nwd-nda)/nwd *100\n",
    "if per <75:\n",
    "    print(\"not eligible\")\n",
    "else :\n",
    "    print (\"eligible\")"
   ]
  },
  {
   "cell_type": "code",
   "execution_count": 168,
   "id": "eab58081",
   "metadata": {},
   "outputs": [
    {
     "name": "stdout",
     "output_type": "stream",
     "text": [
      "enter your age40\n",
      "enter sex M/F m\n",
      "enter no of days worked77\n",
      "Total wages is :  61600\n"
     ]
    }
   ],
   "source": [
    "##calculate total wages\n",
    "age = int(input(\"enter your age :\"))\n",
    "sex= input (\"enter sex M/F :\")\n",
    "nd= int(input(\"enter no of days worked :\"))\n",
    "if age >=18 and age < 30 and sex.upper( ) == 'M':\n",
    "     amt = nd*700\n",
    "     print(\"Total wages is : \", amt)\n",
    "elif age >=18 and age < 30 and sex.upper( ) == 'F':\n",
    "     amt = nd*750\n",
    "     print(\"Total wages is : \", amt)\n",
    "elif age >=30 and age <= 40 and sex.upper( ) == 'M':\n",
    "     amt = nd * 800\n",
    "     print(\"Total wages is : \", amt)\n",
    "elif age >=30 and age <= 40 and sex.upper( ) == 'F':\n",
    "     amt = nd * 850\n",
    "     print(\"Total wages is : \", amt)\n",
    "else:\n",
    "     print(\"Enter appropriate age\")"
   ]
  },
  {
   "cell_type": "code",
   "execution_count": 169,
   "id": "a9279f9c",
   "metadata": {},
   "outputs": [
    {
     "name": "stdout",
     "output_type": "stream",
     "text": [
      "88\n",
      "24316.16\n"
     ]
    }
   ],
   "source": [
    "##calculate area of circle if radius is given\n",
    "def area(radius):\n",
    "    area=3.14*radius*radius\n",
    "    print(area)\n",
    "radius=int(input())\n",
    "area(radius)"
   ]
  },
  {
   "cell_type": "code",
   "execution_count": null,
   "id": "ca469517",
   "metadata": {},
   "outputs": [],
   "source": [
    "##write a program to show 1 as sunday 2 as monday\n",
    "num=int(input(\"Enter any number between 1 to 7 : \"))\n",
    "if num==1:\n",
    "    print(\"Sunday\")\n",
    "elif num==2:\n",
    "    print(\"Monday\")\n",
    "elif num==3:\n",
    "    print(\"Tuesday\")\n",
    "elif num==4:\n",
    "   print(\"Wednesday\")\n",
    "elif num==5:\n",
    "   print(\"Thursday\")\n",
    "elif num==6:\n",
    "   print(\"Friday\")\n",
    "elif num==2:\n",
    "   print(\"Saturday\")\n",
    "else:\n",
    "   print(\"Please enter number between 1 to 7\")"
   ]
  }
 ],
 "metadata": {
  "kernelspec": {
   "display_name": "Python 3 (ipykernel)",
   "language": "python",
   "name": "python3"
  },
  "language_info": {
   "codemirror_mode": {
    "name": "ipython",
    "version": 3
   },
   "file_extension": ".py",
   "mimetype": "text/x-python",
   "name": "python",
   "nbconvert_exporter": "python",
   "pygments_lexer": "ipython3",
   "version": "3.9.12"
  }
 },
 "nbformat": 4,
 "nbformat_minor": 5
}
