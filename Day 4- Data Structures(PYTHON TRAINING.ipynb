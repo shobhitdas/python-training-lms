{
 "cells": [
  {
   "cell_type": "markdown",
   "id": "1a80b102",
   "metadata": {},
   "source": [
    "### Data Structures\n",
    "\n",
    "         - Lists\n",
    "    \n",
    "         - Tuple\n",
    "        \n",
    "         - Dictionary\n",
    "            \n",
    "         - Set\n",
    "        \n",
    "### List Comprehension"
   ]
  },
  {
   "cell_type": "markdown",
   "id": "42c2e01d",
   "metadata": {},
   "source": [
    "#### Data Structures in Python\n",
    "##### Lists"
   ]
  },
  {
   "cell_type": "code",
   "execution_count": null,
   "id": "8371ad4b",
   "metadata": {},
   "outputs": [],
   "source": [
    "An ordered sequence of values enclosed within [ ].\n",
    "\n",
    "- List can be created by [] or list()\n",
    "\n",
    "- Lists are mutable : Can do changes\n",
    "\n",
    "-  List can contain multiple data types\n",
    "\n",
    "- Lists are iterables"
   ]
  },
  {
   "cell_type": "code",
   "execution_count": null,
   "id": "93500aaa",
   "metadata": {},
   "outputs": [],
   "source": [
    "# Create an empty list\n",
    "\n"
   ]
  },
  {
   "cell_type": "code",
   "execution_count": null,
   "id": "9d2cc50f",
   "metadata": {},
   "outputs": [],
   "source": [
    "# create a list with int data types\n"
   ]
  },
  {
   "cell_type": "code",
   "execution_count": 1,
   "id": "139194c1",
   "metadata": {},
   "outputs": [
    {
     "data": {
      "text/plain": [
       "['hi', 'he']"
      ]
     },
     "execution_count": 1,
     "metadata": {},
     "output_type": "execute_result"
    }
   ],
   "source": [
    "# create a list with string data type \n",
    "newlist2 = ['hi', 'he']\n",
    "newlist2\n"
   ]
  },
  {
   "cell_type": "code",
   "execution_count": 6,
   "id": "77d50381",
   "metadata": {},
   "outputs": [
    {
     "data": {
      "text/plain": [
       "[1, 'h', True]"
      ]
     },
     "execution_count": 6,
     "metadata": {},
     "output_type": "execute_result"
    }
   ],
   "source": [
    "# create a list with mixed data types\n",
    "newlist3=[1,'h',True]\n",
    "newlist3"
   ]
  },
  {
   "cell_type": "code",
   "execution_count": 8,
   "id": "6872b83d",
   "metadata": {},
   "outputs": [
    {
     "data": {
      "text/plain": [
       "[3, 6.5, 'age', True]"
      ]
     },
     "execution_count": 8,
     "metadata": {},
     "output_type": "execute_result"
    }
   ],
   "source": [
    "# Lists are mutable\n",
    "# change the value '5' into '0' in the list ls3\n",
    "ls3=[5,6.5,'age',True]\n",
    "ls3[0]=3\n",
    "ls3"
   ]
  },
  {
   "cell_type": "code",
   "execution_count": 9,
   "id": "56313591",
   "metadata": {},
   "outputs": [
    {
     "data": {
      "text/plain": [
       "'age'"
      ]
     },
     "execution_count": 9,
     "metadata": {},
     "output_type": "execute_result"
    }
   ],
   "source": [
    "# Extract 'age' from the list ls3\n",
    "ls3[2]"
   ]
  },
  {
   "cell_type": "code",
   "execution_count": 11,
   "id": "18c666d3",
   "metadata": {},
   "outputs": [
    {
     "data": {
      "text/plain": [
       "'e'"
      ]
     },
     "execution_count": 11,
     "metadata": {},
     "output_type": "execute_result"
    }
   ],
   "source": [
    "# Extract 'e'  from the list ls3\n",
    "ls3[2][2]"
   ]
  },
  {
   "cell_type": "code",
   "execution_count": 14,
   "id": "ec42fa2a",
   "metadata": {},
   "outputs": [
    {
     "data": {
      "text/plain": [
       "['age', True]"
      ]
     },
     "execution_count": 14,
     "metadata": {},
     "output_type": "execute_result"
    }
   ],
   "source": [
    "# Extract 'age',True from the list ls3\n",
    "ls3[2:4]"
   ]
  },
  {
   "cell_type": "code",
   "execution_count": 15,
   "id": "21a8653f",
   "metadata": {},
   "outputs": [
    {
     "data": {
      "text/plain": [
       "[3, 4]"
      ]
     },
     "execution_count": 15,
     "metadata": {},
     "output_type": "execute_result"
    }
   ],
   "source": [
    "ls4= [25,31,[3,4],-5]\n",
    "# extract [3,4] from the list ls4.\n",
    "ls4[2]"
   ]
  },
  {
   "cell_type": "code",
   "execution_count": 23,
   "id": "3d7e4da5",
   "metadata": {},
   "outputs": [
    {
     "data": {
      "text/plain": [
       "[43, 89]"
      ]
     },
     "execution_count": 23,
     "metadata": {},
     "output_type": "execute_result"
    }
   ],
   "source": [
    "first=[2,34,5,[56,81,[43,89],67],10]\n",
    "# extract [43,89]\n",
    "# extract 89\n",
    "first[3][2]"
   ]
  },
  {
   "cell_type": "code",
   "execution_count": 24,
   "id": "656f9066",
   "metadata": {},
   "outputs": [
    {
     "data": {
      "text/plain": [
       "[43, 89]"
      ]
     },
     "execution_count": 24,
     "metadata": {},
     "output_type": "execute_result"
    }
   ],
   "source": [
    "# extract [43,89]\n",
    "first[3][2]"
   ]
  },
  {
   "cell_type": "code",
   "execution_count": 25,
   "id": "c967437d",
   "metadata": {},
   "outputs": [
    {
     "data": {
      "text/plain": [
       "89"
      ]
     },
     "execution_count": 25,
     "metadata": {},
     "output_type": "execute_result"
    }
   ],
   "source": [
    "# extract 89\n",
    "first[3][2][1]"
   ]
  },
  {
   "cell_type": "code",
   "execution_count": 26,
   "id": "e10665e6",
   "metadata": {},
   "outputs": [
    {
     "name": "stdout",
     "output_type": "stream",
     "text": [
      "[1, 2, 3, 5, 6]\n"
     ]
    }
   ],
   "source": [
    "#extend\n",
    "newlist1=[1,2,3]\n",
    "newlist2=[5,6]\n",
    "\n",
    "newlist1.extend(newlist2)\n",
    "print(newlist1)"
   ]
  },
  {
   "cell_type": "code",
   "execution_count": 29,
   "id": "14698a94",
   "metadata": {},
   "outputs": [
    {
     "name": "stdout",
     "output_type": "stream",
     "text": [
      "[6, 7, 8, [9, 10]]\n"
     ]
    }
   ],
   "source": [
    "# append\n",
    "newlist3=[6,7,8]\n",
    "newlist4=[9,10]\n",
    "\n",
    "newlist3.append(newlist4)\n",
    "print(newlist3)"
   ]
  },
  {
   "cell_type": "code",
   "execution_count": 30,
   "id": "27788664",
   "metadata": {},
   "outputs": [
    {
     "data": {
      "text/plain": [
       "[6, 7, 8, [9, 10], 9, 10]"
      ]
     },
     "execution_count": 30,
     "metadata": {},
     "output_type": "execute_result"
    }
   ],
   "source": [
    "newlist3+newlist4"
   ]
  },
  {
   "cell_type": "code",
   "execution_count": 31,
   "id": "c878f8a4",
   "metadata": {},
   "outputs": [
    {
     "data": {
      "text/plain": [
       "[12, 9, 10]"
      ]
     },
     "execution_count": 31,
     "metadata": {},
     "output_type": "execute_result"
    }
   ],
   "source": [
    "# insert\n",
    "#syntax: listobject.insert(index,value)\n",
    "newlist4.insert(0,12)\n",
    "newlist4"
   ]
  },
  {
   "cell_type": "code",
   "execution_count": null,
   "id": "2911d35c",
   "metadata": {},
   "outputs": [],
   "source": []
  },
  {
   "cell_type": "code",
   "execution_count": null,
   "id": "096501e8",
   "metadata": {},
   "outputs": [],
   "source": [
    "\n"
   ]
  },
  {
   "cell_type": "code",
   "execution_count": 32,
   "id": "180dd055",
   "metadata": {},
   "outputs": [
    {
     "data": {
      "text/plain": [
       "12"
      ]
     },
     "execution_count": 32,
     "metadata": {},
     "output_type": "execute_result"
    }
   ],
   "source": [
    "#pop\n",
    "# listobject.pop(index) \n",
    "# list object.pop()--> removes last element in the list\n",
    "newlist4.pop(0)"
   ]
  },
  {
   "cell_type": "code",
   "execution_count": 35,
   "id": "e71bd95a",
   "metadata": {},
   "outputs": [
    {
     "data": {
      "text/plain": [
       "8"
      ]
     },
     "execution_count": 35,
     "metadata": {},
     "output_type": "execute_result"
    }
   ],
   "source": [
    "newlist3.pop(2)\n"
   ]
  },
  {
   "cell_type": "code",
   "execution_count": null,
   "id": "e6eb011c",
   "metadata": {},
   "outputs": [],
   "source": []
  },
  {
   "cell_type": "code",
   "execution_count": null,
   "id": "061feb1f",
   "metadata": {},
   "outputs": [],
   "source": [
    "## remove \n",
    "# syntax: listobject.remove(value)"
   ]
  },
  {
   "cell_type": "code",
   "execution_count": 39,
   "id": "a3b90c02",
   "metadata": {},
   "outputs": [
    {
     "data": {
      "text/plain": [
       "[1, 'hi', 'wel', 8]"
      ]
     },
     "execution_count": 39,
     "metadata": {},
     "output_type": "execute_result"
    }
   ],
   "source": [
    "list_1= [1,2,'hi','wel', 8]\n",
    "list_1.remove(2)\n",
    "list_1"
   ]
  },
  {
   "cell_type": "code",
   "execution_count": 41,
   "id": "272e4cc4",
   "metadata": {},
   "outputs": [
    {
     "data": {
      "text/plain": [
       "[2, 34, 5, [56, 81, [43, 89], 67], 10, 57]"
      ]
     },
     "execution_count": 41,
     "metadata": {},
     "output_type": "execute_result"
    }
   ],
   "source": [
    "first = [2,34,5,[56,81,[43,89],67],10,59,57]\n",
    "first.remove(59)\n",
    "first"
   ]
  },
  {
   "cell_type": "code",
   "execution_count": 44,
   "id": "ce2c2288",
   "metadata": {},
   "outputs": [
    {
     "data": {
      "text/plain": [
       "[2, 34, 5, [56, [43, 89], 67], 10, 57]"
      ]
     },
     "execution_count": 44,
     "metadata": {},
     "output_type": "execute_result"
    }
   ],
   "source": [
    "##to remove inner list in a list\n",
    "del(first[3][1])\n",
    "first"
   ]
  },
  {
   "cell_type": "code",
   "execution_count": null,
   "id": "7b89da81",
   "metadata": {},
   "outputs": [],
   "source": []
  },
  {
   "cell_type": "code",
   "execution_count": 47,
   "id": "754370f8",
   "metadata": {},
   "outputs": [
    {
     "data": {
      "text/plain": [
       "[2, 34, 5, [56, [43], 67], 10, 57]"
      ]
     },
     "execution_count": 47,
     "metadata": {},
     "output_type": "execute_result"
    }
   ],
   "source": [
    "del(first[3][1][1])\n",
    "first"
   ]
  },
  {
   "cell_type": "code",
   "execution_count": 48,
   "id": "08b87b53",
   "metadata": {},
   "outputs": [
    {
     "data": {
      "text/plain": [
       "[57, 10, [56, [43], 67], 5, 34, 2]"
      ]
     },
     "execution_count": 48,
     "metadata": {},
     "output_type": "execute_result"
    }
   ],
   "source": [
    "# reverse\n",
    "# syntax: list object.reverse()\n",
    "first.reverse()\n",
    "first"
   ]
  },
  {
   "cell_type": "code",
   "execution_count": 58,
   "id": "900b4ded",
   "metadata": {},
   "outputs": [
    {
     "data": {
      "text/plain": [
       "[57, 10, [56, [43], 67], 5, 34, 2]"
      ]
     },
     "execution_count": 58,
     "metadata": {},
     "output_type": "execute_result"
    }
   ],
   "source": [
    "#index:object.index(value)\n",
    "# returns the position of the element\n",
    "first"
   ]
  },
  {
   "cell_type": "code",
   "execution_count": 60,
   "id": "513faa70",
   "metadata": {},
   "outputs": [
    {
     "name": "stdout",
     "output_type": "stream",
     "text": [
      "[12, 23, 45, 67]\n",
      "[34, 6, 7, 8]\n"
     ]
    }
   ],
   "source": [
    "### Apply + * on list objects\n",
    "ls1=[12,23,45,67]\n",
    "ls2=[34,6,7,8]\n",
    "print(ls1)\n",
    "print(ls2)"
   ]
  },
  {
   "cell_type": "code",
   "execution_count": 61,
   "id": "6eb78cbd",
   "metadata": {},
   "outputs": [
    {
     "data": {
      "text/plain": [
       "[12, 23, 45, 67, 34, 6, 7, 8]"
      ]
     },
     "execution_count": 61,
     "metadata": {},
     "output_type": "execute_result"
    }
   ],
   "source": [
    "ls1+ls2"
   ]
  },
  {
   "cell_type": "code",
   "execution_count": 62,
   "id": "a331d2d5",
   "metadata": {},
   "outputs": [
    {
     "data": {
      "text/plain": [
       "[12, 23, 45, 67, 12, 23, 45, 67, 12, 23, 45, 67]"
      ]
     },
     "execution_count": 62,
     "metadata": {},
     "output_type": "execute_result"
    }
   ],
   "source": [
    "ls1*3"
   ]
  },
  {
   "cell_type": "code",
   "execution_count": 59,
   "id": "54d62b2d",
   "metadata": {},
   "outputs": [
    {
     "name": "stdout",
     "output_type": "stream",
     "text": [
      "['__add__', '__class__', '__class_getitem__', '__contains__', '__delattr__', '__delitem__', '__dir__', '__doc__', '__eq__', '__format__', '__ge__', '__getattribute__', '__getitem__', '__gt__', '__hash__', '__iadd__', '__imul__', '__init__', '__init_subclass__', '__iter__', '__le__', '__len__', '__lt__', '__mul__', '__ne__', '__new__', '__reduce__', '__reduce_ex__', '__repr__', '__reversed__', '__rmul__', '__setattr__', '__setitem__', '__sizeof__', '__str__', '__subclasshook__', 'append', 'clear', 'copy', 'count', 'extend', 'index', 'insert', 'pop', 'remove', 'reverse', 'sort']\n"
     ]
    }
   ],
   "source": [
    "print(dir(first))"
   ]
  },
  {
   "cell_type": "code",
   "execution_count": 64,
   "id": "c4f15fc3",
   "metadata": {},
   "outputs": [],
   "source": [
    "# sort the list object in ascending order\n",
    "ls6=[12,4,78,2,9,54]\n",
    "\n"
   ]
  },
  {
   "cell_type": "code",
   "execution_count": 65,
   "id": "184d7bd4",
   "metadata": {},
   "outputs": [
    {
     "data": {
      "text/plain": [
       "[2, 4, 9, 12, 54, 78]"
      ]
     },
     "execution_count": 65,
     "metadata": {},
     "output_type": "execute_result"
    }
   ],
   "source": [
    "#sorted (function)\n",
    "sorted(ls6)"
   ]
  },
  {
   "cell_type": "code",
   "execution_count": 68,
   "id": "3a4702cb",
   "metadata": {},
   "outputs": [],
   "source": [
    "#descending order\n",
    "sorted(ls6,reverse=True)"
   ]
  },
  {
   "cell_type": "code",
   "execution_count": 67,
   "id": "4211e6cb",
   "metadata": {},
   "outputs": [
    {
     "data": {
      "text/plain": [
       "[12, 4, 78, 2, 9, 54]"
      ]
     },
     "execution_count": 67,
     "metadata": {},
     "output_type": "execute_result"
    }
   ],
   "source": [
    "ls6"
   ]
  },
  {
   "cell_type": "code",
   "execution_count": 72,
   "id": "cfbaa3e7",
   "metadata": {},
   "outputs": [
    {
     "data": {
      "text/plain": [
       "[2, 4, 9, 12, 54, 78]"
      ]
     },
     "execution_count": 72,
     "metadata": {},
     "output_type": "execute_result"
    }
   ],
   "source": [
    "##sort (method)\n",
    "ls6.sort()\n",
    "ls6"
   ]
  },
  {
   "cell_type": "code",
   "execution_count": 73,
   "id": "12f8b6ff",
   "metadata": {},
   "outputs": [
    {
     "data": {
      "text/plain": [
       "[2, 4, 9, 12, 54, 78]"
      ]
     },
     "execution_count": 73,
     "metadata": {},
     "output_type": "execute_result"
    }
   ],
   "source": [
    "ls6"
   ]
  },
  {
   "cell_type": "code",
   "execution_count": 75,
   "id": "8040fc0e",
   "metadata": {},
   "outputs": [
    {
     "data": {
      "text/plain": [
       "[78, 54, 12, 9, 4, 2]"
      ]
     },
     "execution_count": 75,
     "metadata": {},
     "output_type": "execute_result"
    }
   ],
   "source": [
    "##sort method in descending order\n",
    "ls6.sort(reverse=True)\n",
    "ls6"
   ]
  },
  {
   "cell_type": "code",
   "execution_count": 76,
   "id": "85ba673d",
   "metadata": {},
   "outputs": [],
   "source": [
    "# Copy one list from the other list (or) creating a list from existing list by using '=' (or) copy() method\n",
    "ls9=[1,2,5,2,1,3,2,10]\n",
    "#create newlist from ls9."
   ]
  },
  {
   "cell_type": "code",
   "execution_count": 78,
   "id": "620f4371",
   "metadata": {},
   "outputs": [
    {
     "data": {
      "text/plain": [
       "[1, 2, 5, 2, 1, 3, 2, 10]"
      ]
     },
     "execution_count": 78,
     "metadata": {},
     "output_type": "execute_result"
    }
   ],
   "source": [
    "ls10=ls9\n",
    "ls10"
   ]
  },
  {
   "cell_type": "code",
   "execution_count": 80,
   "id": "77440f90",
   "metadata": {},
   "outputs": [
    {
     "data": {
      "text/plain": [
       "[1, 2, 5, 2, 1, 3, 2, 10]"
      ]
     },
     "execution_count": 80,
     "metadata": {},
     "output_type": "execute_result"
    }
   ],
   "source": [
    "ls11=ls9.copy()\n",
    "ls11"
   ]
  },
  {
   "cell_type": "code",
   "execution_count": 84,
   "id": "69cca7b4",
   "metadata": {},
   "outputs": [
    {
     "name": "stdout",
     "output_type": "stream",
     "text": [
      "[1, 23, 5, 2, 1, 3, 2, 10]\n",
      "[1, 23, 5, 2, 1, 3, 2, 10]\n",
      "[1, 2, 5, 2, 1, 3, 2, 10]\n"
     ]
    }
   ],
   "source": [
    "##if we change omething in original object then change will take place on that list in which we have used = sign\n",
    "##but not takes place in which we have use copy  \n",
    "ls9[1]=23\n",
    "print(ls9)\n",
    "print(ls10)\n",
    "print(ls11)"
   ]
  },
  {
   "cell_type": "code",
   "execution_count": 86,
   "id": "f0af2028",
   "metadata": {},
   "outputs": [
    {
     "data": {
      "text/plain": [
       "['6', '6', '2022']"
      ]
     },
     "execution_count": 86,
     "metadata": {},
     "output_type": "execute_result"
    }
   ],
   "source": [
    "#split it method\n",
    "dt=\"6-6-2022\"\n",
    "#split it by '-'\n",
    "dt.split('-')\n"
   ]
  },
  {
   "cell_type": "code",
   "execution_count": 87,
   "id": "2de11eb6",
   "metadata": {},
   "outputs": [
    {
     "name": "stdout",
     "output_type": "stream",
     "text": [
      "1 23 5 2 1 3 2 10 "
     ]
    }
   ],
   "source": [
    "# loop\n",
    "#for loop\n",
    "for i in ls9:\n",
    "    print(i,end=\" \")"
   ]
  },
  {
   "cell_type": "code",
   "execution_count": 89,
   "id": "081bc98d",
   "metadata": {},
   "outputs": [
    {
     "name": "stdout",
     "output_type": "stream",
     "text": [
      "[1, 4, 9, 16]\n"
     ]
    }
   ],
   "source": [
    "#List comprehension\n",
    "# one line expression of for loop\n",
    "a=[1,2,3,4]\n",
    "#square of list of a\n",
    "b=[]\n",
    "for i in a:\n",
    "    b.append(i**2)\n",
    "print(b)"
   ]
  },
  {
   "cell_type": "code",
   "execution_count": null,
   "id": "11ebb6fb",
   "metadata": {},
   "outputs": [],
   "source": [
    "a=[1,2,3,4]\n",
    "#list of square of elements of a\n",
    "#for loop\n",
    "\n",
    "b=[]\n",
    "for i in a:\n",
    "    b.append(i**2)\n",
    "print(b)"
   ]
  },
  {
   "cell_type": "code",
   "execution_count": 91,
   "id": "b41d298d",
   "metadata": {},
   "outputs": [
    {
     "data": {
      "text/plain": [
       "[9, 16]"
      ]
     },
     "execution_count": 91,
     "metadata": {},
     "output_type": "execute_result"
    }
   ],
   "source": [
    "#list comprehension : syntax: [expression for if]\n",
    "[i**2 for i in a if i>2]\n"
   ]
  },
  {
   "cell_type": "code",
   "execution_count": 95,
   "id": "7902a055",
   "metadata": {},
   "outputs": [
    {
     "data": {
      "text/plain": [
       "['Chennai', 'Bangalore']"
      ]
     },
     "execution_count": 95,
     "metadata": {},
     "output_type": "execute_result"
    }
   ],
   "source": [
    "cities=['Delhi','Pune','Chennai','Bangalore','Hyd']\n",
    "# create a list of elements which has length is greater than 6.\n",
    "[i for i in cities if len(i)>6]"
   ]
  },
  {
   "cell_type": "code",
   "execution_count": 93,
   "id": "587102a5",
   "metadata": {},
   "outputs": [
    {
     "data": {
      "text/plain": [
       "[9, 12, 13, 14]"
      ]
     },
     "execution_count": 93,
     "metadata": {},
     "output_type": "execute_result"
    }
   ],
   "source": [
    "L=[4,7,8,9]\n",
    "# Add value 5 to each element in the list\n",
    "[i+5 for i in L]\n"
   ]
  },
  {
   "cell_type": "code",
   "execution_count": 98,
   "id": "74134009",
   "metadata": {},
   "outputs": [
    {
     "data": {
      "text/plain": [
       "[7, 8, 9]"
      ]
     },
     "execution_count": 98,
     "metadata": {},
     "output_type": "execute_result"
    }
   ],
   "source": [
    "# Create a list of elements which is greater than 5 in the given list L\n",
    "[i for i in L if i>5]"
   ]
  },
  {
   "cell_type": "code",
   "execution_count": 111,
   "id": "c1a94998",
   "metadata": {},
   "outputs": [
    {
     "name": "stdout",
     "output_type": "stream",
     "text": [
      "[35, 69, 93, 123, 166]\n"
     ]
    }
   ],
   "source": [
    "# Addition of two lists L1 and L2\n",
    "t1=[1,2,5,78,99]\n",
    "t2=[34,67,88,45,67]\n",
    "n=[]\n",
    "for x in range(0,len(t1)):\n",
    "    n.append(t1[x]+t2[x])\n",
    "print(n)\n"
   ]
  },
  {
   "cell_type": "code",
   "execution_count": 112,
   "id": "04ed4b7f",
   "metadata": {},
   "outputs": [
    {
     "data": {
      "text/plain": [
       "[35, 69, 93, 123, 166]"
      ]
     },
     "execution_count": 112,
     "metadata": {},
     "output_type": "execute_result"
    }
   ],
   "source": [
    "#list comprehension\n",
    "[t1[x]+t2[x] for x in range(len(t1))]"
   ]
  },
  {
   "cell_type": "markdown",
   "id": "68ce9949",
   "metadata": {},
   "source": [
    "### Tuple\n",
    "\n",
    "- A tuple is a sequence of items\n",
    "- tuple is created by using () or tuple()\n",
    "- tuple contains mixed data type\n",
    "- tuples are immutable\n",
    "- tuples are iterable"
   ]
  },
  {
   "cell_type": "code",
   "execution_count": 114,
   "id": "79692679",
   "metadata": {},
   "outputs": [],
   "source": [
    "# empty tuple object\n",
    "tuple1=()\n",
    "#tuple=tuple()\n"
   ]
  },
  {
   "cell_type": "code",
   "execution_count": 115,
   "id": "53f28503",
   "metadata": {},
   "outputs": [
    {
     "data": {
      "text/plain": [
       "tuple"
      ]
     },
     "execution_count": 115,
     "metadata": {},
     "output_type": "execute_result"
    }
   ],
   "source": [
    "type(tuple1)"
   ]
  },
  {
   "cell_type": "code",
   "execution_count": 116,
   "id": "7a5dea37",
   "metadata": {},
   "outputs": [
    {
     "data": {
      "text/plain": [
       "tuple"
      ]
     },
     "execution_count": 116,
     "metadata": {},
     "output_type": "execute_result"
    }
   ],
   "source": [
    "#create a tuple with elements\n",
    "t1=(1,'we',True)\n",
    "type(t1)"
   ]
  },
  {
   "cell_type": "code",
   "execution_count": 118,
   "id": "2af9aaba",
   "metadata": {},
   "outputs": [
    {
     "data": {
      "text/plain": [
       "(1, 'we', True)"
      ]
     },
     "execution_count": 118,
     "metadata": {},
     "output_type": "execute_result"
    }
   ],
   "source": [
    "t1"
   ]
  },
  {
   "cell_type": "code",
   "execution_count": 121,
   "id": "fe19c1eb",
   "metadata": {},
   "outputs": [
    {
     "data": {
      "text/plain": [
       "4"
      ]
     },
     "execution_count": 121,
     "metadata": {},
     "output_type": "execute_result"
    }
   ],
   "source": [
    "# extract '4' from t3\n",
    "t3=(23,4,'e','i')\n",
    "t3\n",
    "t3[1]"
   ]
  },
  {
   "cell_type": "code",
   "execution_count": 122,
   "id": "b5ffc49f",
   "metadata": {},
   "outputs": [
    {
     "ename": "TypeError",
     "evalue": "'tuple' object does not support item assignment",
     "output_type": "error",
     "traceback": [
      "\u001b[1;31m---------------------------------------------------------------------------\u001b[0m",
      "\u001b[1;31mTypeError\u001b[0m                                 Traceback (most recent call last)",
      "Input \u001b[1;32mIn [122]\u001b[0m, in \u001b[0;36m<cell line: 2>\u001b[1;34m()\u001b[0m\n\u001b[0;32m      1\u001b[0m \u001b[38;5;66;03m# immutable\u001b[39;00m\n\u001b[1;32m----> 2\u001b[0m t3[\u001b[38;5;241m0\u001b[39m]\u001b[38;5;241m=\u001b[39m \u001b[38;5;241m34\u001b[39m\n",
      "\u001b[1;31mTypeError\u001b[0m: 'tuple' object does not support item assignment"
     ]
    }
   ],
   "source": [
    "# immutable\n",
    "t3[0]= 34"
   ]
  },
  {
   "cell_type": "code",
   "execution_count": 125,
   "id": "ed17f488",
   "metadata": {},
   "outputs": [
    {
     "data": {
      "text/plain": [
       "[34, 4, 'e', 'i']"
      ]
     },
     "execution_count": 125,
     "metadata": {},
     "output_type": "execute_result"
    }
   ],
   "source": [
    "t3=list(t3)\n",
    "t3[0]=34\n",
    "t3"
   ]
  },
  {
   "cell_type": "code",
   "execution_count": 127,
   "id": "3232f25a",
   "metadata": {},
   "outputs": [
    {
     "data": {
      "text/plain": [
       "tuple"
      ]
     },
     "execution_count": 127,
     "metadata": {},
     "output_type": "execute_result"
    }
   ],
   "source": [
    "t3=tuple(t3)\n",
    "type(t3)"
   ]
  },
  {
   "cell_type": "code",
   "execution_count": 129,
   "id": "4e887619",
   "metadata": {},
   "outputs": [
    {
     "name": "stdout",
     "output_type": "stream",
     "text": [
      "34 ,4 ,e ,i ,"
     ]
    }
   ],
   "source": [
    "#for loop\n",
    "for i in t3:\n",
    "    print(i,end=\" ,\")"
   ]
  },
  {
   "cell_type": "code",
   "execution_count": null,
   "id": "5e523e9d",
   "metadata": {},
   "outputs": [],
   "source": [
    "### Dictionary\n",
    "- A collection of unordered set of key:value pairs.\n",
    "\n",
    "- Create dictionaries by using {} or dict()\n",
    "\n",
    "- Keys are unique.\n",
    "\n",
    "- values are accessed by using keys, not by index\n",
    "\n",
    "- Dictionaries are mutable.\n",
    "\n",
    "- Dicitonaries are iterables."
   ]
  },
  {
   "cell_type": "code",
   "execution_count": 130,
   "id": "943bd3dc",
   "metadata": {},
   "outputs": [],
   "source": [
    "# empty dict:\n",
    "dict1={}\n",
    "#or dict1=dict()"
   ]
  },
  {
   "cell_type": "code",
   "execution_count": 132,
   "id": "9e6efeb8",
   "metadata": {},
   "outputs": [
    {
     "data": {
      "text/plain": [
       "dict"
      ]
     },
     "execution_count": 132,
     "metadata": {},
     "output_type": "execute_result"
    }
   ],
   "source": [
    "type(dict1)"
   ]
  },
  {
   "cell_type": "code",
   "execution_count": 133,
   "id": "49b3a49d",
   "metadata": {},
   "outputs": [
    {
     "data": {
      "text/plain": [
       "{'one': 1, 'two': 2, 'three': 3}"
      ]
     },
     "execution_count": 133,
     "metadata": {},
     "output_type": "execute_result"
    }
   ],
   "source": [
    "#create dict of integer values\n",
    "d1={'one':1,'two':2,'three':3}\n",
    "d1"
   ]
  },
  {
   "cell_type": "code",
   "execution_count": 138,
   "id": "bf07a54c",
   "metadata": {},
   "outputs": [
    {
     "data": {
      "text/plain": [
       "{34: 'hi', 'e': 'come', 'h': 'all'}"
      ]
     },
     "execution_count": 138,
     "metadata": {},
     "output_type": "execute_result"
    }
   ],
   "source": [
    "#create dict of string values \n",
    "d2={34: 'hi', 'e':'come', 'h':'all'}\n",
    "d2"
   ]
  },
  {
   "cell_type": "code",
   "execution_count": 140,
   "id": "c125613b",
   "metadata": {},
   "outputs": [
    {
     "data": {
      "text/plain": [
       "{'new1': 'hello', 'new2': 5, 'new3': [7, 8], 'new4': ('the', 87)}"
      ]
     },
     "execution_count": 140,
     "metadata": {},
     "output_type": "execute_result"
    }
   ],
   "source": [
    "#create dict of mixed data types\n",
    "d2_1={'new1':'hello', 'new2':5,'new3':[7,8],'new4':('the',87)}\n",
    "d2_1"
   ]
  },
  {
   "cell_type": "code",
   "execution_count": 141,
   "id": "7f47985d",
   "metadata": {},
   "outputs": [
    {
     "data": {
      "text/plain": [
       "{'first': 6, 'second': 9, 'third': 'hello'}"
      ]
     },
     "execution_count": 141,
     "metadata": {},
     "output_type": "execute_result"
    }
   ],
   "source": [
    "d3={'first':6,'second':9,'third':'hello'}\n",
    "d3"
   ]
  },
  {
   "cell_type": "code",
   "execution_count": 144,
   "id": "507040b8",
   "metadata": {},
   "outputs": [
    {
     "data": {
      "text/plain": [
       "{'first': [5, 6, 7],\n",
       " 'second': ['a', 'b'],\n",
       " 'third': (7, 8, 0),\n",
       " 'fourth': ['hello']}"
      ]
     },
     "execution_count": 144,
     "metadata": {},
     "output_type": "execute_result"
    }
   ],
   "source": [
    "d4={'first':[5,6,7],'second' : [\"a\",\"b\"],'third':(7,8,0),'fourth':['hello']}\n",
    "d4"
   ]
  },
  {
   "cell_type": "code",
   "execution_count": 145,
   "id": "77f03577",
   "metadata": {},
   "outputs": [
    {
     "data": {
      "text/plain": [
       "dict_values([[5, 6, 7], ['a', 'b'], (7, 8, 0), ['hello']])"
      ]
     },
     "execution_count": 145,
     "metadata": {},
     "output_type": "execute_result"
    }
   ],
   "source": [
    "d4.values()"
   ]
  },
  {
   "cell_type": "code",
   "execution_count": 146,
   "id": "fb6264a7",
   "metadata": {},
   "outputs": [
    {
     "data": {
      "text/plain": [
       "dict_items([('first', [5, 6, 7]), ('second', ['a', 'b']), ('third', (7, 8, 0)), ('fourth', ['hello'])])"
      ]
     },
     "execution_count": 146,
     "metadata": {},
     "output_type": "execute_result"
    }
   ],
   "source": [
    "d4.items()"
   ]
  },
  {
   "cell_type": "code",
   "execution_count": 149,
   "id": "7226655e",
   "metadata": {},
   "outputs": [
    {
     "data": {
      "text/plain": [
       "[5, 6, 7]"
      ]
     },
     "execution_count": 149,
     "metadata": {},
     "output_type": "execute_result"
    }
   ],
   "source": [
    "#extract [5,6,7] from d4.\n",
    "d4['first']"
   ]
  },
  {
   "cell_type": "code",
   "execution_count": 150,
   "id": "712417d1",
   "metadata": {},
   "outputs": [
    {
     "data": {
      "text/plain": [
       "6"
      ]
     },
     "execution_count": 150,
     "metadata": {},
     "output_type": "execute_result"
    }
   ],
   "source": [
    "#extract 6\n",
    "d4['first'][1]"
   ]
  },
  {
   "cell_type": "code",
   "execution_count": 152,
   "id": "45b22e8c",
   "metadata": {},
   "outputs": [
    {
     "data": {
      "text/plain": [
       "'b'"
      ]
     },
     "execution_count": 152,
     "metadata": {},
     "output_type": "execute_result"
    }
   ],
   "source": [
    "#extract 'b'\n",
    "d4['second'][1]"
   ]
  },
  {
   "cell_type": "code",
   "execution_count": 155,
   "id": "4f754e21",
   "metadata": {},
   "outputs": [
    {
     "data": {
      "text/plain": [
       "'z'"
      ]
     },
     "execution_count": 155,
     "metadata": {},
     "output_type": "execute_result"
    }
   ],
   "source": [
    "d5={'one':{'el_one':[3,4,6,{'el_two':'z'}]}}\n",
    "# extract 'z'\n",
    "d5['one']['el_one'][3]['el_two']"
   ]
  },
  {
   "cell_type": "code",
   "execution_count": 160,
   "id": "46e055bb",
   "metadata": {},
   "outputs": [
    {
     "data": {
      "text/plain": [
       "'merge'"
      ]
     },
     "execution_count": 160,
     "metadata": {},
     "output_type": "execute_result"
    }
   ],
   "source": [
    "d6={'new':[9,4,5,['split','merge',10]],'old':('s',17,0),'mid':{'ram':4,'ravi':8}}\n",
    "#Extract 'merge'\n",
    "#extract 8\n",
    "d6['new'][3][1]\n"
   ]
  },
  {
   "cell_type": "code",
   "execution_count": 159,
   "id": "b7d91651",
   "metadata": {},
   "outputs": [
    {
     "data": {
      "text/plain": [
       "8"
      ]
     },
     "execution_count": 159,
     "metadata": {},
     "output_type": "execute_result"
    }
   ],
   "source": [
    "d6['mid']['ravi']"
   ]
  },
  {
   "cell_type": "code",
   "execution_count": 179,
   "id": "bb456050",
   "metadata": {},
   "outputs": [
    {
     "name": "stdout",
     "output_type": "stream",
     "text": [
      "new [7, 4, 5, ['split', 'merge', 10]]\n",
      "old ('s', 17, 0)\n",
      "middlee {'ram': 4, 'ravi': 8}\n"
     ]
    }
   ],
   "source": [
    "# for loop\n",
    "for i,L in d6.items():\n",
    "    print(i,L)"
   ]
  },
  {
   "cell_type": "code",
   "execution_count": 170,
   "id": "957948fa",
   "metadata": {},
   "outputs": [
    {
     "data": {
      "text/plain": [
       "{'new': [7, 4, 5, ['split', 'merge', 10]],\n",
       " 'old': ('s', 17, 0),\n",
       " 'mid': {'ram': 4, 'ravi': 8}}"
      ]
     },
     "execution_count": 170,
     "metadata": {},
     "output_type": "execute_result"
    }
   ],
   "source": [
    "#mutable\n",
    "d6['new'][0]=7\n",
    "d6"
   ]
  },
  {
   "cell_type": "code",
   "execution_count": 171,
   "id": "23b5df1c",
   "metadata": {},
   "outputs": [
    {
     "name": "stdout",
     "output_type": "stream",
     "text": [
      "['__class__', '__class_getitem__', '__contains__', '__delattr__', '__delitem__', '__dir__', '__doc__', '__eq__', '__format__', '__ge__', '__getattribute__', '__getitem__', '__gt__', '__hash__', '__init__', '__init_subclass__', '__ior__', '__iter__', '__le__', '__len__', '__lt__', '__ne__', '__new__', '__or__', '__reduce__', '__reduce_ex__', '__repr__', '__reversed__', '__ror__', '__setattr__', '__setitem__', '__sizeof__', '__str__', '__subclasshook__', 'clear', 'copy', 'fromkeys', 'get', 'items', 'keys', 'pop', 'popitem', 'setdefault', 'update', 'values']\n"
     ]
    }
   ],
   "source": [
    "print(dir(d6))"
   ]
  },
  {
   "cell_type": "code",
   "execution_count": 178,
   "id": "a900fbef",
   "metadata": {},
   "outputs": [
    {
     "data": {
      "text/plain": [
       "dict_keys(['new', 'old', 'middlee'])"
      ]
     },
     "execution_count": 178,
     "metadata": {},
     "output_type": "execute_result"
    }
   ],
   "source": [
    "# using pop() method to rename the key names in the dictionary\n",
    "d6['middlee']=d6.pop('middle')\n",
    "d6.keys()"
   ]
  },
  {
   "cell_type": "code",
   "execution_count": null,
   "id": "d64a8ac2",
   "metadata": {},
   "outputs": [],
   "source": [
    "### Sets\n",
    "- Unordered sequence of elements\n",
    "\n",
    "- create set objects by using {} or set()\n",
    "\n",
    "- sets are immutable\n"
   ]
  },
  {
   "cell_type": "code",
   "execution_count": 180,
   "id": "90c3cf9a",
   "metadata": {},
   "outputs": [
    {
     "name": "stdout",
     "output_type": "stream",
     "text": [
      "set()\n",
      "<class 'set'>\n"
     ]
    }
   ],
   "source": [
    "# create empty set\n",
    "s=set()\n",
    "print(s)\n",
    "print(type(s))"
   ]
  },
  {
   "cell_type": "code",
   "execution_count": 181,
   "id": "b64ccae9",
   "metadata": {},
   "outputs": [
    {
     "data": {
      "text/plain": [
       "set"
      ]
     },
     "execution_count": 181,
     "metadata": {},
     "output_type": "execute_result"
    }
   ],
   "source": [
    "s3={\"Monday\",\"Tuesday\",\"Wednesday\",\"Thursday\",\"Friday\"}\n",
    "type(s3)"
   ]
  },
  {
   "cell_type": "code",
   "execution_count": 184,
   "id": "5c4732f9",
   "metadata": {},
   "outputs": [],
   "source": [
    "s4=set([\"Monday\",\"Tuesday\",\"Wednesday\",\"Thursday\",\"Friday\"])\n"
   ]
  },
  {
   "cell_type": "code",
   "execution_count": 191,
   "id": "c8190fe1",
   "metadata": {},
   "outputs": [
    {
     "data": {
      "text/plain": [
       "{'Friday', 'Monday', 'Saturday', 'Thursday', 'Tuesday', 'Wednesday'}"
      ]
     },
     "execution_count": 191,
     "metadata": {},
     "output_type": "execute_result"
    }
   ],
   "source": [
    "# add element in the set s4.\n",
    "s4.add(\"Saturday\")\n",
    "s4"
   ]
  },
  {
   "cell_type": "code",
   "execution_count": 194,
   "id": "fbdb6538",
   "metadata": {},
   "outputs": [
    {
     "data": {
      "text/plain": [
       "{'Friday', 'Monday', 'Saturday', 'Thursday', 'Tuesday', 'Wednesday', 'sunday'}"
      ]
     },
     "execution_count": 194,
     "metadata": {},
     "output_type": "execute_result"
    }
   ],
   "source": [
    "s4.add(\"sunday\")\n",
    "s4"
   ]
  },
  {
   "cell_type": "code",
   "execution_count": 196,
   "id": "1e3e42c4",
   "metadata": {},
   "outputs": [
    {
     "name": "stdout",
     "output_type": "stream",
     "text": [
      "{'Friday', 'Tuesday', 'day2', 'Saturday', 'day1', 'day 3', 'sunday', 'Wednesday', 'Thursday', 'Monday'}\n"
     ]
    }
   ],
   "source": [
    "#update\n",
    "s4.update([\"day1\",\"day2\", \"day 3\"])\n",
    "print(s4)"
   ]
  },
  {
   "cell_type": "code",
   "execution_count": 206,
   "id": "e9b69e4c",
   "metadata": {},
   "outputs": [
    {
     "data": {
      "text/plain": [
       "{'Friday', 'Monday', 'Saturday', 'Thursday', 'Tuesday', 'Wednesday', 'sunday'}"
      ]
     },
     "execution_count": 206,
     "metadata": {},
     "output_type": "execute_result"
    }
   ],
   "source": [
    "# removing the items\n",
    "s4.remove('day 3')\n",
    "s4"
   ]
  },
  {
   "cell_type": "code",
   "execution_count": 211,
   "id": "9cdaa323",
   "metadata": {},
   "outputs": [
    {
     "data": {
      "text/plain": [
       "'Tuesday'"
      ]
     },
     "execution_count": 211,
     "metadata": {},
     "output_type": "execute_result"
    }
   ],
   "source": [
    "s4.pop()"
   ]
  },
  {
   "cell_type": "code",
   "execution_count": 212,
   "id": "fb999bd2",
   "metadata": {},
   "outputs": [
    {
     "data": {
      "text/plain": [
       "{'Saturday', 'Thursday', 'Wednesday', 'sunday'}"
      ]
     },
     "execution_count": 212,
     "metadata": {},
     "output_type": "execute_result"
    }
   ],
   "source": [
    "s4.discard(\"Monday\")\n",
    "s4"
   ]
  },
  {
   "cell_type": "code",
   "execution_count": 215,
   "id": "2edece38",
   "metadata": {},
   "outputs": [
    {
     "data": {
      "text/plain": [
       "{1, 2, 3, 4, 5}"
      ]
     },
     "execution_count": 215,
     "metadata": {},
     "output_type": "execute_result"
    }
   ],
   "source": [
    "s5=set([1,2,2,3,3,4,4,5])\n",
    "s5"
   ]
  },
  {
   "cell_type": "markdown",
   "id": "4547c28e",
   "metadata": {},
   "source": [
    "### Set operations\n",
    "- Union\n",
    "\n",
    "- Intersection\n",
    "\n",
    "- Difference\n",
    "\n",
    "- Symmetric difference"
   ]
  },
  {
   "cell_type": "code",
   "execution_count": 216,
   "id": "848ebfb4",
   "metadata": {},
   "outputs": [
    {
     "data": {
      "text/plain": [
       "{'Friday', 'Monday', 'Saturday', 'Sunday', 'Thursday', 'Tuesday', 'Wednesday'}"
      ]
     },
     "execution_count": 216,
     "metadata": {},
     "output_type": "execute_result"
    }
   ],
   "source": [
    "#union\n",
    "Days1={'Monday',\"Tuesday\",\"Wednesday\",\"Thursday\",\"Sunday\"}\n",
    "Days2={\"Friday\",\"Saturday\",\"Sunday\"}\n",
    "Days1.union(Days2)"
   ]
  },
  {
   "cell_type": "code",
   "execution_count": 217,
   "id": "21209f15",
   "metadata": {},
   "outputs": [
    {
     "data": {
      "text/plain": [
       "{'Sunday'}"
      ]
     },
     "execution_count": 217,
     "metadata": {},
     "output_type": "execute_result"
    }
   ],
   "source": [
    "#intersection\n",
    "Days1.intersection(Days2)"
   ]
  },
  {
   "cell_type": "code",
   "execution_count": 218,
   "id": "ffb58a07",
   "metadata": {},
   "outputs": [
    {
     "data": {
      "text/plain": [
       "{10, 20}"
      ]
     },
     "execution_count": 218,
     "metadata": {},
     "output_type": "execute_result"
    }
   ],
   "source": [
    "# difference :elements in one set which are all not in another set\n",
    "A={10,20,30,40,50}\n",
    "B={100,30,50,40,60}\n",
    "A.difference(B)"
   ]
  },
  {
   "cell_type": "code",
   "execution_count": 220,
   "id": "bcab2558",
   "metadata": {},
   "outputs": [
    {
     "data": {
      "text/plain": [
       "{60, 100}"
      ]
     },
     "execution_count": 220,
     "metadata": {},
     "output_type": "execute_result"
    }
   ],
   "source": [
    "B.difference(A) ##B-A"
   ]
  },
  {
   "cell_type": "code",
   "execution_count": 221,
   "id": "60ef855b",
   "metadata": {},
   "outputs": [
    {
     "data": {
      "text/plain": [
       "{10, 20, 60, 100}"
      ]
     },
     "execution_count": 221,
     "metadata": {},
     "output_type": "execute_result"
    }
   ],
   "source": [
    "# Symmetric difference:give element except common elements\n",
    "A.symmetric_difference(B)##A^B"
   ]
  },
  {
   "cell_type": "code",
   "execution_count": 222,
   "id": "849fc8e5",
   "metadata": {},
   "outputs": [
    {
     "data": {
      "text/plain": [
       "{10, 20, 60, 100}"
      ]
     },
     "execution_count": 222,
     "metadata": {},
     "output_type": "execute_result"
    }
   ],
   "source": [
    "B.symmetric_difference(A) ##B^A"
   ]
  },
  {
   "cell_type": "code",
   "execution_count": 223,
   "id": "53623187",
   "metadata": {},
   "outputs": [
    {
     "name": "stdout",
     "output_type": "stream",
     "text": [
      "Saturday\n",
      "sunday\n",
      "Wednesday\n",
      "Thursday\n"
     ]
    }
   ],
   "source": [
    "# for loop\n",
    "for i in s4:\n",
    "    print(i)"
   ]
  },
  {
   "cell_type": "code",
   "execution_count": 225,
   "id": "b6394772",
   "metadata": {},
   "outputs": [
    {
     "data": {
      "text/plain": [
       "[4, 9, 16]"
      ]
     },
     "execution_count": 225,
     "metadata": {},
     "output_type": "execute_result"
    }
   ],
   "source": [
    "### map and filter function\n",
    "square=lambda x:x**2\n",
    "#map function: map square function\n",
    "b=[2,3,4]\n",
    "# map(fun,iterable)\n",
    "list(map(square,b))"
   ]
  },
  {
   "cell_type": "code",
   "execution_count": 226,
   "id": "2acff138",
   "metadata": {},
   "outputs": [
    {
     "data": {
      "text/plain": [
       "['food', 'great']"
      ]
     },
     "execution_count": 226,
     "metadata": {},
     "output_type": "execute_result"
    }
   ],
   "source": [
    "# filter function\n",
    "# filter the words from a list that dont start with the letter 's'\n",
    "seq=['soup','salad','food','great']\n",
    "list(filter(lambda x:x[0]!='s',seq))"
   ]
  },
  {
   "cell_type": "markdown",
   "id": "e38584cc",
   "metadata": {},
   "source": [
    "--------------------------------------------------End--------------------------------------------------------------"
   ]
  }
 ],
 "metadata": {
  "kernelspec": {
   "display_name": "Python 3 (ipykernel)",
   "language": "python",
   "name": "python3"
  },
  "language_info": {
   "codemirror_mode": {
    "name": "ipython",
    "version": 3
   },
   "file_extension": ".py",
   "mimetype": "text/x-python",
   "name": "python",
   "nbconvert_exporter": "python",
   "pygments_lexer": "ipython3",
   "version": "3.9.12"
  }
 },
 "nbformat": 4,
 "nbformat_minor": 5
}
