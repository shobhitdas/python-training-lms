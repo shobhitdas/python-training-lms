{
 "cells": [
  {
   "cell_type": "code",
   "execution_count": 9,
   "id": "eca3cc58",
   "metadata": {},
   "outputs": [
    {
     "data": {
      "text/plain": [
       "24"
      ]
     },
     "execution_count": 9,
     "metadata": {},
     "output_type": "execute_result"
    }
   ],
   "source": [
    "#Find the largest item from a given list\n",
    "x = [4, 6, 8, 24, 12, 2]\n",
    "max(x)"
   ]
  },
  {
   "cell_type": "code",
   "execution_count": 3,
   "id": "8799fc4b",
   "metadata": {},
   "outputs": [
    {
     "data": {
      "text/plain": [
       "[500, 400, 300, 200, 100]"
      ]
     },
     "execution_count": 3,
     "metadata": {},
     "output_type": "execute_result"
    }
   ],
   "source": [
    " #Reverse a list in Python\n",
    "list1 = [100, 200, 300, 400, 500]\n",
    "list1.sort(reverse=True)\n",
    "list1"
   ]
  },
  {
   "cell_type": "code",
   "execution_count": 2,
   "id": "7acf8815",
   "metadata": {},
   "outputs": [
    {
     "data": {
      "text/plain": [
       "[1, 4, 9, 16, 25, 36, 49]"
      ]
     },
     "execution_count": 2,
     "metadata": {},
     "output_type": "execute_result"
    }
   ],
   "source": [
    "##Turn every item of a list into its square\n",
    "#Given a list of numbers. write a program to turn every item of a list into its square.\n",
    "numbers = [1, 2, 3, 4, 5, 6, 7]\n",
    "[x**2 for x in numbers]"
   ]
  },
  {
   "cell_type": "code",
   "execution_count": 12,
   "id": "94ebca25",
   "metadata": {},
   "outputs": [
    {
     "data": {
      "text/plain": [
       "{'name': 'Kelly', 'age': 25, 'salary': 8000, 'Location': 'New york'}"
      ]
     },
     "execution_count": 12,
     "metadata": {},
     "output_type": "execute_result"
    }
   ],
   "source": [
    "#Rename key of a dictionary\n",
    "#Write a program to rename a key city to a location in the following dictionary.\n",
    "sample_dict = {\n",
    "  \"name\": \"Kelly\",\n",
    "  \"age\":25,\n",
    "  \"salary\": 8000,\n",
    "  \"city\": \"New york\"\n",
    "}\n",
    "sample_dict[\"Location\"]= sample_dict.pop(\"city\")\n",
    "sample_dict\n",
    "#Expected output:\n",
    "\n",
    "#{'name': 'Kelly', 'age': 25, 'salary': 8000, 'location': 'New york'}"
   ]
  },
  {
   "cell_type": "code",
   "execution_count": 13,
   "id": "568a59ca",
   "metadata": {},
   "outputs": [
    {
     "data": {
      "text/plain": [
       "{'name': 'Kelly', 'age': 25, 'salary': 8000, 'location': 'New york'}"
      ]
     },
     "execution_count": 13,
     "metadata": {},
     "output_type": "execute_result"
    }
   ],
   "source": [
    "sample_dict = {\n",
    "  \"name\": \"Kelly\",\n",
    "  \"age\":25,\n",
    "  \"salary\": 8000,\n",
    "  \"city\": \"New york\"\n",
    "}\n",
    "sample_dict['location']=sample_dict.pop('city')\n",
    "sample_dict"
   ]
  },
  {
   "cell_type": "code",
   "execution_count": 15,
   "id": "5c7788f2",
   "metadata": {},
   "outputs": [
    {
     "data": {
      "text/plain": [
       "20"
      ]
     },
     "execution_count": 15,
     "metadata": {},
     "output_type": "execute_result"
    }
   ],
   "source": [
    "##Access value 20 from the tuple\n",
    "##The given tuple is a nested tuple. write a Python program to print the value 20.\n",
    "\n",
    "\n",
    "tuple1 = (\"Orange\", [10, 20, 30], (5, 15, 25))\n",
    "tuple1[1][1]"
   ]
  },
  {
   "cell_type": "code",
   "execution_count": 22,
   "id": "ed0edb00",
   "metadata": {},
   "outputs": [
    {
     "name": "stdout",
     "output_type": "stream",
     "text": [
      "(99, 88)\n",
      "(11, 22)\n"
     ]
    }
   ],
   "source": [
    "#Swap two tuples in Python\n",
    "#Given:\n",
    "\n",
    "tuple1 = (11, 22)\n",
    "tuple2 = (99, 88)\n",
    "tuple1,tuple2= tuple2,tuple1\n",
    "print(tuple1)\n",
    "print(tuple2)"
   ]
  },
  {
   "cell_type": "code",
   "execution_count": 8,
   "id": "d7e28716",
   "metadata": {},
   "outputs": [
    {
     "name": "stdout",
     "output_type": "stream",
     "text": [
      "2\n"
     ]
    }
   ],
   "source": [
    "#Counts the number of occurrences of item 50 from a tuple\n",
    "#Given:\n",
    "count=0\n",
    "tuple1 = (50, 10, 60, 70, 50)\n",
    "for i in tuple1:\n",
    "    if i==50:\n",
    "        count=count+1\n",
    "print(count)"
   ]
  },
  {
   "cell_type": "code",
   "execution_count": 9,
   "id": "b4e15a60",
   "metadata": {},
   "outputs": [
    {
     "data": {
      "text/plain": [
       "2"
      ]
     },
     "execution_count": 9,
     "metadata": {},
     "output_type": "execute_result"
    }
   ],
   "source": [
    "tuple1.count(50)"
   ]
  },
  {
   "cell_type": "code",
   "execution_count": null,
   "id": "861f2007",
   "metadata": {},
   "outputs": [],
   "source": [
    "# set 2"
   ]
  },
  {
   "cell_type": "code",
   "execution_count": 14,
   "id": "7cb2833e",
   "metadata": {},
   "outputs": [
    {
     "data": {
      "text/plain": [
       "2"
      ]
     },
     "execution_count": 14,
     "metadata": {},
     "output_type": "execute_result"
    }
   ],
   "source": [
    "#1. figure out programatically how many times 'here'occurs\n",
    "#2. count how many time numbers occur in this sentence\n",
    "\n",
    "assign_txt=\"this is a sentence with a number 56 here and 72 here\"\n",
    "assign_txt.count('here')"
   ]
  },
  {
   "cell_type": "code",
   "execution_count": 15,
   "id": "abf3e94d",
   "metadata": {},
   "outputs": [
    {
     "ename": "SyntaxError",
     "evalue": "invalid syntax (3645250827.py, line 3)",
     "output_type": "error",
     "traceback": [
      "\u001b[1;36m  Input \u001b[1;32mIn [15]\u001b[1;36m\u001b[0m\n\u001b[1;33m    i.isnumeric():\u001b[0m\n\u001b[1;37m                  ^\u001b[0m\n\u001b[1;31mSyntaxError\u001b[0m\u001b[1;31m:\u001b[0m invalid syntax\n"
     ]
    }
   ],
   "source": [
    "count=0\n",
    "for i in assign_text.split(\" \"):\n",
    "    i.isnumeric():\n",
    "        count=count+1\n",
    "        print(i)\n",
    "print(count)"
   ]
  },
  {
   "cell_type": "code",
   "execution_count": 12,
   "id": "45652371",
   "metadata": {},
   "outputs": [
    {
     "data": {
      "text/plain": [
       "'e'"
      ]
     },
     "execution_count": 12,
     "metadata": {},
     "output_type": "execute_result"
    }
   ],
   "source": [
    "#extract 'e' from the given list\n",
    "ls4=[3.5, 'Tiger', 10, [3,4]]\n",
    "ls4[1][3]"
   ]
  },
  {
   "cell_type": "code",
   "execution_count": 13,
   "id": "077c9dee",
   "metadata": {},
   "outputs": [
    {
     "name": "stdout",
     "output_type": "stream",
     "text": [
      "['__add__', '__class__', '__class_getitem__', '__contains__', '__delattr__', '__delitem__', '__dir__', '__doc__', '__eq__', '__format__', '__ge__', '__getattribute__', '__getitem__', '__gt__', '__hash__', '__iadd__', '__imul__', '__init__', '__init_subclass__', '__iter__', '__le__', '__len__', '__lt__', '__mul__', '__ne__', '__new__', '__reduce__', '__reduce_ex__', '__repr__', '__reversed__', '__rmul__', '__setattr__', '__setitem__', '__sizeof__', '__str__', '__subclasshook__', 'append', 'clear', 'copy', 'count', 'extend', 'index', 'insert', 'pop', 'remove', 'reverse', 'sort']\n"
     ]
    }
   ],
   "source": [
    "# Find the functions and methods associated with the list ls4\n",
    "print(dir(ls4))"
   ]
  },
  {
   "cell_type": "code",
   "execution_count": 31,
   "id": "a6f46acc",
   "metadata": {},
   "outputs": [
    {
     "data": {
      "text/plain": [
       "['hello']"
      ]
     },
     "execution_count": 31,
     "metadata": {},
     "output_type": "execute_result"
    }
   ],
   "source": [
    " #Given this nested list, use indexing to grab the word \"hello\"\n",
    "w = [1,2,[3,4],[5,[100,200,['hello']],23,11],1,7]\n",
    "w[3][1][2]"
   ]
  },
  {
   "cell_type": "code",
   "execution_count": 17,
   "id": "d73744e8",
   "metadata": {},
   "outputs": [
    {
     "name": "stdout",
     "output_type": "stream",
     "text": [
      "[4, 6, 12, 12, 20, 18, 28]\n"
     ]
    }
   ],
   "source": [
    " #Given two lists. Create a third list by picking an odd-index element from the first list\n",
    "#and even index elements from second.\n",
    "listOne = [3, 6, 9, 12, 15, 18, 21]\n",
    "listTwo = [4, 8, 12, 16, 20, 24, 28]\n",
    "l1=list()\n",
    "#l2=list()\n",
    "\n",
    "for j in range (0,len(listTwo)):\n",
    "    if j%2==0:\n",
    "        l1.append(listTwo[j])\n",
    "    else :\n",
    "        l1.append(listOne[j])\n",
    "        \n",
    "\n",
    "print(l1)\n"
   ]
  },
  {
   "cell_type": "code",
   "execution_count": 19,
   "id": "69547061",
   "metadata": {},
   "outputs": [
    {
     "name": "stdout",
     "output_type": "stream",
     "text": [
      "[6, 12, 18]\n",
      "[4, 12, 20, 28]\n",
      "[6, 12, 18, 4, 12, 20, 28]\n"
     ]
    }
   ],
   "source": [
    "odd=listOne[1::2]\n",
    "print(odd)\n",
    "even=listTwo[0::2]\n",
    "print(even)\n",
    "\n",
    "listthree=[]\n",
    "\n",
    "listthree.extend(odd)\n",
    "listthree.extend(even)\n",
    "\n",
    "print(listthree)\n",
    "\n"
   ]
  },
  {
   "cell_type": "code",
   "execution_count": 21,
   "id": "6c50bb71",
   "metadata": {},
   "outputs": [
    {
     "data": {
      "text/plain": [
       "[6, 12, 18, 4, 12, 20, 28]"
      ]
     },
     "execution_count": 21,
     "metadata": {},
     "output_type": "execute_result"
    }
   ],
   "source": [
    "listthre=odd+even\n",
    "listthree"
   ]
  },
  {
   "cell_type": "code",
   "execution_count": 48,
   "id": "176660bf",
   "metadata": {},
   "outputs": [],
   "source": [
    "#Given an input list removes the element at index 4 and add it to the 2nd position and also,\n",
    "#at the end of the list\n",
    "sampleList = [54, 44, 27, 79, 91, 41]"
   ]
  },
  {
   "cell_type": "code",
   "execution_count": 49,
   "id": "554791dc",
   "metadata": {},
   "outputs": [],
   "source": [
    "sampleList.remove(91)"
   ]
  },
  {
   "cell_type": "code",
   "execution_count": 50,
   "id": "e41ec8cf",
   "metadata": {},
   "outputs": [],
   "source": [
    "sampleList.append(91)"
   ]
  },
  {
   "cell_type": "code",
   "execution_count": 51,
   "id": "915c6d22",
   "metadata": {},
   "outputs": [],
   "source": [
    "sampleList[1]=91"
   ]
  },
  {
   "cell_type": "code",
   "execution_count": 52,
   "id": "250eb983",
   "metadata": {},
   "outputs": [
    {
     "data": {
      "text/plain": [
       "[54, 91, 27, 79, 41, 91]"
      ]
     },
     "execution_count": 52,
     "metadata": {},
     "output_type": "execute_result"
    }
   ],
   "source": [
    "sampleList"
   ]
  },
  {
   "cell_type": "code",
   "execution_count": 60,
   "id": "2d0189c4",
   "metadata": {},
   "outputs": [
    {
     "data": {
      "text/plain": [
       "[2, 3, 4, 5, 6]"
      ]
     },
     "execution_count": 60,
     "metadata": {},
     "output_type": "execute_result"
    }
   ],
   "source": [
    "#Add the value 1 to each element in the given list: for loop and lambda function\n",
    "l=[1,2,3,4,5]\n",
    "add = lambda x:x+1 \n",
    "list(map(add,l))\n",
    "    "
   ]
  },
  {
   "cell_type": "code",
   "execution_count": 63,
   "id": "175141d8",
   "metadata": {},
   "outputs": [
    {
     "name": "stdout",
     "output_type": "stream",
     "text": [
      "[2, 3, 4, 5, 6]\n"
     ]
    }
   ],
   "source": [
    "l=[1,2,3,4,5]\n",
    "for i in range(0,len(l)):\n",
    "    l[i] = l[i] + 1\n",
    "print(l)"
   ]
  },
  {
   "cell_type": "code",
   "execution_count": 74,
   "id": "75f56877",
   "metadata": {},
   "outputs": [
    {
     "name": "stdout",
     "output_type": "stream",
     "text": [
      "[1, 2, 5, 2, 1, 3, 2, 10]\n"
     ]
    }
   ],
   "source": [
    "#copy one list from the other OR creating one list from existing list\n",
    "list2=[1,2,5,2,1,3,2,10]\n",
    "l1=list2.copy()\n",
    "print(l1)"
   ]
  },
  {
   "cell_type": "code",
   "execution_count": 75,
   "id": "edf8ce4e",
   "metadata": {},
   "outputs": [
    {
     "name": "stdout",
     "output_type": "stream",
     "text": [
      "[1, 2, 5, 2, 1, 3, 2, 10, 1, 2, 5, 2, 1, 3, 2, 10]\n"
     ]
    }
   ],
   "source": [
    "for i in list2:\n",
    "    l1.append(i)\n",
    "print(l1)"
   ]
  },
  {
   "cell_type": "code",
   "execution_count": 66,
   "id": "a7f4056b",
   "metadata": {},
   "outputs": [
    {
     "data": {
      "text/plain": [
       "(50, 40, 30, 20, 10)"
      ]
     },
     "execution_count": 66,
     "metadata": {},
     "output_type": "execute_result"
    }
   ],
   "source": [
    "#Reverse the given tuple\n",
    "tuple1 = (10, 20, 30, 40, 50)\n",
    "tuple(reversed(tuple1))"
   ]
  },
  {
   "cell_type": "code",
   "execution_count": 70,
   "id": "df8b5bc9",
   "metadata": {},
   "outputs": [
    {
     "data": {
      "text/plain": [
       "20"
      ]
     },
     "execution_count": 70,
     "metadata": {},
     "output_type": "execute_result"
    }
   ],
   "source": [
    "#Access value 20 from the tuple\n",
    "tuple1 = (\"Orange\", [10, 20, 30], (5, 15, 25))\n",
    "tuple1[1][1]"
   ]
  },
  {
   "cell_type": "code",
   "execution_count": 23,
   "id": "08399a08",
   "metadata": {},
   "outputs": [
    {
     "name": "stdout",
     "output_type": "stream",
     "text": [
      "(44, 33, 22, 11)\n"
     ]
    }
   ],
   "source": [
    "#Copy specific elements from one tuple to a new tuple\n",
    "#Write a program to copy elements 44 and 55 from the following tuple into a new tuple\n",
    "tuple1 = (11, 22, 33, 44, 55, 66)\n",
    "tuple2=tuple1[3::-1]\n",
    "print(tuple2)"
   ]
  },
  {
   "cell_type": "code",
   "execution_count": 24,
   "id": "3157f0cb",
   "metadata": {},
   "outputs": [
    {
     "name": "stdout",
     "output_type": "stream",
     "text": [
      "{'Ten': 10, 'Twenty': 20, 'Thirty': 30}\n"
     ]
    }
   ],
   "source": [
    "#Convert two lists into a dictionary\n",
    "#Below are the two lists. Write a Python program to convert them into a dictionary in a way that \n",
    "#item from list1 is the key and item from list2 is the value\n",
    "keys = ['Ten', 'Twenty', 'Thirty']\n",
    "values = [10, 20, 30]\n",
    "res_dict=dict(zip(keys,values))\n",
    "print(res_dict)"
   ]
  },
  {
   "cell_type": "code",
   "execution_count": 25,
   "id": "5dd314f8",
   "metadata": {},
   "outputs": [
    {
     "name": "stdout",
     "output_type": "stream",
     "text": [
      "{'age': 25, 'city': 'New york'}\n"
     ]
    }
   ],
   "source": [
    "#Delete a list of keys from a dictionary\n",
    "sample_dict = {\n",
    "    \"name\": \"Kelly\",\n",
    "    \"age\": 25,\n",
    "    \"salary\": 8000,\n",
    "    \"city\": \"New york\"\n",
    "}\n",
    "\n",
    "# Keys to remove\n",
    "keys = [\"name\", \"salary\"]\n",
    "## use for loop\n",
    "for i in keys:\n",
    "    sample_dict.pop(i)\n",
    "print(sample_dict)"
   ]
  },
  {
   "cell_type": "code",
   "execution_count": 26,
   "id": "9f70c2e7",
   "metadata": {},
   "outputs": [
    {
     "name": "stdout",
     "output_type": "stream",
     "text": [
      "200 present\n"
     ]
    }
   ],
   "source": [
    "#Check if a value exists in a dictionary\n",
    "#Write a Python program to check if value 200 exists in the following dictionary.\n",
    "\n",
    "sample_dict = {'a': 100, 'b': 200, 'c': 300}\n",
    "if 200 in sample_dict.values():\n",
    "    print('200 present')"
   ]
  },
  {
   "cell_type": "code",
   "execution_count": 27,
   "id": "31217673",
   "metadata": {},
   "outputs": [
    {
     "name": "stdout",
     "output_type": "stream",
     "text": [
      "{'Orange', 'Green', 'Black', 'Yellow', 'Blue', 'Red'}\n"
     ]
    }
   ],
   "source": [
    "sample_set = {\"Yellow\", \"Orange\", \"Black\"}\n",
    "sample_list = [\"Blue\", \"Green\", \"Red\"]\n",
    "sample_set.update(sample_list)\n",
    "print(sample_set)"
   ]
  },
  {
   "cell_type": "markdown",
   "id": "046ab052",
   "metadata": {},
   "source": [
    "Write a program to add sample_list into a given set.\n",
    "sample_set = {\"Yellow\", \"Orange\", \"Black\"}\n",
    "sample_list = [\"Blue\", \"Green\", \"Red\"]"
   ]
  },
  {
   "cell_type": "code",
   "execution_count": 29,
   "id": "66efa56d",
   "metadata": {},
   "outputs": [
    {
     "name": "stdout",
     "output_type": "stream",
     "text": [
      "{40, 50, 30}\n"
     ]
    }
   ],
   "source": [
    "##Return a new set of identical items from two sets\n",
    "set1 = {10, 20, 30, 40, 50}\n",
    "set2 = {30, 40, 50, 60, 70}\n",
    "print(set1.intersection(set2))"
   ]
  },
  {
   "cell_type": "code",
   "execution_count": null,
   "id": "42bd1dc9",
   "metadata": {},
   "outputs": [],
   "source": []
  },
  {
   "cell_type": "code",
   "execution_count": null,
   "id": "d189cdd8",
   "metadata": {},
   "outputs": [],
   "source": []
  },
  {
   "cell_type": "code",
   "execution_count": null,
   "id": "4c53ab62",
   "metadata": {},
   "outputs": [],
   "source": [
    "# set 3"
   ]
  },
  {
   "cell_type": "code",
   "execution_count": 33,
   "id": "ff0838f6",
   "metadata": {},
   "outputs": [
    {
     "data": {
      "text/plain": [
       "['a', 'e', 'i']"
      ]
     },
     "execution_count": 33,
     "metadata": {},
     "output_type": "execute_result"
    }
   ],
   "source": [
    "#apply lambda function to filter out vowles from a list\n",
    "\n",
    "alphabets = ['a', 'b', 'c', 'd', 'e', 'f', 'g', 'h', 'i']\n",
    "def vowel(x):\n",
    "    v=['a','e','i','o','u']\n",
    "    return x in v\n",
    "\n",
    "b=list(filter(vowel,alphabets))\n",
    "b"
   ]
  },
  {
   "cell_type": "code",
   "execution_count": 34,
   "id": "aa92f260",
   "metadata": {},
   "outputs": [
    {
     "data": {
      "text/plain": [
       "[456, 78, 400, 568]"
      ]
     },
     "execution_count": 34,
     "metadata": {},
     "output_type": "execute_result"
    }
   ],
   "source": [
    " #apply lambda function to find list of even numbers from a given list\n",
    "l2=[456,78,987,400,568,887]\n",
    "evennumbers=list(filter(lambda x :x%2==0,l2))\n",
    "evennumbers"
   ]
  },
  {
   "cell_type": "code",
   "execution_count": 37,
   "id": "942ebc74",
   "metadata": {},
   "outputs": [
    {
     "data": {
      "text/plain": [
       "['LEARN', 'PYTHON', 'STEP', 'BY', 'STEP']"
      ]
     },
     "execution_count": 37,
     "metadata": {},
     "output_type": "execute_result"
    }
   ],
   "source": [
    "#Use map() function to convert elements of lists into uppercase\n",
    "alist = ['learn', 'python', 'step', 'by', 'step']\n",
    "out=list(map(lambda x:x.upper(),alist))\n",
    "out"
   ]
  },
  {
   "cell_type": "code",
   "execution_count": 38,
   "id": "9d972215",
   "metadata": {},
   "outputs": [
    {
     "name": "stdout",
     "output_type": "stream",
     "text": [
      "74\n"
     ]
    }
   ],
   "source": [
    "#Write a Python program to calculate the sum of a list of numbers.\n",
    "list1 = [11, 5, 17, 18, 23]\n",
    "total=0\n",
    "for i in range(0,len(list1)):\n",
    "    total=total+list1[i]\n",
    "print(total)"
   ]
  },
  {
   "cell_type": "raw",
   "id": "a07db03c",
   "metadata": {},
   "source": [
    "# Python program to check if strings are rotations of\n",
    "# each other or not\n",
    "str1 = \"ABACD\"\n",
    "str2 = \"CDABA\""
   ]
  },
  {
   "cell_type": "code",
   "execution_count": null,
   "id": "4e8cabb2",
   "metadata": {},
   "outputs": [],
   "source": [
    "### LMS Problems"
   ]
  },
  {
   "cell_type": "code",
   "execution_count": 39,
   "id": "16060f0a",
   "metadata": {},
   "outputs": [
    {
     "name": "stdout",
     "output_type": "stream",
     "text": [
      "[('apple', 60), ('banana', 80), ('cherry', 20), ('grapes', 120)]\n"
     ]
    }
   ],
   "source": [
    "## Write a Python program to sort a given dictionary by key.\n",
    "\n",
    "data = {'banana': 80,'cherry': 20,'apple': 60,'grapes':120}\n",
    "sorted_result = sorted(data.items())\n",
    "\n",
    "print(sorted_result)"
   ]
  },
  {
   "cell_type": "code",
   "execution_count": 41,
   "id": "d75cf877",
   "metadata": {},
   "outputs": [
    {
     "data": {
      "text/plain": [
       "dict_items([('banana', 80), ('cherry', 20), ('apple', 60), ('grapes', 120)])"
      ]
     },
     "execution_count": 41,
     "metadata": {},
     "output_type": "execute_result"
    }
   ],
   "source": [
    "data.items()"
   ]
  },
  {
   "cell_type": "code",
   "execution_count": 42,
   "id": "55e17342",
   "metadata": {},
   "outputs": [
    {
     "name": "stdout",
     "output_type": "stream",
     "text": [
      "[15, 14, 13, 12, 11, 10]\n"
     ]
    }
   ],
   "source": [
    "#Write a python program to create a list and print all the items in reverse index order.\n",
    "lst = [10, 11, 12, 13, 14, 15]\n",
    "lst.reverse()\n",
    "print(lst)"
   ]
  },
  {
   "cell_type": "code",
   "execution_count": 43,
   "id": "a0213916",
   "metadata": {},
   "outputs": [
    {
     "data": {
      "text/plain": [
       "[0, 1, 4, 7, 23, 3, 12, 43, 87, 90]"
      ]
     },
     "execution_count": 43,
     "metadata": {},
     "output_type": "execute_result"
    }
   ],
   "source": [
    "#Write a Python function that takes two sorted lists and return merged List.\n",
    "List_1=[7,23,4,0,1]\n",
    "List_2=[90,3,12,87,43]\n",
    "List_1.sort()\n",
    "List_2.sort()\n",
    "List_1+List_2"
   ]
  },
  {
   "cell_type": "code",
   "execution_count": 44,
   "id": "4db9fbd2",
   "metadata": {},
   "outputs": [
    {
     "data": {
      "text/plain": [
       "{2, 3, 4, 6, 7}"
      ]
     },
     "execution_count": 44,
     "metadata": {},
     "output_type": "execute_result"
    }
   ],
   "source": [
    "#Write a Python program to remove duplicates from a list\n",
    "List_3=[2,3,4,3,6,2,7,4]\n",
    "new_list=set(List_3)\n",
    "new_list"
   ]
  },
  {
   "cell_type": "code",
   "execution_count": 45,
   "id": "7f1f3f15",
   "metadata": {},
   "outputs": [
    {
     "name": "stdout",
     "output_type": "stream",
     "text": [
      "No\n"
     ]
    }
   ],
   "source": [
    "#write a python function to check whether the list is Ascending order or not.\n",
    "n=[56,90,87,54]    #assign list values from input\n",
    "if sorted(n) == n: #for descending, use sorted(n, reverse=True)\n",
    "    print(\"Yes\")\n",
    "else:\n",
    "    print(\"No\")"
   ]
  },
  {
   "cell_type": "code",
   "execution_count": null,
   "id": "e787ae1a",
   "metadata": {},
   "outputs": [],
   "source": []
  }
 ],
 "metadata": {
  "kernelspec": {
   "display_name": "Python 3 (ipykernel)",
   "language": "python",
   "name": "python3"
  },
  "language_info": {
   "codemirror_mode": {
    "name": "ipython",
    "version": 3
   },
   "file_extension": ".py",
   "mimetype": "text/x-python",
   "name": "python",
   "nbconvert_exporter": "python",
   "pygments_lexer": "ipython3",
   "version": "3.9.12"
  }
 },
 "nbformat": 4,
 "nbformat_minor": 5
}
