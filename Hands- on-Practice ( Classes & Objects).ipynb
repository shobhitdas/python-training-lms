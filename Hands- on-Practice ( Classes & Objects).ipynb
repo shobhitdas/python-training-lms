{
 "cells": [
  {
   "cell_type": "markdown",
   "id": "3ff4629c",
   "metadata": {},
   "source": [
    "##### Create a car class\n",
    "1. Create a Car class with two instance attributes:\n",
    "\n",
    "- color, which stores the name of the car’s color as a string\n",
    "\n",
    "- mileage, which stores the number of miles on the car as an integer\n",
    "\n",
    "Then instantiate two Car objects—a blue car with 20,000 miles and a red car with 30,000 miles—and print out their colors and mileage. \n",
    "\n",
    "Your output should look like this:\n",
    "\n",
    "The blue car has 20,000 miles.\n",
    "\n",
    "The red car has 30,000 miles."
   ]
  },
  {
   "cell_type": "code",
   "execution_count": 2,
   "id": "1f560272",
   "metadata": {},
   "outputs": [],
   "source": [
    "class car:\n",
    "    def __init__(self,color,mileage):\n",
    "        self.color=color\n",
    "        self.mileage=mileage\n",
    "    def description(self):\n",
    "        return f'the {self.color} car has {self.mileage} miles'\n",
    "    \n",
    "        "
   ]
  },
  {
   "cell_type": "code",
   "execution_count": 7,
   "id": "e25ce018",
   "metadata": {},
   "outputs": [
    {
     "name": "stdout",
     "output_type": "stream",
     "text": [
      "the blue car has 20000 miles\n",
      "the red car has 30000 miles\n"
     ]
    }
   ],
   "source": [
    "car1=car(\"blue\",20000)\n",
    "print(car1.description())\n",
    "car2 =car(\"red\",30000)\n",
    "print(car2.description())\n"
   ]
  },
  {
   "cell_type": "markdown",
   "id": "47ae9c9f",
   "metadata": {},
   "source": [
    "2. Create a Class with instance attributes\n",
    "Write a Python program to create a Vehicle class with max_speed and mileage instance attributes."
   ]
  },
  {
   "cell_type": "code",
   "execution_count": 15,
   "id": "cca80e43",
   "metadata": {},
   "outputs": [],
   "source": [
    "class vehicle:\n",
    "    def __init__(self,max_speed,mileage):\n",
    "        self.max_speed=max_speed\n",
    "        self.mileage=mileage\n",
    "    \n",
    "    \n",
    "    "
   ]
  },
  {
   "cell_type": "markdown",
   "id": "4c9b1fb4",
   "metadata": {},
   "source": [
    "3. Create a Vehicle class without any variables and methods"
   ]
  },
  {
   "cell_type": "code",
   "execution_count": 14,
   "id": "e8591724",
   "metadata": {},
   "outputs": [],
   "source": [
    "class vehicle1:\n",
    "    def __init__(self):\n",
    "        pass"
   ]
  },
  {
   "cell_type": "markdown",
   "id": "d9109baa",
   "metadata": {},
   "source": [
    "4. Create a child class Bus that will inherit all of the variables and methods of the Vehicle class\n",
    "Expected output:\n",
    "    Vehicle Name: School Volvo Speed: 180 Mileage: 12"
   ]
  },
  {
   "cell_type": "code",
   "execution_count": 21,
   "id": "dae96787",
   "metadata": {},
   "outputs": [
    {
     "name": "stdout",
     "output_type": "stream",
     "text": [
      "Vehicle Name:  School Volvo\n",
      "Speed:  180\n",
      "Mileage:  12\n"
     ]
    }
   ],
   "source": [
    "class bus(vehicle):\n",
    "    def __init__(self,max_speed,mileage,vehicle_name):\n",
    "        self.vehicle_name=vehicle_name\n",
    "        \n",
    "        \n",
    "        vehicle.__init__(self,max_speed,mileage)\n",
    "        \n",
    "    def display(self):\n",
    "        print(\"Vehicle Name: \",self.vehicle_name)\n",
    "        print(\"Speed: \",self.max_speed)\n",
    "        print(\"Mileage: \",self.mileage)\n",
    "        \n",
    "x=bus(180,12,\"School Volvo\")\n",
    "x.display()\n",
    "    "
   ]
  },
  {
   "cell_type": "markdown",
   "id": "42ebb4a1",
   "metadata": {},
   "source": [
    "5. Define a property that must have the same value for every class instance (object)\n",
    "Define a class attribute”color” with a default value white. I.e., Every Vehicle should be white.\n",
    "\n",
    "Use the following code for this exercise.\n",
    "class Vehicle:\n",
    "\n",
    "    def __init__(self, name, max_speed, mileage):\n",
    "        self.name = name\n",
    "        self.max_speed = max_speed\n",
    "        self.mileage = mileage\n",
    "\n",
    "class Bus(Vehicle):\n",
    "    pass\n",
    "class Car(Vehicle):\n",
    "    pass\n",
    "Expected Output:\n",
    "\n",
    "Color: White, Vehicle name: School Volvo, Speed: 180, Mileage: 12\n",
    "Color: White, Vehicle name: Audi Q5, Speed: 240, Mileage: 18"
   ]
  },
  {
   "cell_type": "code",
   "execution_count": 29,
   "id": "13ae43e0",
   "metadata": {},
   "outputs": [
    {
     "name": "stdout",
     "output_type": "stream",
     "text": [
      "color white\n",
      " vehicle name school volvo\n",
      "max_speed 180\n",
      "mileage 12\n",
      "color white\n",
      " vehicle name audi q5\n",
      "max_speed 240\n",
      "mileage 18\n"
     ]
    }
   ],
   "source": [
    "class vehicle:\n",
    "    color=\"white\"\n",
    "    def __init__(self, name, max_speed, mileage):\n",
    "        self.name = name\n",
    "        self.max_speed = max_speed\n",
    "        self.mileage = mileage\n",
    "    \n",
    "    def display(self):\n",
    "        print(\"color\",vehicle.color)\n",
    "        print(\" vehicle name\",self.name)\n",
    "        print(\"max_speed\",self.max_speed)\n",
    "        print(\"mileage\", self.mileage)\n",
    "        \n",
    "x=vehicle(\"school volvo\", 180,12)\n",
    "y=vehicle(\"audi q5\",240,18)\n",
    "\n",
    "x.display()\n",
    "y.display()"
   ]
  },
  {
   "cell_type": "raw",
   "id": "471f2cee",
   "metadata": {},
   "source": [
    "create a Shark class and a Clownfish class, each of which will define methods for swim(), swim_backwards(), and skeleton()."
   ]
  },
  {
   "cell_type": "code",
   "execution_count": 37,
   "id": "0acb374e",
   "metadata": {},
   "outputs": [
    {
     "name": "stdout",
     "output_type": "stream",
     "text": [
      "The shark's skeleton is made of cartilage.\n",
      "The shark cannot swim backwards, but can sink backwards.\n",
      "The shark is swimming.\n",
      "The clownfish's skeleton is made of bone.\n",
      "The clownfish can swim backwards.\n",
      "The clownfish is swimming.\n"
     ]
    }
   ],
   "source": [
    "class Shark():\n",
    "    def __init__(self):\n",
    "        pass\n",
    "    \n",
    "    def swim(self):\n",
    "        print(\"The shark is swimming.\")\n",
    "\n",
    "    def swim_backwards(self):\n",
    "        print(\"The shark cannot swim backwards, but can sink backwards.\")\n",
    "\n",
    "    def skeleton(self):\n",
    "        print(\"The shark's skeleton is made of cartilage.\")\n",
    "\n",
    "\n",
    "class Clownfish():\n",
    "    def __init__(self):\n",
    "        pass\n",
    "    \n",
    "    def swim(self):\n",
    "        print(\"The clownfish is swimming.\")\n",
    "\n",
    "    def swim_backwards(self):\n",
    "        print(\"The clownfish can swim backwards.\")\n",
    "\n",
    "    def skeleton(self):\n",
    "        print(\"The clownfish's skeleton is made of bone.\")\n",
    "        \n",
    "sharky=Shark()\n",
    "sharky.skeleton()\n",
    "sharky.swim_backwards()\n",
    "sharky.swim()\n",
    "\n",
    "clown=Clownfish()\n",
    "clown.skeleton()\n",
    "clown.swim_backwards()\n",
    "clown.swim()"
   ]
  },
  {
   "cell_type": "code",
   "execution_count": null,
   "id": "55d50d1e",
   "metadata": {},
   "outputs": [],
   "source": []
  },
  {
   "cell_type": "code",
   "execution_count": null,
   "id": "f7a52011",
   "metadata": {},
   "outputs": [],
   "source": []
  }
 ],
 "metadata": {
  "kernelspec": {
   "display_name": "Python 3 (ipykernel)",
   "language": "python",
   "name": "python3"
  },
  "language_info": {
   "codemirror_mode": {
    "name": "ipython",
    "version": 3
   },
   "file_extension": ".py",
   "mimetype": "text/x-python",
   "name": "python",
   "nbconvert_exporter": "python",
   "pygments_lexer": "ipython3",
   "version": "3.9.12"
  }
 },
 "nbformat": 4,
 "nbformat_minor": 5
}
