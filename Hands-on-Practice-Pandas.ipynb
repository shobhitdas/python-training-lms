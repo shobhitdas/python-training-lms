{
 "cells": [
  {
   "cell_type": "raw",
   "id": "c3652f00",
   "metadata": {},
   "source": [
    "#1. Write a Pandas program to extract items at given positions of a given series.\n",
    "\n",
    "Sample Input: input1: Series of list, input 2: position (list)\n",
    "\n",
    "a b c d e f g h i j k l m n o p q r s t u v w x y z \n",
    "\n",
    "0 5 9 \n",
    "\n",
    "Sample Output \n",
    "\n",
    "0     a \n",
    "\n",
    "4     f \n",
    "\n",
    "8     j \n"
   ]
  },
  {
   "cell_type": "code",
   "execution_count": 9,
   "id": "e625a816",
   "metadata": {},
   "outputs": [
    {
     "name": "stdout",
     "output_type": "stream",
     "text": [
      "enter no elements:26\n",
      "a\n",
      "b\n",
      "c\n",
      "d\n",
      "e\n",
      "f\n",
      "g\n",
      "h\n",
      "i\n",
      "j\n",
      "k\n",
      "l\n",
      "m\n",
      "n\n",
      "o\n",
      "p\n",
      "q\n",
      "r\n",
      "s\n",
      "t\n",
      "u\n",
      "v\n",
      "w\n",
      "x\n",
      "y\n",
      "z\n",
      "Original Series:\n",
      "0     a\n",
      "1     b\n",
      "2     c\n",
      "3     d\n",
      "4     e\n",
      "5     f\n",
      "6     g\n",
      "7     h\n",
      "8     i\n",
      "9     j\n",
      "10    k\n",
      "11    l\n",
      "12    m\n",
      "13    n\n",
      "14    o\n",
      "15    p\n",
      "16    q\n",
      "17    r\n",
      "18    s\n",
      "19    t\n",
      "20    u\n",
      "21    v\n",
      "22    w\n",
      "23    x\n",
      "24    y\n",
      "25    z\n",
      "dtype: object\n",
      "\n",
      "Extract items at given positions of the said series:\n",
      "0    a\n",
      "5    f\n",
      "9    j\n",
      "dtype: object\n"
     ]
    }
   ],
   "source": [
    "import pandas as pd\n",
    "lst=list()\n",
    "n=int(input(\"enter no elements:\"))\n",
    "for i in range(0,n):\n",
    "    l=input()\n",
    "    lst.append(l)\n",
    "num_series = pd.Series(lst)\n",
    "element_pos = [0,5,9]\n",
    "print(\"Original Series:\")\n",
    "print(num_series)\n",
    "result = num_series.take(element_pos)\n",
    "print(\"\\nExtract items at given positions of the said series:\")\n",
    "print(result) "
   ]
  },
  {
   "cell_type": "code",
   "execution_count": null,
   "id": "de608548",
   "metadata": {},
   "outputs": [],
   "source": [
    "#2. Write a Pandas program to add, subtract, multiple and divide two Pandas Series.\n",
    "\n",
    "Sample Series: [2, 4, 6, 8, 10], [1, 3, 5, 7, 9]"
   ]
  },
  {
   "cell_type": "code",
   "execution_count": 15,
   "id": "c6337ed7",
   "metadata": {},
   "outputs": [
    {
     "name": "stdout",
     "output_type": "stream",
     "text": [
      "addition of series\n",
      "0     3\n",
      "1     7\n",
      "2    11\n",
      "3    15\n",
      "4    19\n",
      "dtype: int64\n",
      "subtraction\n",
      "0    1\n",
      "1    1\n",
      "2    1\n",
      "3    1\n",
      "4    1\n",
      "dtype: int64\n",
      "multiplication\n",
      "0     2\n",
      "1    12\n",
      "2    30\n",
      "3    56\n",
      "4    90\n",
      "dtype: int64\n",
      "division\n",
      "0    2.000000\n",
      "1    1.333333\n",
      "2    1.200000\n",
      "3    1.142857\n",
      "4    1.111111\n",
      "dtype: float64\n"
     ]
    }
   ],
   "source": [
    "import pandas as pd\n",
    "ds1=pd.Series([2,4,6,8,10])\n",
    "ds2=pd.Series([1,3,5,7,9])\n",
    "ds_add=ds1+ds2\n",
    "print(\"addition of series\")\n",
    "print(ds_add)\n",
    "ds_sub=ds1-ds2\n",
    "print(\"subtraction\")\n",
    "print(ds_sub)\n",
    "ds_mul=ds1*ds2\n",
    "print(\"multiplication\")\n",
    "print(ds_mul)\n",
    "ds_div=ds1/ds2\n",
    "print(\"division\")\n",
    "print(ds_div)"
   ]
  },
  {
   "cell_type": "code",
   "execution_count": null,
   "id": "08c76720",
   "metadata": {},
   "outputs": [],
   "source": [
    "#3.\n",
    "Write a Pandas program to change the data type of given a column or a Series.\n",
    "\n",
    "Sample Series:\n",
    "Original Data Series:\n",
    "0 100\n",
    "1 200\n",
    "2 python\n",
    "3 300.12\n",
    "4 400\n",
    "dtype: object\n",
    "Change the said data type to numeric:\n",
    "0 100.00\n",
    "1 200.00\n",
    "2 NaN\n",
    "3 300.12\n",
    "4 400.00\n",
    "dtype: float64"
   ]
  },
  {
   "cell_type": "code",
   "execution_count": 26,
   "id": "00a316ff",
   "metadata": {},
   "outputs": [
    {
     "name": "stdout",
     "output_type": "stream",
     "text": [
      "enter no of repurcussions you want5\n",
      "100\n",
      "200\n",
      "python\n",
      "300.12\n",
      "400\n",
      "Original Data Series:\n",
      "0       100\n",
      "1       200\n",
      "2    python\n",
      "3    300.12\n",
      "4       400\n",
      "dtype: object\n",
      "Change the said data type to numeric:\n",
      "0    100.00\n",
      "1    200.00\n",
      "2       NaN\n",
      "3    300.12\n",
      "4    400.00\n",
      "dtype: float64\n"
     ]
    }
   ],
   "source": [
    "import pandas as pd\n",
    "lst=list()\n",
    "n=int(input(\"enter no of repurcussions you want\"))\n",
    "for i in range (0,n):\n",
    "    l=input()\n",
    "    lst.append(l)\n",
    "s1 = pd.Series(lst)\n",
    "print(\"Original Data Series:\")\n",
    "print(s1)\n",
    "print(\"Change the said data type to numeric:\")\n",
    "s2 = pd.to_numeric(s1, errors='coerce')\n",
    "print(s2)"
   ]
  },
  {
   "cell_type": "code",
   "execution_count": null,
   "id": "60709b22",
   "metadata": {},
   "outputs": [],
   "source": [
    "# 4. Write a Pandas program to change the order of index of a given series."
   ]
  },
  {
   "cell_type": "code",
   "execution_count": 28,
   "id": "d4b5dd48",
   "metadata": {},
   "outputs": [
    {
     "name": "stdout",
     "output_type": "stream",
     "text": [
      "A    1\n",
      "B    2\n",
      "C    3\n",
      "D    4\n",
      "E    5\n",
      "dtype: int64\n",
      "data series after changing the order of index\n",
      "P   NaN\n",
      "Y   NaN\n",
      "T   NaN\n",
      "H   NaN\n",
      "O   NaN\n",
      "N   NaN\n",
      "dtype: float64\n"
     ]
    }
   ],
   "source": [
    "s=pd.Series(data = [1,2,3,4,5], index=['A','B','C','D','E'])\n",
    "print(s)\n",
    "s=s.reindex(index=['P','Y','T','H','O','N'])\n",
    "print(\"data series after changing the order of index\")\n",
    "print(s)"
   ]
  },
  {
   "cell_type": "code",
   "execution_count": null,
   "id": "f19e7e33",
   "metadata": {},
   "outputs": [],
   "source": []
  }
 ],
 "metadata": {
  "kernelspec": {
   "display_name": "Python 3 (ipykernel)",
   "language": "python",
   "name": "python3"
  },
  "language_info": {
   "codemirror_mode": {
    "name": "ipython",
    "version": 3
   },
   "file_extension": ".py",
   "mimetype": "text/x-python",
   "name": "python",
   "nbconvert_exporter": "python",
   "pygments_lexer": "ipython3",
   "version": "3.9.12"
  }
 },
 "nbformat": 4,
 "nbformat_minor": 5
}
