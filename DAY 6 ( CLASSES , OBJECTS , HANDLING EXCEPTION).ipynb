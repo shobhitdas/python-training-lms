{
 "cells": [
  {
   "cell_type": "markdown",
   "id": "afaf27ef",
   "metadata": {},
   "source": [
    "#OOP\n",
    "\"\"\"\n",
    "CLASS \n",
    "OBJECTS\n",
    "INHERITANCE\n",
    "POLYMORPHISM\n",
    "OVERRIDING\n",
    "\n",
    "\"\"\""
   ]
  },
  {
   "cell_type": "code",
   "execution_count": null,
   "id": "2b412bd9",
   "metadata": {},
   "outputs": [],
   "source": [
    "#Handling exceptions\n",
    "#Numpy"
   ]
  },
  {
   "cell_type": "code",
   "execution_count": 1,
   "id": "b26a67fc",
   "metadata": {},
   "outputs": [],
   "source": [
    "#create empty class\n",
    "class Dog:\n",
    "    pass\n",
    "       "
   ]
  },
  {
   "cell_type": "code",
   "execution_count": 4,
   "id": "6ae737aa",
   "metadata": {},
   "outputs": [],
   "source": [
    "class Dog:\n",
    "    def __init__(self,name,age):\n",
    "        self.name=name\n",
    "        self.age=age\n",
    "        \n",
    "        "
   ]
  },
  {
   "cell_type": "code",
   "execution_count": 5,
   "id": "3a78670f",
   "metadata": {},
   "outputs": [
    {
     "data": {
      "text/plain": [
       "<__main__.Dog at 0x26a7be2c940>"
      ]
     },
     "execution_count": 5,
     "metadata": {},
     "output_type": "execute_result"
    }
   ],
   "source": [
    "Dog('mila',34)"
   ]
  },
  {
   "cell_type": "code",
   "execution_count": 6,
   "id": "de5f4964",
   "metadata": {},
   "outputs": [
    {
     "data": {
      "text/plain": [
       "'mila'"
      ]
     },
     "execution_count": 6,
     "metadata": {},
     "output_type": "execute_result"
    }
   ],
   "source": [
    "x=Dog('mila',34)\n",
    "x.name"
   ]
  },
  {
   "cell_type": "code",
   "execution_count": 7,
   "id": "6600d1ad",
   "metadata": {},
   "outputs": [],
   "source": [
    "class Dog:\n",
    "    breed=\"Labrador\"\n",
    "    def __init__(self,name,age):\n",
    "        self.name=name\n",
    "        self.age=age"
   ]
  },
  {
   "cell_type": "code",
   "execution_count": 8,
   "id": "c1e35235",
   "metadata": {},
   "outputs": [
    {
     "data": {
      "text/plain": [
       "'Labrador'"
      ]
     },
     "execution_count": 8,
     "metadata": {},
     "output_type": "execute_result"
    }
   ],
   "source": [
    "Dog.breed"
   ]
  },
  {
   "cell_type": "code",
   "execution_count": 9,
   "id": "1b11b7eb",
   "metadata": {},
   "outputs": [],
   "source": [
    "class Dog:\n",
    "    #class attribute\n",
    "    breed=\"Labrador\"\n",
    "    color=\"Black\"\n",
    "    def __init__(self,name,age):                   #class method\n",
    "        self.name=name\n",
    "        self.age=age"
   ]
  },
  {
   "cell_type": "code",
   "execution_count": 10,
   "id": "86255dda",
   "metadata": {},
   "outputs": [
    {
     "data": {
      "text/plain": [
       "'Black'"
      ]
     },
     "execution_count": 10,
     "metadata": {},
     "output_type": "execute_result"
    }
   ],
   "source": [
    "Dog.color"
   ]
  },
  {
   "cell_type": "code",
   "execution_count": 13,
   "id": "22d744d0",
   "metadata": {},
   "outputs": [
    {
     "data": {
      "text/plain": [
       "'Black'"
      ]
     },
     "execution_count": 13,
     "metadata": {},
     "output_type": "execute_result"
    }
   ],
   "source": [
    "dog1=Dog('tom', 3)\n",
    "dog1.color"
   ]
  },
  {
   "cell_type": "code",
   "execution_count": 14,
   "id": "ade4089b",
   "metadata": {},
   "outputs": [
    {
     "data": {
      "text/plain": [
       "4"
      ]
     },
     "execution_count": 14,
     "metadata": {},
     "output_type": "execute_result"
    }
   ],
   "source": [
    "#do changes in attribute\n",
    "dog1.age=4\n",
    "dog1.age"
   ]
  },
  {
   "cell_type": "code",
   "execution_count": 15,
   "id": "63c6be52",
   "metadata": {},
   "outputs": [],
   "source": [
    "class Dog:\n",
    "    #class attribute\n",
    "    breed=\"labrador\"\n",
    "    color=\"black\"\n",
    "    def __init__(self,name,age):              #class method\n",
    "        self.name=name\n",
    "        self.age=age\n",
    "    #instance method\n",
    "    def description(self):\n",
    "        return f'{self.name}, is {self.age} years old'\n",
    "    "
   ]
  },
  {
   "cell_type": "code",
   "execution_count": 17,
   "id": "e5e6458a",
   "metadata": {},
   "outputs": [
    {
     "data": {
      "text/plain": [
       "'tommy'"
      ]
     },
     "execution_count": 17,
     "metadata": {},
     "output_type": "execute_result"
    }
   ],
   "source": [
    "dog2=Dog(\"tommy\", 1)\n",
    "dog2.name"
   ]
  },
  {
   "cell_type": "code",
   "execution_count": 18,
   "id": "b9354e78",
   "metadata": {},
   "outputs": [
    {
     "data": {
      "text/plain": [
       "'tommy, is 1 years old'"
      ]
     },
     "execution_count": 18,
     "metadata": {},
     "output_type": "execute_result"
    }
   ],
   "source": [
    "dog2.description()"
   ]
  },
  {
   "cell_type": "code",
   "execution_count": 26,
   "id": "6bc71d25",
   "metadata": {},
   "outputs": [],
   "source": [
    "class Dog:\n",
    "    #class attribute\n",
    "    breed=\"labrador\"\n",
    "    color=\"black\"\n",
    "    def __init__(self,name,age):              #class method\n",
    "        self.name=name\n",
    "        self.age=age\n",
    "    #instance method\n",
    "    def description(self):\n",
    "        return f'{self.name}, is {self.age} years old'\n",
    "    #another instance method\n",
    "    def speak(self,sound):\n",
    "        return f'{self.name} says {sound}'"
   ]
  },
  {
   "cell_type": "code",
   "execution_count": 27,
   "id": "bcfff432",
   "metadata": {},
   "outputs": [
    {
     "data": {
      "text/plain": [
       "'sheru'"
      ]
     },
     "execution_count": 27,
     "metadata": {},
     "output_type": "execute_result"
    }
   ],
   "source": [
    "dog1=Dog('sheru',5)\n",
    "dog1.name"
   ]
  },
  {
   "cell_type": "code",
   "execution_count": 28,
   "id": "1710ad7c",
   "metadata": {},
   "outputs": [
    {
     "data": {
      "text/plain": [
       "5"
      ]
     },
     "execution_count": 28,
     "metadata": {},
     "output_type": "execute_result"
    }
   ],
   "source": [
    "dog1.age"
   ]
  },
  {
   "cell_type": "code",
   "execution_count": 29,
   "id": "7b12d4c5",
   "metadata": {},
   "outputs": [
    {
     "data": {
      "text/plain": [
       "'sheru, is 5 years old'"
      ]
     },
     "execution_count": 29,
     "metadata": {},
     "output_type": "execute_result"
    }
   ],
   "source": [
    "dog1.description()"
   ]
  },
  {
   "cell_type": "code",
   "execution_count": 31,
   "id": "ec21f888",
   "metadata": {},
   "outputs": [
    {
     "data": {
      "text/plain": [
       "'sheru says bark'"
      ]
     },
     "execution_count": 31,
     "metadata": {},
     "output_type": "execute_result"
    }
   ],
   "source": [
    "dog1.speak('bark')"
   ]
  },
  {
   "cell_type": "code",
   "execution_count": 44,
   "id": "a94e802e",
   "metadata": {},
   "outputs": [
    {
     "name": "stdout",
     "output_type": "stream",
     "text": [
      "shobhit\n",
      "76604\n",
      "CEO\n",
      "3600000\n",
      "shobhit\n",
      "76604\n"
     ]
    }
   ],
   "source": [
    "class person:\n",
    "    def __init__(self,name,idno):\n",
    "        self.name=name\n",
    "        self.idno=idno\n",
    "        #instance method\n",
    "    def display(self):\n",
    "        print(self.name)\n",
    "        print(self.idno)\n",
    "        #instance method\n",
    "    def details(self):\n",
    "        print(self.name)\n",
    "        print(self.idno)\n",
    "        \n",
    "#child class/\n",
    "class employee(person):\n",
    "    def __init__(self,name,idno,salary,post,age):\n",
    "        self.salary=salary\n",
    "        self.post=post\n",
    "        self.age=age\n",
    "        \n",
    "        #invoke the __init__ of parent class\n",
    "        person.__init__(self,name,idno)\n",
    "        \n",
    "    def display(self):\n",
    "        print(self.name)\n",
    "        print(self.idno)\n",
    "        print(self.post)\n",
    "        print(self.salary)\n",
    "        \n",
    "#create object variable (child class)\n",
    "a=employee('shobhit',76604,3600000,\"CEO\",23)\n",
    "\n",
    "#calling a function of the class peson using its instance\n",
    "a.display()\n",
    "a.details()"
   ]
  },
  {
   "cell_type": "code",
   "execution_count": 42,
   "id": "f6905a5a",
   "metadata": {},
   "outputs": [
    {
     "name": "stdout",
     "output_type": "stream",
     "text": [
      "mammal\n",
      "mammal\n",
      "kat\n"
     ]
    }
   ],
   "source": [
    "#creating a class and object with class and instance attributes\n",
    "class Cat:\n",
    "    #class attribute\n",
    "    attr1=\"mammal\"\n",
    "    \n",
    "    #instance attribute\n",
    "    def __init__(self,name,age):\n",
    "        self.name=name\n",
    "        self.age = age\n",
    "        \n",
    "    def description (self):\n",
    "        return f'{self.name} , is {self.age} years old'\n",
    "        \n",
    "#object instantiation\n",
    "kat=Cat(\"kat\", 5)\n",
    "\n",
    "#access class attributes\n",
    "print(kat.attr1)\n",
    "print(Cat.attr1)\n",
    "\n",
    "#access instance variable\n",
    "print(kat.name)"
   ]
  },
  {
   "cell_type": "code",
   "execution_count": 43,
   "id": "defdd349",
   "metadata": {},
   "outputs": [
    {
     "data": {
      "text/plain": [
       "'kat , is 5 years old'"
      ]
     },
     "execution_count": 43,
     "metadata": {},
     "output_type": "execute_result"
    }
   ],
   "source": [
    "kat.description()"
   ]
  },
  {
   "cell_type": "code",
   "execution_count": 46,
   "id": "0cbb9f9a",
   "metadata": {},
   "outputs": [
    {
     "name": "stdout",
     "output_type": "stream",
     "text": [
      "arpit\n",
      "21\n",
      "arpita\n",
      "milk\n"
     ]
    }
   ],
   "source": [
    "class dog(Cat):\n",
    "    def __init__(self,name,age,owner,food):\n",
    "        self.owner=owner\n",
    "        self.food=food\n",
    "        \n",
    "        Cat.__init__(self,name,age)\n",
    "        \n",
    "    def description(self):\n",
    "        print(self.name)\n",
    "        print(self.age)\n",
    "        print(self.owner)\n",
    "        print(self.food)\n",
    "        \n",
    "x=dog('arpit',21,'arpita','milk')\n",
    "\n",
    "x.description()\n",
    "        \n",
    "         "
   ]
  },
  {
   "cell_type": "code",
   "execution_count": 51,
   "id": "81d09401",
   "metadata": {},
   "outputs": [
    {
     "name": "stdout",
     "output_type": "stream",
     "text": [
      "arpit\n",
      "21\n",
      "arpita\n",
      "milk\n",
      "eating bread...\n"
     ]
    }
   ],
   "source": [
    "#multilevel inheritance\n",
    "#the child class dogchild inherits another child class dog\n",
    "class Dogchild(dog):  \n",
    "    def __init__ (self,name,age ,owner,food,eat):\n",
    "        self.eat=eat\n",
    "        \n",
    "        dog.__init__(self,name,age,owner,food)\n",
    "        \n",
    "    def description(self):\n",
    "        print(self.name)\n",
    "        print(self.age)\n",
    "        print(self.owner)\n",
    "        print(self.food)\n",
    "        print(self.eat)\n",
    "        \n",
    "x=Dogchild('arpit',21,'arpita','milk',\"eating bread...\")\n",
    "\n",
    "x.description()\n",
    "       \n",
    "        "
   ]
  },
  {
   "cell_type": "code",
   "execution_count": 77,
   "id": "9cbadba9",
   "metadata": {},
   "outputs": [
    {
     "ename": "TypeError",
     "evalue": "__init__() missing 2 required positional arguments: 'a' and 'b'",
     "output_type": "error",
     "traceback": [
      "\u001b[1;31m---------------------------------------------------------------------------\u001b[0m",
      "\u001b[1;31mTypeError\u001b[0m                                 Traceback (most recent call last)",
      "Input \u001b[1;32mIn [77]\u001b[0m, in \u001b[0;36m<cell line: 23>\u001b[1;34m()\u001b[0m\n\u001b[0;32m     20\u001b[0m     \u001b[38;5;28;01mdef\u001b[39;00m \u001b[38;5;21mdivide\u001b[39m(\u001b[38;5;28mself\u001b[39m,a,b):\n\u001b[0;32m     21\u001b[0m         \u001b[38;5;28;01mreturn\u001b[39;00m a\u001b[38;5;241m/\u001b[39mb;\n\u001b[1;32m---> 23\u001b[0m d \u001b[38;5;241m=\u001b[39m \u001b[43mDerived\u001b[49m\u001b[43m(\u001b[49m\u001b[43m)\u001b[49m\n\u001b[0;32m     24\u001b[0m \u001b[38;5;28mprint\u001b[39m(d\u001b[38;5;241m.\u001b[39msummation(\u001b[38;5;241m10\u001b[39m,\u001b[38;5;241m20\u001b[39m))\n\u001b[0;32m     25\u001b[0m \u001b[38;5;28mprint\u001b[39m(d\u001b[38;5;241m.\u001b[39mmultiplication(\u001b[38;5;241m10\u001b[39m,\u001b[38;5;241m20\u001b[39m))\n",
      "\u001b[1;31mTypeError\u001b[0m: __init__() missing 2 required positional arguments: 'a' and 'b'"
     ]
    }
   ],
   "source": [
    "class calculation1:                     #parent class\n",
    "    def __init__(self,a,b):\n",
    "        self.a=a\n",
    "        self.b=b\n",
    "    def summation(self,a,b):\n",
    "         return a+b;\n",
    "class calculation2:                      #parent class\n",
    "    def __init__(self,a,b): \n",
    "        self.a=a\n",
    "        self.b=b\n",
    "    def multiplication(self,a,b):\n",
    "        return a*b;\n",
    "class Derived(calculation1,calculation2):  ##child class\n",
    "    def __init__(self,a,b):\n",
    "        self.a=a\n",
    "        self.b=b\n",
    "        calculation1.__init__(self,a,b)\n",
    "        calculation2.__init__(self,a,b)\n",
    "    def divide(self,a,b):\n",
    "        return a/b;\n",
    "    \n",
    "d = Derived()\n",
    "print(d.summation(10,20))\n",
    "print(d.multiplication(10,20))\n",
    "print(d.divide(10,20))\n",
    "        "
   ]
  },
  {
   "cell_type": "code",
   "execution_count": 86,
   "id": "5d25006f",
   "metadata": {},
   "outputs": [
    {
     "ename": "TypeError",
     "evalue": "__init__() missing 2 required positional arguments: 'a' and 'b'",
     "output_type": "error",
     "traceback": [
      "\u001b[1;31m---------------------------------------------------------------------------\u001b[0m",
      "\u001b[1;31mTypeError\u001b[0m                                 Traceback (most recent call last)",
      "Input \u001b[1;32mIn [86]\u001b[0m, in \u001b[0;36m<cell line: 25>\u001b[1;34m()\u001b[0m\n\u001b[0;32m     22\u001b[0m     \u001b[38;5;28;01mdef\u001b[39;00m \u001b[38;5;21mDivide\u001b[39m(\u001b[38;5;28mself\u001b[39m, a, b):\n\u001b[0;32m     23\u001b[0m         \u001b[38;5;28;01mreturn\u001b[39;00m a\u001b[38;5;241m/\u001b[39mb\n\u001b[1;32m---> 25\u001b[0m d \u001b[38;5;241m=\u001b[39m \u001b[43mDerived\u001b[49m\u001b[43m(\u001b[49m\u001b[43m)\u001b[49m\n\u001b[0;32m     26\u001b[0m \u001b[38;5;28mprint\u001b[39m(d\u001b[38;5;241m.\u001b[39mSummation(\u001b[38;5;241m10\u001b[39m,\u001b[38;5;241m20\u001b[39m))\n\u001b[0;32m     27\u001b[0m \u001b[38;5;28mprint\u001b[39m(d\u001b[38;5;241m.\u001b[39mMultiplication(\u001b[38;5;241m10\u001b[39m,\u001b[38;5;241m20\u001b[39m))\n",
      "\u001b[1;31mTypeError\u001b[0m: __init__() missing 2 required positional arguments: 'a' and 'b'"
     ]
    }
   ],
   "source": [
    "class Calculation1:\n",
    "    def __init__(self, a,b):\n",
    "        self.a = a\n",
    "        self.b = b\n",
    "    def Summation(self, a, b):\n",
    "        return a + b\n",
    "\n",
    "class Calculation2:\n",
    "    def __init__(self,a,b):\n",
    "        self.a = a\n",
    "        self.b = b\n",
    "    def Multiplication(self, a, b):\n",
    "        return a * b\n",
    "\n",
    "class Derived(Calculation1,Calculation2):\n",
    "\n",
    "    def __init__(self,a,b):\n",
    "        self.a = a\n",
    "        self.b = b\n",
    "        Calculation1.__init__(self,a,b)\n",
    "        Calculation2.__init__(self,a,b)\n",
    "    def Divide(self, a, b):\n",
    "        return a/b\n",
    "\n",
    "d = Derived()\n",
    "print(d.Summation(10,20))\n",
    "print(d.Multiplication(10,20))\n",
    "print(d.Divide(10,20))\n",
    "\n"
   ]
  },
  {
   "cell_type": "code",
   "execution_count": 79,
   "id": "73684549",
   "metadata": {},
   "outputs": [
    {
     "name": "stdout",
     "output_type": "stream",
     "text": [
      "there are many type of birds\n",
      "most of the birds can fly but some cannot\n",
      "there are many type of birds\n",
      "sparrow can fly\n",
      "there are many type of birds\n",
      "ostrich cannot fly\n"
     ]
    }
   ],
   "source": [
    "#polymorphism\n",
    "class bird:\n",
    "    def intro(self):\n",
    "        print(\"there are many type of birds\")\n",
    "    def flight(self):\n",
    "        print(\"most of the birds can fly but some cannot\")\n",
    "class sparrow(bird):\n",
    "    def flight(self):\n",
    "        print(\"sparrow can fly\")\n",
    "class ostrich(bird):\n",
    "    def flight(self):\n",
    "        print(\"ostrich cannot fly\")\n",
    "        \n",
    "obj_bird=bird()\n",
    "obj_spa=sparrow()\n",
    "obj_ost=ostrich()\n",
    "\n",
    "obj_bird.intro()\n",
    "obj_bird.flight()\n",
    "\n",
    "obj_spa.intro()\n",
    "obj_spa.flight()\n",
    "\n",
    "obj_ost.intro()\n",
    "obj_ost.flight()"
   ]
  },
  {
   "cell_type": "code",
   "execution_count": 80,
   "id": "af178f03",
   "metadata": {},
   "outputs": [
    {
     "name": "stdout",
     "output_type": "stream",
     "text": [
      "the method walk here is overridden in the code\n",
      "hello i am the child class\n",
      "hello, i am the parent class\n"
     ]
    }
   ],
   "source": [
    "#overridden\n",
    "class animal:\n",
    "    def __init__(self):\n",
    "        pass\n",
    "    def walk(self):\n",
    "        print(\"hello, i am the parent class\")\n",
    "    \n",
    "class dog(animal):\n",
    "    def __init__(self):\n",
    "        animal.__init__(self)\n",
    "    def walk(self):\n",
    "        print(\"hello i am the child class\")\n",
    "        \n",
    "        \n",
    "print('the method walk here is overridden in the code')\n",
    "\n",
    "r=dog()\n",
    "r.walk()\n",
    "\n",
    "r=animal()\n",
    "r.walk()\n",
    "        "
   ]
  },
  {
   "cell_type": "code",
   "execution_count": null,
   "id": "d5309e63",
   "metadata": {},
   "outputs": [],
   "source": [
    "#delete attributes and objects\n",
    "del x.name"
   ]
  },
  {
   "cell_type": "code",
   "execution_count": null,
   "id": "bed0107a",
   "metadata": {},
   "outputs": [],
   "source": [
    "#delete object completely\n",
    "del r"
   ]
  },
  {
   "cell_type": "code",
   "execution_count": 81,
   "id": "e6ba52f9",
   "metadata": {},
   "outputs": [
    {
     "ename": "ZeroDivisionError",
     "evalue": "division by zero",
     "output_type": "error",
     "traceback": [
      "\u001b[1;31m---------------------------------------------------------------------------\u001b[0m",
      "\u001b[1;31mZeroDivisionError\u001b[0m                         Traceback (most recent call last)",
      "Input \u001b[1;32mIn [81]\u001b[0m, in \u001b[0;36m<cell line: 2>\u001b[1;34m()\u001b[0m\n\u001b[0;32m      1\u001b[0m \u001b[38;5;66;03m#handling exceptions\u001b[39;00m\n\u001b[1;32m----> 2\u001b[0m \u001b[38;5;28mprint\u001b[39m(\u001b[38;5;241;43m0\u001b[39;49m\u001b[38;5;241;43m/\u001b[39;49m\u001b[38;5;241;43m0\u001b[39;49m)\n",
      "\u001b[1;31mZeroDivisionError\u001b[0m: division by zero"
     ]
    }
   ],
   "source": [
    "#handling exceptions\n",
    "print(0/0)                #logica;l error"
   ]
  },
  {
   "cell_type": "code",
   "execution_count": 82,
   "id": "28ac8114",
   "metadata": {},
   "outputs": [
    {
     "ename": "ZeroDivisionError",
     "evalue": "division by zero",
     "output_type": "error",
     "traceback": [
      "\u001b[1;31m---------------------------------------------------------------------------\u001b[0m",
      "\u001b[1;31mZeroDivisionError\u001b[0m                         Traceback (most recent call last)",
      "Input \u001b[1;32mIn [82]\u001b[0m, in \u001b[0;36m<cell line: 2>\u001b[1;34m()\u001b[0m\n\u001b[0;32m      1\u001b[0m marks\u001b[38;5;241m=\u001b[39m\u001b[38;5;241m1000\u001b[39m\n\u001b[1;32m----> 2\u001b[0m a\u001b[38;5;241m=\u001b[39m\u001b[43mmarks\u001b[49m\u001b[38;5;241;43m/\u001b[39;49m\u001b[38;5;241;43m0\u001b[39;49m\n\u001b[0;32m      3\u001b[0m \u001b[38;5;28mprint\u001b[39m(a)\n",
      "\u001b[1;31mZeroDivisionError\u001b[0m: division by zero"
     ]
    }
   ],
   "source": [
    "marks=1000\n",
    "a=marks/0\n",
    "print(a)"
   ]
  },
  {
   "cell_type": "code",
   "execution_count": 84,
   "id": "393ffaa8",
   "metadata": {},
   "outputs": [
    {
     "ename": "IndexError",
     "evalue": "list index out of range",
     "output_type": "error",
     "traceback": [
      "\u001b[1;31m---------------------------------------------------------------------------\u001b[0m",
      "\u001b[1;31mIndexError\u001b[0m                                Traceback (most recent call last)",
      "Input \u001b[1;32mIn [84]\u001b[0m, in \u001b[0;36m<cell line: 2>\u001b[1;34m()\u001b[0m\n\u001b[0;32m      1\u001b[0m a\u001b[38;5;241m=\u001b[39m[\u001b[38;5;241m1\u001b[39m,\u001b[38;5;241m2\u001b[39m,\u001b[38;5;241m3\u001b[39m]\n\u001b[1;32m----> 2\u001b[0m \u001b[43ma\u001b[49m\u001b[43m[\u001b[49m\u001b[38;5;241;43m3\u001b[39;49m\u001b[43m]\u001b[49m\n",
      "\u001b[1;31mIndexError\u001b[0m: list index out of range"
     ]
    }
   ],
   "source": [
    "a=[1,2,3]\n",
    "a[3]"
   ]
  },
  {
   "cell_type": "code",
   "execution_count": 85,
   "id": "320af61e",
   "metadata": {},
   "outputs": [
    {
     "name": "stdout",
     "output_type": "stream",
     "text": [
      "3\n",
      "an error ocurred - index is out of range\n"
     ]
    }
   ],
   "source": [
    "#try and except \n",
    "a=[1,2,3]\n",
    "try:\n",
    "    print(a[2])\n",
    "    print(a[3])\n",
    "except:\n",
    "    print (\"an error ocurred - index is out of range\")"
   ]
  },
  {
   "cell_type": "code",
   "execution_count": 89,
   "id": "5986a2fb",
   "metadata": {},
   "outputs": [],
   "source": [
    "def divide1(x,y):\n",
    "    try:\n",
    "        result = x//y\n",
    "        print(result)\n",
    "    except ZeroDivisionError:\n",
    "        print(\"you are dividing by zero\")"
   ]
  },
  {
   "cell_type": "code",
   "execution_count": 90,
   "id": "353ed70d",
   "metadata": {},
   "outputs": [
    {
     "name": "stdout",
     "output_type": "stream",
     "text": [
      "you are dividing by zero\n"
     ]
    }
   ],
   "source": [
    "divide1(3,0)"
   ]
  },
  {
   "cell_type": "code",
   "execution_count": 92,
   "id": "7ba8f20e",
   "metadata": {},
   "outputs": [
    {
     "name": "stdout",
     "output_type": "stream",
     "text": [
      "1\n",
      "error:you are dividing by zero\n"
     ]
    }
   ],
   "source": [
    "#try,except,else\n",
    "def divide(x,y):\n",
    "    try:\n",
    "        result = x//y\n",
    "    except ZeroDivisionError:\n",
    "        print(\"error:you are dividing by zero\")\n",
    "    else:\n",
    "        print(result)\n",
    "        \n",
    "divide(3,2)\n",
    "divide(6,0)"
   ]
  },
  {
   "cell_type": "code",
   "execution_count": 93,
   "id": "96412813",
   "metadata": {},
   "outputs": [
    {
     "name": "stdout",
     "output_type": "stream",
     "text": [
      "1\n",
      "end\n"
     ]
    }
   ],
   "source": [
    "#try,except,else\n",
    "def divide(x,y):\n",
    "    try:\n",
    "        result = x//y\n",
    "    except ZeroDivisionError:\n",
    "        print(\"error:you are dividing by zero\")\n",
    "    else:\n",
    "        print(result)\n",
    "        \n",
    "    finally:\n",
    "        print('end')\n",
    "        \n",
    "divide(3,2)\n"
   ]
  },
  {
   "cell_type": "code",
   "execution_count": 101,
   "id": "094601f9",
   "metadata": {},
   "outputs": [
    {
     "name": "stdout",
     "output_type": "stream",
     "text": [
      "-5\n",
      "that is not a positive number\n"
     ]
    }
   ],
   "source": [
    "#raising excepetion \n",
    "##raise and assert\n",
    "try:\n",
    "    a=int(input())\n",
    "    \n",
    "    if a<=0:\n",
    "        raise ValueError(\"that is not a positive number\")        #we can also do it without using except\n",
    "except ValueError as ve:\n",
    "    print(ve)                "
   ]
  },
  {
   "cell_type": "code",
   "execution_count": 102,
   "id": "dcf7538a",
   "metadata": {},
   "outputs": [
    {
     "name": "stdout",
     "output_type": "stream",
     "text": [
      "the value of a/b is :\n"
     ]
    },
    {
     "ename": "AssertionError",
     "evalue": "",
     "output_type": "error",
     "traceback": [
      "\u001b[1;31m---------------------------------------------------------------------------\u001b[0m",
      "\u001b[1;31mAssertionError\u001b[0m                            Traceback (most recent call last)",
      "Input \u001b[1;32mIn [102]\u001b[0m, in \u001b[0;36m<cell line: 7>\u001b[1;34m()\u001b[0m\n\u001b[0;32m      5\u001b[0m \u001b[38;5;66;03m#using assert to check for 0\u001b[39;00m\n\u001b[0;32m      6\u001b[0m \u001b[38;5;28mprint\u001b[39m(\u001b[38;5;124m\"\u001b[39m\u001b[38;5;124mthe value of a/b is :\u001b[39m\u001b[38;5;124m\"\u001b[39m)\n\u001b[1;32m----> 7\u001b[0m \u001b[38;5;28;01massert\u001b[39;00m b\u001b[38;5;241m!=\u001b[39m\u001b[38;5;241m0\u001b[39m\n\u001b[0;32m      8\u001b[0m \u001b[38;5;28mprint\u001b[39m(a\u001b[38;5;241m/\u001b[39mb)\n",
      "\u001b[1;31mAssertionError\u001b[0m: "
     ]
    }
   ],
   "source": [
    "#without error message\n",
    "a=4\n",
    "b=0\n",
    "\n",
    "#using assert to check for 0\n",
    "print(\"the value of a/b is :\")\n",
    "assert b!=0\n",
    "print(a/b)"
   ]
  },
  {
   "cell_type": "code",
   "execution_count": null,
   "id": "234f5675",
   "metadata": {},
   "outputs": [],
   "source": [
    "#python assert keyword with error message \n",
    "a=4 \n",
    "b=0\n",
    "\n",
    "#usiing assert to check for 0\n",
    "print(\"the value of a/b is:\")\n",
    "assert b!=0 ,\"zero division error\"\n"
   ]
  },
  {
   "cell_type": "code",
   "execution_count": 105,
   "id": "51c3d188",
   "metadata": {},
   "outputs": [
    {
     "name": "stdout",
     "output_type": "stream",
     "text": [
      "40is O.K\n",
      "26is O.K\n",
      "39is O.K\n",
      "30is O.K\n"
     ]
    },
    {
     "ename": "AssertionError",
     "evalue": "batch is rejected",
     "output_type": "error",
     "traceback": [
      "\u001b[1;31m---------------------------------------------------------------------------\u001b[0m",
      "\u001b[1;31mAssertionError\u001b[0m                            Traceback (most recent call last)",
      "Input \u001b[1;32mIn [105]\u001b[0m, in \u001b[0;36m<cell line: 7>\u001b[1;34m()\u001b[0m\n\u001b[0;32m      5\u001b[0m \u001b[38;5;66;03m#using assert to check for temperature greater than cut\u001b[39;00m\n\u001b[0;32m      7\u001b[0m \u001b[38;5;28;01mfor\u001b[39;00m i \u001b[38;5;129;01min\u001b[39;00m batch:\n\u001b[1;32m----> 8\u001b[0m     \u001b[38;5;28;01massert\u001b[39;00m i\u001b[38;5;241m>\u001b[39m\u001b[38;5;241m=\u001b[39m\u001b[38;5;241m26\u001b[39m ,\u001b[38;5;124m\"\u001b[39m\u001b[38;5;124mbatch is rejected\u001b[39m\u001b[38;5;124m\"\u001b[39m    \u001b[38;5;66;03m# assert True : continue the flow , false : return error msg\u001b[39;00m\n\u001b[0;32m      9\u001b[0m     \u001b[38;5;28mprint\u001b[39m (\u001b[38;5;28mstr\u001b[39m(i) \u001b[38;5;241m+\u001b[39m \u001b[38;5;124m\"\u001b[39m\u001b[38;5;124mis O.K\u001b[39m\u001b[38;5;124m\"\u001b[39m)\n",
      "\u001b[1;31mAssertionError\u001b[0m: batch is rejected"
     ]
    }
   ],
   "source": [
    "batch=[40,26,39,30,25,21]\n",
    "#initializing cut temperature\n",
    "cut= 26\n",
    "\n",
    "#using assert to check for temperature greater than cut\n",
    "\n",
    "for i in batch:\n",
    "    assert i>=26 ,\"batch is rejected\"    # assert True : continue the flow , false : return error msg\n",
    "    print (str(i) + \"is O.K\")"
   ]
  },
  {
   "cell_type": "code",
   "execution_count": 107,
   "id": "66670cf0",
   "metadata": {},
   "outputs": [
    {
     "name": "stdout",
     "output_type": "stream",
     "text": [
      "2\n",
      "0.5\n"
     ]
    }
   ],
   "source": [
    "#assert (conditional error handling keyword)\n",
    "#print the reciprocal of even numbers \n",
    "try:\n",
    "    n=int(input())\n",
    "    assert n%2 ==0\n",
    "except :\n",
    "    print('not an even number')\n",
    "else :\n",
    "    reciprocal =1/n\n",
    "    print(reciprocal)"
   ]
  },
  {
   "cell_type": "code",
   "execution_count": 114,
   "id": "69d8b103",
   "metadata": {},
   "outputs": [
    {
     "name": "stdout",
     "output_type": "stream",
     "text": [
      "17\n",
      "cannot convert it into int\n"
     ]
    }
   ],
   "source": [
    "#get age of user ,if age is below 18 raise an exception 'valueerror:cannot convert into int' using assert keyword\n",
    "try :\n",
    "    n=int(input())\n",
    "    \n",
    "    if n<18:\n",
    "        raise ValueError(\"cannot convert it into int\")\n",
    "        \n",
    "except ValueError as ve:\n",
    "    print(ve)\n",
    "        \n",
    "    "
   ]
  },
  {
   "cell_type": "code",
   "execution_count": null,
   "id": "0733efc1",
   "metadata": {},
   "outputs": [],
   "source": []
  }
 ],
 "metadata": {
  "kernelspec": {
   "display_name": "Python 3 (ipykernel)",
   "language": "python",
   "name": "python3"
  },
  "language_info": {
   "codemirror_mode": {
    "name": "ipython",
    "version": 3
   },
   "file_extension": ".py",
   "mimetype": "text/x-python",
   "name": "python",
   "nbconvert_exporter": "python",
   "pygments_lexer": "ipython3",
   "version": "3.9.12"
  }
 },
 "nbformat": 4,
 "nbformat_minor": 5
}
