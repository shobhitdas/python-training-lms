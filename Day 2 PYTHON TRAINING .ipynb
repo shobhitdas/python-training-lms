{
 "cells": [
  {
   "cell_type": "markdown",
   "id": "49527bd3",
   "metadata": {},
   "source": [
    "# introduction to python"
   ]
  },
  {
   "cell_type": "markdown",
   "id": "5dddbd08",
   "metadata": {},
   "source": [
    "# heading1\n",
    "## heading2\n",
    "### heading3\n",
    "#### heading 4"
   ]
  },
  {
   "cell_type": "markdown",
   "id": "a1118a26",
   "metadata": {},
   "source": [
    "to create bullet points\n",
    "- variables\n",
    "* keywords\n",
    "+ constants"
   ]
  },
  {
   "cell_type": "code",
   "execution_count": 1,
   "id": "e140eac3",
   "metadata": {},
   "outputs": [],
   "source": [
    "#create a variable \n",
    "a=10"
   ]
  },
  {
   "cell_type": "code",
   "execution_count": 2,
   "id": "2d72d452",
   "metadata": {},
   "outputs": [
    {
     "data": {
      "text/plain": [
       "int"
      ]
     },
     "execution_count": 2,
     "metadata": {},
     "output_type": "execute_result"
    }
   ],
   "source": [
    "type(a)"
   ]
  },
  {
   "cell_type": "code",
   "execution_count": 4,
   "id": "56b168f6",
   "metadata": {},
   "outputs": [],
   "source": [
    "#assign multiple value to multiple variables\n",
    "a=5;b=6;c=7"
   ]
  },
  {
   "cell_type": "code",
   "execution_count": 6,
   "id": "6c5ee206",
   "metadata": {},
   "outputs": [],
   "source": [
    "#assign same value to multiple variables \n",
    "a=b=c=10"
   ]
  },
  {
   "cell_type": "code",
   "execution_count": 7,
   "id": "93b9d97d",
   "metadata": {},
   "outputs": [],
   "source": [
    "#python is case sensitive\n",
    "Var1=35\n",
    "var1=45\n",
    "new=78"
   ]
  },
  {
   "cell_type": "code",
   "execution_count": 8,
   "id": "f40f4c88",
   "metadata": {},
   "outputs": [
    {
     "data": {
      "text/plain": [
       "78"
      ]
     },
     "execution_count": 8,
     "metadata": {},
     "output_type": "execute_result"
    }
   ],
   "source": [
    "new"
   ]
  },
  {
   "cell_type": "code",
   "execution_count": 9,
   "id": "d246c0e8",
   "metadata": {},
   "outputs": [
    {
     "data": {
      "text/plain": [
       "10"
      ]
     },
     "execution_count": 9,
     "metadata": {},
     "output_type": "execute_result"
    }
   ],
   "source": [
    "\"\"\"this is the sentence for comments\n",
    "\"\"\"\n",
    "a"
   ]
  },
  {
   "cell_type": "code",
   "execution_count": 21,
   "id": "2d094190",
   "metadata": {},
   "outputs": [],
   "source": [
    "###int \n",
    "x=18"
   ]
  },
  {
   "cell_type": "code",
   "execution_count": 22,
   "id": "623aa1e9",
   "metadata": {},
   "outputs": [
    {
     "data": {
      "text/plain": [
       "int"
      ]
     },
     "execution_count": 22,
     "metadata": {},
     "output_type": "execute_result"
    }
   ],
   "source": [
    "#check data type\n",
    "type(x)"
   ]
  },
  {
   "cell_type": "code",
   "execution_count": 23,
   "id": "b5cea354",
   "metadata": {},
   "outputs": [],
   "source": [
    "###float\n",
    "y=1.7"
   ]
  },
  {
   "cell_type": "code",
   "execution_count": 24,
   "id": "37f43651",
   "metadata": {
    "scrolled": true
   },
   "outputs": [
    {
     "data": {
      "text/plain": [
       "float"
      ]
     },
     "execution_count": 24,
     "metadata": {},
     "output_type": "execute_result"
    }
   ],
   "source": [
    "type(y)"
   ]
  },
  {
   "cell_type": "code",
   "execution_count": 25,
   "id": "df4f1967",
   "metadata": {},
   "outputs": [],
   "source": [
    "#add integer and float and check data type\n",
    "z=x+y"
   ]
  },
  {
   "cell_type": "code",
   "execution_count": 26,
   "id": "9aee62d0",
   "metadata": {},
   "outputs": [
    {
     "data": {
      "text/plain": [
       "19.7"
      ]
     },
     "execution_count": 26,
     "metadata": {},
     "output_type": "execute_result"
    }
   ],
   "source": [
    "z"
   ]
  },
  {
   "cell_type": "code",
   "execution_count": 18,
   "id": "2b2ee6d5",
   "metadata": {},
   "outputs": [
    {
     "data": {
      "text/plain": [
       "bool"
      ]
     },
     "execution_count": 18,
     "metadata": {},
     "output_type": "execute_result"
    }
   ],
   "source": [
    "###bool\n",
    "B=True\n",
    "type(B)"
   ]
  },
  {
   "cell_type": "code",
   "execution_count": 19,
   "id": "bab4aad7",
   "metadata": {},
   "outputs": [
    {
     "data": {
      "text/plain": [
       "complex"
      ]
     },
     "execution_count": 19,
     "metadata": {},
     "output_type": "execute_result"
    }
   ],
   "source": [
    "##complex\n",
    "C=3+5j\n",
    "type(C)"
   ]
  },
  {
   "cell_type": "code",
   "execution_count": 20,
   "id": "ab3a77b3",
   "metadata": {},
   "outputs": [
    {
     "data": {
      "text/plain": [
       "str"
      ]
     },
     "execution_count": 20,
     "metadata": {},
     "output_type": "execute_result"
    }
   ],
   "source": [
    "##string\n",
    "S= \"hello\"\n",
    "type(S)"
   ]
  },
  {
   "cell_type": "code",
   "execution_count": 45,
   "id": "5980f216",
   "metadata": {},
   "outputs": [],
   "source": [
    "a= \"de\" + \"1\" + \"oitte\""
   ]
  },
  {
   "cell_type": "code",
   "execution_count": 46,
   "id": "87b0bb33",
   "metadata": {},
   "outputs": [
    {
     "data": {
      "text/plain": [
       "'de1oitte'"
      ]
     },
     "execution_count": 46,
     "metadata": {},
     "output_type": "execute_result"
    }
   ],
   "source": [
    "a"
   ]
  },
  {
   "cell_type": "code",
   "execution_count": 47,
   "id": "f83977a5",
   "metadata": {},
   "outputs": [
    {
     "name": "stdout",
     "output_type": "stream",
     "text": [
      "de1oitte\n",
      "hello\n",
      "18\n"
     ]
    }
   ],
   "source": [
    "#for multiple outputs use print\n",
    "print(a)\n",
    "print(S)\n",
    "print(x)"
   ]
  },
  {
   "cell_type": "code",
   "execution_count": 48,
   "id": "db548b95",
   "metadata": {},
   "outputs": [
    {
     "name": "stdout",
     "output_type": "stream",
     "text": [
      "hello i am working in de1oitte for last 18 years.\n"
     ]
    }
   ],
   "source": [
    "#different formats of output\n",
    "print (S ,\"i am working in\" , a , \"for last\" , x ,\"years.\")"
   ]
  },
  {
   "cell_type": "code",
   "execution_count": 49,
   "id": "d26d4b33",
   "metadata": {},
   "outputs": [
    {
     "name": "stdout",
     "output_type": "stream",
     "text": [
      "the value of a is de1oitte\n"
     ]
    }
   ],
   "source": [
    "print (\"the value of a is {}\".format(a))"
   ]
  },
  {
   "cell_type": "code",
   "execution_count": 50,
   "id": "3a9781ef",
   "metadata": {},
   "outputs": [
    {
     "name": "stdout",
     "output_type": "stream",
     "text": [
      "welcome\n",
      "to all\n"
     ]
    }
   ],
   "source": [
    "print(\"welcome\")\n",
    "print(\"to all\")"
   ]
  },
  {
   "cell_type": "code",
   "execution_count": 69,
   "id": "d95682f9",
   "metadata": {},
   "outputs": [
    {
     "name": "stdout",
     "output_type": "stream",
     "text": [
      "welcome to deloitte\n"
     ]
    }
   ],
   "source": [
    "print (\"welcome\" ,end=' ')\n",
    "print (\"to deloitte\")"
   ]
  },
  {
   "cell_type": "code",
   "execution_count": 70,
   "id": "1ce7fac3",
   "metadata": {},
   "outputs": [
    {
     "name": "stdout",
     "output_type": "stream",
     "text": [
      "45\n"
     ]
    }
   ],
   "source": [
    "## user input\n",
    "## input() function\n",
    "input1= input()"
   ]
  },
  {
   "cell_type": "code",
   "execution_count": null,
   "id": "958e6d2a",
   "metadata": {},
   "outputs": [],
   "source": []
  },
  {
   "cell_type": "code",
   "execution_count": null,
   "id": "4169a65c",
   "metadata": {},
   "outputs": [],
   "source": []
  },
  {
   "cell_type": "code",
   "execution_count": null,
   "id": "7e99a07c",
   "metadata": {},
   "outputs": [],
   "source": []
  },
  {
   "cell_type": "code",
   "execution_count": 71,
   "id": "0ba962ff",
   "metadata": {},
   "outputs": [
    {
     "data": {
      "text/plain": [
       "str"
      ]
     },
     "execution_count": 71,
     "metadata": {},
     "output_type": "execute_result"
    }
   ],
   "source": [
    "type(input1)"
   ]
  },
  {
   "cell_type": "code",
   "execution_count": 72,
   "id": "9fe40c5c",
   "metadata": {},
   "outputs": [
    {
     "name": "stdout",
     "output_type": "stream",
     "text": [
      "34\n"
     ]
    }
   ],
   "source": [
    "input1=int(input())"
   ]
  },
  {
   "cell_type": "code",
   "execution_count": 73,
   "id": "0f118b8e",
   "metadata": {},
   "outputs": [
    {
     "data": {
      "text/plain": [
       "int"
      ]
     },
     "execution_count": 73,
     "metadata": {},
     "output_type": "execute_result"
    }
   ],
   "source": [
    "type(input1)"
   ]
  },
  {
   "cell_type": "code",
   "execution_count": 74,
   "id": "d5a54593",
   "metadata": {},
   "outputs": [
    {
     "name": "stdout",
     "output_type": "stream",
     "text": [
      "1.6\n"
     ]
    }
   ],
   "source": [
    "input2=float(input())"
   ]
  },
  {
   "cell_type": "code",
   "execution_count": 75,
   "id": "59408f14",
   "metadata": {},
   "outputs": [
    {
     "data": {
      "text/plain": [
       "float"
      ]
     },
     "execution_count": 75,
     "metadata": {},
     "output_type": "execute_result"
    }
   ],
   "source": [
    "type(input2)"
   ]
  },
  {
   "cell_type": "code",
   "execution_count": 78,
   "id": "9adb262c",
   "metadata": {},
   "outputs": [
    {
     "name": "stdout",
     "output_type": "stream",
     "text": [
      "23 \n",
      "34\n"
     ]
    }
   ],
   "source": [
    "input1=input()\n",
    "input2=input()"
   ]
  },
  {
   "cell_type": "code",
   "execution_count": 79,
   "id": "32b0e9d3",
   "metadata": {},
   "outputs": [
    {
     "name": "stdout",
     "output_type": "stream",
     "text": [
      "enter two inputs34 45\n"
     ]
    }
   ],
   "source": [
    "#split method to write multiple inputs in single line\n",
    "input3=input(\"enter two inputs\").split(' ')"
   ]
  },
  {
   "cell_type": "code",
   "execution_count": 80,
   "id": "37274a85",
   "metadata": {},
   "outputs": [
    {
     "name": "stdout",
     "output_type": "stream",
     "text": [
      "34\n"
     ]
    }
   ],
   "source": [
    "input4=input().split()"
   ]
  },
  {
   "cell_type": "code",
   "execution_count": 81,
   "id": "8556c912",
   "metadata": {},
   "outputs": [
    {
     "data": {
      "text/plain": [
       "['34']"
      ]
     },
     "execution_count": 81,
     "metadata": {},
     "output_type": "execute_result"
    }
   ],
   "source": [
    "input4"
   ]
  },
  {
   "cell_type": "code",
   "execution_count": 82,
   "id": "361736dc",
   "metadata": {},
   "outputs": [
    {
     "data": {
      "text/plain": [
       "1808760063152"
      ]
     },
     "execution_count": 82,
     "metadata": {},
     "output_type": "execute_result"
    }
   ],
   "source": [
    "id(a)"
   ]
  },
  {
   "cell_type": "code",
   "execution_count": null,
   "id": "2cf35520",
   "metadata": {},
   "outputs": [],
   "source": [
    "#hands on exercise\n"
   ]
  },
  {
   "cell_type": "code",
   "execution_count": 41,
   "id": "7d5090fe",
   "metadata": {},
   "outputs": [
    {
     "name": "stdout",
     "output_type": "stream",
     "text": [
      "32\n",
      "45\n"
     ]
    }
   ],
   "source": [
    "a1= int(input())\n",
    "a2 = int(input())"
   ]
  },
  {
   "cell_type": "code",
   "execution_count": 2,
   "id": "8148c6ab",
   "metadata": {},
   "outputs": [
    {
     "name": "stdout",
     "output_type": "stream",
     "text": [
      "3.4567\n",
      "3.46\n"
     ]
    }
   ],
   "source": [
    "a3=float(input())\n",
    "print(round(a3,2))"
   ]
  },
  {
   "cell_type": "code",
   "execution_count": null,
   "id": "c7128b75",
   "metadata": {},
   "outputs": [],
   "source": []
  },
  {
   "cell_type": "code",
   "execution_count": 4,
   "id": "28035f80",
   "metadata": {},
   "outputs": [
    {
     "name": "stdout",
     "output_type": "stream",
     "text": [
      "enter three strings:hello,welcome,deloitte\n"
     ]
    }
   ],
   "source": [
    "a4=input(\"enter three strings:\").split(',')"
   ]
  },
  {
   "cell_type": "code",
   "execution_count": 5,
   "id": "06cc979b",
   "metadata": {},
   "outputs": [
    {
     "name": "stdout",
     "output_type": "stream",
     "text": [
      "70\n",
      "60\n",
      "130.0\n"
     ]
    }
   ],
   "source": [
    "a5=float(input())\n",
    "a6=float(input())\n",
    "print(a5+a6)"
   ]
  },
  {
   "cell_type": "code",
   "execution_count": 7,
   "id": "d48eaa58",
   "metadata": {},
   "outputs": [
    {
     "name": "stdout",
     "output_type": "stream",
     "text": [
      "34 45\n"
     ]
    }
   ],
   "source": [
    "a7=input().split(' ')"
   ]
  },
  {
   "cell_type": "code",
   "execution_count": 8,
   "id": "54815681",
   "metadata": {},
   "outputs": [
    {
     "name": "stdout",
     "output_type": "stream",
     "text": [
      " shobhit\n"
     ]
    }
   ],
   "source": [
    "print(\" shobhit\")"
   ]
  },
  {
   "cell_type": "code",
   "execution_count": 9,
   "id": "113edbc4",
   "metadata": {},
   "outputs": [
    {
     "name": "stdout",
     "output_type": "stream",
     "text": [
      "6\n",
      "7\n",
      "8\n"
     ]
    }
   ],
   "source": [
    "a=6;b=7;c=8\n",
    "print(a);print(b);print(c)"
   ]
  },
  {
   "cell_type": "code",
   "execution_count": 11,
   "id": "e51e3b5e",
   "metadata": {},
   "outputs": [
    {
     "name": "stdout",
     "output_type": "stream",
     "text": [
      "46\n",
      "56\n",
      "102\n"
     ]
    }
   ],
   "source": [
    "a8=int(input())\n",
    "a9=int(input())\n",
    "print(a8+a9)"
   ]
  },
  {
   "cell_type": "code",
   "execution_count": 12,
   "id": "d67df922",
   "metadata": {},
   "outputs": [
    {
     "name": "stdout",
     "output_type": "stream",
     "text": [
      "lucky\n"
     ]
    }
   ],
   "source": [
    "s=\"lucky\"\n",
    "print(s)"
   ]
  },
  {
   "cell_type": "code",
   "execution_count": 14,
   "id": "2786d30b",
   "metadata": {},
   "outputs": [
    {
     "name": "stdout",
     "output_type": "stream",
     "text": [
      "preferred language python\n"
     ]
    }
   ],
   "source": [
    "prog=input(\"preferred language \")"
   ]
  },
  {
   "cell_type": "code",
   "execution_count": 15,
   "id": "0838753d",
   "metadata": {},
   "outputs": [
    {
     "name": "stdout",
     "output_type": "stream",
     "text": [
      "12\n"
     ]
    },
    {
     "data": {
      "text/plain": [
       "'121'"
      ]
     },
     "execution_count": 15,
     "metadata": {},
     "output_type": "execute_result"
    }
   ],
   "source": [
    "a10=input()\n",
    "a10+\"1\"\n",
    "#a10+str(1)"
   ]
  },
  {
   "cell_type": "code",
   "execution_count": 16,
   "id": "d9e9ef6d",
   "metadata": {},
   "outputs": [],
   "source": [
    "#iterable : ability to do index and write for loop on that object\n",
    "#indexing and slicing\n",
    "new=\"saturday\""
   ]
  },
  {
   "cell_type": "code",
   "execution_count": 17,
   "id": "d48d26e5",
   "metadata": {},
   "outputs": [
    {
     "data": {
      "text/plain": [
       "'saturday'"
      ]
     },
     "execution_count": 17,
     "metadata": {},
     "output_type": "execute_result"
    }
   ],
   "source": [
    "new"
   ]
  },
  {
   "cell_type": "code",
   "execution_count": 18,
   "id": "a1002d31",
   "metadata": {},
   "outputs": [
    {
     "data": {
      "text/plain": [
       "'t'"
      ]
     },
     "execution_count": 18,
     "metadata": {},
     "output_type": "execute_result"
    }
   ],
   "source": [
    "#extract 't'--> new \n",
    "#python index starts from 0\n",
    "new[2]"
   ]
  },
  {
   "cell_type": "code",
   "execution_count": 19,
   "id": "84658946",
   "metadata": {},
   "outputs": [
    {
     "data": {
      "text/plain": [
       "'u'"
      ]
     },
     "execution_count": 19,
     "metadata": {},
     "output_type": "execute_result"
    }
   ],
   "source": [
    "#ectract 'u'\n",
    "new[3]"
   ]
  },
  {
   "cell_type": "code",
   "execution_count": 20,
   "id": "8c034ee9",
   "metadata": {},
   "outputs": [
    {
     "data": {
      "text/plain": [
       "'urda'"
      ]
     },
     "execution_count": 20,
     "metadata": {},
     "output_type": "execute_result"
    }
   ],
   "source": [
    "#extract 'u' to 'a'\n",
    "#[start :end] end is exclusive\n",
    "new[3:7]"
   ]
  },
  {
   "cell_type": "code",
   "execution_count": null,
   "id": "f2e57156",
   "metadata": {},
   "outputs": [],
   "source": [
    "#extract 0 to 3rd position "
   ]
  },
  {
   "cell_type": "code",
   "execution_count": 21,
   "id": "1bdcd807",
   "metadata": {},
   "outputs": [
    {
     "data": {
      "text/plain": [
       "'saturday'"
      ]
     },
     "execution_count": 21,
     "metadata": {},
     "output_type": "execute_result"
    }
   ],
   "source": [
    "#display all the elements using :\n",
    "new[:]"
   ]
  },
  {
   "cell_type": "code",
   "execution_count": 22,
   "id": "78179ba9",
   "metadata": {},
   "outputs": [
    {
     "data": {
      "text/plain": [
       "'turday'"
      ]
     },
     "execution_count": 22,
     "metadata": {},
     "output_type": "execute_result"
    }
   ],
   "source": [
    "new[2:]"
   ]
  },
  {
   "cell_type": "code",
   "execution_count": 23,
   "id": "cea94d97",
   "metadata": {},
   "outputs": [
    {
     "data": {
      "text/plain": [
       "'y'"
      ]
     },
     "execution_count": 23,
     "metadata": {},
     "output_type": "execute_result"
    }
   ],
   "source": [
    "#negative indexing\n",
    "new[7]"
   ]
  },
  {
   "cell_type": "code",
   "execution_count": 24,
   "id": "6c72151c",
   "metadata": {},
   "outputs": [
    {
     "data": {
      "text/plain": [
       "'y'"
      ]
     },
     "execution_count": 24,
     "metadata": {},
     "output_type": "execute_result"
    }
   ],
   "source": [
    "new[-1]"
   ]
  },
  {
   "cell_type": "code",
   "execution_count": 25,
   "id": "d8cccb9f",
   "metadata": {},
   "outputs": [
    {
     "data": {
      "text/plain": [
       "'audy'"
      ]
     },
     "execution_count": 25,
     "metadata": {},
     "output_type": "execute_result"
    }
   ],
   "source": [
    "#extract odd position elements\n",
    "#[start:end:step]\n",
    "new[1:len(new)+1:2]"
   ]
  },
  {
   "cell_type": "code",
   "execution_count": 26,
   "id": "eb5c547d",
   "metadata": {},
   "outputs": [
    {
     "data": {
      "text/plain": [
       "'ydua'"
      ]
     },
     "execution_count": 26,
     "metadata": {},
     "output_type": "execute_result"
    }
   ],
   "source": [
    "#extract odd position elements in reverse order\n",
    "new[::-2]"
   ]
  },
  {
   "cell_type": "code",
   "execution_count": 27,
   "id": "ddd9b9f2",
   "metadata": {},
   "outputs": [],
   "source": [
    "#strings are immutable\n",
    "#cannot do changes on a created string object.\n",
    "first=\"welcome\"\n",
    "second=\"to deloitte\""
   ]
  },
  {
   "cell_type": "code",
   "execution_count": 29,
   "id": "fce4c369",
   "metadata": {},
   "outputs": [
    {
     "data": {
      "text/plain": [
       "'welSome'"
      ]
     },
     "execution_count": 29,
     "metadata": {},
     "output_type": "execute_result"
    }
   ],
   "source": [
    "#change first letter into s\n",
    "first[0:3]+'S'+first[4:]"
   ]
  },
  {
   "cell_type": "code",
   "execution_count": 30,
   "id": "6dddd773",
   "metadata": {},
   "outputs": [
    {
     "data": {
      "text/plain": [
       "'to deloitte7'"
      ]
     },
     "execution_count": 30,
     "metadata": {},
     "output_type": "execute_result"
    }
   ],
   "source": [
    "#add value 7 into string object\n",
    "second+\"7\""
   ]
  },
  {
   "cell_type": "code",
   "execution_count": 32,
   "id": "6c1e3171",
   "metadata": {},
   "outputs": [
    {
     "data": {
      "text/plain": [
       "'to d6eloitte'"
      ]
     },
     "execution_count": 32,
     "metadata": {},
     "output_type": "execute_result"
    }
   ],
   "source": [
    "#add value 6 to the string object 'second' at 4th position\n",
    "second[0:4]+'6'+second[4:]"
   ]
  },
  {
   "cell_type": "code",
   "execution_count": 33,
   "id": "20428ef8",
   "metadata": {},
   "outputs": [
    {
     "data": {
      "text/plain": [
       "'welcomewelcomewelcome'"
      ]
     },
     "execution_count": 33,
     "metadata": {},
     "output_type": "execute_result"
    }
   ],
   "source": [
    "#display the elemnt of 'first' object 3 times\n",
    "first*3"
   ]
  },
  {
   "cell_type": "code",
   "execution_count": 34,
   "id": "cd79d486",
   "metadata": {},
   "outputs": [
    {
     "data": {
      "text/plain": [
       "'welcometo deloitte'"
      ]
     },
     "execution_count": 34,
     "metadata": {},
     "output_type": "execute_result"
    }
   ],
   "source": [
    "#add 2 string objects using +\n",
    "first+second"
   ]
  },
  {
   "cell_type": "code",
   "execution_count": 35,
   "id": "e2877d5f",
   "metadata": {},
   "outputs": [],
   "source": [
    "#create a string object str1=\"welcome to our country\"\n",
    "str1=\"welcome to our country\""
   ]
  },
  {
   "cell_type": "code",
   "execution_count": 36,
   "id": "acee4263",
   "metadata": {},
   "outputs": [
    {
     "name": "stdout",
     "output_type": "stream",
     "text": [
      "country\n"
     ]
    }
   ],
   "source": [
    "#eXtract country froM sentence\n",
    "print(str1[15:])"
   ]
  },
  {
   "cell_type": "code",
   "execution_count": 42,
   "id": "3ee4bb08",
   "metadata": {},
   "outputs": [
    {
     "name": "stdout",
     "output_type": "stream",
     "text": [
      "wloet u onr\n"
     ]
    }
   ],
   "source": [
    "#even positions elements\n",
    "print(str1[0::2])"
   ]
  },
  {
   "cell_type": "code",
   "execution_count": 39,
   "id": "df4efe22",
   "metadata": {},
   "outputs": [
    {
     "name": "stdout",
     "output_type": "stream",
     "text": [
      "wel6come to our country\n"
     ]
    }
   ],
   "source": [
    "#add 6 to third position\n",
    "print(str1[:3]+'6'+str1[3:])"
   ]
  },
  {
   "cell_type": "code",
   "execution_count": 44,
   "id": "9e82a49b",
   "metadata": {},
   "outputs": [
    {
     "name": "stdout",
     "output_type": "stream",
     "text": [
      "12\n",
      "12 is less than 15\n",
      "exit\n"
     ]
    }
   ],
   "source": [
    "#CHECK GIVEN NO IS LESS THAN 15 OR NOT\n",
    "num=int(input())\n",
    "if num<15 :\n",
    "    print(num,'is less than 15')\n",
    "print('exit')"
   ]
  },
  {
   "cell_type": "code",
   "execution_count": 46,
   "id": "c22d9990",
   "metadata": {},
   "outputs": [
    {
     "name": "stdout",
     "output_type": "stream",
     "text": [
      "12\n",
      "be positive\n",
      "exit\n"
     ]
    }
   ],
   "source": [
    "num =int(input())\n",
    "if num>0:\n",
    "    print('be positive')\n",
    "print ('exit')"
   ]
  },
  {
   "cell_type": "code",
   "execution_count": 54,
   "id": "37448b0c",
   "metadata": {},
   "outputs": [
    {
     "name": "stdout",
     "output_type": "stream",
     "text": [
      "0\n",
      "0 is positive\n"
     ]
    }
   ],
   "source": [
    "##prog checks if no is positive or negative\n",
    "num=int(input())\n",
    "if num>=0:\n",
    "    print(num, 'is positive')\n",
    "else :\n",
    "    print(num, 'is negative')\n",
    "    "
   ]
  },
  {
   "cell_type": "code",
   "execution_count": 56,
   "id": "88a834eb",
   "metadata": {},
   "outputs": [
    {
     "name": "stdout",
     "output_type": "stream",
     "text": [
      "0\n",
      "even\n"
     ]
    }
   ],
   "source": [
    "#CHECK NUMBER IS EVEN OR ADD\n",
    "num=int(input())\n",
    "if num % 2==0:\n",
    "    print(\"even\")\n",
    "else:\n",
    "    print(\"odd\")"
   ]
  },
  {
   "cell_type": "code",
   "execution_count": 59,
   "id": "0c90d920",
   "metadata": {},
   "outputs": [
    {
     "name": "stdout",
     "output_type": "stream",
     "text": [
      "-7\n",
      "-7 is negative\n"
     ]
    }
   ],
   "source": [
    "##elif statement\n",
    "num=int(input())\n",
    "if num >0:\n",
    "    print (num, 'is positive')\n",
    "elif num<0:\n",
    "    print(num, 'is negative')\n",
    "else :\n",
    "    print ('zero')"
   ]
  },
  {
   "cell_type": "code",
   "execution_count": 64,
   "id": "63785e9b",
   "metadata": {},
   "outputs": [
    {
     "name": "stdout",
     "output_type": "stream",
     "text": [
      "44\n",
      "pass\n"
     ]
    }
   ],
   "source": [
    "marks=int(input())\n",
    "if marks >80:\n",
    "    print ('distinction')\n",
    "elif marks >= 60 and  marks <=80:\n",
    "    print ('FIRST CLASS')\n",
    "else :\n",
    "    print ('pass')"
   ]
  },
  {
   "cell_type": "code",
   "execution_count": 66,
   "id": "9ba85a07",
   "metadata": {},
   "outputs": [
    {
     "name": "stdout",
     "output_type": "stream",
     "text": [
      "0\n",
      "zero\n"
     ]
    }
   ],
   "source": [
    "##nested if else statements\n",
    "n=int(input())\n",
    "if n>=0:\n",
    "    if n==0:\n",
    "        print('zero')\n",
    "    else:\n",
    "        print('positive')\n",
    "else:\n",
    "    print('negative')"
   ]
  },
  {
   "cell_type": "code",
   "execution_count": 68,
   "id": "6d01f64e",
   "metadata": {},
   "outputs": [
    {
     "name": "stdout",
     "output_type": "stream",
     "text": [
      "80\n",
      "You can give vote\n"
     ]
    }
   ],
   "source": [
    "#ELIGIBLE FOR VOTING OR NOT\n",
    "age =int(input())\n",
    "if age >=18:\n",
    "    print('You can give vote')\n",
    "else :\n",
    "    print('not eligible')"
   ]
  },
  {
   "cell_type": "code",
   "execution_count": 72,
   "id": "d480d5f2",
   "metadata": {},
   "outputs": [
    {
     "name": "stdout",
     "output_type": "stream",
     "text": [
      "89\n",
      "not divisible by 7\n"
     ]
    }
   ],
   "source": [
    "#NUMBER DIVISIBLE BY 7 \n",
    "num=int(input())\n",
    "if num % 7==0:\n",
    "    print ('divisible by 7')\n",
    "else :\n",
    "    print ('not divisible by 7')"
   ]
  },
  {
   "cell_type": "code",
   "execution_count": 82,
   "id": "bb6bb5f6",
   "metadata": {},
   "outputs": [
    {
     "name": "stdout",
     "output_type": "stream",
     "text": [
      "144\n",
      "not divisible\n"
     ]
    }
   ],
   "source": [
    "#LAST DIGIT DIVISIBLE BY 3\n",
    "num = int(input(\"enter any number\"))\n",
    "if (num % 10) % 3 ==0: \n",
    "    print ('last digit is divisible by 3')\n",
    "else :\n",
    "    print ('not divisible')"
   ]
  },
  {
   "cell_type": "code",
   "execution_count": 79,
   "id": "aca7b7ce",
   "metadata": {},
   "outputs": [
    {
     "name": "stdout",
     "output_type": "stream",
     "text": [
      "agra\n",
      "Taj Mahal\n"
     ]
    }
   ],
   "source": [
    "cityname =str(input())\n",
    "city=cityname.capitalize();\n",
    "if city.lower == \"Delhi\":              #we can use lower as well as capitalize syntax\n",
    "    print ('Red Fort')\n",
    "elif city.lower == \"Agra\":\n",
    "    print ('Taj Mahal')\n",
    "elif city.lower == \"Jaipur\":\n",
    "    print ('Jal Mahal')\n",
    "else :\n",
    "    print ('not a valid city')"
   ]
  },
  {
   "cell_type": "code",
   "execution_count": 85,
   "id": "5047defa",
   "metadata": {},
   "outputs": [
    {
     "name": "stdout",
     "output_type": "stream",
     "text": [
      "1000\n",
      "1000  has more than 3 digit\n"
     ]
    }
   ],
   "source": [
    "#PRINT ONE DIGIT , TWO DIGIT , THREE DIGIT NUMBER\n",
    "num=int(input())\n",
    "if num<10:\n",
    "    print (num , 'is one digit number')\n",
    "elif num >= 10 and num <100:\n",
    "    print ( num ,'is two digit number ')\n",
    "elif num >=100 and num <1000:\n",
    "    print (num , ' is three digit number')\n",
    "else :\n",
    "    print (num , ' has more than 3 digit')"
   ]
  },
  {
   "cell_type": "code",
   "execution_count": 95,
   "id": "da4b5993",
   "metadata": {},
   "outputs": [
    {
     "name": "stdout",
     "output_type": "stream",
     "text": [
      "23\n",
      "23\n",
      "21\n",
      " two num are equal\n",
      "23\n"
     ]
    }
   ],
   "source": [
    "#MAXIMUM OF 3 NUMBERS\n",
    "maxl = []\n",
    "maxn = 0\n",
    "for i in range (0,3):\n",
    "    l=int(input())\n",
    "    maxl.append(l)\n",
    "    \n",
    "if maxl[0]==maxl[1]   and maxl[1] == maxl[2]:\n",
    "    print(\"all are equal\")\n",
    "elif maxl[0] == maxl[1] or maxl[1] == maxl[2] or maxl[2] == maxl[0]:\n",
    "    print (\" two num are equal\")\n",
    "\n",
    "for num in maxl:\n",
    "    if num>maxn:\n",
    "        maxn=num\n",
    "        \n",
    "print (maxn)\n",
    "\n"
   ]
  },
  {
   "cell_type": "code",
   "execution_count": 88,
   "id": "bbfd14b1",
   "metadata": {},
   "outputs": [
    {
     "name": "stdout",
     "output_type": "stream",
     "text": [
      "39\n",
      "FAIL\n"
     ]
    }
   ],
   "source": [
    "avgmarks = int(input())\n",
    "if avgmarks >=70:\n",
    "    print('DISTINCTION')\n",
    "elif avgmarks >=60 and  avgmarks <70:\n",
    "    print ('FIRST')\n",
    "elif avgmarks >=50 and avgmarks<60:\n",
    "    print ('SECOND')\n",
    "elif avgmarks >=40 and avgmarks <50:\n",
    "    print ('THIRD')\n",
    "elif avgmarks <40 :\n",
    "    print ('FAIL')\n",
    "    "
   ]
  },
  {
   "cell_type": "code",
   "execution_count": 89,
   "id": "3abb520a",
   "metadata": {},
   "outputs": [
    {
     "name": "stdout",
     "output_type": "stream",
     "text": [
      "3\n",
      "given number is less than 5\n"
     ]
    }
   ],
   "source": [
    "#check whether given number lis between 5 and 15\n",
    "num =int(input())\n",
    "if num >5:\n",
    "    if num <=15:\n",
    "        print ('given number lies between 5 and 15')\n",
    "    else :\n",
    "        print(' given number is greater than 15')\n",
    "else:\n",
    "    print ('given number is less than 5')\n",
    "        "
   ]
  },
  {
   "cell_type": "code",
   "execution_count": 90,
   "id": "dc3ccfc1",
   "metadata": {},
   "outputs": [
    {
     "name": "stdout",
     "output_type": "stream",
     "text": [
      "hello\n"
     ]
    }
   ],
   "source": [
    "a=9\n",
    "if(a>5 and a<=10):\n",
    "    print ('hello')\n",
    "else:\n",
    "    print ('bye')"
   ]
  },
  {
   "cell_type": "code",
   "execution_count": 96,
   "id": "0d8c98fd",
   "metadata": {},
   "outputs": [
    {
     "name": "stdout",
     "output_type": "stream",
     "text": [
      "enter no1:23\n",
      "enter no2:23\n",
      "enter no3:21\n",
      "23 is the maximum\n"
     ]
    }
   ],
   "source": [
    "#max of 3 number another method to solve\n",
    "n1,n2,n3 =int(input(\"enter no1:\")), int(input(\"enter no2:\")),int(input(\"enter no3:\"))\n",
    "if n1>n2 and n1>n3 :\n",
    "    print(\"no1 is maximum\")\n",
    "elif n2>n3 and n2 >n1:\n",
    "    print(\"no2 is maximum\")\n",
    "elif n3>n1 and n3>n2:\n",
    "    print (\"no3 is maximum\")\n",
    "elif n1==n2 and n1>n3:\n",
    "    print(n1 , 'is the maximum')\n",
    "elif n2==n3 and n2>n1:\n",
    "    print( n2 , 'is maximum')\n",
    "elif n1==n3 and n1>n2:\n",
    "    print (n3, ' is maximum')\n",
    "else :\n",
    "    print ('all are equal')"
   ]
  },
  {
   "cell_type": "code",
   "execution_count": 98,
   "id": "8ded2aea",
   "metadata": {},
   "outputs": [
    {
     "name": "stdout",
     "output_type": "stream",
     "text": [
      "45\n",
      "55\n",
      "50.0\n"
     ]
    }
   ],
   "source": [
    "#find average of two numbers entered by user\n",
    "a= int(input())\n",
    "b= int(input())\n",
    "\n",
    "x=(a+b) / 2\n",
    "print(x)\n"
   ]
  },
  {
   "cell_type": "code",
   "execution_count": 99,
   "id": "449f80a7",
   "metadata": {},
   "outputs": [
    {
     "name": "stdout",
     "output_type": "stream",
     "text": [
      "35\n",
      "1\n"
     ]
    }
   ],
   "source": [
    "#find remainder when a number is divided by 2\n",
    "a=int(input())\n",
    "x=a%2\n",
    "\n",
    "print(x)"
   ]
  },
  {
   "cell_type": "code",
   "execution_count": 100,
   "id": "5d9d5c56",
   "metadata": {},
   "outputs": [
    {
     "data": {
      "text/plain": [
       "False"
      ]
     },
     "execution_count": 100,
     "metadata": {},
     "output_type": "execute_result"
    }
   ],
   "source": [
    "a=34\n",
    "b=80\n",
    "\n",
    "a>b"
   ]
  },
  {
   "cell_type": "code",
   "execution_count": 101,
   "id": "ebfcf3d2",
   "metadata": {},
   "outputs": [
    {
     "name": "stdout",
     "output_type": "stream",
     "text": [
      "55\n",
      "3025\n"
     ]
    }
   ],
   "source": [
    "#find square of number given by user\n",
    "a=int(input())\n",
    "y= a**2\n",
    "\n",
    "print (y)\n"
   ]
  },
  {
   "cell_type": "code",
   "execution_count": 104,
   "id": "77a450e0",
   "metadata": {},
   "outputs": [
    {
     "name": "stdout",
     "output_type": "stream",
     "text": [
      "77\n",
      "invalid number\n"
     ]
    }
   ],
   "source": [
    "#program to show invalid number if number is not between 1 and 10\n",
    "num= int (input())\n",
    "if num <1 or num >10:\n",
    "    print (\"invalid number\")"
   ]
  },
  {
   "cell_type": "code",
   "execution_count": 105,
   "id": "404a46e6",
   "metadata": {},
   "outputs": [
    {
     "name": "stdout",
     "output_type": "stream",
     "text": [
      "34\n",
      "4\n"
     ]
    }
   ],
   "source": [
    "#program to display last digit of number\n",
    "num=int(input())\n",
    "x=num%10\n",
    "print(x)"
   ]
  },
  {
   "cell_type": "code",
   "execution_count": 106,
   "id": "5bd88df9",
   "metadata": {},
   "outputs": [
    {
     "name": "stdout",
     "output_type": "stream",
     "text": [
      "23\n",
      "34\n",
      "34\n"
     ]
    }
   ],
   "source": [
    "#take 2 values from user and print greatest among them\n",
    "a= int(input())\n",
    "b=int(input())\n",
    "if a>b :\n",
    "    print (a)\n",
    "else :\n",
    "    print (b)\n"
   ]
  },
  {
   "cell_type": "code",
   "execution_count": 108,
   "id": "8f7cf7dc",
   "metadata": {},
   "outputs": [
    {
     "name": "stdout",
     "output_type": "stream",
     "text": [
      "45\n",
      "hello\n"
     ]
    }
   ],
   "source": [
    "#print hello if no multiple of 5 otherwise bye\n",
    "a=int(input())\n",
    "\n",
    "if a%5 ==0:\n",
    "    print (\"hello\")\n",
    "else :\n",
    "    print (\"bye\")"
   ]
  },
  {
   "cell_type": "code",
   "execution_count": 111,
   "id": "81456681",
   "metadata": {},
   "outputs": [
    {
     "name": "stdout",
     "output_type": "stream",
     "text": [
      "1671\n",
      "15210\n"
     ]
    }
   ],
   "source": [
    "units =int(input())\n",
    "if units <=100:\n",
    "    bill=0\n",
    "    print(bill)\n",
    "elif units >100 and units <=200:\n",
    "    bill = (units -100)*5\n",
    "    print(bill)\n",
    "elif units >200 :\n",
    "    bill = 500 + ((units - 200)*10)\n",
    "    print (bill)"
   ]
  },
  {
   "cell_type": "code",
   "execution_count": null,
   "id": "0f8dcf21",
   "metadata": {},
   "outputs": [],
   "source": []
  }
 ],
 "metadata": {
  "kernelspec": {
   "display_name": "Python 3 (ipykernel)",
   "language": "python",
   "name": "python3"
  },
  "language_info": {
   "codemirror_mode": {
    "name": "ipython",
    "version": 3
   },
   "file_extension": ".py",
   "mimetype": "text/x-python",
   "name": "python",
   "nbconvert_exporter": "python",
   "pygments_lexer": "ipython3",
   "version": "3.9.12"
  }
 },
 "nbformat": 4,
 "nbformat_minor": 5
}
