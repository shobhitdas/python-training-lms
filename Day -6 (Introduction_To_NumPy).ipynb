{
 "cells": [
  {
   "cell_type": "markdown",
   "id": "e61371ea",
   "metadata": {},
   "source": [
    "### NumPy\n",
    "\n",
    "- NumPy stands for Numerical Python\n",
    "- A Python library that provides support for large, multi-dimensional arrays and matrices, along with a large collection of high-level mathematical functions to operate on these arrays\n",
    "\n",
    "#### Why NumPy?\n",
    "\n",
    "- NumPy aims to provide an array object that is up to 50x faster than traditional Python lists\n",
    "- The array object in NumPy is called ndarray; it provides a lot of supporting functions that make working with ndarray very easy\n",
    "- NumPy arrays are stored at one continuous place in memory unlike lists, so processes can access and manipulate them very efficiently which is the main reason why the former is faster than the latter\n"
   ]
  },
  {
   "cell_type": "code",
   "execution_count": null,
   "id": "f9e6c774",
   "metadata": {},
   "outputs": [],
   "source": [
    "## Installing numpy\n",
    "# pip install numpy"
   ]
  },
  {
   "cell_type": "markdown",
   "id": "921a7241",
   "metadata": {},
   "source": [
    "#### Creating ndarrays"
   ]
  },
  {
   "cell_type": "code",
   "execution_count": 1,
   "id": "1c5e7741",
   "metadata": {},
   "outputs": [
    {
     "name": "stdout",
     "output_type": "stream",
     "text": [
      "[1 2 3 4 5]\n"
     ]
    }
   ],
   "source": [
    "## Creating an array of integers using array() method\n",
    "\n",
    "import numpy as np\n",
    "arr = np.array([1,2,3,4,5])\n",
    "print(arr)\n"
   ]
  },
  {
   "cell_type": "code",
   "execution_count": 2,
   "id": "48a3fb56",
   "metadata": {},
   "outputs": [
    {
     "name": "stdout",
     "output_type": "stream",
     "text": [
      "<class 'numpy.ndarray'>\n"
     ]
    }
   ],
   "source": [
    "print(type(arr))"
   ]
  },
  {
   "cell_type": "markdown",
   "id": "3d996929",
   "metadata": {},
   "source": [
    "To create an ndarray, we can pass a list, tuple or any array-like object into the array() method, and it will be converted into an ndarray"
   ]
  },
  {
   "cell_type": "code",
   "execution_count": 3,
   "id": "0300c512",
   "metadata": {},
   "outputs": [
    {
     "name": "stdout",
     "output_type": "stream",
     "text": [
      "Array of zeros: \n",
      " [[0. 0. 0.]\n",
      " [0. 0. 0.]]\n",
      "Array of ones: \n",
      " [[1. 1. 1. 1. 1.]]\n"
     ]
    }
   ],
   "source": [
    "## Creating array of zeros and ones\n",
    "arr1 = np.zeros((2,3))\n",
    "print(\"Array of zeros: \\n\", arr1)\n",
    "\n",
    "arr2 = np.ones((1,5))\n",
    "print(\"Array of ones: \\n\", arr2)\n"
   ]
  },
  {
   "cell_type": "code",
   "execution_count": 4,
   "id": "41d5881b",
   "metadata": {},
   "outputs": [
    {
     "name": "stdout",
     "output_type": "stream",
     "text": [
      "[ 1  4  7 10 13]\n"
     ]
    }
   ],
   "source": [
    "## Creating array using arange()\n",
    "## arange() is an array creation routine based on numerical ranges\n",
    "## It creates an instance of ndarray with evenly spaced values and returns the reference to it\n",
    "\n",
    "arr = np.arange(1, 15, 3, dtype = np.int32)\n",
    "print(arr)"
   ]
  },
  {
   "cell_type": "markdown",
   "id": "e329fb55",
   "metadata": {},
   "source": [
    "numpy.arange([start, ]stop, [step, ], dtype=None) -> numpy.ndarray\n",
    "\n",
    "The first three parameters determine the range of the values, while the fourth specifies the type of the elements:\n",
    "\n",
    "- start is the number (integer or decimal) that defines the first value in the array\n",
    "- stop is the number that defines the end of the array and isn’t included in the array\n",
    "- step is the number that defines the spacing (difference) between each two consecutive values in the array and defaults to 1\n",
    "- dtype is the type of the elements of the output array and defaults to None"
   ]
  },
  {
   "cell_type": "code",
   "execution_count": null,
   "id": "4f611ca6",
   "metadata": {},
   "outputs": [],
   "source": []
  },
  {
   "cell_type": "markdown",
   "id": "b9031cfa",
   "metadata": {},
   "source": [
    "#### Dimensions in Arrays\n",
    "A dimension in arrays is one level of array depth (nested arrays)\n",
    "\n",
    "`Nested array: arrays that have arrays as their elements`"
   ]
  },
  {
   "cell_type": "code",
   "execution_count": 5,
   "id": "abebe507",
   "metadata": {},
   "outputs": [
    {
     "name": "stdout",
     "output_type": "stream",
     "text": [
      "23\n"
     ]
    }
   ],
   "source": [
    "## 0-D arrays, or Scalars, are the elements in an array \n",
    "## Each value in an array is a 0-D array\n",
    "a=np.array(23)\n",
    "print(a)\n",
    "\n"
   ]
  },
  {
   "cell_type": "code",
   "execution_count": 6,
   "id": "56e15a8e",
   "metadata": {},
   "outputs": [
    {
     "name": "stdout",
     "output_type": "stream",
     "text": [
      "[13 26 39]\n"
     ]
    }
   ],
   "source": [
    "## An array that has 0-D arrays as its elements is called uni-dimensional or 1-D array\n",
    "## The most common and basic arrays\n",
    "\n",
    "b=np.array([13,26,39])\n",
    "print(b)"
   ]
  },
  {
   "cell_type": "code",
   "execution_count": 7,
   "id": "99540936",
   "metadata": {},
   "outputs": [
    {
     "name": "stdout",
     "output_type": "stream",
     "text": [
      "[[1 2 3]\n",
      " [4 5 6]]\n"
     ]
    }
   ],
   "source": [
    "## An array that has 1-D arrays as its elements is called a 2-D array\n",
    "## Often used to represent matrix or 2nd order tensors\n",
    "c=np.array([[1,2,3],[4,5,6]])\n",
    "print(c)\n"
   ]
  },
  {
   "cell_type": "code",
   "execution_count": 9,
   "id": "c78b8e42",
   "metadata": {},
   "outputs": [
    {
     "name": "stdout",
     "output_type": "stream",
     "text": [
      "[[[1 2 3]\n",
      "  [4 5 6]]\n",
      "\n",
      " [[1 2 3]\n",
      "  [4 5 6]]]\n"
     ]
    }
   ],
   "source": [
    "## An array that has 2-D arrays (matrices) as its elements is called 3-D array\n",
    "## These are often used to represent a 3rd order tensor\n",
    "d=np.array([[[1,2,3],[4,5,6]],[[1,2,3],[4,5,6]]])\n",
    "print(d)\n"
   ]
  },
  {
   "cell_type": "code",
   "execution_count": 12,
   "id": "ae2c331c",
   "metadata": {},
   "outputs": [
    {
     "name": "stdout",
     "output_type": "stream",
     "text": [
      "2\n",
      "0\n"
     ]
    }
   ],
   "source": [
    "## Checking dimensions\n",
    "## ndim attribute returns an integer that indicates how many dimensions the array has\n",
    "print(c.ndim)\n",
    "print(a.ndim)"
   ]
  },
  {
   "cell_type": "code",
   "execution_count": 14,
   "id": "6a241458",
   "metadata": {},
   "outputs": [
    {
     "name": "stdout",
     "output_type": "stream",
     "text": [
      "[[[[[1 2 3 4]]]]]\n",
      "number of dimensions: 5\n"
     ]
    }
   ],
   "source": [
    "## Creating higher dimensional arrays by defining the number of dimensions by using the ndmin argument\n",
    "# Specifies minimum dimensions of resultant array.\n",
    "e= np.array([1,2,3,4],ndmin=5)\n",
    "print(e)\n",
    "print(\"number of dimensions:\" , e.ndim)"
   ]
  },
  {
   "cell_type": "markdown",
   "id": "ab7ddb36",
   "metadata": {},
   "source": [
    "In this array the innermost dimension (5th dim) has 4 elements, the 4th dim has 1 element that is the vector, the 3rd dim has 1 element that is the matrix with the vector, the 2nd dim has 1 element that is 3D array and 1st dim has 1 element that is a 4D array."
   ]
  },
  {
   "cell_type": "markdown",
   "id": "906477b4",
   "metadata": {},
   "source": [
    "#### Array Indexing\n",
    "\n",
    "- Array indexing means accessing an array element by referring to its index number\n",
    "- The indexes in NumPy arrays start with 0, meaning that the first element has index 0, and the second has index 1, etc"
   ]
  },
  {
   "cell_type": "code",
   "execution_count": 15,
   "id": "d6b14e46",
   "metadata": {},
   "outputs": [
    {
     "name": "stdout",
     "output_type": "stream",
     "text": [
      "[23 67  9 84]\n"
     ]
    }
   ],
   "source": [
    "arr = np.array([23,67,9,84])\n",
    "print(arr)\n"
   ]
  },
  {
   "cell_type": "code",
   "execution_count": 19,
   "id": "01b25ce5",
   "metadata": {},
   "outputs": [
    {
     "data": {
      "text/plain": [
       "67"
      ]
     },
     "execution_count": 19,
     "metadata": {},
     "output_type": "execute_result"
    }
   ],
   "source": [
    "## Accessing the second element of the array\n",
    "arr[1]"
   ]
  },
  {
   "cell_type": "code",
   "execution_count": 20,
   "id": "63e292c1",
   "metadata": {},
   "outputs": [
    {
     "data": {
      "text/plain": [
       "84"
      ]
     },
     "execution_count": 20,
     "metadata": {},
     "output_type": "execute_result"
    }
   ],
   "source": [
    "## Accessing the 4th element\n",
    "arr[3]"
   ]
  },
  {
   "cell_type": "code",
   "execution_count": 24,
   "id": "5291d325",
   "metadata": {},
   "outputs": [
    {
     "data": {
      "text/plain": [
       "93"
      ]
     },
     "execution_count": 24,
     "metadata": {},
     "output_type": "execute_result"
    }
   ],
   "source": [
    "## Getting third and fourth elements from the above array and adding them\n",
    "arr[2]+arr[3]"
   ]
  },
  {
   "cell_type": "code",
   "execution_count": 25,
   "id": "85ffdc06",
   "metadata": {},
   "outputs": [
    {
     "name": "stdout",
     "output_type": "stream",
     "text": [
      "2nd element on 1st dim: 2\n"
     ]
    }
   ],
   "source": [
    "## To access elements from 2-D arrays we can use comma separated integers\n",
    "## representing the dimension and the index of the element\n",
    "arr=np.array([[1,2,3,4,5],[6,7,8,9,10]])\n",
    "print('2nd element on 1st dim:', arr[0,1])"
   ]
  },
  {
   "cell_type": "code",
   "execution_count": 26,
   "id": "064f7ace",
   "metadata": {},
   "outputs": [
    {
     "name": "stdout",
     "output_type": "stream",
     "text": [
      "5th element on 2nd dim: 10\n"
     ]
    }
   ],
   "source": [
    "print('5th element on 2nd dim:',arr[1,4])\n"
   ]
  },
  {
   "cell_type": "code",
   "execution_count": 28,
   "id": "86d6483f",
   "metadata": {},
   "outputs": [
    {
     "name": "stdout",
     "output_type": "stream",
     "text": [
      "[[[ 1  2  3]\n",
      "  [ 4  5  6]]\n",
      "\n",
      " [[ 7  8  9]\n",
      "  [10 11 12]]]\n",
      "6\n"
     ]
    }
   ],
   "source": [
    "## To access elements from 3-D arrays we can use comma separated integers \n",
    "## representing the dimensions and the index of the element\n",
    "arr=np.array([[[1,2,3],[4,5,6]],[[7,8,9],[10,11,12]]])\n",
    "print(arr)\n",
    "## Accessing the third element of the second array of the first array\n",
    "print(arr[0,1,2])"
   ]
  },
  {
   "cell_type": "markdown",
   "id": "62ad9930",
   "metadata": {},
   "source": [
    "##### Explanation of above example\n",
    "\n",
    "`arr[0, 1, 2]` prints the value `6`.\n",
    "\n",
    "And this is why:\n",
    "\n",
    "The first number represents the first dimension, which contains two arrays: `[[1, 2, 3], [4, 5, 6]]` and `[[7, 8, 9], [10, 11, 12]]`\n",
    "\n",
    "Since we selected 0, we are left with the first array: `[[1, 2, 3], [4, 5, 6]]`\n",
    "\n",
    "The second number represents the second dimension, which also contains two arrays: `[1, 2, 3]` and `[4, 5, 6]`\n",
    "\n",
    "Since we selected 1, we are left with the second array: `[4, 5, 6]`\n",
    "\n",
    "The third number represents the third dimension, which contains three values: 4, 5, 6\n",
    "\n",
    "Since we selected 2, we end up with the third value: 6"
   ]
  },
  {
   "cell_type": "code",
   "execution_count": 30,
   "id": "61d48daa",
   "metadata": {},
   "outputs": [
    {
     "name": "stdout",
     "output_type": "stream",
     "text": [
      "last element in 2nd dim: 10\n"
     ]
    }
   ],
   "source": [
    "## Negative indexing is used to access an array from the end\n",
    "arr =np.array([[1,2,3,4,5],[6,7,8,9,10]])\n",
    "print('last element in 2nd dim:', arr[1,-1])"
   ]
  },
  {
   "cell_type": "markdown",
   "id": "c1b8f427",
   "metadata": {},
   "source": [
    "#### Array Slicing\n",
    "\n",
    "- Slicing in python means taking elements from one given index to another given index\n",
    "- We may pass slice instead of index like this: `[start:end]`\n",
    "- We can also define the step: `[start:end:step]`\n",
    "- If we don't pass start it's considered 0\n",
    "- If we don't pass end it considers length of array in that dimension\n",
    "- If we don't pass step it's considered 1"
   ]
  },
  {
   "cell_type": "code",
   "execution_count": 31,
   "id": "ab53e06a",
   "metadata": {},
   "outputs": [
    {
     "name": "stdout",
     "output_type": "stream",
     "text": [
      "[2 3 4 5]\n"
     ]
    }
   ],
   "source": [
    "arr = np.array([1,2,3,4,5,6,7])\n",
    "print(arr[1:5])"
   ]
  },
  {
   "cell_type": "markdown",
   "id": "65eb48bf",
   "metadata": {},
   "source": [
    "The result includes the start index, but excludes the end index"
   ]
  },
  {
   "cell_type": "code",
   "execution_count": 32,
   "id": "3ed1f58e",
   "metadata": {},
   "outputs": [
    {
     "name": "stdout",
     "output_type": "stream",
     "text": [
      "[5 6 7]\n"
     ]
    }
   ],
   "source": [
    "## Slicing elements from index 4 to the end of the array\n",
    "print(arr[4:])"
   ]
  },
  {
   "cell_type": "code",
   "execution_count": 33,
   "id": "d88a1086",
   "metadata": {},
   "outputs": [
    {
     "name": "stdout",
     "output_type": "stream",
     "text": [
      "[1 2 3 4]\n"
     ]
    }
   ],
   "source": [
    "## Slicing elements from the beginning to index 4 (not included)\n",
    "print(arr[:4])"
   ]
  },
  {
   "cell_type": "code",
   "execution_count": 34,
   "id": "086436fb",
   "metadata": {},
   "outputs": [
    {
     "name": "stdout",
     "output_type": "stream",
     "text": [
      "[5 6]\n"
     ]
    }
   ],
   "source": [
    "## Negative Slicing - use the minus operator to refer to an index from the end\n",
    "\n",
    "## Slicing from the index 3 from the end to index 1 from the end\n",
    "print(arr[-3:-1])"
   ]
  },
  {
   "cell_type": "code",
   "execution_count": 35,
   "id": "a03f4a9b",
   "metadata": {},
   "outputs": [
    {
     "name": "stdout",
     "output_type": "stream",
     "text": [
      "[2 4]\n"
     ]
    }
   ],
   "source": [
    "## Using the step value to determine the step of the slicing\n",
    "\n",
    "## Returning every other element from index 1 to index 5\n",
    "print(arr[1:5:2])"
   ]
  },
  {
   "cell_type": "code",
   "execution_count": 36,
   "id": "08fc1560",
   "metadata": {},
   "outputs": [
    {
     "name": "stdout",
     "output_type": "stream",
     "text": [
      "[1 3 5 7]\n"
     ]
    }
   ],
   "source": [
    "## Returning every other element from the entire array\n",
    "print(arr[::2])"
   ]
  },
  {
   "cell_type": "code",
   "execution_count": 40,
   "id": "3d266d28",
   "metadata": {},
   "outputs": [
    {
     "name": "stdout",
     "output_type": "stream",
     "text": [
      "[7 8 9]\n"
     ]
    }
   ],
   "source": [
    "## Slicing 2D arrays\n",
    "## From the second element, slicing elements from index 1 to index 4 (not included)\n",
    "arr = np.array([[1,2,3,4,5],[6,7,8,9,10]])\n",
    "print(arr[1, 1:4])"
   ]
  },
  {
   "cell_type": "code",
   "execution_count": 47,
   "id": "4ed90acb",
   "metadata": {},
   "outputs": [
    {
     "name": "stdout",
     "output_type": "stream",
     "text": [
      "[3 8]\n"
     ]
    }
   ],
   "source": [
    "## Returning index 2 from both elements\n",
    "print(arr[0:2,2])"
   ]
  },
  {
   "cell_type": "code",
   "execution_count": 48,
   "id": "c7faca7d",
   "metadata": {},
   "outputs": [
    {
     "name": "stdout",
     "output_type": "stream",
     "text": [
      "[[2 3 4]\n",
      " [7 8 9]]\n"
     ]
    }
   ],
   "source": [
    "# ## Slicing index 1 to index 4 from both elements\\\n",
    "print(arr[0:2,1:4])"
   ]
  },
  {
   "cell_type": "markdown",
   "id": "ad8207fc",
   "metadata": {},
   "source": [
    "#### NumPy Data Types\n",
    "\n",
    "- i - integer\n",
    "- b - boolean\n",
    "- u - unsigned integer\n",
    "- f - float\n",
    "- c - complex float\n",
    "- m - timedelta\n",
    "- M - datetime\n",
    "- O - object\n",
    "- S - string\n",
    "- U - unicode string\n",
    "- V - fixed chunk of memory for other type ( void )\n",
    "\n",
    "##### Checking the Data Type of an Array\n",
    "The NumPy array object has a property called dtype that returns the data type of the array"
   ]
  },
  {
   "cell_type": "code",
   "execution_count": 49,
   "id": "3d5396cc",
   "metadata": {},
   "outputs": [
    {
     "name": "stdout",
     "output_type": "stream",
     "text": [
      "int32\n"
     ]
    }
   ],
   "source": [
    "arr = np.array([1, 2, 3, 4])\n",
    "print(arr.dtype)"
   ]
  },
  {
   "cell_type": "code",
   "execution_count": 50,
   "id": "8faa2e8a",
   "metadata": {},
   "outputs": [
    {
     "name": "stdout",
     "output_type": "stream",
     "text": [
      "<U6\n"
     ]
    }
   ],
   "source": [
    "arr1 = np.array(['apple', 'orange', 'cherry']) # object data type <U6\n",
    "print(arr1.dtype)"
   ]
  },
  {
   "cell_type": "code",
   "execution_count": null,
   "id": "179ebbf7",
   "metadata": {},
   "outputs": [],
   "source": [
    "## Creating Arrays With a Defined Data Type\n",
    "## The array() function can take an optional argument \"dtype\" \n",
    "## that allows us to define the expected data type of the array elements\\\n",
    "\n",
    "## Creating an array with data type string\n"
   ]
  },
  {
   "cell_type": "markdown",
   "id": "318792e7",
   "metadata": {},
   "source": [
    "For i, u, f, S and U we can define size as well"
   ]
  },
  {
   "cell_type": "code",
   "execution_count": 56,
   "id": "8e7ebcda",
   "metadata": {},
   "outputs": [
    {
     "name": "stdout",
     "output_type": "stream",
     "text": [
      "[1 2 3 4]\n",
      "int32\n"
     ]
    }
   ],
   "source": [
    "## Creating an array with data type 4 bytes integer\n",
    "arr=np.array([1,2,3,4], dtype='i4')\n",
    "print(arr)\n",
    "print(arr.dtype)"
   ]
  },
  {
   "cell_type": "code",
   "execution_count": 57,
   "id": "09db4287",
   "metadata": {},
   "outputs": [
    {
     "name": "stdout",
     "output_type": "stream",
     "text": [
      "[1.1 2.1 3.1]\n",
      "float64\n"
     ]
    }
   ],
   "source": [
    "## Converting Data Type on Existing Arrays\n",
    "## Make a copy of the array with the astype() method\n",
    "## The astype() function creates a copy of the array, and allows you to specify the data type as a parameter\n",
    "\n",
    "arr = np.array([1.1, 2.1, 3.1])\n",
    "\n",
    "print(arr)\n",
    "print(arr.dtype)"
   ]
  },
  {
   "cell_type": "code",
   "execution_count": 58,
   "id": "29af3257",
   "metadata": {},
   "outputs": [
    {
     "name": "stdout",
     "output_type": "stream",
     "text": [
      "[1 2 3]\n",
      "int32\n"
     ]
    }
   ],
   "source": [
    "newarr=arr.astype('i')\n",
    "print(newarr)\n",
    "print(newarr.dtype)"
   ]
  },
  {
   "cell_type": "code",
   "execution_count": null,
   "id": "340fc01f",
   "metadata": {},
   "outputs": [],
   "source": [
    "## Alternative way\n",
    "\n"
   ]
  },
  {
   "cell_type": "markdown",
   "id": "d8d0fcd9",
   "metadata": {},
   "source": [
    "#### NumPy Array Copy vs View\n",
    "\n",
    "- The main difference between a copy and a view of an array is that the copy is a new array, and the view is just a view of the original array\n",
    "\n",
    "- The copy owns the data and any changes made to the copy will not affect original array, and any changes made to the original array will not affect the copy\n",
    "\n",
    "- The view does not own the data and any changes made to the view will affect the original array, and any changes made to the original array will affect the view"
   ]
  },
  {
   "cell_type": "code",
   "execution_count": 59,
   "id": "71faa16f",
   "metadata": {},
   "outputs": [
    {
     "name": "stdout",
     "output_type": "stream",
     "text": [
      "[42  2  3  4  5]\n",
      "[1 2 3 4 5]\n"
     ]
    }
   ],
   "source": [
    "## Making a copy, changing the original array, and displaying both arrays\n",
    "\n",
    "arr = np.array([1, 2, 3, 4, 5])\n",
    "x=arr.copy()\n",
    "arr[0]=42\n",
    "print(arr)\n",
    "print(x)"
   ]
  },
  {
   "cell_type": "code",
   "execution_count": 60,
   "id": "bd0343bb",
   "metadata": {},
   "outputs": [
    {
     "name": "stdout",
     "output_type": "stream",
     "text": [
      "[42  2  3  4  5]\n",
      "[42  2  3  4  5]\n"
     ]
    }
   ],
   "source": [
    "## Making a view, changing the original array, and displaying both arrays\n",
    "\n",
    "arr = np.array([1, 2, 3, 4, 5])\n",
    "x=arr.view()\n",
    "arr[0]=42\n",
    "print(arr)\n",
    "print(x)"
   ]
  },
  {
   "cell_type": "code",
   "execution_count": 61,
   "id": "f667b95c",
   "metadata": {},
   "outputs": [
    {
     "name": "stdout",
     "output_type": "stream",
     "text": [
      "[31  2  3  4  5]\n",
      "[31  2  3  4  5]\n"
     ]
    }
   ],
   "source": [
    "## Making a view, changing the view, and displaying both arrays\n",
    "\n",
    "arr = np.array([1, 2, 3, 4, 5])\n",
    "x=arr.view()\n",
    "x[0]=31\n",
    "\n",
    "print(arr)\n",
    "print(x)"
   ]
  },
  {
   "cell_type": "markdown",
   "id": "2fdc6bfe",
   "metadata": {},
   "source": [
    "#### Shape of an Array\n",
    "\n",
    "- The shape of an array is the number of elements in each dimension\n",
    "- NumPy arrays have an attribute called shape that returns a tuple with each index having the number of corresponding elements"
   ]
  },
  {
   "cell_type": "code",
   "execution_count": 62,
   "id": "7e98e1b7",
   "metadata": {},
   "outputs": [
    {
     "name": "stdout",
     "output_type": "stream",
     "text": [
      "(2, 4)\n"
     ]
    }
   ],
   "source": [
    "## Printing the shape of a 2-D array\n",
    "\n",
    "arr = np.array([[1, 2, 3, 4], [5, 6, 7, 8]])\n",
    "print (arr.shape)"
   ]
  },
  {
   "cell_type": "markdown",
   "id": "21777356",
   "metadata": {},
   "source": [
    "The example above returns (2, 4), which means that the array has 2 dimensions, and each dimension has 4 elements."
   ]
  },
  {
   "cell_type": "code",
   "execution_count": 63,
   "id": "a028d715",
   "metadata": {},
   "outputs": [
    {
     "name": "stdout",
     "output_type": "stream",
     "text": [
      "[[[[[1 2 3 4]]]]]\n",
      "shape of array : (1, 1, 1, 1, 4)\n"
     ]
    }
   ],
   "source": [
    "arr = np.array([1, 2, 3, 4], ndmin=5)\n",
    "print(arr)\n",
    "print('shape of array :', arr.shape)"
   ]
  },
  {
   "cell_type": "markdown",
   "id": "61f95cac",
   "metadata": {},
   "source": [
    "Integers at every index tells about the number of elements the corresponding dimension has.\n",
    "\n",
    "In the above case at index-4 we have value 4, so we can say that 5th ( 4 + 1 th) dimension has 4 elements."
   ]
  },
  {
   "cell_type": "markdown",
   "id": "331e9429",
   "metadata": {},
   "source": [
    "#### Reshaping Arrays\n",
    "\n",
    "- Reshaping means changing the shape of an array\n",
    "- By reshaping we can add or remove dimensions or change number of elements in each dimension"
   ]
  },
  {
   "cell_type": "code",
   "execution_count": 64,
   "id": "0859126c",
   "metadata": {},
   "outputs": [
    {
     "name": "stdout",
     "output_type": "stream",
     "text": [
      "[[ 1  2  3]\n",
      " [ 4  5  6]\n",
      " [ 7  8  9]\n",
      " [10 11 12]]\n"
     ]
    }
   ],
   "source": [
    "## Converting a 1-D array with 12 elements into a 2-D array\n",
    "## such that the outermost dimension will have 4 arrays, each with 3 elements\n",
    "\n",
    "arr = np.array([1, 2, 3, 4, 5, 6, 7, 8, 9, 10, 11, 12])\n",
    "newarr= arr.reshape(4,3)\n",
    "print(newarr)"
   ]
  },
  {
   "cell_type": "code",
   "execution_count": 65,
   "id": "6e09c69b",
   "metadata": {},
   "outputs": [
    {
     "name": "stdout",
     "output_type": "stream",
     "text": [
      "[[[ 1  2]\n",
      "  [ 3  4]\n",
      "  [ 5  6]]\n",
      "\n",
      " [[ 7  8]\n",
      "  [ 9 10]\n",
      "  [11 12]]]\n"
     ]
    }
   ],
   "source": [
    "## Converting a 1-D array with 12 elements into a 3-D array\n",
    "## such that the outermost dimension will have 2 arrays that contains 3 arrays, each with 2 elements\n",
    "\n",
    "arr = np.array([1, 2, 3, 4, 5, 6, 7, 8, 9, 10, 11, 12])\n",
    "newarr1=arr.reshape(2,3,2)\n",
    "print(newarr1)"
   ]
  },
  {
   "cell_type": "markdown",
   "id": "204c2144",
   "metadata": {},
   "source": [
    "Note: We can reshape an array into any shape as long as the elements required for reshaping are equal in both shapes\n",
    "\n",
    "For eg, we can reshape an 8 elements 1D array into 4 elements in 2 rows 2D array but we cannot reshape it into a 3 elements 3 rows 2D array as that would require 3x3 = 9 elements"
   ]
  },
  {
   "cell_type": "code",
   "execution_count": 68,
   "id": "26f12c27",
   "metadata": {},
   "outputs": [
    {
     "name": "stdout",
     "output_type": "stream",
     "text": [
      "[[[2 3 4 5]\n",
      "  [6 7 8 9]]]\n"
     ]
    }
   ],
   "source": [
    "arr=np.array([2,3,4,5,6,7,8,9])\n",
    "newarr2=arr.reshape(1,2,4)\n",
    "print(newarr2)"
   ]
  },
  {
   "cell_type": "code",
   "execution_count": 69,
   "id": "ad2b2eef",
   "metadata": {},
   "outputs": [
    {
     "name": "stdout",
     "output_type": "stream",
     "text": [
      "[1 2 3 4 5 6]\n"
     ]
    }
   ],
   "source": [
    "## Flattening array - converting a multidimensional array into a 1D array\n",
    "\n",
    "arr = np.array([[1, 2, 3], [4, 5, 6]])\n",
    "newarr=arr.reshape(-1)\n",
    "print(newarr)"
   ]
  },
  {
   "cell_type": "code",
   "execution_count": 70,
   "id": "73e7b4c7",
   "metadata": {},
   "outputs": [
    {
     "data": {
      "text/plain": [
       "array([1, 2, 3, 4, 5, 6])"
      ]
     },
     "execution_count": 70,
     "metadata": {},
     "output_type": "execute_result"
    }
   ],
   "source": [
    "arr.flatten(order='C')  #C MEANS TO FLATTEN IN ROW MAJOR(C -STYLE) ORDER\n",
    "                         #F MEANS TO FLATTEN IN COLUMN MAJOR (FORTRAN -STYLE) ORDER"
   ]
  },
  {
   "cell_type": "code",
   "execution_count": 71,
   "id": "de747062",
   "metadata": {},
   "outputs": [
    {
     "data": {
      "text/plain": [
       "array([1, 4, 2, 5, 3, 6])"
      ]
     },
     "execution_count": 71,
     "metadata": {},
     "output_type": "execute_result"
    }
   ],
   "source": [
    "arr.flatten(order='F')"
   ]
  },
  {
   "cell_type": "markdown",
   "id": "cd595115",
   "metadata": {},
   "source": [
    "#### Sorting Arrays\n",
    "\n",
    "Arranging elements of a NumPy ndarray object in an ordered sequence is achieved by a function called sort() "
   ]
  },
  {
   "cell_type": "code",
   "execution_count": 72,
   "id": "7dd2e3e2",
   "metadata": {},
   "outputs": [
    {
     "name": "stdout",
     "output_type": "stream",
     "text": [
      "[0 1 2 3]\n"
     ]
    }
   ],
   "source": [
    "arr = np.array([3, 2, 0, 1])\n",
    "print(np.sort(arr))\n"
   ]
  },
  {
   "cell_type": "code",
   "execution_count": null,
   "id": "1e9df89e",
   "metadata": {},
   "outputs": [],
   "source": []
  },
  {
   "cell_type": "markdown",
   "id": "510fe1a9",
   "metadata": {},
   "source": [
    "This method returns a copy of the array, leaving the original array unchanged"
   ]
  },
  {
   "cell_type": "code",
   "execution_count": 73,
   "id": "bac5a45f",
   "metadata": {},
   "outputs": [
    {
     "name": "stdout",
     "output_type": "stream",
     "text": [
      "['apple' 'banana' 'cherry']\n"
     ]
    }
   ],
   "source": [
    "## Sorting the array alphabetically\n",
    "\n",
    "arr = np.array(['banana', 'cherry', 'apple'])\n",
    "print(np.sort(arr))"
   ]
  },
  {
   "cell_type": "code",
   "execution_count": 74,
   "id": "cb4ddfc9",
   "metadata": {},
   "outputs": [
    {
     "name": "stdout",
     "output_type": "stream",
     "text": [
      "[[2 3 4]\n",
      " [0 1 5]]\n"
     ]
    }
   ],
   "source": [
    "## Using the sort() method on a 2-D array will render both arrays sorted\n",
    "\n",
    "arr = np.array([[3, 2, 4], [5, 0, 1]])\n",
    "print(np.sort(arr))"
   ]
  },
  {
   "cell_type": "markdown",
   "id": "93b93215",
   "metadata": {},
   "source": [
    "Note: np. sort() function does not allow us to sort an array in descending order"
   ]
  },
  {
   "cell_type": "markdown",
   "id": "468a7112",
   "metadata": {},
   "source": [
    "#### Searching Arrays\n",
    "\n",
    "You can search an array for a certain value, and return the indexes that get a match using the where() method"
   ]
  },
  {
   "cell_type": "code",
   "execution_count": 75,
   "id": "570bb642",
   "metadata": {},
   "outputs": [
    {
     "name": "stdout",
     "output_type": "stream",
     "text": [
      "(array([3, 5, 6], dtype=int64),)\n"
     ]
    }
   ],
   "source": [
    "## Finding the indexes where the value is 4\n",
    "arr = np.array([1, 2, 3, 4, 5, 4, 4])\n",
    "x=np.where(arr ==4)\n",
    "print(x)"
   ]
  },
  {
   "cell_type": "code",
   "execution_count": 76,
   "id": "78a3d5ab",
   "metadata": {},
   "outputs": [
    {
     "name": "stdout",
     "output_type": "stream",
     "text": [
      "(array([1, 3, 5, 7], dtype=int64),)\n"
     ]
    }
   ],
   "source": [
    "## Finding the indexes where the values are even\n",
    "\n",
    "arr = np.array([1, 2, 3, 4, 5, 6, 7, 8])\n",
    "x=np.where(arr%2==0)\n",
    "print(x)"
   ]
  },
  {
   "cell_type": "markdown",
   "id": "1da21eb5",
   "metadata": {},
   "source": [
    "#### Joining NumPy Arrays \n",
    "\n",
    "- Joining means putting contents of two or more arrays in a single array\n",
    "- In SQL we join tables based on a key, whereas in NumPy we join arrays by axes\n",
    "- We pass a sequence of arrays that we want to join to the concatenate() function, along with the axis; if axis is not explicitly passed, it is taken as 0.\n"
   ]
  },
  {
   "cell_type": "code",
   "execution_count": 78,
   "id": "2a640fbb",
   "metadata": {},
   "outputs": [
    {
     "name": "stdout",
     "output_type": "stream",
     "text": [
      "[1 2 3 4 5 6]\n"
     ]
    }
   ],
   "source": [
    "arr1 = np.array([1, 2, 3])\n",
    "arr2 = np.array([4, 5, 6])\n",
    "arr=np.concatenate((arr1,arr2))  #by default axis 0\n",
    "print(arr)\n"
   ]
  },
  {
   "cell_type": "code",
   "execution_count": 87,
   "id": "56c9ada1",
   "metadata": {},
   "outputs": [
    {
     "name": "stdout",
     "output_type": "stream",
     "text": [
      "[[1 2]\n",
      " [3 4]]\n",
      "[[5 6]\n",
      " [7 8]]\n",
      "[[1 2 5 6]\n",
      " [3 4 7 8]]\n"
     ]
    }
   ],
   "source": [
    "## Joining two 2-D arrays along rows (axis=1)\n",
    "\n",
    "arr1 = np.array([[1, 2], [3, 4]])\n",
    "arr2 = np.array([[5, 6], [7, 8]])\n",
    "print(arr1)\n",
    "print(arr2)\n",
    "arr=np.concatenate((arr1,arr2),axis=1)  #along the columns\n",
    "print(arr)"
   ]
  },
  {
   "cell_type": "markdown",
   "id": "10c92c0a",
   "metadata": {},
   "source": [
    "#### Joining Arrays Using Stack Functions\n",
    "\n",
    "- Stacking is same as concatenation, the only difference is that stacking is done along a new axis\n",
    "- We can concatenate two 1-D arrays along the second axis which would result in putting them one over the other, ie. stacking\n",
    "- We pass a sequence of arrays that we want to join to the stack() method along with the axis; if axis is not explicitly passed it is taken as 0"
   ]
  },
  {
   "cell_type": "code",
   "execution_count": 83,
   "id": "ab4fd22f",
   "metadata": {},
   "outputs": [
    {
     "name": "stdout",
     "output_type": "stream",
     "text": [
      "[1 2 3]\n",
      "[4 5 6]\n",
      "[[1 4]\n",
      " [2 5]\n",
      " [3 6]]\n"
     ]
    }
   ],
   "source": [
    "arr1 = np.array([1, 2, 3])\n",
    "arr2 = np.array([4, 5, 6])\n",
    "print(arr1)\n",
    "print(arr2)\n",
    "arr=np.stack((arr1,arr2),axis=1)\n",
    "print(arr)"
   ]
  },
  {
   "cell_type": "markdown",
   "id": "a5ac9772",
   "metadata": {},
   "source": [
    "np.hstack combines NumPy arrays horizontally and np. vstack combines arrays vertically"
   ]
  },
  {
   "cell_type": "code",
   "execution_count": 85,
   "id": "a5489788",
   "metadata": {},
   "outputs": [
    {
     "name": "stdout",
     "output_type": "stream",
     "text": [
      "[1 2 3]\n",
      "[4 5 6]\n",
      "[1 2 3 4 5 6]\n"
     ]
    }
   ],
   "source": [
    "## Stacking Along Rows - hstack()\n",
    "\n",
    "arr1 = np.array([1, 2, 3])\n",
    "arr2 = np.array([4, 5, 6])\n",
    "print(arr1)\n",
    "print(arr2)\n",
    "arr=np.hstack((arr1,arr2))\n",
    "print(arr)"
   ]
  },
  {
   "cell_type": "code",
   "execution_count": 86,
   "id": "92c263c5",
   "metadata": {},
   "outputs": [
    {
     "name": "stdout",
     "output_type": "stream",
     "text": [
      "[1 2 3]\n",
      "[4 5 6]\n",
      "[[1 2 3]\n",
      " [4 5 6]]\n"
     ]
    }
   ],
   "source": [
    "## Stacking Along Columns - vstack()\n",
    "\n",
    "arr1 = np.array([1, 2, 3])\n",
    "arr2 = np.array([4, 5, 6])\n",
    "\n",
    "print(arr1)\n",
    "print(arr2)\n",
    "arr=np.vstack((arr1,arr2))\n",
    "print(arr)"
   ]
  },
  {
   "cell_type": "markdown",
   "id": "8c629a74",
   "metadata": {},
   "source": [
    "#### Splitting NumPy Arrays\n",
    "\n",
    "- Splitting is reverse operation of Joining, that is breaks one array into multiple arrays\n",
    "- We use array_split() for splitting arrays, we pass it the array we want to split and the number of splits"
   ]
  },
  {
   "cell_type": "code",
   "execution_count": 88,
   "id": "d1c96c6c",
   "metadata": {},
   "outputs": [
    {
     "name": "stdout",
     "output_type": "stream",
     "text": [
      "[array([1, 2]), array([3, 4]), array([5, 6])]\n"
     ]
    }
   ],
   "source": [
    "## Splitting the array in 3 parts\n",
    "\n",
    "arr = np.array([1, 2, 3, 4, 5, 6])\n",
    "newarr = np.array_split(arr,3)    #np.array_split(obj,no of parts)\n",
    "print(newarr)"
   ]
  },
  {
   "cell_type": "markdown",
   "id": "251543f0",
   "metadata": {},
   "source": [
    "The return value is an array containing three arrays"
   ]
  },
  {
   "cell_type": "code",
   "execution_count": 90,
   "id": "937bbd3f",
   "metadata": {},
   "outputs": [
    {
     "name": "stdout",
     "output_type": "stream",
     "text": [
      "[array([1, 2]), array([3, 4]), array([5]), array([6])]\n"
     ]
    }
   ],
   "source": [
    "## If the array has less elements than required, it will adjust from the end accordingly\n",
    "## Splitting the array in 4 parts\n",
    "\n",
    "arr = np.array([1, 2, 3, 4, 5, 6])\n",
    "newarr = np.array_split(arr,4)    #np.array_split(obj,no of parts)\n",
    "print(newarr)"
   ]
  },
  {
   "cell_type": "markdown",
   "id": "3856bd60",
   "metadata": {},
   "source": [
    "We also have the method split() available but it will not adjust the elements when elements are less in source array for splitting like in example above, array_split() worked properly but split() would fail."
   ]
  },
  {
   "cell_type": "code",
   "execution_count": null,
   "id": "21f2e221",
   "metadata": {},
   "outputs": [],
   "source": [
    "## The return value of the array_split() method is an array containing each of the split as an array\n",
    "## If you split an array into 3 arrays, you can access them from the result just like any array element\n",
    "\n",
    "arr = np.array([1, 2, 3, 4, 5, 6])\n"
   ]
  },
  {
   "cell_type": "code",
   "execution_count": null,
   "id": "ec2a33aa",
   "metadata": {},
   "outputs": [],
   "source": [
    "## Splitting a 2-D array into three 2-D arrays\n",
    "\n",
    "arr = np.array([[1, 2], [3, 4], [5, 6], [7, 8], [9, 10], [11, 12]])\n"
   ]
  },
  {
   "cell_type": "markdown",
   "id": "4c62eb4b",
   "metadata": {},
   "source": [
    "#### NumPy Arithmetic Operations\n",
    "\n",
    "Input arrays for performing arithmetic operations such as add(), subtract(), multiply(), and divide() must be either of the same shape or should conform to array broadcasting rules"
   ]
  },
  {
   "cell_type": "code",
   "execution_count": 92,
   "id": "c6bf1a3b",
   "metadata": {},
   "outputs": [],
   "source": [
    "arr1 = np.array([[1,2,3],[4,5,6]])\n",
    "arr2 = np.array([[7,8,9],[10,11,12]])"
   ]
  },
  {
   "cell_type": "code",
   "execution_count": 93,
   "id": "1a62be84",
   "metadata": {},
   "outputs": [
    {
     "name": "stdout",
     "output_type": "stream",
     "text": [
      "[[ 8 10 12]\n",
      " [14 16 18]]\n"
     ]
    }
   ],
   "source": [
    "## Adding the two arrays\n",
    "print(np.add(arr1,arr2))\n"
   ]
  },
  {
   "cell_type": "code",
   "execution_count": 94,
   "id": "a5013799",
   "metadata": {},
   "outputs": [
    {
     "name": "stdout",
     "output_type": "stream",
     "text": [
      "[[-6 -6 -6]\n",
      " [-6 -6 -6]]\n"
     ]
    }
   ],
   "source": [
    "# ## Subtracting one array from the other\n",
    "print(np.subtract(arr1,arr2))\n"
   ]
  },
  {
   "cell_type": "code",
   "execution_count": 95,
   "id": "7199f13f",
   "metadata": {},
   "outputs": [
    {
     "name": "stdout",
     "output_type": "stream",
     "text": [
      "[[ 7 16 27]\n",
      " [40 55 72]]\n"
     ]
    }
   ],
   "source": [
    "## Multiplying the two arrays\n",
    "print(np.multiply(arr1,arr2))\n"
   ]
  },
  {
   "cell_type": "code",
   "execution_count": 96,
   "id": "221efdb5",
   "metadata": {},
   "outputs": [
    {
     "name": "stdout",
     "output_type": "stream",
     "text": [
      "[[0.14285714 0.25       0.33333333]\n",
      " [0.4        0.45454545 0.5       ]]\n"
     ]
    }
   ],
   "source": [
    "## Dividing one array by the other\n",
    "print(np.divide(arr1,arr2))\n"
   ]
  },
  {
   "cell_type": "markdown",
   "id": "f10b68cc",
   "metadata": {},
   "source": [
    "##### numpy.power()\n",
    "\n",
    "This function treats elements in the first input array as base and returns it raised to the power of the corresponding element in the second input array."
   ]
  },
  {
   "cell_type": "code",
   "execution_count": 104,
   "id": "19de5b55",
   "metadata": {},
   "outputs": [
    {
     "name": "stdout",
     "output_type": "stream",
     "text": [
      "[    100   10000 1000000]\n",
      "[      1000    1000000 1000000000]\n",
      "[     10000  100000000 -727379968]\n"
     ]
    }
   ],
   "source": [
    "a = np.array([10,100,1000])\n",
    "print(np.power(a,2))\n",
    "print(np.power(a,3))\n",
    "print(np.power(a,4))"
   ]
  },
  {
   "cell_type": "code",
   "execution_count": 98,
   "id": "907a94da",
   "metadata": {},
   "outputs": [
    {
     "name": "stdout",
     "output_type": "stream",
     "text": [
      "[        10      10000 1000000000]\n"
     ]
    }
   ],
   "source": [
    "b = np.array([1,2,3])\n",
    "print(np.power(a,b))\n"
   ]
  },
  {
   "cell_type": "markdown",
   "id": "bfd3b9f2",
   "metadata": {},
   "source": [
    "##### numpy.mod()\n",
    "\n",
    "Returns the remainder of division of the corresponding elements in the input array; the function numpy.remainder() also produces the same result"
   ]
  },
  {
   "cell_type": "code",
   "execution_count": 99,
   "id": "00dcd3b2",
   "metadata": {},
   "outputs": [
    {
     "name": "stdout",
     "output_type": "stream",
     "text": [
      "Applying mod() function:  [1 0 2]\n",
      "Applying remainder() function:  [1 0 2]\n"
     ]
    }
   ],
   "source": [
    "a = np.array([10,20,30]) \n",
    "b = np.array([3,5,7])\n",
    "\n",
    "print(\"Applying mod() function: \", np.mod(a,b))\n",
    "print(\"Applying remainder() function: \", np.remainder(a,b))\n",
    "\n"
   ]
  },
  {
   "cell_type": "markdown",
   "id": "3d0725a7",
   "metadata": {},
   "source": [
    "#### NumPy Matrix Operations\n",
    "\n",
    "- A matrix is a specialized 2-D array that retains its 2-D nature through operations\n",
    "- Some popular matrix operations include additon, multiplication, transpose, determinant, rank and so on"
   ]
  },
  {
   "cell_type": "code",
   "execution_count": 106,
   "id": "09ec4555",
   "metadata": {},
   "outputs": [
    {
     "name": "stdout",
     "output_type": "stream",
     "text": [
      "[[ 2  4]\n",
      " [ 5 -6]]\n",
      "[[ 9 -3]\n",
      " [ 3  6]]\n",
      "[[11  1]\n",
      " [ 8  0]]\n"
     ]
    }
   ],
   "source": [
    "## Addition of two matrices\n",
    "\n",
    "A = np.array([[2, 4], [5, -6]])\n",
    "B = np.array([[9, -3], [3, 6]])\n",
    "print(A)\n",
    "print(B)\n",
    "P=A+B  #np.add(A,B)\n",
    "print(P)"
   ]
  },
  {
   "cell_type": "code",
   "execution_count": 107,
   "id": "8124824c",
   "metadata": {},
   "outputs": [
    {
     "name": "stdout",
     "output_type": "stream",
     "text": [
      "[[ 30  18]\n",
      " [ 27 -51]]\n"
     ]
    }
   ],
   "source": [
    "#multiply matrix\n",
    "c=np.dot(A,B)\n",
    "print(c)"
   ]
  },
  {
   "cell_type": "code",
   "execution_count": 109,
   "id": "2bf99674",
   "metadata": {},
   "outputs": [
    {
     "name": "stdout",
     "output_type": "stream",
     "text": [
      "[[ 1  2  3]\n",
      " [ 1  1 -3]]\n"
     ]
    }
   ],
   "source": [
    "## Transpose of a matrix\n",
    "\n",
    "arr = np.array([[1, 1], [2, 1], [3, -3]])\n",
    "print(arr.T)\n"
   ]
  },
  {
   "cell_type": "code",
   "execution_count": null,
   "id": "0020ab15",
   "metadata": {},
   "outputs": [],
   "source": [
    "## Alternative method of transposition"
   ]
  },
  {
   "cell_type": "code",
   "execution_count": 110,
   "id": "b416f66e",
   "metadata": {},
   "outputs": [
    {
     "name": "stdout",
     "output_type": "stream",
     "text": [
      "[[ 1.41421356  2.          3.        ]\n",
      " [11.         10.          2.82842712]]\n"
     ]
    }
   ],
   "source": [
    "## Square root of each matrix element\n",
    "\n",
    "arr = np.array([[2,4,9],[121,100,8]])\n",
    "print(np.sqrt(arr))"
   ]
  },
  {
   "cell_type": "code",
   "execution_count": null,
   "id": "6e9cf006",
   "metadata": {},
   "outputs": [],
   "source": []
  }
 ],
 "metadata": {
  "kernelspec": {
   "display_name": "Python 3 (ipykernel)",
   "language": "python",
   "name": "python3"
  },
  "language_info": {
   "codemirror_mode": {
    "name": "ipython",
    "version": 3
   },
   "file_extension": ".py",
   "mimetype": "text/x-python",
   "name": "python",
   "nbconvert_exporter": "python",
   "pygments_lexer": "ipython3",
   "version": "3.9.12"
  }
 },
 "nbformat": 4,
 "nbformat_minor": 5
}
