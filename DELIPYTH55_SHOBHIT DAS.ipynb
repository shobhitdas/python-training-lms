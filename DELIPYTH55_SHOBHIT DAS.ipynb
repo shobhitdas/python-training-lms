{
 "cells": [
  {
   "cell_type": "code",
   "execution_count": null,
   "id": "03f18dc3",
   "metadata": {},
   "outputs": [],
   "source": [
    "##Q1"
   ]
  },
  {
   "cell_type": "code",
   "execution_count": 39,
   "id": "5d53c962",
   "metadata": {},
   "outputs": [],
   "source": [
    "def rotatelist(ls, k):\n",
    "    l = len(ls)\n",
    "    k = k % l\n",
    "    rotatedList= ls[l-k:] + ls[:l-k]\n",
    "    return rotatedList"
   ]
  },
  {
   "cell_type": "code",
   "execution_count": 44,
   "id": "7b3e83aa",
   "metadata": {},
   "outputs": [],
   "source": [
    "ls=rotatelist([1,2,3,4,5],1)"
   ]
  },
  {
   "cell_type": "code",
   "execution_count": 45,
   "id": "ae8a3715",
   "metadata": {},
   "outputs": [
    {
     "data": {
      "text/plain": [
       "[5, 1, 2, 3, 4]"
      ]
     },
     "execution_count": 45,
     "metadata": {},
     "output_type": "execute_result"
    }
   ],
   "source": [
    "ls"
   ]
  },
  {
   "cell_type": "code",
   "execution_count": 46,
   "id": "ca215bad",
   "metadata": {},
   "outputs": [
    {
     "data": {
      "text/plain": [
       "[3, 4, 5, 1, 2]"
      ]
     },
     "execution_count": 46,
     "metadata": {},
     "output_type": "execute_result"
    }
   ],
   "source": [
    "rotatelist([1,2,3,4,5], 3) "
   ]
  },
  {
   "cell_type": "code",
   "execution_count": 47,
   "id": "9335d120",
   "metadata": {},
   "outputs": [
    {
     "data": {
      "text/plain": [
       "[4, 5, 1, 2, 3]"
      ]
     },
     "execution_count": 47,
     "metadata": {},
     "output_type": "execute_result"
    }
   ],
   "source": [
    "rotatelist([1,2,3,4,5], 12) "
   ]
  },
  {
   "cell_type": "code",
   "execution_count": null,
   "id": "1127a3c2",
   "metadata": {},
   "outputs": [],
   "source": [
    "##Q2"
   ]
  },
  {
   "cell_type": "code",
   "execution_count": 51,
   "id": "44cccda4",
   "metadata": {},
   "outputs": [],
   "source": [
    "def alternating(ls):\n",
    "    for i in range(len(l)-2):\n",
    "        if (l[i] < l[i+1]) and (l[i+1] > l[i+2]):\n",
    "            continue\n",
    "        if (l[i] > l[i+1]) and (l[i+1] < l[i+2]):\n",
    "            continue\n",
    "        return False\n",
    "    return True"
   ]
  },
  {
   "cell_type": "code",
   "execution_count": 52,
   "id": "0b44f2ff",
   "metadata": {},
   "outputs": [
    {
     "data": {
      "text/plain": [
       "True"
      ]
     },
     "execution_count": 52,
     "metadata": {},
     "output_type": "execute_result"
    }
   ],
   "source": [
    "alternating([1,3,2,3,1,5])"
   ]
  },
  {
   "cell_type": "code",
   "execution_count": 53,
   "id": "ff126c31",
   "metadata": {},
   "outputs": [
    {
     "data": {
      "text/plain": [
       "False"
      ]
     },
     "execution_count": 53,
     "metadata": {},
     "output_type": "execute_result"
    }
   ],
   "source": [
    "alternating([3,2,2,1,1,5])"
   ]
  },
  {
   "cell_type": "code",
   "execution_count": null,
   "id": "35a867ac",
   "metadata": {},
   "outputs": [],
   "source": []
  }
 ],
 "metadata": {
  "kernelspec": {
   "display_name": "Python 3 (ipykernel)",
   "language": "python",
   "name": "python3"
  },
  "language_info": {
   "codemirror_mode": {
    "name": "ipython",
    "version": 3
   },
   "file_extension": ".py",
   "mimetype": "text/x-python",
   "name": "python",
   "nbconvert_exporter": "python",
   "pygments_lexer": "ipython3",
   "version": "3.9.12"
  }
 },
 "nbformat": 4,
 "nbformat_minor": 5
}
