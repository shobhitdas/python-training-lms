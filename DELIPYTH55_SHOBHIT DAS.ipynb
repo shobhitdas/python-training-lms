{
 "cells": [
  {
   "cell_type": "code",
   "execution_count": null,
   "id": "b19075b7",
   "metadata": {},
   "outputs": [],
   "source": [
    "##Q1"
   ]
  },
  {
   "cell_type": "code",
   "execution_count": 39,
   "id": "262f2d8c",
   "metadata": {},
   "outputs": [],
   "source": [
    "def rotatelist(ls, k):\n",
    "    l = len(ls)\n",
    "    k = k % l\n",
    "    rotatedList= ls[l-k:] + ls[:l-k]\n",
    "    return rotatedList"
   ]
  },
  {
   "cell_type": "code",
   "execution_count": 44,
   "id": "da48e679",
   "metadata": {},
   "outputs": [],
   "source": [
    "ls=rotatelist([1,2,3,4,5],1)"
   ]
  },
  {
   "cell_type": "code",
   "execution_count": 45,
   "id": "9c0e8385",
   "metadata": {},
   "outputs": [
    {
     "data": {
      "text/plain": [
       "[5, 1, 2, 3, 4]"
      ]
     },
     "execution_count": 45,
     "metadata": {},
     "output_type": "execute_result"
    }
   ],
   "source": [
    "ls"
   ]
  },
  {
   "cell_type": "code",
   "execution_count": 46,
   "id": "430bd659",
   "metadata": {},
   "outputs": [
    {
     "data": {
      "text/plain": [
       "[3, 4, 5, 1, 2]"
      ]
     },
     "execution_count": 46,
     "metadata": {},
     "output_type": "execute_result"
    }
   ],
   "source": [
    "rotatelist([1,2,3,4,5], 3) "
   ]
  },
  {
   "cell_type": "code",
   "execution_count": 47,
   "id": "9435b2e3",
   "metadata": {},
   "outputs": [
    {
     "data": {
      "text/plain": [
       "[4, 5, 1, 2, 3]"
      ]
     },
     "execution_count": 47,
     "metadata": {},
     "output_type": "execute_result"
    }
   ],
   "source": [
    "rotatelist([1,2,3,4,5], 12) "
   ]
  },
  {
   "cell_type": "code",
   "execution_count": null,
   "id": "70ed0f59",
   "metadata": {},
   "outputs": [],
   "source": [
    "##Q2"
   ]
  },
  {
   "cell_type": "code",
   "execution_count": 63,
   "id": "f765cdf1",
   "metadata": {},
   "outputs": [],
   "source": [
    "def alternating(ls):\n",
    "    for i in range(len(ls)-2):\n",
    "        if (ls[i] < ls[i+1]) and (ls[i+1] > ls[i+2]):\n",
    "            continue\n",
    "        if (ls[i] > ls[i+1]) and (ls[i+1] < ls[i+2]):\n",
    "            continue\n",
    "        return False\n",
    "    return True"
   ]
  },
  {
   "cell_type": "code",
   "execution_count": 70,
   "id": "d3fec580",
   "metadata": {},
   "outputs": [
    {
     "name": "stdout",
     "output_type": "stream",
     "text": [
      "Enter Values seperated by comma : 1,3,2,3,1,5\n",
      "True\n"
     ]
    }
   ],
   "source": [
    "x=list(map(int,input(\"Enter Values seperated by comma : \").split(',')))\n",
    "print(alternating(x))"
   ]
  },
  {
   "cell_type": "code",
   "execution_count": null,
   "id": "11db36be",
   "metadata": {},
   "outputs": [],
   "source": []
  }
 ],
 "metadata": {
  "kernelspec": {
   "display_name": "Python 3 (ipykernel)",
   "language": "python",
   "name": "python3"
  },
  "language_info": {
   "codemirror_mode": {
    "name": "ipython",
    "version": 3
   },
   "file_extension": ".py",
   "mimetype": "text/x-python",
   "name": "python",
   "nbconvert_exporter": "python",
   "pygments_lexer": "ipython3",
   "version": "3.9.12"
  }
 },
 "nbformat": 4,
 "nbformat_minor": 5
}
